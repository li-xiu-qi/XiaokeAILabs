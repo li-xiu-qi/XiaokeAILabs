{
 "cells": [
  {
   "cell_type": "markdown",
   "id": "4949de59",
   "metadata": {},
   "source": [
    "# SQLite向量数据库学习笔记\n",
    "\n",
    "本笔记将介绍如何使用SQLite进行向量存储和KNN查询，并结合实际的embedding模型进行演示。我们将探索两种方法：\n",
    "1. 使用sqlite-vec扩展（如果可用）\n",
    "2. 使用纯Python实现的向量相似度计算（不依赖sqlite-vec）"
   ]
  },
  {
   "cell_type": "markdown",
   "id": "48866f88",
   "metadata": {},
   "source": [
    "## 1. 安装必要库\n",
    "\n",
    "首先我们需要安装必要的库来支持向量操作和模型加载。\n",
    "\n",
    "**注意**：sqlite-vec是一个C扩展，需要单独安装。可以从[GitHub releases](https://github.com/asg017/sqlite-vec/releases)下载预编译的二进制文件，或者按照[sqlite-vec文档](https://github.com/asg017/sqlite-vec)从源码编译。"
   ]
  },
  {
   "cell_type": "code",
   "execution_count": null,
   "id": "49c10706",
   "metadata": {},
   "outputs": [],
   "source": [
    "# 安装所需库\n",
    "!pip install sentence-transformers numpy pandas scikit-learn"
   ]
  },
  {
   "cell_type": "markdown",
   "id": "7f32c4f1",
   "metadata": {},
   "source": [
    "## 2. 导入必要的库"
   ]
  },
  {
   "cell_type": "code",
   "execution_count": 4,
   "id": "0a925909",
   "metadata": {},
   "outputs": [
    {
     "name": "stderr",
     "output_type": "stream",
     "text": [
      "c:\\Users\\k\\.conda\\envs\\SmartImageFinder\\lib\\site-packages\\tqdm\\auto.py:21: TqdmWarning: IProgress not found. Please update jupyter and ipywidgets. See https://ipywidgets.readthedocs.io/en/stable/user_install.html\n",
      "  from .autonotebook import tqdm as notebook_tqdm\n"
     ]
    }
   ],
   "source": [
    "import sqlite3\n",
    "import numpy as np\n",
    "import pandas as pd\n",
    "from sentence_transformers import SentenceTransformer\n",
    "import os\n",
    "import json\n",
    "import pickle\n",
    "from sklearn.metrics.pairwise import cosine_similarity, euclidean_distances"
   ]
  },
  {
   "cell_type": "markdown",
   "id": "c37d3ad6",
   "metadata": {},
   "source": [
    "## 3. 加载Embedding模型\n",
    "\n",
    "我们将使用一个本地的embedding模型来生成向量。"
   ]
  },
  {
   "cell_type": "code",
   "execution_count": 5,
   "id": "954c37a3",
   "metadata": {},
   "outputs": [
    {
     "name": "stdout",
     "output_type": "stream",
     "text": [
      "成功加载本地模型: C:\\Users\\k\\Desktop\\BaiduSyncdisk\\baidu_sync_documents\\hf_models\\bge-m3\n",
      "模型输出维度: 1024\n"
     ]
    }
   ],
   "source": [
    "try:\n",
    "    # 首先尝试加载本地模型\n",
    "    model_path = r'C:\\Users\\k\\Desktop\\BaiduSyncdisk\\baidu_sync_documents\\hf_models\\bge-m3'\n",
    "    model = SentenceTransformer(model_path)\n",
    "    print(f\"成功加载本地模型: {model_path}\")\n",
    "except Exception as e:\n",
    "    # 如果本地模型加载失败，使用Hugging Face上的小型模型\n",
    "    print(f\"本地模型加载失败: {e}\")\n",
    "    print(\"尝试从Hugging Face加载多语言模型...\")\n",
    "    model = SentenceTransformer('sentence-transformers/paraphrase-multilingual-MiniLM-L12-v2')\n",
    "    print(\"成功加载Hugging Face模型\")\n",
    "\n",
    "# 获取模型的输出维度\n",
    "embedding_dim = model.get_sentence_embedding_dimension()\n",
    "print(f\"模型输出维度: {embedding_dim}\")"
   ]
  },
  {
   "cell_type": "markdown",
   "id": "a37bb2da",
   "metadata": {},
   "source": [
    "## 4. 连接到SQLite数据库并尝试加载sqlite-vec扩展\n",
    "\n",
    "首先我们将尝试加载sqlite-vec扩展。如果加载失败，我们将使用纯Python实现向量操作。"
   ]
  },
  {
   "cell_type": "code",
   "execution_count": 16,
   "id": "20ccabf1",
   "metadata": {},
   "outputs": [
    {
     "name": "stdout",
     "output_type": "stream",
     "text": [
      "成功加载sqlite-vec扩展，版本: v0.1.7-alpha.2\n"
     ]
    }
   ],
   "source": [
    "# 创建一个SQLite数据库连接\n",
    "db_path = \"vector_demo.db\"\n",
    "conn = sqlite3.connect(db_path)\n",
    "cursor = conn.cursor()\n",
    "\n",
    "# 尝试加载sqlite-vec扩展\n",
    "vec_extension_available = False\n",
    "try:\n",
    "    conn.enable_load_extension(True)\n",
    "    # 根据操作系统加载不同的扩展文件\n",
    "    conn.execute(\"SELECT load_extension('./vec0.dll')\")\n",
    "    # 测试扩展是否成功加载\n",
    "    cursor.execute(\"SELECT vec_version()\")\n",
    "    version = cursor.fetchone()[0]\n",
    "    print(f\"成功加载sqlite-vec扩展，版本: {version}\")\n",
    "    vec_extension_available = True\n",
    "except Exception as e:\n",
    "    print(f\"加载sqlite-vec扩展失败: {e}\")\n",
    "    print(\"将使用纯Python实现向量操作\")\n",
    "    print(\"如需使用sqlite-vec扩展，请从 https://github.com/asg017/sqlite-vec/releases 下载对应版本\")"
   ]
  },
  {
   "cell_type": "markdown",
   "id": "da740027",
   "metadata": {},
   "source": [
    "## 5. 准备向量数据存储\n",
    "\n",
    "根据sqlite-vec扩展是否可用，我们将使用不同的方法来存储和查询向量数据。\n",
    "\n",
    "我们将先创建一个辅助类来处理向量操作："
   ]
  },
  {
   "cell_type": "code",
   "execution_count": 20,
   "id": "cbd3f50b",
   "metadata": {},
   "outputs": [],
   "source": [
    "class VectorDatabase:\n",
    "    def __init__(self, conn, vec_extension_available=False):\n",
    "        self.conn = conn\n",
    "        self.cursor = conn.cursor()\n",
    "        self.vec_extension_available = vec_extension_available\n",
    "        \n",
    "        # 创建表\n",
    "        self._create_tables()\n",
    "    \n",
    "    def _create_tables(self):\n",
    "        \"\"\"创建必要的表\"\"\"\n",
    "        if self.vec_extension_available:\n",
    "            # 如果扩展可用，尝试创建虚拟表\n",
    "            try:\n",
    "                self.cursor.execute(f\"\"\"\n",
    "                    CREATE VIRTUAL TABLE IF NOT EXISTS vec_documents USING vec0(\n",
    "                        document_id INTEGER PRIMARY KEY,\n",
    "                        content_embedding FLOAT[{embedding_dim}] DISTANCE_METRIC=cosine,\n",
    "                        category TEXT,\n",
    "                        +original_content TEXT\n",
    "                    );\n",
    "                    \"\"\")\n",
    "                print(\"成功创建vec0虚拟表\")\n",
    "            except Exception as e:\n",
    "                print(f\"创建虚拟表失败: {e}\")\n",
    "                print(\"将使用标准表\")\n",
    "                self.vec_extension_available = False\n",
    "        \n",
    "        # 创建标准表 (无论扩展是否可用)\n",
    "        self.cursor.execute(\"\"\"\n",
    "        CREATE TABLE IF NOT EXISTS documents(\n",
    "            id INTEGER PRIMARY KEY,\n",
    "            content TEXT,\n",
    "            category TEXT,\n",
    "            embedding BLOB\n",
    "        );\n",
    "        \"\"\")\n",
    "        self.conn.commit()\n",
    "    \n",
    "    def insert_documents(self, documents):\n",
    "        \"\"\"插入文档\"\"\"\n",
    "        # 清空表\n",
    "        self.cursor.execute(\"DELETE FROM documents\")\n",
    "        if self.vec_extension_available:\n",
    "            self.cursor.execute(\"DELETE FROM vec_documents\")\n",
    "        \n",
    "        for doc in documents:\n",
    "            # 标准表插入\n",
    "            embedding_bytes = pickle.dumps(doc[\"embedding\"])\n",
    "            self.cursor.execute(\n",
    "                \"INSERT INTO documents(id, content, category, embedding) VALUES (?, ?, ?, ?)\",\n",
    "                (doc[\"id\"], doc[\"content\"], doc[\"category\"], embedding_bytes)\n",
    "            )\n",
    "            \n",
    "            # 虚拟表插入（如果可用）\n",
    "            if self.vec_extension_available:\n",
    "                embedding_json = json.dumps(doc[\"embedding\"].tolist())\n",
    "                try:\n",
    "                    self.cursor.execute(\n",
    "                        \"INSERT INTO vec_documents(document_id, content_embedding, category, original_content) VALUES (?, vec_f32(?), ?, ?)\",\n",
    "                        (doc[\"id\"], embedding_json, doc[\"category\"], doc[\"content\"])\n",
    "                    )\n",
    "                except Exception as e:\n",
    "                    print(f\"插入虚拟表失败: {e}\")\n",
    "        \n",
    "        self.conn.commit()\n",
    "        print(f\"成功插入 {len(documents)} 条文档\")\n",
    "    \n",
    "    def knn_search(self, query_embedding, k=3, category=None):\n",
    "        \"\"\"执行KNN搜索\"\"\"\n",
    "        if self.vec_extension_available:\n",
    "            # 使用vec0虚拟表\n",
    "            try:\n",
    "                query_json = json.dumps(query_embedding.tolist())\n",
    "                if category:\n",
    "                    self.cursor.execute(\"\"\"\n",
    "                    SELECT document_id, original_content, category, distance\n",
    "                    FROM vec_documents \n",
    "                    WHERE content_embedding MATCH ? AND k = ? AND category = ?\n",
    "                    \"\"\", (query_json, k, category))\n",
    "                else:\n",
    "                    self.cursor.execute(\"\"\"\n",
    "                    SELECT document_id, original_content, category, distance\n",
    "                    FROM vec_documents \n",
    "                    WHERE content_embedding MATCH ? AND k = ?\n",
    "                    \"\"\", (query_json, k))\n",
    "                \n",
    "                return [(row[0], row[1], row[2], row[3]) for row in self.cursor.fetchall()]\n",
    "            except Exception as e:\n",
    "                print(f\"使用虚拟表搜索失败: {e}\")\n",
    "                print(\"将使用Python实现的向量搜索\")\n",
    "        \n",
    "        # 使用Python实现的向量搜索\n",
    "        # 获取所有文档\n",
    "        if category:\n",
    "            self.cursor.execute(\"SELECT id, content, category, embedding FROM documents WHERE category = ?\", (category,))\n",
    "        else:\n",
    "            self.cursor.execute(\"SELECT id, content, category, embedding FROM documents\")\n",
    "        \n",
    "        results = []\n",
    "        for row in self.cursor.fetchall():\n",
    "            doc_id, content, doc_category, embedding_bytes = row\n",
    "            doc_embedding = pickle.loads(embedding_bytes)\n",
    "            # 计算余弦相似度\n",
    "            similarity = cosine_similarity([query_embedding], [doc_embedding])[0][0]\n",
    "            # 计算距离（1 - 相似度，使得值越小越相似）\n",
    "            distance = 1 - similarity\n",
    "            results.append((doc_id, content, doc_category, distance))\n",
    "        \n",
    "        # 排序并返回前k个结果\n",
    "        results.sort(key=lambda x: x[3])  # 按距离排序\n",
    "        return results[:k]"
   ]
  },
  {
   "cell_type": "markdown",
   "id": "cb52b215",
   "metadata": {},
   "source": [
    "### 5.1 准备示例数据\n",
    "\n",
    "首先，我们生成一些示例文本数据并计算它们的embedding向量。"
   ]
  },
  {
   "cell_type": "code",
   "execution_count": 21,
   "id": "ee8ef6c0",
   "metadata": {},
   "outputs": [
    {
     "name": "stdout",
     "output_type": "stream",
     "text": [
      "ID: 1, 内容: 机器学习是人工智能的一个子领域\n",
      "向量维度: 1024, 向量前几个元素: [-0.03649624 -0.02476022 -0.04679906 -0.00498728  0.00767139]...\n",
      "\n",
      "ID: 2, 内容: 深度学习是机器学习的一种方法\n",
      "向量维度: 1024, 向量前几个元素: [-0.02456879 -0.06428009 -0.04240257 -0.00734466 -0.02539387]...\n",
      "\n"
     ]
    }
   ],
   "source": [
    "# 准备一些示例文本\n",
    "documents = [\n",
    "    {\"id\": 1, \"content\": \"机器学习是人工智能的一个子领域\", \"category\": \"技术\"},\n",
    "    {\"id\": 2, \"content\": \"深度学习是机器学习的一种方法\", \"category\": \"技术\"},\n",
    "    {\"id\": 3, \"content\": \"向量数据库可以高效存储和检索向量数据\", \"category\": \"数据库\"},\n",
    "    {\"id\": 4, \"content\": \"SQLite是一个轻量级的关系型数据库\", \"category\": \"数据库\"},\n",
    "    {\"id\": 5, \"content\": \"Python是一种流行的编程语言\", \"category\": \"编程\"},\n",
    "    {\"id\": 6, \"content\": \"自然语言处理是处理人类语言的技术\", \"category\": \"技术\"},\n",
    "    {\"id\": 7, \"content\": \"向量相似度搜索在推荐系统中很常用\", \"category\": \"技术\"},\n",
    "    {\"id\": 8, \"content\": \"大数据分析需要高效的数据存储和处理\", \"category\": \"数据\"}\n",
    "]\n",
    "\n",
    "# 为每个文档生成embedding向量\n",
    "for doc in documents:\n",
    "    embedding = model.encode(doc[\"content\"])\n",
    "    doc[\"embedding\"] = embedding\n",
    "\n",
    "# 展示部分数据\n",
    "for doc in documents[:2]:\n",
    "    print(f\"ID: {doc['id']}, 内容: {doc['content']}\")\n",
    "    print(f\"向量维度: {len(doc['embedding'])}, 向量前几个元素: {doc['embedding'][:5]}...\\n\")"
   ]
  },
  {
   "cell_type": "markdown",
   "id": "ff79a435",
   "metadata": {},
   "source": [
    "### 5.2 初始化向量数据库并插入文档"
   ]
  },
  {
   "cell_type": "code",
   "execution_count": 22,
   "id": "c858800f",
   "metadata": {},
   "outputs": [
    {
     "name": "stdout",
     "output_type": "stream",
     "text": [
      "成功创建vec0虚拟表\n",
      "成功插入 8 条文档\n"
     ]
    }
   ],
   "source": [
    "# 初始化向量数据库\n",
    "vector_db = VectorDatabase(conn, vec_extension_available)\n",
    "\n",
    "# 插入文档\n",
    "vector_db.insert_documents(documents)"
   ]
  },
  {
   "cell_type": "markdown",
   "id": "0ff0c7b1",
   "metadata": {},
   "source": [
    "## 6. 执行KNN查询\n",
    "\n",
    "现在我们来演示如何执行K最近邻查询。"
   ]
  },
  {
   "cell_type": "code",
   "execution_count": 23,
   "id": "6e562d52",
   "metadata": {},
   "outputs": [
    {
     "name": "stdout",
     "output_type": "stream",
     "text": [
      "查询：'数据库技术与应用'的最近3个结果:\n",
      "ID: 3, 距离: 0.4323, 类别: 数据库, 内容: 向量数据库可以高效存储和检索向量数据\n",
      "ID: 8, 距离: 0.4413, 类别: 数据, 内容: 大数据分析需要高效的数据存储和处理\n",
      "ID: 4, 距离: 0.4911, 类别: 数据库, 内容: SQLite是一个轻量级的关系型数据库\n"
     ]
    }
   ],
   "source": [
    "# 生成查询向量\n",
    "query_text = \"数据库技术与应用\"\n",
    "query_embedding = model.encode(query_text)\n",
    "\n",
    "# 执行KNN查询\n",
    "k = 3\n",
    "results = vector_db.knn_search(query_embedding, k)\n",
    "\n",
    "print(f\"查询：'{query_text}'的最近{k}个结果:\")\n",
    "for doc_id, content, category, distance in results:\n",
    "    print(f\"ID: {doc_id}, 距离: {distance:.4f}, 类别: {category}, 内容: {content}\")"
   ]
  },
  {
   "cell_type": "markdown",
   "id": "7675a3b1",
   "metadata": {},
   "source": [
    "### 6.1 使用类别过滤KNN查询"
   ]
  },
  {
   "cell_type": "code",
   "execution_count": 14,
   "id": "541d1277",
   "metadata": {},
   "outputs": [
    {
     "name": "stdout",
     "output_type": "stream",
     "text": [
      "查询：'数据库技术与应用'的最近3个'技术'类别结果:\n",
      "ID: 7, 距离: 0.5658, 类别: 技术, 内容: 向量相似度搜索在推荐系统中很常用\n",
      "ID: 6, 距离: 0.5751, 类别: 技术, 内容: 自然语言处理是处理人类语言的技术\n",
      "ID: 2, 距离: 0.5789, 类别: 技术, 内容: 深度学习是机器学习的一种方法\n"
     ]
    }
   ],
   "source": [
    "# 使用类别过滤KNN查询\n",
    "category_filter = \"技术\"\n",
    "results = vector_db.knn_search(query_embedding, k, category=category_filter)\n",
    "\n",
    "print(f\"查询：'{query_text}'的最近{k}个'{category_filter}'类别结果:\")\n",
    "for doc_id, content, category, distance in results:\n",
    "    print(f\"ID: {doc_id}, 距离: {distance:.4f}, 类别: {category}, 内容: {content}\")"
   ]
  },
  {
   "cell_type": "markdown",
   "id": "edc9a69d",
   "metadata": {},
   "source": [
    "## 7. 手动实现KNN搜索（不使用扩展）\n",
    "\n",
    "这部分演示如何使用纯Python实现KNN搜索，不依赖于sqlite-vec扩展。"
   ]
  },
  {
   "cell_type": "code",
   "execution_count": 14,
   "id": "5dfff432",
   "metadata": {},
   "outputs": [],
   "source": [
    "def manual_knn_search(query_embedding, documents, k=3, distance_type='cosine'):\n",
    "    \"\"\"手动实现KNN搜索\n",
    "    Args:\n",
    "        query_embedding: 查询向量\n",
    "        documents: 文档列表，每个文档包含embedding字段\n",
    "        k: 返回的最近邻数量\n",
    "        distance_type: 距离类型，'cosine'或'euclidean'\n",
    "    Returns:\n",
    "        前k个最相似的文档\n",
    "    \"\"\"\n",
    "    results = []\n",
    "    \n",
    "    for doc in documents:\n",
    "        if distance_type == 'cosine':\n",
    "            # 计算余弦相似度\n",
    "            similarity = cosine_similarity([query_embedding], [doc[\"embedding\"]])[0][0]\n",
    "            # 转换为距离（值越小越相似）\n",
    "            distance = 1 - similarity\n",
    "        else:  # 'euclidean'\n",
    "            # 计算欧几里得距离\n",
    "            distance = euclidean_distances([query_embedding], [doc[\"embedding\"]])[0][0]\n",
    "        \n",
    "        results.append((doc[\"id\"], doc[\"content\"], doc[\"category\"], distance))\n",
    "    \n",
    "    # 排序并返回前k个结果\n",
    "    results.sort(key=lambda x: x[3])\n",
    "    return results[:k]"
   ]
  },
  {
   "cell_type": "code",
   "execution_count": 15,
   "id": "93aacdac",
   "metadata": {},
   "outputs": [
    {
     "name": "stdout",
     "output_type": "stream",
     "text": [
      "使用余弦距离手动查询：'数据库技术与应用'的最近3个结果:\n",
      "ID: 3, 相似度: 0.5677, 类别: 数据库, 内容: 向量数据库可以高效存储和检索向量数据\n",
      "ID: 8, 相似度: 0.5587, 类别: 数据, 内容: 大数据分析需要高效的数据存储和处理\n",
      "ID: 4, 相似度: 0.5089, 类别: 数据库, 内容: SQLite是一个轻量级的关系型数据库\n",
      "\n",
      "使用欧几里得距离手动查询：'数据库技术与应用'的最近3个结果:\n",
      "ID: 3, 距离: 0.9298, 类别: 数据库, 内容: 向量数据库可以高效存储和检索向量数据\n",
      "ID: 8, 距离: 0.9395, 类别: 数据, 内容: 大数据分析需要高效的数据存储和处理\n",
      "ID: 4, 距离: 0.9910, 类别: 数据库, 内容: SQLite是一个轻量级的关系型数据库\n"
     ]
    }
   ],
   "source": [
    "# 使用余弦距离执行手动KNN搜索\n",
    "results_cosine = manual_knn_search(query_embedding, documents, k=3, distance_type='cosine')\n",
    "\n",
    "print(f\"使用余弦距离手动查询：'{query_text}'的最近{k}个结果:\")\n",
    "for doc_id, content, category, distance in results_cosine:\n",
    "    similarity = 1 - distance  # 将距离转换为相似度\n",
    "    print(f\"ID: {doc_id}, 相似度: {similarity:.4f}, 类别: {category}, 内容: {content}\")\n",
    "\n",
    "# 使用欧几里得距离执行手动KNN搜索\n",
    "results_euclidean = manual_knn_search(query_embedding, documents, k=3, distance_type='euclidean')\n",
    "\n",
    "print(f\"\\n使用欧几里得距离手动查询：'{query_text}'的最近{k}个结果:\")\n",
    "for doc_id, content, category, distance in results_euclidean:\n",
    "    print(f\"ID: {doc_id}, 距离: {distance:.4f}, 类别: {category}, 内容: {content}\")"
   ]
  },
  {
   "cell_type": "markdown",
   "id": "bb777839",
   "metadata": {},
   "source": [
    "## 8. SQLite-vec特性介绍\n",
    "\n",
    "虽然我们可能无法在本环境中运行sqlite-vec的所有功能，但依然可以了解它提供的主要特性：\n",
    "\n",
    "### 8.1 vec0虚拟表的列类型\n",
    "\n",
    "sqlite-vec的虚拟表支持三种类型的列：\n",
    "1. **元数据列**：普通列，可用于KNN查询的WHERE子句中进行过滤\n",
    "2. **分区键列**：使用`PARTITION KEY`声明，用于分片向量索引，加速查询\n",
    "3. **辅助列**：以`+`开头，存储额外数据，不能用于过滤但可直接检索\n",
    "\n",
    "基本语法示例:\n",
    "```sql\n",
    "CREATE VIRTUAL TABLE vec_documents USING vec0(\n",
    "    document_id INTEGER PRIMARY KEY,\n",
    "    content_embedding FLOAT[1024] DISTANCE_METRIC=cosine,  -- 向量列\n",
    "    category TEXT,                -- 元数据列\n",
    "    user_id INTEGER PARTITION KEY, -- 分区键列\n",
    "    +original_content TEXT        -- 辅助列\n",
    ");\n",
    "```\n",
    "\n",
    "### 8.2 向量距离度量方式\n",
    "\n",
    "sqlite-vec支持多种距离度量方式：\n",
    "- `L2`（欧几里得距离）- 默认\n",
    "- `L1`（曼哈顿距离）\n",
    "- `cosine`（余弦距离）\n",
    "\n",
    "### 8.3 向量格式\n",
    "\n",
    "sqlite-vec支持多种向量格式：\n",
    "- `vec_f32` - 32位浮点向量\n",
    "- `vec_f64` - 64位浮点向量\n",
    "- `vec_i32` - 32位整数向量\n",
    "- `vec_i64` - 64位整数向量\n",
    "- `vec_bit` - 二进制向量"
   ]
  },
  {
   "cell_type": "markdown",
   "id": "92dc11a6",
   "metadata": {},
   "source": [
    "## 9. 总结\n",
    "\n",
    "通过本笔记，我们学习了：\n",
    "\n",
    "1. 使用SQLite存储向量数据的两种方法：\n",
    "   - 使用sqlite-vec扩展（如果可用）\n",
    "   - 使用纯Python实现向量操作\n",
    "   \n",
    "2. 如何执行KNN查询以查找最相似的文档\n",
    "   - 使用内置的余弦相似度和欧几里得距离\n",
    "   - 根据类别等元数据过滤结果\n",
    "   \n",
    "3. SQLite-vec扩展的主要特性\n",
    "   - vec0虚拟表的列类型\n",
    "   - 支持的向量距离度量方式和向量格式\n",
    "\n",
    "无论是否有sqlite-vec扩展，我们都可以使用SQLite作为一个简单的向量存储和检索系统，特别适合于小型应用和原型开发。"
   ]
  },
  {
   "cell_type": "code",
   "execution_count": 16,
   "id": "19a228fc",
   "metadata": {},
   "outputs": [
    {
     "name": "stdout",
     "output_type": "stream",
     "text": [
      "数据库连接已关闭\n"
     ]
    }
   ],
   "source": [
    "# 清理资源\n",
    "conn.close()\n",
    "print(\"数据库连接已关闭\")"
   ]
  },
  {
   "cell_type": "code",
   "execution_count": null,
   "id": "42bb5296",
   "metadata": {},
   "outputs": [],
   "source": []
  }
 ],
 "metadata": {
  "kernelspec": {
   "display_name": "SmartImageFinder",
   "language": "python",
   "name": "python3"
  },
  "language_info": {
   "codemirror_mode": {
    "name": "ipython",
    "version": 3
   },
   "file_extension": ".py",
   "mimetype": "text/x-python",
   "name": "python",
   "nbconvert_exporter": "python",
   "pygments_lexer": "ipython3",
   "version": "3.10.16"
  }
 },
 "nbformat": 4,
 "nbformat_minor": 5
}
