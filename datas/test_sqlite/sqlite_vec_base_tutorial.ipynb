{
 "cells": [
  {
   "cell_type": "markdown",
   "id": "0d23c8c5",
   "metadata": {},
   "source": [
    "# sqlite-vec 入门指南\n",
    "\n",
    "本指南将引导您完成 `sqlite-vec` 的基本使用，包括安装、加载、处理向量以及结合本地句子转换器模型。"
   ]
  },
  {
   "cell_type": "markdown",
   "id": "c3060fd0",
   "metadata": {},
   "source": [
    "## 1. 安装 sqlite-vec\n",
    "\n",
    "首先，您需要安装 `sqlite-vec` PyPi 包。可以使用 pip 进行安装："
   ]
  },
  {
   "cell_type": "code",
   "execution_count": 2,
   "id": "168ea70c",
   "metadata": {},
   "outputs": [
    {
     "name": "stdout",
     "output_type": "stream",
     "text": [
      "Note: you may need to restart the kernel to use updated packages.\n"
     ]
    }
   ],
   "source": [
    "%pip install sqlite-vec sentence-transformers --quiet"
   ]
  },
  {
   "cell_type": "markdown",
   "id": "2bed3e2b",
   "metadata": {},
   "source": [
    "## 2. 加载 sqlite-vec\n",
    "\n",
    "安装完成后，使用 `sqlite_vec.load()` 函数将 `sqlite-vec` SQL 函数加载到 SQLite 连接中。"
   ]
  },
  {
   "cell_type": "code",
   "execution_count": 3,
   "id": "7ff59d90",
   "metadata": {},
   "outputs": [
    {
     "name": "stdout",
     "output_type": "stream",
     "text": [
      "sqlite-vec version: v0.1.6\n"
     ]
    }
   ],
   "source": [
    "import sqlite3\n",
    "import sqlite_vec\n",
    "\n",
    "# 创建一个内存数据库或连接到现有数据库文件\n",
    "db = sqlite3.connect(':memory:') # 或者 db = sqlite3.connect('my_vectors.db')\n",
    "\n",
    "# 启用扩展加载\n",
    "db.enable_load_extension(True)\n",
    "\n",
    "# 加载 sqlite-vec 扩展\n",
    "sqlite_vec.load(db)\n",
    "\n",
    "# （可选）加载后禁用扩展加载，以增强安全性\n",
    "db.enable_load_extension(False)\n",
    "\n",
    "# 验证 sqlite-vec 版本\n",
    "vec_version, = db.execute(\"select vec_version()\").fetchone()\n",
    "print(f\"sqlite-vec version: {vec_version}\")"
   ]
  },
  {
   "cell_type": "markdown",
   "id": "86e57dc4",
   "metadata": {},
   "source": [
    "## 3. 处理向量\n",
    "\n",
    "`sqlite-vec` 支持多种方式处理向量数据。"
   ]
  },
  {
   "cell_type": "markdown",
   "id": "f2df5f4b",
   "metadata": {},
   "source": [
    "### 3.1 使用 Python 列表\n",
    "\n",
    "如果您的向量是 Python 中的浮点数列表，可以使用 `sqlite_vec.serialize_float32()` 将其转换为 `sqlite-vec` 使用的紧凑 BLOB 格式。"
   ]
  },
  {
   "cell_type": "code",
   "execution_count": 5,
   "id": "41a0b607",
   "metadata": {},
   "outputs": [
    {
     "name": "stdout",
     "output_type": "stream",
     "text": [
      "Serialized vector: b'\\xcd\\xcc\\xcc=\\xcd\\xccL>\\x9a\\x99\\x99>\\xcd\\xcc\\xcc>'\n",
      "Serialized vector type: <class 'bytes'>\n",
      "Length of vector from list: 4\n"
     ]
    }
   ],
   "source": [
    "from sqlite_vec import serialize_float32\n",
    "\n",
    "embedding_list = [0.1, 0.2, 0.3, 0.4]\n",
    "serialized_embedding = serialize_float32(embedding_list)\n",
    "print(f\"Serialized vector: {serialized_embedding}\")\n",
    "# 打印数据类型\n",
    "print(f\"Serialized vector type: {type(serialized_embedding)}\")\n",
    "result = db.execute('select vec_length(?)', [serialized_embedding])\n",
    "length = result.fetchone()[0]\n",
    "print(f\"Length of vector from list: {length}\")"
   ]
  },
  {
   "cell_type": "markdown",
   "id": "1036b0ff",
   "metadata": {},
   "source": [
    "### 3.2 使用 NumPy 数组\n",
    "\n",
    "如果您的向量是 NumPy 数组，Python SQLite 包允许您直接传递。确保将数组元素转换为 32 位浮点数 (`np.float32`)。"
   ]
  },
  {
   "cell_type": "code",
   "execution_count": 7,
   "id": "a079b4d9",
   "metadata": {},
   "outputs": [
    {
     "name": "stdout",
     "output_type": "stream",
     "text": [
      "NumPy array: [0.1 0.2 0.3 0.4 0.5]\n",
      "NumPy array type: <class 'numpy.ndarray'>\n",
      "Length of vector from NumPy array: 5\n"
     ]
    }
   ],
   "source": [
    "import numpy as np\n",
    "\n",
    "embedding_numpy = np.array([0.1, 0.2, 0.3, 0.4, 0.5])\n",
    "embedding_numpy_f32 = embedding_numpy.astype(np.float32)\n",
    "print(f\"NumPy array: {embedding_numpy_f32}\")\n",
    "# 打印数据类型\n",
    "print(f\"NumPy array type: {type(embedding_numpy_f32)}\")\n",
    "result = db.execute('SELECT vec_length(?)', [embedding_numpy_f32])\n",
    "length = result.fetchone()[0]\n",
    "print(f\"Length of vector from NumPy array: {length}\")"
   ]
  },
  {
   "cell_type": "markdown",
   "id": "9847451b",
   "metadata": {},
   "source": [
    "## 4. 结合本地 Sentence Transformer 模型\n",
    "\n",
    "我们可以使用 `sentence-transformers` 库加载本地模型生成文本嵌入，并将其存储到 `sqlite-vec` 中。"
   ]
  },
  {
   "cell_type": "code",
   "execution_count": 8,
   "id": "3505f4fb",
   "metadata": {},
   "outputs": [
    {
     "name": "stderr",
     "output_type": "stream",
     "text": [
      "c:\\Users\\k\\.conda\\envs\\SmartImageFinder\\lib\\site-packages\\tqdm\\auto.py:21: TqdmWarning: IProgress not found. Please update jupyter and ipywidgets. See https://ipywidgets.readthedocs.io/en/stable/user_install.html\n",
      "  from .autonotebook import tqdm as notebook_tqdm\n"
     ]
    },
    {
     "name": "stdout",
     "output_type": "stream",
     "text": [
      "Loaded model from: C:\\Users\\k\\Desktop\\BaiduSyncdisk\\baidu_sync_documents\\hf_models\\bge-m3\n",
      "Embedding dimension: 1024\n"
     ]
    }
   ],
   "source": [
    "from sentence_transformers import SentenceTransformer\n",
    "\n",
    "model_path = r'C:\\Users\\k\\Desktop\\BaiduSyncdisk\\baidu_sync_documents\\hf_models\\bge-m3'\n",
    "\n",
    "try:\n",
    "    model = SentenceTransformer(model_path)\n",
    "    embedding_dim = model.get_sentence_embedding_dimension()\n",
    "    print(f\"Loaded model from: {model_path}\")\n",
    "    print(f\"Embedding dimension: {embedding_dim}\")\n",
    "except Exception as e:\n",
    "    print(f\"Error loading model: {e}\")\n",
    "    model = None\n",
    "    embedding_dim = None"
   ]
  },
  {
   "cell_type": "markdown",
   "id": "9c7acb10",
   "metadata": {},
   "source": [
    "现在，让我们生成一个文本嵌入，并将其存储到数据库中。"
   ]
  },
  {
   "cell_type": "code",
   "execution_count": 9,
   "id": "e72bd161",
   "metadata": {},
   "outputs": [
    {
     "name": "stdout",
     "output_type": "stream",
     "text": [
      "Generated embedding for: '这是一个示例文本，用于生成嵌入。'\n",
      "Embedding shape: (1024,)\n",
      "Text and embedding stored in the database.\n",
      "\n",
      "Retrieved text: 这是一个示例文本，用于生成嵌入。\n",
      "Retrieved embedding length: 1024\n"
     ]
    }
   ],
   "source": [
    "if model:\n",
    "    sample_text = \"这是一个示例文本，用于生成嵌入。\"\n",
    "    text_embedding = model.encode(sample_text).astype(np.float32)\n",
    "    \n",
    "    print(f\"Generated embedding for: '{sample_text}'\")\n",
    "    print(f\"Embedding shape: {text_embedding.shape}\")\n",
    "    \n",
    "    # 创建一个表来存储文本和它们的嵌入\n",
    "    # 说明: CREATE TABLE IF NOT EXISTS - 如果表不存在则创建表\n",
    "    # id INTEGER PRIMARY KEY - 自增长的主键字段\n",
    "    # text TEXT - 存储原始文本内容\n",
    "    # embedding BLOB - 使用二进制大对象类型存储向量，大小为模型输出维度\n",
    "    db.execute(f\"CREATE TABLE IF NOT EXISTS documents (id INTEGER PRIMARY KEY, text TEXT, embedding BLOB({embedding_dim}))\")\n",
    "    \n",
    "    # 插入数据到documents表\n",
    "    # 说明: INSERT INTO - 插入新行数据\n",
    "    # (text, embedding) - 指定要插入值的列名\n",
    "    # VALUES (?, ?) - 使用参数化查询避免SQL注入风险\n",
    "    db.execute(\"INSERT INTO documents (text, embedding) VALUES (?, ?)\", (sample_text, text_embedding))\n",
    "    db.commit()\n",
    "    print(\"Text and embedding stored in the database.\")\n",
    "    \n",
    "    # 检索并验证存储的数据\n",
    "    # 说明: SELECT - 查询表中的数据\n",
    "    # vec_length(embedding) - 计算向量长度的sqlite-vec函数\n",
    "    # vec_to_json(embedding) - 将二进制向量转换为JSON格式的sqlite-vec函数\n",
    "    # WHERE id = 1 - 筛选条件，获取ID为1的记录\n",
    "    retrieved_row = db.execute(\"SELECT text, vec_length(embedding), vec_to_json(embedding) FROM documents WHERE id = 1\").fetchone()\n",
    "    if retrieved_row:\n",
    "        retrieved_text, retrieved_length, retrieved_embedding_json = retrieved_row\n",
    "        print(f\"\\nRetrieved text: {retrieved_text}\")\n",
    "        print(f\"Retrieved embedding length: {retrieved_length}\")\n",
    "        # print(f\"Retrieved embedding (first 5 dims): {retrieved_embedding_json[:50]}...\") # 打印部分嵌入以验证\n",
    "else:\n",
    "    print(\"Sentence Transformer model not loaded. Skipping embedding generation and storage.\")"
   ]
  },
  {
   "cell_type": "markdown",
   "id": "3924ad70",
   "metadata": {},
   "source": [
    "### 4.1 官方基础示例\n",
    "\n"
   ]
  },
  {
   "cell_type": "code",
   "execution_count": 21,
   "id": "91d29d7e",
   "metadata": {},
   "outputs": [
    {
     "name": "stdout",
     "output_type": "stream",
     "text": [
      "SQLite 版本: 3.45.3, sqlite-vec 版本: v0.1.6\n",
      "最相似向量的搜索结果 (ID, 距离):\n",
      "ID: 3, 距离: 0.0\n",
      "ID: 4, 距离: 0.19999998807907104\n",
      "ID: 2, 距离: 0.20000001788139343\n"
     ]
    }
   ],
   "source": [
    "# 官方 `vec0` 基础示例代码 - 演示了 vec0 模块的基本用法\n",
    "\n",
    "# 注意: 虽然我们在这个例子中创建一个新的数据库连接，但实际应用中可以使用一个连接管理所有表\n",
    "# 这里创建一个新连接是为了演示一个完整、独立的示例\n",
    "import sqlite3\n",
    "import sqlite_vec\n",
    "import numpy as np\n",
    "from sqlite_vec import serialize_float32\n",
    "\n",
    "# 创建一个新的内存数据库并加载 sqlite-vec 扩展\n",
    "db_vec0 = sqlite3.connect(\":memory:\")\n",
    "db_vec0.enable_load_extension(True)\n",
    "sqlite_vec.load(db_vec0)\n",
    "db_vec0.enable_load_extension(False)\n",
    "\n",
    "# 检查 SQLite 和 sqlite-vec 版本\n",
    "sqlite_version, vec_version = db_vec0.execute(\"SELECT sqlite_version(), vec_version()\").fetchone()\n",
    "print(f\"SQLite 版本: {sqlite_version}, sqlite-vec 版本: {vec_version}\")\n",
    "\n",
    "# 准备示例数据 - 每项包含 ID 和 4 维向量\n",
    "items = [\n",
    "    (1, [0.1, 0.1, 0.1, 0.1]),  # ID 1 的向量\n",
    "    (2, [0.2, 0.2, 0.2, 0.2]),  # ID 2 的向量\n",
    "    (3, [0.3, 0.3, 0.3, 0.3]),  # ID 3 的向量，与查询向量完全匹配\n",
    "    (4, [0.4, 0.4, 0.4, 0.4]),  # ID 4 的向量\n",
    "    (5, [0.5, 0.5, 0.5, 0.5]),  # ID 5 的向量\n",
    "]\n",
    "\n",
    "# 查询向量 - 我们将寻找与此向量最相似的向量\n",
    "query = [0.3, 0.3, 0.3, 0.3]\n",
    "\n",
    "# 创建一个虚拟表用于向量搜索\n",
    "# vec0 是 sqlite-vec 提供的向量索引类型，适用于小型数据集的精确搜索\n",
    "# embedding 是存储向量的列名，float[4]表示4维浮点向量\n",
    "db_vec0.execute(\"CREATE VIRTUAL TABLE vec_items USING vec0(embedding FLOAT[4])\")\n",
    "\n",
    "# 向虚拟表中插入示例数据\n",
    "with db_vec0:\n",
    "    for item in items:\n",
    "        db_vec0.execute(\n",
    "            \"INSERT INTO vec_items(rowid, embedding) VALUES (?, ?)\",\n",
    "            [item[0], serialize_float32(item[1])]\n",
    "        )\n",
    "\n",
    "# 执行向量相似性搜索\n",
    "# embedding MATCH ? - 使用MATCH操作符执行向量相似性搜索\n",
    "# ORDER BY distance - 按相似度距离排序（距离越小越相似）\n",
    "# LIMIT 3 - 只返回前3个最相似的结果\n",
    "rows = db_vec0.execute(\n",
    "    \"\"\"\n",
    "    SELECT\n",
    "      rowid,\n",
    "      distance\n",
    "    FROM vec_items\n",
    "    WHERE embedding MATCH ?\n",
    "    ORDER BY distance\n",
    "    LIMIT 3\n",
    "    \"\"\",\n",
    "    [serialize_float32(query)]\n",
    ").fetchall()\n",
    "\n",
    "# 打印搜索结果\n",
    "print(\"最相似向量的搜索结果 (ID, 距离):\")\n",
    "for row in rows:\n",
    "    print(f\"ID: {row[0]}, 距离: {row[1]}\")"
   ]
  },
  {
   "cell_type": "markdown",
   "id": "6c50943a",
   "metadata": {},
   "source": [
    "## 5. 使用最新版本的 SQLite\n",
    "\n",
    "`sqlite-vec` 的某些功能需要最新版本的 SQLite 库。您可以通过 `sqlite3.sqlite_version` 查看 Python 环境中使用的 SQLite 版本。\n",
    "\n",
    "目前，**推荐使用 SQLite 3.41 或更高版本**。"
   ]
  },
  {
   "cell_type": "code",
   "execution_count": 10,
   "id": "c4ce7c14",
   "metadata": {},
   "outputs": [
    {
     "name": "stdout",
     "output_type": "stream",
     "text": [
      "Python's SQLite version: 3.45.3\n"
     ]
    }
   ],
   "source": [
    "print(f\"Python's SQLite version: {sqlite3.sqlite_version}\")"
   ]
  },
  {
   "cell_type": "markdown",
   "id": "c7c4fe25",
   "metadata": {},
   "source": [
    "有几种方法可以升级 Python 使用的 SQLite 版本：\n",
    "1.  **自行编译 SQLite 版本**：编译最新 SQLite 并使用环境变量（如 `LD_PRELOAD`）强制 Python 使用它。\n",
    "2.  **使用 `pysqlite3`**：这是一个第三方 PyPi 包，捆绑了最新版本的 SQLite。\n",
    "3.  **升级 Python 版本**：较新的 Python 版本通常会附带较新的 SQLite 版本。"
   ]
  },
  {
   "cell_type": "markdown",
   "id": "1a9aa376",
   "metadata": {},
   "source": [
    "## 6. MacOS 默认阻止 SQLite 扩展\n",
    "\n",
    "MacOS 自带的默认 SQLite 库不支持 SQLite 扩展，这可能导致 `AttributeError: 'sqlite3.Connection' object has no attribute 'enable_load_extension'`。\n",
    "\n",
    "解决方法包括：\n",
    "*   使用 Homebrew 版本的 Python (`brew install python`)。\n",
    "*   参考“使用最新版本的 SQLite”部分中提到的其他方法。"
   ]
  },
  {
   "cell_type": "markdown",
   "id": "0c9dc4cc",
   "metadata": {},
   "source": [
    "## 7. 清理\n",
    "\n",
    "关闭数据库连接。"
   ]
  },
  {
   "cell_type": "code",
   "execution_count": null,
   "id": "74c02e09",
   "metadata": {},
   "outputs": [],
   "source": [
    "db.close()"
   ]
  }
 ],
 "metadata": {
  "language_info": {
   "name": "python"
  }
 },
 "nbformat": 4,
 "nbformat_minor": 5
}
