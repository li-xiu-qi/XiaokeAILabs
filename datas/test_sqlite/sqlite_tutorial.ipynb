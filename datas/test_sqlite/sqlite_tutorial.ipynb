{
 "cells": [
  {
   "cell_type": "markdown",
   "id": "3be35860",
   "metadata": {},
   "source": [
    "# SQLite 使用入门教程\n",
    "\n",
    "SQLite是一个轻量级的、自给自足的、零配置的、事务性的SQL数据库引擎。它是世界上使用最广泛的数据库引擎，被内嵌到无数的应用程序中，包括手机、浏览器、操作系统等。\n",
    "\n",
    "本教程将介绍如何使用Python的`sqlite3`模块来操作SQLite数据库。"
   ]
  },
  {
   "cell_type": "markdown",
   "id": "671d354f",
   "metadata": {},
   "source": [
    "## 1. 导入所需库\n",
    "\n",
    "Python标准库中自带了`sqlite3`模块，无需额外安装。"
   ]
  },
  {
   "cell_type": "code",
   "execution_count": 1,
   "id": "320162b8",
   "metadata": {},
   "outputs": [
    {
     "name": "stdout",
     "output_type": "stream",
     "text": [
      "SQLite版本: 2.6.0\n",
      "SQLite库版本: 3.45.3\n"
     ]
    }
   ],
   "source": [
    "import sqlite3\n",
    "import pandas as pd\n",
    "from datetime import datetime\n",
    "\n",
    "print(\"SQLite版本:\", sqlite3.version)\n",
    "print(\"SQLite库版本:\", sqlite3.sqlite_version)"
   ]
  },
  {
   "cell_type": "markdown",
   "id": "d5ed3258",
   "metadata": {},
   "source": [
    "## 2. 创建/连接到数据库\n",
    "\n",
    "使用`sqlite3.connect()`方法来创建一个新的数据库或连接到一个已存在的数据库。"
   ]
  },
  {
   "cell_type": "code",
   "execution_count": 5,
   "id": "5f2832cc",
   "metadata": {},
   "outputs": [
    {
     "name": "stdout",
     "output_type": "stream",
     "text": [
      "已成功连接到数据库\n"
     ]
    }
   ],
   "source": [
    "# 创建一个内存数据库（数据会在连接关闭后丢失）\n",
    "conn = sqlite3.connect(':memory:')\n",
    "\n",
    "# 创建或连接到一个文件数据库\n",
    "# conn = sqlite3.connect('example.db')\n",
    "print(\"已成功连接到数据库\")\n"
   ]
  },
  {
   "cell_type": "markdown",
   "id": "57ae456a",
   "metadata": {},
   "source": [
    "## 3. 创建表\n",
    "\n",
    "使用`CREATE TABLE`语句来创建一个新表。我们将创建一个用户表作为示例。"
   ]
  },
  {
   "cell_type": "code",
   "execution_count": 6,
   "id": "640d1bef",
   "metadata": {},
   "outputs": [
    {
     "name": "stdout",
     "output_type": "stream",
     "text": [
      "用户表创建成功\n"
     ]
    }
   ],
   "source": [
    "# 获取游标对象\n",
    "cursor = conn.cursor()\n",
    "\n",
    "# 创建users表\n",
    "cursor.execute('''\n",
    "CREATE TABLE IF NOT EXISTS users (\n",
    "    id INTEGER PRIMARY KEY AUTOINCREMENT, -- 用户ID，主键，自动增长\n",
    "    name TEXT NOT NULL,                   -- 用户名，不能为空\n",
    "    age INTEGER,                          -- 年龄\n",
    "    email TEXT UNIQUE,                    -- 邮箱，唯一约束\n",
    "    created_at TIMESTAMP DEFAULT CURRENT_TIMESTAMP -- 创建时间，默认为当前时间戳\n",
    ")\n",
    "''')\n",
    "\n",
    "# 提交事务\n",
    "conn.commit()\n",
    "print(\"用户表创建成功\")"
   ]
  },
  {
   "cell_type": "markdown",
   "id": "b063258b",
   "metadata": {},
   "source": [
    "## 4. 插入数据\n",
    "\n",
    "使用`INSERT INTO`语句向表中插入数据。"
   ]
  },
  {
   "cell_type": "code",
   "execution_count": 7,
   "id": "03d69453",
   "metadata": {},
   "outputs": [
    {
     "name": "stdout",
     "output_type": "stream",
     "text": [
      "成功插入了3条数据\n"
     ]
    }
   ],
   "source": [
    "# 插入单条数据\n",
    "cursor.execute('''\n",
    "INSERT INTO users (name, age, email) VALUES (?, ?, ?)\n",
    "''', ('张三', 25, 'zhangsan@example.com'))\n",
    "\n",
    "# 插入多条数据\n",
    "users_data = [\n",
    "    ('李四', 30, 'lisi@example.com'),\n",
    "    ('王五', 22, 'wangwu@example.com'),\n",
    "    ('赵六', 35, 'zhaoliu@example.com')\n",
    "]\n",
    "\n",
    "cursor.executemany('''\n",
    "INSERT INTO users (name, age, email) VALUES (?, ?, ?)\n",
    "''', users_data)\n",
    "\n",
    "conn.commit()\n",
    "print(f\"成功插入了{cursor.rowcount}条数据\")"
   ]
  },
  {
   "cell_type": "markdown",
   "id": "239be822",
   "metadata": {},
   "source": [
    "## 5. 查询数据\n",
    "\n",
    "使用`SELECT`语句从表中查询数据。"
   ]
  },
  {
   "cell_type": "code",
   "execution_count": 8,
   "id": "5564f7ae",
   "metadata": {},
   "outputs": [
    {
     "name": "stdout",
     "output_type": "stream",
     "text": [
      "所有用户:\n",
      "(1, '张三', 25, 'zhangsan@example.com', '2025-05-08 02:41:40')\n",
      "(2, '李四', 30, 'lisi@example.com', '2025-05-08 02:41:40')\n",
      "(3, '王五', 22, 'wangwu@example.com', '2025-05-08 02:41:40')\n",
      "(4, '赵六', 35, 'zhaoliu@example.com', '2025-05-08 02:41:40')\n"
     ]
    }
   ],
   "source": [
    "# 查询所有用户\n",
    "cursor.execute('SELECT * FROM users')\n",
    "all_users = cursor.fetchall()\n",
    "\n",
    "print(\"所有用户:\")\n",
    "for user in all_users:\n",
    "    print(user)"
   ]
  },
  {
   "cell_type": "code",
   "execution_count": 9,
   "id": "b70e459a",
   "metadata": {},
   "outputs": [
    {
     "data": {
      "text/html": [
       "<div>\n",
       "<style scoped>\n",
       "    .dataframe tbody tr th:only-of-type {\n",
       "        vertical-align: middle;\n",
       "    }\n",
       "\n",
       "    .dataframe tbody tr th {\n",
       "        vertical-align: top;\n",
       "    }\n",
       "\n",
       "    .dataframe thead th {\n",
       "        text-align: right;\n",
       "    }\n",
       "</style>\n",
       "<table border=\"1\" class=\"dataframe\">\n",
       "  <thead>\n",
       "    <tr style=\"text-align: right;\">\n",
       "      <th></th>\n",
       "      <th>id</th>\n",
       "      <th>name</th>\n",
       "      <th>age</th>\n",
       "      <th>email</th>\n",
       "      <th>created_at</th>\n",
       "    </tr>\n",
       "  </thead>\n",
       "  <tbody>\n",
       "    <tr>\n",
       "      <th>0</th>\n",
       "      <td>1</td>\n",
       "      <td>张三</td>\n",
       "      <td>25</td>\n",
       "      <td>zhangsan@example.com</td>\n",
       "      <td>2025-05-08 02:41:40</td>\n",
       "    </tr>\n",
       "    <tr>\n",
       "      <th>1</th>\n",
       "      <td>2</td>\n",
       "      <td>李四</td>\n",
       "      <td>30</td>\n",
       "      <td>lisi@example.com</td>\n",
       "      <td>2025-05-08 02:41:40</td>\n",
       "    </tr>\n",
       "    <tr>\n",
       "      <th>2</th>\n",
       "      <td>3</td>\n",
       "      <td>王五</td>\n",
       "      <td>22</td>\n",
       "      <td>wangwu@example.com</td>\n",
       "      <td>2025-05-08 02:41:40</td>\n",
       "    </tr>\n",
       "    <tr>\n",
       "      <th>3</th>\n",
       "      <td>4</td>\n",
       "      <td>赵六</td>\n",
       "      <td>35</td>\n",
       "      <td>zhaoliu@example.com</td>\n",
       "      <td>2025-05-08 02:41:40</td>\n",
       "    </tr>\n",
       "  </tbody>\n",
       "</table>\n",
       "</div>"
      ],
      "text/plain": [
       "   id name  age                 email           created_at\n",
       "0   1   张三   25  zhangsan@example.com  2025-05-08 02:41:40\n",
       "1   2   李四   30      lisi@example.com  2025-05-08 02:41:40\n",
       "2   3   王五   22    wangwu@example.com  2025-05-08 02:41:40\n",
       "3   4   赵六   35   zhaoliu@example.com  2025-05-08 02:41:40"
      ]
     },
     "execution_count": 9,
     "metadata": {},
     "output_type": "execute_result"
    }
   ],
   "source": [
    "# 使用pandas展示查询结果\n",
    "cursor.execute('SELECT * FROM users')\n",
    "column_names = [description[0] for description in cursor.description]\n",
    "df = pd.DataFrame(cursor.fetchall(), columns=column_names)\n",
    "df"
   ]
  },
  {
   "cell_type": "code",
   "execution_count": 10,
   "id": "ff933998",
   "metadata": {},
   "outputs": [
    {
     "name": "stdout",
     "output_type": "stream",
     "text": [
      "年龄大于25岁的用户:\n",
      "('李四', 'lisi@example.com')\n",
      "('赵六', 'zhaoliu@example.com')\n"
     ]
    }
   ],
   "source": [
    "# 条件查询\n",
    "cursor.execute('SELECT name, email FROM users WHERE age > ?', (25,))\n",
    "filtered_users = cursor.fetchall()\n",
    "\n",
    "print(\"年龄大于25岁的用户:\")\n",
    "for user in filtered_users:\n",
    "    print(user)"
   ]
  },
  {
   "cell_type": "markdown",
   "id": "6395f161",
   "metadata": {},
   "source": [
    "## 6. 更新数据\n",
    "\n",
    "使用`UPDATE`语句修改表中的数据。"
   ]
  },
  {
   "cell_type": "code",
   "execution_count": 11,
   "id": "4758adf4",
   "metadata": {},
   "outputs": [
    {
     "name": "stdout",
     "output_type": "stream",
     "text": [
      "更新了1条记录\n",
      "更新后的用户信息: (1, '张三', 26, 'zhangsan@example.com', '2025-05-08 02:41:40')\n"
     ]
    }
   ],
   "source": [
    "# 更新用户年龄\n",
    "cursor.execute('''\n",
    "UPDATE users SET age = ? WHERE name = ?\n",
    "''', (26, '张三'))\n",
    "\n",
    "conn.commit()\n",
    "print(f\"更新了{cursor.rowcount}条记录\")\n",
    "\n",
    "# 查看更新后的数据\n",
    "cursor.execute('SELECT * FROM users WHERE name = ?', ('张三',))\n",
    "updated_user = cursor.fetchone()\n",
    "print(\"更新后的用户信息:\", updated_user)"
   ]
  },
  {
   "cell_type": "markdown",
   "id": "5bee34f2",
   "metadata": {},
   "source": [
    "## 7. 删除数据\n",
    "\n",
    "使用`DELETE`语句从表中删除数据。"
   ]
  },
  {
   "cell_type": "code",
   "execution_count": 12,
   "id": "c70e1900",
   "metadata": {},
   "outputs": [
    {
     "name": "stdout",
     "output_type": "stream",
     "text": [
      "删除了1条记录\n",
      "剩余用户数量: 3\n"
     ]
    },
    {
     "data": {
      "text/html": [
       "<div>\n",
       "<style scoped>\n",
       "    .dataframe tbody tr th:only-of-type {\n",
       "        vertical-align: middle;\n",
       "    }\n",
       "\n",
       "    .dataframe tbody tr th {\n",
       "        vertical-align: top;\n",
       "    }\n",
       "\n",
       "    .dataframe thead th {\n",
       "        text-align: right;\n",
       "    }\n",
       "</style>\n",
       "<table border=\"1\" class=\"dataframe\">\n",
       "  <thead>\n",
       "    <tr style=\"text-align: right;\">\n",
       "      <th></th>\n",
       "      <th>id</th>\n",
       "      <th>name</th>\n",
       "      <th>age</th>\n",
       "      <th>email</th>\n",
       "      <th>created_at</th>\n",
       "    </tr>\n",
       "  </thead>\n",
       "  <tbody>\n",
       "    <tr>\n",
       "      <th>0</th>\n",
       "      <td>1</td>\n",
       "      <td>张三</td>\n",
       "      <td>26</td>\n",
       "      <td>zhangsan@example.com</td>\n",
       "      <td>2025-05-08 02:41:40</td>\n",
       "    </tr>\n",
       "    <tr>\n",
       "      <th>1</th>\n",
       "      <td>2</td>\n",
       "      <td>李四</td>\n",
       "      <td>30</td>\n",
       "      <td>lisi@example.com</td>\n",
       "      <td>2025-05-08 02:41:40</td>\n",
       "    </tr>\n",
       "    <tr>\n",
       "      <th>2</th>\n",
       "      <td>3</td>\n",
       "      <td>王五</td>\n",
       "      <td>22</td>\n",
       "      <td>wangwu@example.com</td>\n",
       "      <td>2025-05-08 02:41:40</td>\n",
       "    </tr>\n",
       "  </tbody>\n",
       "</table>\n",
       "</div>"
      ],
      "text/plain": [
       "   id name  age                 email           created_at\n",
       "0   1   张三   26  zhangsan@example.com  2025-05-08 02:41:40\n",
       "1   2   李四   30      lisi@example.com  2025-05-08 02:41:40\n",
       "2   3   王五   22    wangwu@example.com  2025-05-08 02:41:40"
      ]
     },
     "execution_count": 12,
     "metadata": {},
     "output_type": "execute_result"
    }
   ],
   "source": [
    "# 删除特定用户\n",
    "cursor.execute('DELETE FROM users WHERE name = ?', ('赵六',))\n",
    "conn.commit()\n",
    "print(f\"删除了{cursor.rowcount}条记录\")\n",
    "\n",
    "# 查看剩余用户\n",
    "cursor.execute('SELECT * FROM users')\n",
    "remaining_users = cursor.fetchall()\n",
    "print(\"剩余用户数量:\", len(remaining_users))\n",
    "\n",
    "# 使用pandas展示查询结果\n",
    "column_names = [description[0] for description in cursor.description]\n",
    "pd.DataFrame(remaining_users, columns=column_names)"
   ]
  },
  {
   "cell_type": "markdown",
   "id": "58ca547d",
   "metadata": {},
   "source": [
    "## 8. 事务处理\n",
    "\n",
    "SQLite默认启用事务。每个修改数据库的SQL语句开始一个事务，并且事务持续到被显式提交或回滚。"
   ]
  },
  {
   "cell_type": "code",
   "execution_count": 13,
   "id": "b9f5dc8b",
   "metadata": {},
   "outputs": [
    {
     "name": "stdout",
     "output_type": "stream",
     "text": [
      "事务提交成功\n"
     ]
    }
   ],
   "source": [
    "try:\n",
    "    # 开始一个事务（SQLite中默认就是这样）\n",
    "    cursor.execute(\"INSERT INTO users (name, age, email) VALUES (?, ?, ?)\", \n",
    "                   ('田七', 40, 'tianqi@example.com'))\n",
    "    cursor.execute(\"INSERT INTO users (name, age, email) VALUES (?, ?, ?)\", \n",
    "                   ('孙八', 45, 'sunba@example.com'))\n",
    "    \n",
    "    # 故意制造一个错误：插入重复的email\n",
    "    # cursor.execute(\"INSERT INTO users (name, age, email) VALUES (?, ?, ?)\", \n",
    "    #                ('错误用户', 20, 'tianqi@example.com'))\n",
    "    \n",
    "    # 提交事务\n",
    "    conn.commit()\n",
    "    print(\"事务提交成功\")\n",
    "except sqlite3.Error as e:\n",
    "    # 如果发生错误，回滚所有更改\n",
    "    conn.rollback()\n",
    "    print(f\"事务回滚，错误: {e}\")"
   ]
  },
  {
   "cell_type": "markdown",
   "id": "323840db",
   "metadata": {},
   "source": [
    "## 9. 创建索引\n",
    "\n",
    "使用索引可以加快查询速度。"
   ]
  },
  {
   "cell_type": "code",
   "execution_count": 14,
   "id": "9cb3c9c1",
   "metadata": {},
   "outputs": [
    {
     "name": "stdout",
     "output_type": "stream",
     "text": [
      "索引创建成功\n"
     ]
    }
   ],
   "source": [
    "# 为name字段创建索引\n",
    "cursor.execute('''\n",
    "CREATE INDEX IF NOT EXISTS idx_users_name ON users (name)\n",
    "''')\n",
    "\n",
    "conn.commit()\n",
    "print(\"索引创建成功\")"
   ]
  },
  {
   "cell_type": "markdown",
   "id": "58d64af3",
   "metadata": {},
   "source": [
    "## 10. 多表操作与连接查询\n",
    "\n",
    "创建多个相关联的表，并使用连接查询。"
   ]
  },
  {
   "cell_type": "code",
   "execution_count": 15,
   "id": "90a9e27e",
   "metadata": {},
   "outputs": [
    {
     "name": "stdout",
     "output_type": "stream",
     "text": [
      "订单表创建并插入数据成功\n"
     ]
    }
   ],
   "source": [
    "# 创建订单表\n",
    "cursor.execute('''\n",
    "CREATE TABLE IF NOT EXISTS orders (\n",
    "    id INTEGER PRIMARY KEY AUTOINCREMENT, -- 订单ID，主键，自动增长\n",
    "    user_id INTEGER NOT NULL,             -- 用户ID，外键，关联users表，不能为空\n",
    "    product_name TEXT NOT NULL,           -- 商品名称，不能为空\n",
    "    price REAL NOT NULL,                  -- 商品价格，不能为空\n",
    "    order_date TIMESTAMP DEFAULT CURRENT_TIMESTAMP, -- 订单日期，默认为当前时间戳\n",
    "    FOREIGN KEY (user_id) REFERENCES users (id) -- 设置外键约束，关联users表的id字段\n",
    ")\n",
    "''')\n",
    "\n",
    "# 准备要插入的订单数据\n",
    "# 每个元组代表一条订单记录：(用户ID, 商品名称, 价格)\n",
    "order_data = [\n",
    "    (1, '手机', 3999.00),  # 假设用户ID为1的用户（张三）购买了手机\n",
    "    (1, '耳机', 299.00),   # 假设用户ID为1的用户（张三）购买了耳机\n",
    "    (2, '笔记本', 6999.00), # 假设用户ID为2的用户（李四）购买了笔记本\n",
    "    (3, '平板', 2999.00)   # 假设用户ID为3的用户（王五）购买了平板\n",
    "]\n",
    "\n",
    "# 批量插入订单数据\n",
    "# 使用参数化查询防止SQL注入，并高效插入多条记录\n",
    "cursor.executemany('''\n",
    "INSERT INTO orders (user_id, product_name, price) VALUES (?, ?, ?)\n",
    "''', order_data)\n",
    "\n",
    "# 提交事务，将更改保存到数据库\n",
    "conn.commit()\n",
    "print(\"订单表创建并插入数据成功\")"
   ]
  },
  {
   "cell_type": "code",
   "execution_count": 16,
   "id": "ae5908c1",
   "metadata": {},
   "outputs": [
    {
     "data": {
      "text/html": [
       "<div>\n",
       "<style scoped>\n",
       "    .dataframe tbody tr th:only-of-type {\n",
       "        vertical-align: middle;\n",
       "    }\n",
       "\n",
       "    .dataframe tbody tr th {\n",
       "        vertical-align: top;\n",
       "    }\n",
       "\n",
       "    .dataframe thead th {\n",
       "        text-align: right;\n",
       "    }\n",
       "</style>\n",
       "<table border=\"1\" class=\"dataframe\">\n",
       "  <thead>\n",
       "    <tr style=\"text-align: right;\">\n",
       "      <th></th>\n",
       "      <th>用户名</th>\n",
       "      <th>邮箱</th>\n",
       "      <th>商品名</th>\n",
       "      <th>价格</th>\n",
       "      <th>订单日期</th>\n",
       "    </tr>\n",
       "  </thead>\n",
       "  <tbody>\n",
       "    <tr>\n",
       "      <th>0</th>\n",
       "      <td>张三</td>\n",
       "      <td>zhangsan@example.com</td>\n",
       "      <td>手机</td>\n",
       "      <td>3999.0</td>\n",
       "      <td>2025-05-08 02:43:42</td>\n",
       "    </tr>\n",
       "    <tr>\n",
       "      <th>1</th>\n",
       "      <td>张三</td>\n",
       "      <td>zhangsan@example.com</td>\n",
       "      <td>耳机</td>\n",
       "      <td>299.0</td>\n",
       "      <td>2025-05-08 02:43:42</td>\n",
       "    </tr>\n",
       "    <tr>\n",
       "      <th>2</th>\n",
       "      <td>李四</td>\n",
       "      <td>lisi@example.com</td>\n",
       "      <td>笔记本</td>\n",
       "      <td>6999.0</td>\n",
       "      <td>2025-05-08 02:43:42</td>\n",
       "    </tr>\n",
       "    <tr>\n",
       "      <th>3</th>\n",
       "      <td>王五</td>\n",
       "      <td>wangwu@example.com</td>\n",
       "      <td>平板</td>\n",
       "      <td>2999.0</td>\n",
       "      <td>2025-05-08 02:43:42</td>\n",
       "    </tr>\n",
       "  </tbody>\n",
       "</table>\n",
       "</div>"
      ],
      "text/plain": [
       "  用户名                    邮箱  商品名      价格                 订单日期\n",
       "0  张三  zhangsan@example.com   手机  3999.0  2025-05-08 02:43:42\n",
       "1  张三  zhangsan@example.com   耳机   299.0  2025-05-08 02:43:42\n",
       "2  李四      lisi@example.com  笔记本  6999.0  2025-05-08 02:43:42\n",
       "3  王五    wangwu@example.com   平板  2999.0  2025-05-08 02:43:42"
      ]
     },
     "execution_count": 16,
     "metadata": {},
     "output_type": "execute_result"
    }
   ],
   "source": [
    "# 使用JOIN查询用户及其订单\n",
    "cursor.execute('''\n",
    "SELECT \n",
    "    u.name,             -- 用户名\n",
    "    u.email,            -- 用户邮箱\n",
    "    o.product_name,     -- 商品名称\n",
    "    o.price,            -- 商品价格\n",
    "    o.order_date        -- 订单日期\n",
    "FROM \n",
    "    users u             -- 从users表（别名u）\n",
    "JOIN \n",
    "    orders o            -- 连接orders表（别名o）\n",
    "ON \n",
    "    u.id = o.user_id    -- 连接条件：users表的id等于orders表的user_id\n",
    "ORDER BY \n",
    "    u.name,             -- 按用户名排序\n",
    "    o.order_date        -- 然后按订单日期排序\n",
    "''')\n",
    "\n",
    "join_results = cursor.fetchall()\n",
    "column_names = ['用户名', '邮箱', '商品名', '价格', '订单日期']\n",
    "pd.DataFrame(join_results, columns=column_names)"
   ]
  },
  {
   "cell_type": "code",
   "execution_count": 17,
   "id": "818c69c4",
   "metadata": {},
   "outputs": [
    {
     "data": {
      "text/html": [
       "<div>\n",
       "<style scoped>\n",
       "    .dataframe tbody tr th:only-of-type {\n",
       "        vertical-align: middle;\n",
       "    }\n",
       "\n",
       "    .dataframe tbody tr th {\n",
       "        vertical-align: top;\n",
       "    }\n",
       "\n",
       "    .dataframe thead th {\n",
       "        text-align: right;\n",
       "    }\n",
       "</style>\n",
       "<table border=\"1\" class=\"dataframe\">\n",
       "  <thead>\n",
       "    <tr style=\"text-align: right;\">\n",
       "      <th></th>\n",
       "      <th>用户名</th>\n",
       "      <th>订单数量</th>\n",
       "      <th>消费总额</th>\n",
       "    </tr>\n",
       "  </thead>\n",
       "  <tbody>\n",
       "    <tr>\n",
       "      <th>0</th>\n",
       "      <td>李四</td>\n",
       "      <td>1</td>\n",
       "      <td>6999.0</td>\n",
       "    </tr>\n",
       "    <tr>\n",
       "      <th>1</th>\n",
       "      <td>张三</td>\n",
       "      <td>2</td>\n",
       "      <td>4298.0</td>\n",
       "    </tr>\n",
       "    <tr>\n",
       "      <th>2</th>\n",
       "      <td>王五</td>\n",
       "      <td>1</td>\n",
       "      <td>2999.0</td>\n",
       "    </tr>\n",
       "    <tr>\n",
       "      <th>3</th>\n",
       "      <td>田七</td>\n",
       "      <td>0</td>\n",
       "      <td>NaN</td>\n",
       "    </tr>\n",
       "    <tr>\n",
       "      <th>4</th>\n",
       "      <td>孙八</td>\n",
       "      <td>0</td>\n",
       "      <td>NaN</td>\n",
       "    </tr>\n",
       "  </tbody>\n",
       "</table>\n",
       "</div>"
      ],
      "text/plain": [
       "  用户名  订单数量    消费总额\n",
       "0  李四     1  6999.0\n",
       "1  张三     2  4298.0\n",
       "2  王五     1  2999.0\n",
       "3  田七     0     NaN\n",
       "4  孙八     0     NaN"
      ]
     },
     "execution_count": 17,
     "metadata": {},
     "output_type": "execute_result"
    }
   ],
   "source": [
    "# 聚合查询：计算每个用户的订单总额\n",
    "cursor.execute('''\n",
    "SELECT \n",
    "    u.name,                               -- 用户名\n",
    "    COUNT(o.id) as order_count,           -- 计算每个用户的订单数量，别名为order_count\n",
    "    SUM(o.price) as total_spent           -- 计算每个用户的总消费金额，别名为total_spent\n",
    "FROM \n",
    "    users u                               -- 从users表（别名u）\n",
    "LEFT JOIN \n",
    "    orders o ON u.id = o.user_id          -- 左连接orders表（别名o），连接条件是users表的id等于orders表的user_id\n",
    "                                          -- 使用LEFT JOIN确保即使没有订单的用户也会被包含在结果中\n",
    "GROUP BY \n",
    "    u.id                                  -- 按用户ID分组，这样聚合函数（COUNT, SUM）会对每个用户分别计算\n",
    "ORDER BY \n",
    "    total_spent DESC                      -- 按总消费金额降序排序\n",
    "''')\n",
    "\n",
    "summary_results = cursor.fetchall()\n",
    "column_names = ['用户名', '订单数量', '消费总额']\n",
    "pd.DataFrame(summary_results, columns=column_names)"
   ]
  },
  {
   "cell_type": "markdown",
   "id": "40e02c5c",
   "metadata": {},
   "source": [
    "## 11. 使用上下文管理器与连接池\n",
    "\n",
    "在实际应用中，推荐使用上下文管理器来自动关闭连接。"
   ]
  },
  {
   "cell_type": "code",
   "execution_count": 21,
   "id": "d0573885",
   "metadata": {},
   "outputs": [
    {
     "name": "stdout",
     "output_type": "stream",
     "text": [
      "总用户数 (in example.db): 2\n"
     ]
    }
   ],
   "source": [
    "# 使用上下文管理器来确保数据库连接在使用完毕后自动关闭\n",
    "# 这会连接到 'example.db' 文件数据库。如果文件不存在，则会创建它。\n",
    "# 这是一个基于文件的数据库，与之前单元格中使用的内存数据库 'conn' 是分开的。\n",
    "with sqlite3.connect('example.db') as conn: # 此处的 'conn' 是 'with' 语句块的局部变量，指向 'example.db'\n",
    "    cursor = conn.cursor() # 此处的 'cursor' 也是局部的，用于 'example.db' 的连接\n",
    "\n",
    "    # 在 'example.db' 中创建 'users' 表，如果它尚不存在。\n",
    "    # 表结构与内存数据库中使用的结构相匹配。\n",
    "    cursor.execute('''\n",
    "    CREATE TABLE IF NOT EXISTS users ( -- 如果 'users' 表不存在，则创建该表\n",
    "        id INTEGER PRIMARY KEY AUTOINCREMENT, -- 用户ID，整数类型，主键，自动增长\n",
    "        name TEXT NOT NULL,                   -- 用户名，文本类型，不能为空\n",
    "        age INTEGER,                          -- 年龄，整数类型\n",
    "        email TEXT UNIQUE,                    -- 邮箱，文本类型，必须唯一\n",
    "        created_at TIMESTAMP DEFAULT CURRENT_TIMESTAMP -- 创建时间，时间戳类型，默认为当前时间戳\n",
    "    )\n",
    "    ''')\n",
    "\n",
    "    # 为文件数据库准备的用户数据列表\n",
    "    # 向 'example.db' 的 'users' 表中插入一些示例数据。\n",
    "    # 使用 'INSERT OR IGNORE' 确保如果多次运行此单元格，\n",
    "    # 不会尝试插入违反邮箱唯一约束的重复条目。\n",
    "    users_data_for_file_db = [\n",
    "        ('File User Alice', 30, 'alice.file@example.com'),\n",
    "        ('File User Bob', 24, 'bob.file@example.com')\n",
    "    ]\n",
    "    cursor.executemany('''\n",
    "    INSERT OR IGNORE INTO users (name, age, email) VALUES (?, ?, ?) -- 批量插入数据到 'users' 表。如果数据导致唯一约束冲突（如email重复），则忽略该条插入。\n",
    "    ''', users_data_for_file_db)\n",
    "\n",
    "    conn.commit() # 提交事务，将表创建和数据插入操作永久保存到 'example.db'\n",
    "\n",
    "    # 现在，执行查询以计算 'example.db' 中 'users' 表的记录总数\n",
    "    cursor.execute('SELECT COUNT(*) FROM users') # 从 'users' 表中统计所有行数 (用户总数)\n",
    "    count = cursor.fetchone()[0] # 获取查询结果的第一行第一列（即用户总数）\n",
    "    print(f\"总用户数 (in example.db): {count}\") # 打印 'example.db' 中的用户总数\n",
    "\n",
    "# 当退出 'with' 语句块时，到 'example.db' 的连接 'conn' 会自动关闭。"
   ]
  },
  {
   "cell_type": "markdown",
   "id": "89978458",
   "metadata": {},
   "source": [
    "## 12. 导出数据库结构和数据\n",
    "\n",
    "可以导出数据库的结构和数据，便于备份或迁移。"
   ]
  },
  {
   "cell_type": "code",
   "execution_count": 22,
   "id": "a1ace30e",
   "metadata": {},
   "outputs": [
    {
     "name": "stdout",
     "output_type": "stream",
     "text": [
      "数据库结构和数据导出示例 (内存数据库中的 'users' 和 'orders' 表):\n",
      "CREATE TABLE users (\n",
      "    id INTEGER PRIMARY KEY,\n",
      "    name TEXT NOT NULL,\n",
      "    age INTEGER,\n",
      "    email TEXT,\n",
      "    created_at TIMESTAMP DEFAULT 'CURRENT_TIMESTAMP'\n",
      ");\n",
      "('INSERT INTO users VALUES (?, ?, ?, ?, ?);', (1, 'File User Alice', 30, 'alice.file@example.com', '2025-05-08 02:53:46'))\n",
      "('INSERT INTO users VALUES (?, ?, ?, ?, ?);', (2, 'File User Bob', 24, 'bob.file@example.com', '2025-05-08 02:53:46'))\n"
     ]
    }
   ],
   "source": [
    "def dump_db(conn):\n",
    "    \"\"\"\n",
    "    导出数据库的结构（CREATE TABLE语句）和数据（INSERT语句和数据元组）。\n",
    "\n",
    "    参数:\n",
    "    conn (sqlite3.Connection): 一个已连接的SQLite数据库连接对象。\n",
    "\n",
    "    返回:\n",
    "    list: 一个列表，其中包含数据库的CREATE TABLE语句（字符串）\n",
    "          以及 (INSERT INTO语句模板, 数据元组) 形式的元组。\n",
    "    \"\"\"\n",
    "    # 获取数据库连接的游标对象，用于执行SQL语句\n",
    "    cursor = conn.cursor()\n",
    "    \n",
    "    # 查询sqlite_master表以获取数据库中所有用户定义的表的名称\n",
    "    # sqlite_master是SQLite内部表，存储数据库的元信息\n",
    "    cursor.execute(\"SELECT name FROM sqlite_master WHERE type='table';\")\n",
    "    tables = cursor.fetchall()  # 获取所有查询结果，每个结果是一个包含表名的元组\n",
    "    \n",
    "    dump = []  # 初始化一个空列表，用于存储导出的SQL语句和数据\n",
    "    \n",
    "    # 遍历查询到的每个表\n",
    "    for table_name_tuple in tables:\n",
    "        table = table_name_tuple[0]  # 从元组中提取表名字符串\n",
    "        \n",
    "        # 跳过SQLite内部表（通常以'sqlite_'开头），我们只关心用户创建的表\n",
    "        if table.startswith('sqlite_'):\n",
    "            continue\n",
    "            \n",
    "        # 获取表的结构信息（列名、类型、约束等）\n",
    "        # PRAGMA table_info(table_name) 返回指定表的每一列的信息\n",
    "        cursor.execute(f\"PRAGMA table_info({table})\")\n",
    "        columns = cursor.fetchall()  # 获取所有列的信息\n",
    "        \n",
    "        # 开始构建CREATE TABLE语句\n",
    "        create_statement = f\"CREATE TABLE {table} (\\n\"\n",
    "        column_definitions = [] # 用于存储每一列的定义字符串\n",
    "        for col in columns:\n",
    "            # col[0]: cid (列ID)\n",
    "            # col[1]: name (列名)\n",
    "            # col[2]: type (数据类型)\n",
    "            # col[3]: notnull (是否非空，1表示非空，0表示可空)\n",
    "            # col[4]: dflt_value (默认值)\n",
    "            # col[5]: pk (是否主键，1表示是主键的一部分，0表示不是)\n",
    "            col_def = f\"    {col[1]} {col[2]}\" # 列名和数据类型\n",
    "            if col[3]:  # 如果notnull为1 (True)\n",
    "                col_def += \" NOT NULL\" # 添加非空约束\n",
    "            if col[5]:  # 如果pk为1 (True)\n",
    "                col_def += \" PRIMARY KEY\" # 添加主键约束\n",
    "            if col[4] is not None: # 如果存在默认值\n",
    "                # 对于文本类型的默认值，需要用单引号括起来\n",
    "                if isinstance(col[4], str):\n",
    "                    col_def += f\" DEFAULT '{col[4]}'\"\n",
    "                else:\n",
    "                    col_def += f\" DEFAULT {col[4]}\"\n",
    "            column_definitions.append(col_def)\n",
    "        \n",
    "        create_statement += \",\\n\".join(column_definitions) # 用逗号和换行符连接所有列的定义\n",
    "        create_statement += \"\\n);\" # 结束CREATE TABLE语句\n",
    "        dump.append(create_statement) # 将构建好的CREATE TABLE语句添加到导出列表中\n",
    "        \n",
    "        # 获取表中的所有数据\n",
    "        cursor.execute(f\"SELECT * FROM {table}\")\n",
    "        rows = cursor.fetchall()  # 获取表中的所有行数据\n",
    "        \n",
    "        # 为表中的每一行数据构建INSERT语句模板和数据元组\n",
    "        if rows: # 只有当表中有数据时才生成INSERT语句\n",
    "            # 创建一个通用的INSERT语句模板，使用占位符 '?'\n",
    "            # 占位符的数量与列的数量相同\n",
    "            placeholders = ', '.join(['?' for _ in rows[0]]) # 根据第一行数据的列数生成占位符\n",
    "            insert_template = f\"INSERT INTO {table} VALUES ({placeholders});\"\n",
    "            for row in rows:\n",
    "                # 将INSERT语句模板和对应的行数据元组添加到导出列表中\n",
    "                # 这样做是为了方便后续使用 executemany 或带参数的 execute 执行\n",
    "                dump.append((insert_template, row)) \n",
    "    \n",
    "    return dump # 返回包含所有导出信息的列表\n",
    "\n",
    "# 使用之前在 notebook 中定义的 'conn' 连接对象（连接到内存数据库）来导出数据库结构和数据\n",
    "# 'conn' 是在 CELL 4 中定义的 :memory: 数据库连接\n",
    "dump_result = dump_db(conn)\n",
    "\n",
    "print(\"数据库结构和数据导出示例 (内存数据库中的 'users' 和 'orders' 表):\")\n",
    "# 遍历导出结果的前5条记录并打印\n",
    "# 这可能包括CREATE TABLE语句或 (INSERT语句, 数据) 元组\n",
    "for item in dump_result[:5]:  \n",
    "    print(item)"
   ]
  },
  {
   "cell_type": "markdown",
   "id": "36d820ed",
   "metadata": {},
   "source": [
    "## 13. 关闭连接\n",
    "\n",
    "使用完数据库后，关闭连接释放资源。"
   ]
  },
  {
   "cell_type": "code",
   "execution_count": 23,
   "id": "c52249da",
   "metadata": {},
   "outputs": [
    {
     "name": "stdout",
     "output_type": "stream",
     "text": [
      "数据库连接已关闭\n"
     ]
    }
   ],
   "source": [
    "# 关闭游标\n",
    "cursor.close()\n",
    "\n",
    "# 关闭连接\n",
    "conn.close()\n",
    "print(\"数据库连接已关闭\")"
   ]
  },
  {
   "cell_type": "markdown",
   "id": "18a4afc8",
   "metadata": {},
   "source": [
    "## 总结\n",
    "\n",
    "本教程介绍了SQLite的基本操作，包括：\n",
    "\n",
    "1. 创建/连接数据库\n",
    "2. 创建表\n",
    "3. 插入数据\n",
    "4. 查询数据\n",
    "5. 更新数据\n",
    "6. 删除数据\n",
    "7. 事务处理\n",
    "8. 创建索引\n",
    "9. 多表连接查询\n",
    "10. 使用上下文管理器\n",
    "11. 导出数据库结构和数据\n",
    "\n",
    "SQLite因其轻量级、无需服务器配置且性能良好的特点，非常适合用于小型应用、开发和测试环境。了解并掌握这些基础操作可以帮助你更高效地使用SQLite数据库。"
   ]
  }
 ],
 "metadata": {
  "kernelspec": {
   "display_name": "SmartImageFinder",
   "language": "python",
   "name": "python3"
  },
  "language_info": {
   "codemirror_mode": {
    "name": "ipython",
    "version": 3
   },
   "file_extension": ".py",
   "mimetype": "text/x-python",
   "name": "python",
   "nbconvert_exporter": "python",
   "pygments_lexer": "ipython3",
   "version": "3.10.16"
  }
 },
 "nbformat": 4,
 "nbformat_minor": 5
}
