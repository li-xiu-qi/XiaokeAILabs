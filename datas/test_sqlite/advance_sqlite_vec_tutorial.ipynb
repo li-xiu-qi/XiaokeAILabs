{
 "cells": [
  {
   "cell_type": "markdown",
   "id": "3309071d",
   "metadata": {},
   "source": [
    "### SQLite 数据类型\n",
    "\n",
    "SQLite 采用动态类型系统，这意味着数据类型与值本身相关联，而不是与存储值的容器（列）相关联。尽管如此，为了与其他 SQL 数据库引擎兼容，SQLite 使用“类型亲和性”的概念。类型亲和性是指为列中存储的数据推荐的类型。\n",
    "\n",
    "**SQLite 主要有五种存储类别：**\n",
    "\n",
    "* **NULL**：表示空值。\n",
    "* **INTEGER**：表示整数值。布尔值也存储为整数（0 表示 false，1 表示 true）。\n",
    "* **REAL**：表示浮点数值。\n",
    "* **TEXT**：表示文本字符串。\n",
    "* **BLOB** (Binary Large Object)：用于存储二进制大对象，例如图像或文件，按输入原样存储。\n",
    "\n",
    "**类型亲和性：**\n",
    "\n",
    "SQLite 中的每一列都会被分配以下五种类型亲和性之一：\n",
    "\n",
    "* **TEXT**：具有 TEXT 亲和性的列会存储所有数据为 NULL、TEXT 或 BLOB 类型。\n",
    "* **NUMERIC**：具有 NUMERIC 亲和性的列可以存储所有五种存储类别的数据。在可能的情况下，它会将文本转换为 INTEGER 或 REAL。\n",
    "* **INTEGER**：行为与 NUMERIC 类似。\n",
    "* **REAL**：具有 REAL 亲和性的列会将整数值强制转换为浮点表示。\n",
    "* **BLOB**：具有 BLOB 亲和性的列不偏好任何存储类别，也不会尝试强制转换数据。\n",
    "\n",
    "**日期和时间：**\n",
    "\n",
    "SQLite 没有单独的日期和时间存储类别。相反，它使用内置函数将日期和时间存储为以下三种格式之一：\n",
    "\n",
    "* **TEXT**：ISO8601 格式的字符串。\n",
    "* **REAL**：儒略日数。\n",
    "* **INTEGER**：Unix 时间戳。\n",
    "\n",
    "在查询执行期间，SQLite 可能会在数字存储类别（INTEGER 和 REAL）与 TEXT 之间转换值。\n"
   ]
  },
  {
   "cell_type": "markdown",
   "id": "7139e84d",
   "metadata": {},
   "source": [
    "sqlite-vss（SQLite Vector Similarity Search，向量相似度搜索）是一个基于Faiss的SQLite扩展，为SQLite带来向量搜索功能。它可以用于构建语义搜索引擎、推荐系统或问答工具。\n",
    "\n",
    "- 底层Faiss索引的大小上限为1GB。关注[#1](https://github.com/asg017/sqlite-vss/issues/1)获取更新。\n",
    "- 目前不支持在KNN搜索之上进行额外的过滤。关注[#2](https://github.com/asg017/sqlite-vss/issues/2)获取更新。\n",
    "- 仅支持CPU Faiss索引，尚不支持GPU。关注[#3](https://github.com/asg017/sqlite-vss/issues/3)获取更新。\n",
    "- 尚不支持内存映射(mmap)索引，因此索引必须适合RAM。关注[#4](https://github.com/asg017/sqlite-vss/issues/4)获取更新。\n",
    "- 此扩展使用C++编写，尚无模糊测试。关注[#5](https://github.com/asg017/sqlite-vss/issues/5)获取更新。\n",
    "- vss0虚拟表不支持`UPDATE`语句，但支持`INSERT`和`DELETE`语句。关注[#7](https://github.com/asg017/sqlite-vss/issues/7)获取更新。\n",
    "\n",
    "\n",
    "\n",
    "sqlite-vss的开发和采用存在许多障碍，包括：\n",
    "\n",
    "只能在Linux + MacOS机器上工作（不支持Windows、WASM、移动设备等）\n",
    "将所有向量都存储在内存中\n",
    "各种与事务相关的bug和问题\n",
    "编译极其困难且耗时\n",
    "缺少常见的向量操作（标量/二进制量化）\n",
    "几乎所有这些问题都是因为sqlite-vss依赖于Faiss。花费大量时间和精力，其中一些问题也许可以解决，但许多问题会被Faiss阻碍。\n",
    "\n",
    "考虑到这一点，一个无依赖和低级别的解决方案看起来非常诱人。事实证明，向量搜索并不太复杂，所以sqlite-vec诞生了！"
   ]
  },
  {
   "cell_type": "markdown",
   "id": "03f8e34d",
   "metadata": {},
   "source": [
    "sqlite-vec将会是什么\n",
    "sqlite-vec将是一个纯C语言编写、无依赖的SQLite扩展。它将提供自定义SQL函数和虚拟表用于快速向量搜索，以及其他处理向量的工具和实用程序（量化、JSON/BLOB/numpy转换、向量运算等）。\n",
    "\n",
    "一个极小、\"足够快\"的向量搜索 SQLite 扩展，可在任何地方运行！是 sqlite-vss 的接班人。\n",
    "\n",
    "在 vec0 虚拟表中存储和查询浮点、int8 和二进制向量\n",
    "使用纯 C 语言编写，无依赖，可在任何支持 SQLite 的地方运行\n",
    "（Linux/MacOS/Windows，浏览器 WASM，树莓派等）\n",
    "在元数据、辅助或分区键列中存储非向量数据"
   ]
  },
  {
   "cell_type": "code",
   "execution_count": 1,
   "id": "6aa30936",
   "metadata": {},
   "outputs": [
    {
     "name": "stderr",
     "output_type": "stream",
     "text": [
      "c:\\Users\\k\\.conda\\envs\\SmartImageFinder\\lib\\site-packages\\tqdm\\auto.py:21: TqdmWarning: IProgress not found. Please update jupyter and ipywidgets. See https://ipywidgets.readthedocs.io/en/stable/user_install.html\n",
      "  from .autonotebook import tqdm as notebook_tqdm\n"
     ]
    }
   ],
   "source": [
    "import sqlite3\n",
    "import numpy as np\n",
    "import pandas as pd\n",
    "from sentence_transformers import SentenceTransformer\n",
    "import os\n",
    "import json\n",
    "import pickle\n",
    "from sklearn.metrics.pairwise import cosine_similarity, euclidean_distances"
   ]
  },
  {
   "cell_type": "code",
   "execution_count": 2,
   "id": "0e1da14c",
   "metadata": {},
   "outputs": [
    {
     "name": "stdout",
     "output_type": "stream",
     "text": [
      "成功加载本地模型: C:\\Users\\k\\Desktop\\BaiduSyncdisk\\baidu_sync_documents\\hf_models\\bge-m3\n",
      "模型输出维度: 1024\n"
     ]
    }
   ],
   "source": [
    "try:\n",
    "    # 首先尝试加载本地模型\n",
    "    model_path = r'C:\\Users\\k\\Desktop\\BaiduSyncdisk\\baidu_sync_documents\\hf_models\\bge-m3'\n",
    "    model = SentenceTransformer(model_path)\n",
    "    print(f\"成功加载本地模型: {model_path}\")\n",
    "except Exception as e:\n",
    "    # 如果本地模型加载失败，使用Hugging Face上的小型模型\n",
    "    print(f\"本地模型加载失败: {e}\")\n",
    "    print(\"尝试从Hugging Face加载多语言模型...\")\n",
    "    model = SentenceTransformer('sentence-transformers/paraphrase-multilingual-MiniLM-L12-v2')\n",
    "    print(\"成功加载Hugging Face模型\")\n",
    "\n",
    "# 获取模型的输出维度\n",
    "embedding_dim = model.get_sentence_embedding_dimension()\n",
    "print(f\"模型输出维度: {embedding_dim}\")"
   ]
  },
  {
   "cell_type": "code",
   "execution_count": 3,
   "id": "89a99bd6",
   "metadata": {},
   "outputs": [],
   "source": [
    "# 创建一个SQLite数据库连接\n",
    "db_path = \"vector_demo.db\"\n",
    "conn = sqlite3.connect(db_path)\n",
    "cursor = conn.cursor()\n"
   ]
  },
  {
   "cell_type": "code",
   "execution_count": 4,
   "id": "39bbbe89",
   "metadata": {},
   "outputs": [
    {
     "name": "stdout",
     "output_type": "stream",
     "text": [
      "成功加载sqlite-vec扩展，版本: v0.1.7-alpha.2\n"
     ]
    }
   ],
   "source": [
    "# 尝试加载sqlite-vec扩展\n",
    "try:\n",
    "    conn.enable_load_extension(True)\n",
    "    # 根据操作系统加载不同的扩展文件\n",
    "    conn.execute(\"SELECT load_extension('./vec0.dll')\")\n",
    "    # 测试扩展是否成功加载\n",
    "    cursor.execute(\"SELECT vec_version()\")\n",
    "    version = cursor.fetchone()[0]\n",
    "    print(f\"成功加载sqlite-vec扩展，版本: {version}\")\n",
    "except Exception as e:\n",
    "    print(f\"加载sqlite-vec扩展失败: {e}\")\n",
    "    print(\"将使用纯Python实现向量操作\")\n",
    "    print(\"如需使用sqlite-vec扩展，请从 https://github.com/asg017/sqlite-vec/releases 下载对应版本\")"
   ]
  },
  {
   "cell_type": "code",
   "execution_count": 5,
   "id": "e651805b",
   "metadata": {},
   "outputs": [],
   "source": [
    "# 创建一个SQLite数据库连接\n",
    "no_vec0_db_path = \"vec_no_vec0.db\"\n",
    "no_vec0_conn = sqlite3.connect(no_vec0_db_path)\n",
    "no_vec0_cursor = no_vec0_conn.cursor()\n"
   ]
  },
  {
   "cell_type": "code",
   "execution_count": 6,
   "id": "149807e7",
   "metadata": {},
   "outputs": [
    {
     "data": {
      "text/plain": [
       "<sqlite3.Cursor at 0x225bdb6ed40>"
      ]
     },
     "execution_count": 6,
     "metadata": {},
     "output_type": "execute_result"
    }
   ],
   "source": [
    "# 删除原来的表，如果存在\n",
    "cursor.execute(\"DROP TABLE IF EXISTS vec_documents;\")\n",
    "# 创建表格\n",
    "cursor.execute(f\"\"\"\n",
    "                CREATE VIRTUAL TABLE IF NOT EXISTS vec_documents USING vec0(\n",
    "                    document_id INTEGER PRIMARY KEY,\n",
    "                    content_embedding FLOAT[{embedding_dim}] DISTANCE_METRIC=cosine,\n",
    "                    category TEXT,\n",
    "                    +original_content TEXT\n",
    "                );\n",
    "                \"\"\")"
   ]
  },
  {
   "cell_type": "code",
   "execution_count": 7,
   "id": "5e65e29b",
   "metadata": {},
   "outputs": [
    {
     "data": {
      "text/plain": [
       "<sqlite3.Cursor at 0x225bbd41cc0>"
      ]
     },
     "execution_count": 7,
     "metadata": {},
     "output_type": "execute_result"
    }
   ],
   "source": [
    "no_vec0_cursor.execute(f\"\"\"\n",
    "                    CREATE VIRTUAL TABLE IF NOT EXISTS vec_documents USING vec0(\n",
    "                        document_id INTEGER PRIMARY KEY,\n",
    "                        content_embedding FLOAT[{embedding_dim}] DISTANCE_METRIC=cosine,\n",
    "                        category TEXT,\n",
    "                        +original_content TEXT\n",
    "                    );\n",
    "                    \"\"\")\n",
    "# 会报错，因为没有加载sqlite-vec扩展，OperationalError: no such module: vec0\n"
   ]
  },
  {
   "cell_type": "code",
   "execution_count": null,
   "id": "a0c021b3",
   "metadata": {},
   "outputs": [],
   "source": [
    "# 重新创建一个表：\n",
    "# 1. 删除原有表\n",
    "no_vec0_cursor.execute(\"DROP TABLE IF EXISTS vec_documents;\")\n",
    "# 2. 创建新表\n",
    "no_vec0_cursor.execute(f\"\"\"\n",
    "                    CREATE TABLE IF NOT EXISTS vec_documents(\n",
    "                        document_id INTEGER PRIMARY KEY,\n",
    "                        content_embedding BLOB,\n",
    "                        category TEXT,\n",
    "                        original_content TEXT\n",
    "                    );\n",
    "                    \"\"\")"
   ]
  },
  {
   "cell_type": "code",
   "execution_count": 9,
   "id": "d56f035f",
   "metadata": {},
   "outputs": [],
   "source": [
    "def no_vec0_insert_documents(cursor, documents):\n",
    "    \"\"\"插入文档\"\"\"\n",
    "    # 清空表\n",
    "    cursor.execute(\"DELETE FROM vec_documents\")\n",
    "    \n",
    "    for doc in documents:\n",
    "        # 标准表插入\n",
    "        embedding_bytes = pickle.dumps(doc[\"embedding\"])\n",
    "        cursor.execute(\n",
    "            \"INSERT INTO vec_documents(document_id, content_embedding, category, original_content) VALUES (?, ?, ?, ?)\",\n",
    "            (doc[\"id\"],  embedding_bytes,doc[\"category\"], doc[\"content\"],)\n",
    "        )\n",
    "    \n",
    "    conn.commit()\n",
    "    print(f\"成功插入 {len(documents)} 条文档\")\n",
    "\n",
    "def insert_documents(cursor, documents):\n",
    "    # 清空表\n",
    "    cursor.execute(\"DELETE FROM vec_documents\")\n",
    "    for doc in documents:\n",
    "        # 虚拟表插入（如果可用）\n",
    "        embedding_json = json.dumps(doc[\"embedding\"].tolist())\n",
    "        try:\n",
    "            cursor.execute(\n",
    "                \"INSERT INTO vec_documents(document_id, content_embedding, category, original_content) VALUES (?, vec_f32(?), ?, ?)\",\n",
    "                (doc[\"id\"], embedding_json, doc[\"category\"], doc[\"content\"])\n",
    "            )\n",
    "        except Exception as e:\n",
    "            print(f\"插入虚拟表失败: {e}\")"
   ]
  },
  {
   "cell_type": "code",
   "execution_count": 10,
   "id": "7a9448df",
   "metadata": {},
   "outputs": [
    {
     "name": "stdout",
     "output_type": "stream",
     "text": [
      "ID: 1, 内容: 机器学习是人工智能的一个子领域\n",
      "向量维度: 1024, 向量前几个元素: [-0.03649624 -0.02476022 -0.04679906 -0.00498728  0.00767139]...\n",
      "\n",
      "ID: 2, 内容: 深度学习是机器学习的一种方法\n",
      "向量维度: 1024, 向量前几个元素: [-0.02456879 -0.06428009 -0.04240257 -0.00734466 -0.02539387]...\n",
      "\n"
     ]
    }
   ],
   "source": [
    "# 准备一些示例文本\n",
    "documents = [\n",
    "    {\"id\": 1, \"content\": \"机器学习是人工智能的一个子领域\", \"category\": \"技术\"},\n",
    "    {\"id\": 2, \"content\": \"深度学习是机器学习的一种方法\", \"category\": \"技术\"},\n",
    "    {\"id\": 3, \"content\": \"向量数据库可以高效存储和检索向量数据\", \"category\": \"数据库\"},\n",
    "    {\"id\": 4, \"content\": \"SQLite是一个轻量级的关系型数据库\", \"category\": \"数据库\"},\n",
    "    {\"id\": 5, \"content\": \"Python是一种流行的编程语言\", \"category\": \"编程\"},\n",
    "    {\"id\": 6, \"content\": \"自然语言处理是处理人类语言的技术\", \"category\": \"技术\"},\n",
    "    {\"id\": 7, \"content\": \"向量相似度搜索在推荐系统中很常用\", \"category\": \"技术\"},\n",
    "    {\"id\": 8, \"content\": \"大数据分析需要高效的数据存储和处理\", \"category\": \"数据\"}\n",
    "]\n",
    "\n",
    "# 为每个文档生成embedding向量\n",
    "for doc in documents:\n",
    "    embedding = model.encode(doc[\"content\"])\n",
    "    doc[\"embedding\"] = embedding\n",
    "\n",
    "# 展示部分数据\n",
    "for doc in documents[:2]:\n",
    "    print(f\"ID: {doc['id']}, 内容: {doc['content']}\")\n",
    "    print(f\"向量维度: {len(doc['embedding'])}, 向量前几个元素: {doc['embedding'][:5]}...\\n\")"
   ]
  },
  {
   "cell_type": "code",
   "execution_count": 11,
   "id": "24e8d745",
   "metadata": {},
   "outputs": [],
   "source": [
    "# 这里是使用向量浮点数插入的\n",
    "insert_documents(cursor,documents)"
   ]
  },
  {
   "cell_type": "code",
   "execution_count": 12,
   "id": "767253cc",
   "metadata": {},
   "outputs": [
    {
     "ename": "OperationalError",
     "evalue": "database is locked",
     "output_type": "error",
     "traceback": [
      "\u001b[1;31m---------------------------------------------------------------------------\u001b[0m",
      "\u001b[1;31mOperationalError\u001b[0m                          Traceback (most recent call last)",
      "Cell \u001b[1;32mIn[12], line 2\u001b[0m\n\u001b[0;32m      1\u001b[0m \u001b[38;5;66;03m# 这里使用没有扩展的插入浮点数向量的库就会导致报错\u001b[39;00m\n\u001b[1;32m----> 2\u001b[0m \u001b[43minsert_documents\u001b[49m\u001b[43m(\u001b[49m\u001b[43mno_vec0_cursor\u001b[49m\u001b[43m,\u001b[49m\u001b[43m \u001b[49m\u001b[43mdocuments\u001b[49m\u001b[43m)\u001b[49m\n\u001b[0;32m      3\u001b[0m \u001b[38;5;66;03m# 插入虚拟表失败: no such function: vec_f32\u001b[39;00m\n\u001b[0;32m      4\u001b[0m \u001b[38;5;66;03m# 换回no_vec0_insert_documents\u001b[39;00m\n\u001b[0;32m      5\u001b[0m no_vec0_insert_documents(no_vec0_cursor, documents)\n",
      "Cell \u001b[1;32mIn[9], line 19\u001b[0m, in \u001b[0;36minsert_documents\u001b[1;34m(cursor, documents)\u001b[0m\n\u001b[0;32m     17\u001b[0m \u001b[38;5;28;01mdef\u001b[39;00m\u001b[38;5;250m \u001b[39m\u001b[38;5;21minsert_documents\u001b[39m(cursor, documents):\n\u001b[0;32m     18\u001b[0m     \u001b[38;5;66;03m# 清空表\u001b[39;00m\n\u001b[1;32m---> 19\u001b[0m     \u001b[43mcursor\u001b[49m\u001b[38;5;241;43m.\u001b[39;49m\u001b[43mexecute\u001b[49m\u001b[43m(\u001b[49m\u001b[38;5;124;43m\"\u001b[39;49m\u001b[38;5;124;43mDELETE FROM vec_documents\u001b[39;49m\u001b[38;5;124;43m\"\u001b[39;49m\u001b[43m)\u001b[49m\n\u001b[0;32m     20\u001b[0m     \u001b[38;5;28;01mfor\u001b[39;00m doc \u001b[38;5;129;01min\u001b[39;00m documents:\n\u001b[0;32m     21\u001b[0m         \u001b[38;5;66;03m# 虚拟表插入（如果可用）\u001b[39;00m\n\u001b[0;32m     22\u001b[0m         embedding_json \u001b[38;5;241m=\u001b[39m json\u001b[38;5;241m.\u001b[39mdumps(doc[\u001b[38;5;124m\"\u001b[39m\u001b[38;5;124membedding\u001b[39m\u001b[38;5;124m\"\u001b[39m]\u001b[38;5;241m.\u001b[39mtolist())\n",
      "\u001b[1;31mOperationalError\u001b[0m: database is locked"
     ]
    }
   ],
   "source": [
    "# 这里使用没有扩展的插入浮点数向量的库就会导致报错\n",
    "insert_documents(no_vec0_cursor, documents)\n",
    "# 插入虚拟表失败: no such function: vec_f32\n",
    "# 换回no_vec0_insert_documents\n",
    "no_vec0_insert_documents(no_vec0_cursor, documents)"
   ]
  },
  {
   "cell_type": "code",
   "execution_count": 15,
   "id": "55ae1f85",
   "metadata": {},
   "outputs": [],
   "source": [
    "def knn_search(cursor, query_embedding, k=3, category=None):\n",
    "    \"\"\"执行KNN搜索\"\"\"\n",
    "        # 使用vec0虚拟表\n",
    "\n",
    "    query_json = json.dumps(query_embedding.tolist())\n",
    "    if category:\n",
    "        cursor.execute(\"\"\"\n",
    "        SELECT document_id, original_content, category, distance\n",
    "        FROM vec_documents \n",
    "        WHERE content_embedding MATCH ? AND k = ? AND category = ?\n",
    "        \"\"\", (query_json, k, category))\n",
    "    else:\n",
    "        cursor.execute(\"\"\"\n",
    "        SELECT document_id, original_content, category, distance\n",
    "        FROM vec_documents \n",
    "        WHERE content_embedding MATCH ? AND k = ?\n",
    "        \"\"\", (query_json, k))\n",
    "    \n",
    "    return [(row[0], row[1], row[2], row[3]) for row in cursor.fetchall()]\n",
    "\n",
    "\n",
    "def no_vec0_knn_search(cursor, query_embedding, k=3, category=None):\n",
    "    \"\"\"执行KNN搜索\"\"\"\n",
    "        # 使用vec0虚拟表\n",
    "\n",
    "    query_json = json.dumps(query_embedding.tolist())\n",
    "    if category:\n",
    "        cursor.execute(\"\"\"\n",
    "        SELECT document_id, original_content, category\n",
    "        FROM vec_documents \n",
    "        WHERE content_embedding MATCH ? AND k = ? AND category = ?\n",
    "        \"\"\", (query_json, k, category))\n",
    "    else:\n",
    "        cursor.execute(\"\"\"\n",
    "        SELECT document_id, original_content, category\n",
    "        FROM vec_documents \n",
    "        WHERE content_embedding MATCH ? AND k = ?\n",
    "        \"\"\", (query_json, k))\n",
    "    \n",
    "    return [(row[0], row[1], row[2], row[3]) for row in cursor.fetchall()]\n"
   ]
  },
  {
   "cell_type": "code",
   "execution_count": 16,
   "id": "fd1010cb",
   "metadata": {},
   "outputs": [],
   "source": [
    "# 生成查询向量\n",
    "query_text = \"数据库技术与应用\"\n",
    "query_embedding = model.encode(query_text)\n"
   ]
  },
  {
   "cell_type": "code",
   "execution_count": 17,
   "id": "bf106f84",
   "metadata": {},
   "outputs": [
    {
     "name": "stdout",
     "output_type": "stream",
     "text": [
      "查询：'数据库技术与应用'的最近3个结果:\n",
      "ID: 3, 距离: 0.4323, 类别: 数据库, 内容: 向量数据库可以高效存储和检索向量数据\n",
      "ID: 8, 距离: 0.4413, 类别: 数据, 内容: 大数据分析需要高效的数据存储和处理\n",
      "ID: 4, 距离: 0.4911, 类别: 数据库, 内容: SQLite是一个轻量级的关系型数据库\n"
     ]
    }
   ],
   "source": [
    "\n",
    "# 执行KNN查询\n",
    "k = 3\n",
    "results = knn_search(cursor,query_embedding, k)\n",
    "\n",
    "print(f\"查询：'{query_text}'的最近{k}个结果:\")\n",
    "for doc_id, content, category, distance in results:\n",
    "    print(f\"ID: {doc_id}, 距离: {distance:.4f}, 类别: {category}, 内容: {content}\")"
   ]
  },
  {
   "cell_type": "markdown",
   "id": "a624706d",
   "metadata": {},
   "source": [
    "可以手动使用vec_distance_L2()、vec_distance_L1()或vec_distance_cosine()，并通过ORDER BY子句执行暴力KNN查询。\n",
    "select\n",
    "  id,\n",
    "  contents,\n",
    "  vec_distance_L2(contents_embedding, '[2.2, 2.2, 2.2, 2.2]') as distance\n",
    "from documents\n",
    "order by distance;\n"
   ]
  },
  {
   "cell_type": "code",
   "execution_count": 18,
   "id": "f8326d0d",
   "metadata": {},
   "outputs": [],
   "source": [
    "# 试试使用vec_distance_cosine函数\n",
    "def knn_with_cosine_distance(cursor, query_embedding, k=3, category=None):\n",
    "    \"\"\"执行KNN搜索\"\"\"\n",
    "    # 使用vec0虚拟表\n",
    "    query_json = json.dumps(query_embedding.tolist())\n",
    "    if category:\n",
    "        cursor.execute(\"\"\"\n",
    "        SELECT document_id, original_content, category, vec_distance_cosine(content_embedding, ?) AS distance\n",
    "        FROM vec_documents \n",
    "        WHERE content_embedding MATCH ? AND k = ? AND category = ?\n",
    "        \"\"\", (query_json, query_json, k, category))\n",
    "    else:\n",
    "        cursor.execute(\"\"\"\n",
    "        SELECT document_id, original_content, category, vec_distance_cosine(content_embedding, ?) AS distance\n",
    "        FROM vec_documents \n",
    "        WHERE content_embedding MATCH ? AND k = ?\n",
    "        \"\"\", (query_json, query_json, k))\n",
    "    \n",
    "    return [(row[0], row[1], row[2], row[3]) for row in cursor.fetchall()]"
   ]
  },
  {
   "cell_type": "code",
   "execution_count": 19,
   "id": "e58f703f",
   "metadata": {},
   "outputs": [
    {
     "name": "stdout",
     "output_type": "stream",
     "text": [
      "查询：'数据库技术与应用'的最近3个结果（使用vec_distance_cosine函数）:\n",
      "ID: 3, 距离: 0.4323, 类别: 数据库, 内容: 向量数据库可以高效存储和检索向量数据\n",
      "ID: 8, 距离: 0.4413, 类别: 数据, 内容: 大数据分析需要高效的数据存储和处理\n",
      "ID: 4, 距离: 0.4911, 类别: 数据库, 内容: SQLite是一个轻量级的关系型数据库\n"
     ]
    }
   ],
   "source": [
    "# 试试knn_with_cosine_distance\n",
    "results = knn_with_cosine_distance(cursor, query_embedding, k)\n",
    "print(f\"查询：'{query_text}'的最近{k}个结果（使用vec_distance_cosine函数）:\")\n",
    "for doc_id, content, category, distance in results:\n",
    "    print(f\"ID: {doc_id}, 距离: {distance:.4f}, 类别: {category}, 内容: {content}\")"
   ]
  },
  {
   "cell_type": "code",
   "execution_count": null,
   "id": "d812d818",
   "metadata": {},
   "outputs": [
    {
     "ename": "OperationalError",
     "evalue": "no such column: distance",
     "output_type": "error",
     "traceback": [
      "\u001b[1;31m---------------------------------------------------------------------------\u001b[0m",
      "\u001b[1;31mOperationalError\u001b[0m                          Traceback (most recent call last)",
      "Cell \u001b[1;32mIn[55], line 4\u001b[0m\n\u001b[0;32m      1\u001b[0m \u001b[38;5;66;03m# 执行KNN查询\u001b[39;00m\n\u001b[0;32m      2\u001b[0m k \u001b[38;5;241m=\u001b[39m \u001b[38;5;241m3\u001b[39m\n\u001b[1;32m----> 4\u001b[0m results \u001b[38;5;241m=\u001b[39m \u001b[43mknn_search\u001b[49m\u001b[43m(\u001b[49m\u001b[43mno_vec0_cursor\u001b[49m\u001b[43m,\u001b[49m\u001b[43mquery_embedding\u001b[49m\u001b[43m,\u001b[49m\u001b[43m \u001b[49m\u001b[43mk\u001b[49m\u001b[43m)\u001b[49m\n\u001b[0;32m      5\u001b[0m \u001b[38;5;66;03m# 会报错，因为没有插件OperationalError: no such column: distance\u001b[39;00m\n\u001b[0;32m      7\u001b[0m \u001b[38;5;28mprint\u001b[39m(\u001b[38;5;124mf\u001b[39m\u001b[38;5;124m\"\u001b[39m\u001b[38;5;124m查询：\u001b[39m\u001b[38;5;124m'\u001b[39m\u001b[38;5;132;01m{\u001b[39;00mquery_text\u001b[38;5;132;01m}\u001b[39;00m\u001b[38;5;124m'\u001b[39m\u001b[38;5;124m的最近\u001b[39m\u001b[38;5;132;01m{\u001b[39;00mk\u001b[38;5;132;01m}\u001b[39;00m\u001b[38;5;124m个结果:\u001b[39m\u001b[38;5;124m\"\u001b[39m)\n",
      "Cell \u001b[1;32mIn[52], line 13\u001b[0m, in \u001b[0;36mknn_search\u001b[1;34m(cursor, query_embedding, k, category)\u001b[0m\n\u001b[0;32m      7\u001b[0m     cursor\u001b[38;5;241m.\u001b[39mexecute(\u001b[38;5;124m\"\"\"\u001b[39m\n\u001b[0;32m      8\u001b[0m \u001b[38;5;124m    SELECT document_id, original_content, category, distance\u001b[39m\n\u001b[0;32m      9\u001b[0m \u001b[38;5;124m    FROM vec_documents \u001b[39m\n\u001b[0;32m     10\u001b[0m \u001b[38;5;124m    WHERE content_embedding MATCH ? AND k = ? AND category = ?\u001b[39m\n\u001b[0;32m     11\u001b[0m \u001b[38;5;124m    \u001b[39m\u001b[38;5;124m\"\"\"\u001b[39m, (query_json, k, category))\n\u001b[0;32m     12\u001b[0m \u001b[38;5;28;01melse\u001b[39;00m:\n\u001b[1;32m---> 13\u001b[0m     \u001b[43mcursor\u001b[49m\u001b[38;5;241;43m.\u001b[39;49m\u001b[43mexecute\u001b[49m\u001b[43m(\u001b[49m\u001b[38;5;124;43m\"\"\"\u001b[39;49m\n\u001b[0;32m     14\u001b[0m \u001b[38;5;124;43m    SELECT document_id, original_content, category, distance\u001b[39;49m\n\u001b[0;32m     15\u001b[0m \u001b[38;5;124;43m    FROM vec_documents \u001b[39;49m\n\u001b[0;32m     16\u001b[0m \u001b[38;5;124;43m    WHERE content_embedding MATCH ? AND k = ?\u001b[39;49m\n\u001b[0;32m     17\u001b[0m \u001b[38;5;124;43m    \u001b[39;49m\u001b[38;5;124;43m\"\"\"\u001b[39;49m\u001b[43m,\u001b[49m\u001b[43m \u001b[49m\u001b[43m(\u001b[49m\u001b[43mquery_json\u001b[49m\u001b[43m,\u001b[49m\u001b[43m \u001b[49m\u001b[43mk\u001b[49m\u001b[43m)\u001b[49m\u001b[43m)\u001b[49m\n\u001b[0;32m     19\u001b[0m \u001b[38;5;28;01mreturn\u001b[39;00m [(row[\u001b[38;5;241m0\u001b[39m], row[\u001b[38;5;241m1\u001b[39m], row[\u001b[38;5;241m2\u001b[39m], row[\u001b[38;5;241m3\u001b[39m]) \u001b[38;5;28;01mfor\u001b[39;00m row \u001b[38;5;129;01min\u001b[39;00m cursor\u001b[38;5;241m.\u001b[39mfetchall()]\n",
      "\u001b[1;31mOperationalError\u001b[0m: no such column: distance"
     ]
    }
   ],
   "source": [
    "\n",
    "# 执行KNN查询\n",
    "k = 3\n",
    "\n",
    "results = knn_search(no_vec0_cursor,query_embedding, k)\n",
    "# 会报错，因为没有插件OperationalError: no such column: distance\n",
    "\n",
    "print(f\"查询：'{query_text}'的最近{k}个结果:\")\n",
    "for doc_id, content, category, distance in results:\n",
    "    print(f\"ID: {doc_id}, 距离: {distance:.4f}, 类别: {category}, 内容: {content}\")"
   ]
  },
  {
   "cell_type": "code",
   "execution_count": null,
   "id": "2b001b8f",
   "metadata": {},
   "outputs": [
    {
     "ename": "OperationalError",
     "evalue": "no such column: k",
     "output_type": "error",
     "traceback": [
      "\u001b[1;31m---------------------------------------------------------------------------\u001b[0m",
      "\u001b[1;31mOperationalError\u001b[0m                          Traceback (most recent call last)",
      "Cell \u001b[1;32mIn[56], line 6\u001b[0m\n\u001b[0;32m      2\u001b[0m k \u001b[38;5;241m=\u001b[39m \u001b[38;5;241m3\u001b[39m\n\u001b[0;32m      3\u001b[0m \u001b[38;5;66;03m# 我们继续试试没有distance的查询，同样报错：OperationalError: no such column: k，\u001b[39;00m\n\u001b[0;32m      4\u001b[0m \u001b[38;5;66;03m# 其实是由于没有插件的时候match的执行顺序已经变了，\u001b[39;00m\n\u001b[0;32m      5\u001b[0m \u001b[38;5;66;03m# 所以导致了没有distance的查询，但是我们删掉了distance，还是存在其他的错误，比如不支持k参数等等，所以我们可以手动实现一个\u001b[39;00m\n\u001b[1;32m----> 6\u001b[0m results \u001b[38;5;241m=\u001b[39m \u001b[43mno_vec0_knn_search\u001b[49m\u001b[43m(\u001b[49m\u001b[43mno_vec0_cursor\u001b[49m\u001b[43m,\u001b[49m\u001b[43mquery_embedding\u001b[49m\u001b[43m,\u001b[49m\u001b[43m \u001b[49m\u001b[43mk\u001b[49m\u001b[43m)\u001b[49m\n\u001b[0;32m      7\u001b[0m \u001b[38;5;28mprint\u001b[39m(\u001b[38;5;124mf\u001b[39m\u001b[38;5;124m\"\u001b[39m\u001b[38;5;124m查询：\u001b[39m\u001b[38;5;124m'\u001b[39m\u001b[38;5;132;01m{\u001b[39;00mquery_text\u001b[38;5;132;01m}\u001b[39;00m\u001b[38;5;124m'\u001b[39m\u001b[38;5;124m的最近\u001b[39m\u001b[38;5;132;01m{\u001b[39;00mk\u001b[38;5;132;01m}\u001b[39;00m\u001b[38;5;124m个结果:\u001b[39m\u001b[38;5;124m\"\u001b[39m)\n\u001b[0;32m      8\u001b[0m \u001b[38;5;28;01mfor\u001b[39;00m doc_id, content, category \u001b[38;5;129;01min\u001b[39;00m results:\n",
      "Cell \u001b[1;32mIn[52], line 34\u001b[0m, in \u001b[0;36mno_vec0_knn_search\u001b[1;34m(cursor, query_embedding, k, category)\u001b[0m\n\u001b[0;32m     28\u001b[0m     cursor\u001b[38;5;241m.\u001b[39mexecute(\u001b[38;5;124m\"\"\"\u001b[39m\n\u001b[0;32m     29\u001b[0m \u001b[38;5;124m    SELECT document_id, original_content, category\u001b[39m\n\u001b[0;32m     30\u001b[0m \u001b[38;5;124m    FROM vec_documents \u001b[39m\n\u001b[0;32m     31\u001b[0m \u001b[38;5;124m    WHERE content_embedding MATCH ? AND k = ? AND category = ?\u001b[39m\n\u001b[0;32m     32\u001b[0m \u001b[38;5;124m    \u001b[39m\u001b[38;5;124m\"\"\"\u001b[39m, (query_json, k, category))\n\u001b[0;32m     33\u001b[0m \u001b[38;5;28;01melse\u001b[39;00m:\n\u001b[1;32m---> 34\u001b[0m     \u001b[43mcursor\u001b[49m\u001b[38;5;241;43m.\u001b[39;49m\u001b[43mexecute\u001b[49m\u001b[43m(\u001b[49m\u001b[38;5;124;43m\"\"\"\u001b[39;49m\n\u001b[0;32m     35\u001b[0m \u001b[38;5;124;43m    SELECT document_id, original_content, category\u001b[39;49m\n\u001b[0;32m     36\u001b[0m \u001b[38;5;124;43m    FROM vec_documents \u001b[39;49m\n\u001b[0;32m     37\u001b[0m \u001b[38;5;124;43m    WHERE content_embedding MATCH ? AND k = ?\u001b[39;49m\n\u001b[0;32m     38\u001b[0m \u001b[38;5;124;43m    \u001b[39;49m\u001b[38;5;124;43m\"\"\"\u001b[39;49m\u001b[43m,\u001b[49m\u001b[43m \u001b[49m\u001b[43m(\u001b[49m\u001b[43mquery_json\u001b[49m\u001b[43m,\u001b[49m\u001b[43m \u001b[49m\u001b[43mk\u001b[49m\u001b[43m)\u001b[49m\u001b[43m)\u001b[49m\n\u001b[0;32m     40\u001b[0m \u001b[38;5;28;01mreturn\u001b[39;00m [(row[\u001b[38;5;241m0\u001b[39m], row[\u001b[38;5;241m1\u001b[39m], row[\u001b[38;5;241m2\u001b[39m], row[\u001b[38;5;241m3\u001b[39m]) \u001b[38;5;28;01mfor\u001b[39;00m row \u001b[38;5;129;01min\u001b[39;00m cursor\u001b[38;5;241m.\u001b[39mfetchall()]\n",
      "\u001b[1;31mOperationalError\u001b[0m: no such column: k"
     ]
    }
   ],
   "source": [
    "# 执行KNN查询\n",
    "k = 3\n",
    "# 我们继续试试没有distance的查询，同样报错：OperationalError: no such column: k，\n",
    "# 其实是由于没有插件的时候match的执行顺序已经变了，\n",
    "# 所以导致了没有distance的查询，但是我们删掉了distance，还是存在其他的错误，比如不支持k参数等等，所以我们可以手动实现一个\n",
    "results = no_vec0_knn_search(no_vec0_cursor,query_embedding, k)\n",
    "print(f\"查询：'{query_text}'的最近{k}个结果:\")\n",
    "for doc_id, content, category in results:\n",
    "    print(f\"ID: {doc_id}, 类别: {category}, 内容: {content}\")"
   ]
  },
  {
   "cell_type": "code",
   "execution_count": null,
   "id": "e2d2a151",
   "metadata": {},
   "outputs": [],
   "source": [
    "def no_vec0_knn_search(cursor, query_embedding, k=3, category=None):\n",
    "    \"\"\"手动实现KNN搜索，针对没有vec0插件的情况\"\"\"\n",
    "    results = []\n",
    "    \n",
    "    # 构建查询SQL\n",
    "    if category:\n",
    "        query = \"SELECT document_id, original_content, category, content_embedding FROM vec_documents WHERE category = ?\"\n",
    "        cursor.execute(query, (category,))\n",
    "    else:\n",
    "        query = \"SELECT document_id, original_content, category, content_embedding FROM vec_documents\"\n",
    "        cursor.execute(query)\n",
    "    \n",
    "    # 处理每一行数据\n",
    "    for row in cursor.fetchall():\n",
    "        doc_id, content, doc_category, embedding_bytes = row\n",
    "        try:\n",
    "        \n",
    "            # 使用pickle反序列化embedding\n",
    "            doc_embedding = pickle.loads(embedding_bytes)\n",
    "            \n",
    "            # 计算余弦相似度\n",
    "            similarity = cosine_similarity([query_embedding], [doc_embedding])[0][0]\n",
    "            # 计算距离（1 - 相似度，使得值越小越相似）\n",
    "            distance = 1 - similarity\n",
    "            results.append((doc_id, content, doc_category, distance))\n",
    "        except Exception as e:\n",
    "            print(f\"Error processing embedding for doc_id {doc_id}: {e}\")\n",
    "            continue\n",
    "    \n",
    "    # 排序并返回前k个结果\n",
    "    results.sort(key=lambda x: x[3])  # 按距离排序\n",
    "    return results[:k]\n"
   ]
  },
  {
   "cell_type": "code",
   "execution_count": null,
   "id": "d061116e",
   "metadata": {},
   "outputs": [
    {
     "name": "stdout",
     "output_type": "stream",
     "text": [
      "查询：'数据库技术与应用'的最近3个结果:\n",
      "ID: 3, 距离: 0.4323, 类别: 数据库, 内容: 向量数据库可以高效存储和检索向量数据\n",
      "ID: 8, 距离: 0.4413, 类别: 数据, 内容: 大数据分析需要高效的数据存储和处理\n",
      "ID: 4, 距离: 0.4911, 类别: 数据库, 内容: SQLite是一个轻量级的关系型数据库\n"
     ]
    }
   ],
   "source": [
    "# 重新试试检索\n",
    "results = no_vec0_knn_search(no_vec0_cursor,query_embedding, k)\n",
    "print(f\"查询：'{query_text}'的最近{k}个结果:\")\n",
    "for doc_id, content, category, distance in results:\n",
    "    print(f\"ID: {doc_id}, 距离: {distance:.4f}, 类别: {category}, 内容: {content}\")\n"
   ]
  },
  {
   "cell_type": "markdown",
   "id": "88dc5d2c",
   "metadata": {},
   "source": [
    "1. <https://alexgarcia.xyz/blog/2024/building-new-vector-search-sqlite/index.html>\n",
    "2. <https://github.com/asg017/sqlite-vss/blob/main/README.md>\n",
    "3. <https://github.com/asg017/sqlite-vec/tree/main>\n",
    "4. <https://alexgarcia.xyz/sqlite-vec/features/knn.html>\n"
   ]
  },
  {
   "cell_type": "markdown",
   "id": "d2780fed",
   "metadata": {},
   "source": []
  }
 ],
 "metadata": {
  "kernelspec": {
   "display_name": "SmartImageFinder",
   "language": "python",
   "name": "python3"
  },
  "language_info": {
   "codemirror_mode": {
    "name": "ipython",
    "version": 3
   },
   "file_extension": ".py",
   "mimetype": "text/x-python",
   "name": "python",
   "nbconvert_exporter": "python",
   "pygments_lexer": "ipython3",
   "version": "3.10.16"
  }
 },
 "nbformat": 4,
 "nbformat_minor": 5
}
