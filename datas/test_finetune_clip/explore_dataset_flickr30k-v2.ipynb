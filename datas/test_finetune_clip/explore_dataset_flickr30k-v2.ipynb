{
 "cells": [
  {
   "cell_type": "code",
   "execution_count": 1,
   "id": "6a81b03b",
   "metadata": {},
   "outputs": [
    {
     "name": "stderr",
     "output_type": "stream",
     "text": [
      "/home/xiaoke/miniconda3/envs/clip/lib/python3.10/site-packages/tqdm/auto.py:21: TqdmWarning: IProgress not found. Please update jupyter and ipywidgets. See https://ipywidgets.readthedocs.io/en/stable/user_install.html\n",
      "  from .autonotebook import tqdm as notebook_tqdm\n",
      "Repo card metadata block was not found. Setting CardData to empty.\n",
      "Repo card metadata block was not found. Setting CardData to empty.\n"
     ]
    }
   ],
   "source": [
    "from datasets import load_dataset\n",
    "\n",
    "\n",
    "\n",
    "# 加载数据集\n",
    "ds = load_dataset(\"WhereIsAI/flickr30k-v2\")\n"
   ]
  },
  {
   "cell_type": "code",
   "execution_count": 2,
   "id": "e86749b4",
   "metadata": {},
   "outputs": [
    {
     "data": {
      "text/plain": [
       "DatasetDict({\n",
       "    train: Dataset({\n",
       "        features: ['image', 'caption', 'sentids', 'split', 'img_id', 'filename'],\n",
       "        num_rows: 31014\n",
       "    })\n",
       "})"
      ]
     },
     "execution_count": 2,
     "metadata": {},
     "output_type": "execute_result"
    }
   ],
   "source": [
    "ds"
   ]
  },
  {
   "cell_type": "markdown",
   "id": "ea68572d",
   "metadata": {},
   "source": [
    "### 数据字段说明\n",
    "- image: 图像对象（Pillow Image）或其可解码内容。\n",
    "- caption: 长度为 5 的英文描述列表，每个元素是一句完整自然语言描述。\n",
    "- sentids: 与 caption 中各描述对应的索引列表（字符串形式 '0'~'4'）。\n",
    "- split: 数据划分标记（train / validation / test）。\n",
    "- img_id: 图像的整数 ID（与数据集内部顺序对应）。\n",
    "- filename: 原始图像文件名（用于定位磁盘资源）。\n"
   ]
  },
  {
   "cell_type": "markdown",
   "id": "a8571e09",
   "metadata": {},
   "source": [
    "### 读取数据的方式说明\n",
    "- 使用 datasets.load_dataset(\"WhereIsAI/flickr30k-v2\") 加载数据集并赋值给变量（例如 ds）。\n",
    "- 访问划分：ds['train']、ds['validation'] 或 ds['test']（视数据集提供的划分而定）。\n",
    "- 访问单条样本：record = ds['train'][i]，record 中包含字段 image、image_id、captions 等。\n",
    "- 读取图片：若 image 为文件路径，使用 PIL.Image.open(record['image'])；若为二进制或数组，直接传入模型或转换为 PIL/ndarray。\n",
    "- 读取描述：captions 字段为列表，可用 record['captions'][j] 取得第 j 条描述。\n",
    "\n"
   ]
  },
  {
   "cell_type": "code",
   "execution_count": 3,
   "id": "7f81a7a5",
   "metadata": {},
   "outputs": [
    {
     "data": {
      "text/plain": [
       "DatasetDict({\n",
       "    train: Dataset({\n",
       "        features: ['image', 'caption', 'sentids', 'split', 'img_id', 'filename'],\n",
       "        num_rows: 24811\n",
       "    })\n",
       "    test: Dataset({\n",
       "        features: ['image', 'caption', 'sentids', 'split', 'img_id', 'filename'],\n",
       "        num_rows: 6203\n",
       "    })\n",
       "})"
      ]
     },
     "execution_count": 3,
     "metadata": {},
     "output_type": "execute_result"
    }
   ],
   "source": [
    "## 我们这里的数据集只有train数据集，所以我们需要在train的基础上进行数据集划分\n",
    "train_testvalid = ds[\"train\"].train_test_split(test_size=0.2, seed=42) # 先划分出20%的数据作为测试和验证集\n",
    "train_testvalid # 这里的test还需要进一步划分成test和validation，不能直接用\n"
   ]
  },
  {
   "cell_type": "code",
   "execution_count": 4,
   "id": "df6ff648",
   "metadata": {},
   "outputs": [
    {
     "data": {
      "text/plain": [
       "DatasetDict({\n",
       "    train: Dataset({\n",
       "        features: ['image', 'caption', 'sentids', 'split', 'img_id', 'filename'],\n",
       "        num_rows: 3101\n",
       "    })\n",
       "    test: Dataset({\n",
       "        features: ['image', 'caption', 'sentids', 'split', 'img_id', 'filename'],\n",
       "        num_rows: 3102\n",
       "    })\n",
       "})"
      ]
     },
     "execution_count": 4,
     "metadata": {},
     "output_type": "execute_result"
    }
   ],
   "source": [
    "test_valid = train_testvalid[\"test\"].train_test_split(test_size=0.5, seed=42) # 再将测试和验证集各自划分一半\n",
    "test_valid # 这里的train和test分别是test和validation"
   ]
  },
  {
   "cell_type": "code",
   "execution_count": 5,
   "id": "8572b5bf",
   "metadata": {},
   "outputs": [],
   "source": [
    "ds = {}\n",
    "ds[\"train\"] = train_testvalid[\"train\"]\n",
    "ds[\"test\"] = test_valid[\"test\"]\n",
    "ds[\"validation\"] = test_valid[\"train\"]"
   ]
  },
  {
   "cell_type": "code",
   "execution_count": 6,
   "id": "e0a0523c",
   "metadata": {},
   "outputs": [
    {
     "data": {
      "text/plain": [
       "{'image': <PIL.JpegImagePlugin.JpegImageFile image mode=RGB size=333x500>,\n",
       " 'caption': ['A group of people, mostly children, are playing in a shallow wading pool.',\n",
       "  \"Children play in a shallow pool next to a large image of a girl's face.\",\n",
       "  'A group of girls are playing in a water fountain in the sun.',\n",
       "  \"A large display of a child's face over a water park.\",\n",
       "  'A group of children are getting wet in a park.'],\n",
       " 'sentids': ['116190', '116191', '116192', '116193', '116194'],\n",
       " 'split': 'val',\n",
       " 'img_id': '23238',\n",
       " 'filename': '4823906931.jpg'}"
      ]
     },
     "execution_count": 6,
     "metadata": {},
     "output_type": "execute_result"
    }
   ],
   "source": [
    "# 我们来看看test的具体内容是什么格式的。\n",
    "ds[\"test\"][0]"
   ]
  },
  {
   "cell_type": "code",
   "execution_count": null,
   "id": "5fb2db82",
   "metadata": {},
   "outputs": [],
   "source": []
  }
 ],
 "metadata": {
  "kernelspec": {
   "display_name": "clip",
   "language": "python",
   "name": "python3"
  },
  "language_info": {
   "codemirror_mode": {
    "name": "ipython",
    "version": 3
   },
   "file_extension": ".py",
   "mimetype": "text/x-python",
   "name": "python",
   "nbconvert_exporter": "python",
   "pygments_lexer": "ipython3",
   "version": "3.10.18"
  }
 },
 "nbformat": 4,
 "nbformat_minor": 5
}
