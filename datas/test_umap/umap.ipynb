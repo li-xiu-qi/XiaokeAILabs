{
 "cells": [
  {
   "cell_type": "markdown",
   "id": "e32640fc",
   "metadata": {},
   "source": [
    "# UMAP 降维示例\n",
    "本示例生成带有标签的100维合成向量，首先使用PCA投影到2D进行可视化（代表原始100D数据的粗略2D视图），然后使用UMAP降维到3维，并使用3D散点图进行可视化。\n",
    "\n",
    "所需库：numpy, scikit-learn, umap-learn, plotly, pandas。如果环境中缺少，请在笔记本中安装它们。"
   ]
  },
  {
   "cell_type": "code",
   "execution_count": 11,
   "id": "8d71bc12",
   "metadata": {},
   "outputs": [
    {
     "name": "stdout",
     "output_type": "stream",
     "text": [
      "X shape: (400, 100) labels shape: (400,)\n"
     ]
    },
    {
     "data": {
      "application/vnd.plotly.v1+json": {
       "config": {
        "plotlyServerURL": "https://plot.ly"
       },
       "data": [
        {
         "hovertemplate": "label=0<br>PCA1=%{x}<br>PCA2=%{y}<extra></extra>",
         "legendgroup": "0",
         "marker": {
          "color": "#636efa",
          "symbol": "circle"
         },
         "mode": "markers",
         "name": "0",
         "orientation": "v",
         "showlegend": true,
         "type": "scatter",
         "x": {
          "bdata": "Jy199BrlMkBSMKQaQ/w0QNzQwTWWmDRAqV4CNJYJNUDGEZ/yi9kzQCdoyly1fzZABSnJlSKJNECxSyMu3/k2QO4WINlOxjRA47BUKFKLNUBpyR/gISQ3QF6SelDR7DZATost3Sr7M0Ae4ZjTCyQ3QNYw2wjcwjVAqSRGPWQFNkAkHSnEq3I1QOgCCqaW8TVAPT03/vz8NEB2lbKjZd41QPqveg6KVTVAMTny/cvqNEBBiqVYwGs2QBrDaaqL6zZA+uU76G5TNEBpZSQgVQ02QGs0Gd54iTVAg6jA3fTgNECOsetKXSA1QHAT1WViDThAc4Ipe6udNkCXTNFCZwA5QI54RnF34DVAcAim98XyNkDZyKrYpDk1QJ/roSxHiTdAEUhcbQ3hN0AA2Ke4M9I1QHCjZDBpJTVAZQXRt3XPNUAeQvLVaJo1QAwRAS1cRTRAuLedHeLQNECwnSO9axo2QGbVKusaXjVA8gRN+9efNEBvTbzKtsg0QOR+aCrQfDZAKbSiSd2xNkB+57wK2Xk0QKtvXbvk7zVAKN+cWnOSN0CleA6ixqU2QOl60E/2IDdAskhvRtTfNUBLhsO/yC82QDOV3KTfSTRAx8He5xBqNEBO9dqwW0g2QGVLibR9QjRAdsetArnyNEDzJ/8/cGE2QIAFEo9l+TVAhVWf5rPqNUCX5c7ZJro2QMrcYkG8ZzVAUVBogdlDN0BZEHgLZzg1QL+5L9fw4DZAzp5t7SH2NkBy+zExqQM2QDLxldYG3TZAASzs4fxSNkDW8X412h02QHh2zm9uSjVA0HjDRhvUNUC6sDRfeLE1QOZyW96u5zVAL81LxxYWNUBF8owmoPo2QCe26znJJjdA+sRSefadNUAVaHyZOHY1QISME5LkqTRAKX2R3Ll7NUAUlJ8hYMY1QE2vT1UrLzZAntXrQOeKNkA/A/wzhsw3QLv+Cb3QiTVAb3nlWTEENkAAbAvylEA1QJOXgRJnYzZAxISIGyEBNEACbAEJu8A1QJoNyuf4wjRAgpenS7QkNkASfyTgogI2QDZwz1vSaDRANdFcZAGdNUA=",
          "dtype": "f8"
         },
         "xaxis": "x",
         "y": {
          "bdata": "5YRdES5NMsB6WiZcqsYxwMlVPKEfnDPAMzHlEe2UM8B1QZL/7840wIT7937POjPAi+egCG4eMsDTRrmVY9szwHVNRGC03DLAz68Ce0INM8BDaLn9BfoywHhbYNSBwDLA2kU5GXCOM8A+vwqwDVcywPQf+eDjyzPAdFb2wuNqMsAxD6RmxcMywLhrRdegTTPAOtl1ESECNcA7ezfG7iEywKiYcihoijPAHcegItgpMsDQdwrh2HsxwPaFwXaPvTLAm9b7lvFTMcCi3wih/rkywI8wMTam/TLA0NAdsMqyNMAuIzEd8WUzwBMpIhylNTLAr5PI8O7wMcCjczvJyzAzwMScYaEuUDLAGCOb5YDiM8AYDXPyYRs0wHGPcEjSgzLAJamKvZ6OMsDi/qNGisszwHycDpknPDPA8jdzIZu6M8CSAhcfax4ywI9uO7/etzPA5oVpH3BhM8DcOYC5PMwywJS9tYuvPzLAqu41UcWYMcDPZG06QYozwMdqDem5UjPAHF/hNfA2M8AaWwNjJFczwONI+8dbejPAOQPXgo/LMsD6Y2gZFK0zwK0oVnCttjLAhMItnzbuMMAJfwy9KmoywDmvAovj2zPA0t6vgFkuMsCyqvBM6+oxwJffITUT1THA144TXkUxM8B9z4PUB9YxwBHxLVR+0zLAQe3z9L2fM8AVOk8LJW00wNNlnYh9KzHAHebVFhl2MsCF3EgiXwAxwLLo4szqMjLAnvgDzsCcM8D00xVZpA0ywGbbu3JFNjLAiBj04imDMsCLHNjUnbAywE1Bva1TCDPAMXC0E24+MsB01tRVKeczwAUMEmRyZTTA7KtQA8phM8Bw5W6GqT0zwLq9AOAKzDPAJUlMPdaMM8AhwOBbEoUywFuaPnEnQDHAtb3DxY4EM8BjNz4X80YzwFLaoEvraDLAOsrFFjR3McCCaf22le0ywMWexn4bEjPAzYAbBMOjMsDON/1eafUywOZHcBBZrTLAq9NPxKVqNMBFkauKPQEzwB2pfQe8PTLAN8bq4+beMsANoW2R70w0wM4UHXLOcTPAsruZRNBgM8A=",
          "dtype": "f8"
         },
         "yaxis": "y"
        },
        {
         "hovertemplate": "label=1<br>PCA1=%{x}<br>PCA2=%{y}<extra></extra>",
         "legendgroup": "1",
         "marker": {
          "color": "#EF553B",
          "symbol": "circle"
         },
         "mode": "markers",
         "name": "1",
         "orientation": "v",
         "showlegend": true,
         "type": "scatter",
         "x": {
          "bdata": "7081Mo/NQMAih6lWl8k/wCbbQfetL0DAVRJxwJkdQcALk1VfgA5AwChTH9EZZj7A9r1QG0kIQMBEG8E+a9VAwIw1w+xtBkDAMFrbPdupQMC7258dASRAwE8wf+sXOj/ANHU+MgiCP8CAnadxhrZAwEWTZUogy0DACEMDV8XpQMATb+y7KcFAwAIWu0Tulj/Aah8FT09LQcD4umvOjpE/wJ1D/2aFjkDA+vszQEGRQMAQVMvJwFlAwFjul/cICkHASLmppz+nQMDdXDaLxTI/wCbcsacrekDAFi7gXD1bQMDR/sKmva4/wDnIwNDRQEDAscNofEDqQMAjJbttazhAwPqRUfJ/ZUHAD/Le6JNkQMAaxJG7RR9AwJt8bU4JuD/A+7mJxVRJP8A0iSnmuEI/wNjL1Uqq20DADaOhNoIpQMAxb6AYmBhAwNj4ECcEsUDAmPIe6z70PsAG253tqZlAwAeyjeZ1bUDATqxQHiUrQcCFl5PaMANBwHi/IpBFZEDARDVjl0uSQMAGoZ0S29o/wGdxaH2Ljz/Ac7BPOA8qQMDTNtNGEQpAwNb8Zs/fs0DAx7rftzIYQcBMU0DWeMo/wNnK63jxfkHA3Cb3dFghQMAX39igXEFAwMAioh5Tpz/AqQR1cxM/PsAzFGyYBb1AwK0dMGL7XUDAQwM/GrZxQMD15xJgwDVAwEoOpQPJX0DAbHuviBJqP8D9XqFB340/wCuQfp63ej/AQfQ0kgHlQMCaHQ4vN4E/wLO5DNah0T/AWearbZGsQMAPTBaS3N9AwGyAeRDLMz7Awnx3NZesQMCa6KR07Fw/wFnhQRmE4j/AXYLSxBsuQMAOZ3BHPTVAwPiV1DLDLkDAerqU9kbEP8AYMuViMgxAwPFZInuskEDABeSfQf29P8ATNXSmTAZAwNz6IexFmj/AP5mUrdiVP8AvgMkD1+BAwCn7aJpYcUDAIRa0UjSTQMBsiyKNNuM/wPAQVThd9UDAh/OLyq4CQcA9ParEu9U/wPaZIs25yj7Ah+HvkTUAQMCajH7zpphAwO+6YHkjNEDA4QtMiBdDQcA=",
          "dtype": "f8"
         },
         "xaxis": "x",
         "y": {
          "bdata": "+MkReK4kOMDtpi5PX0E4wPVcPt7kAzjAIsMcK+cyOMC0dhYUeqc2wM7vQAbdbTjAHQCRMYz3OcD691R5LuA4wC/ijf3yyTfA+9i6EetgOcCWaRLmFdM6wDBqksEBnjfAXvrXPOdiOcDEeYiqxj83wDsJKO5/4zXAh2UQH2lOOcDJIh+4Gho4wKyycloRQznAXw/X8Pi0OcCAx+MgiBM6wCo9+eYMjDfAnlc/+C9AN8AHrnx2wyU4wJPf5ZdthDjAEqxklUFhN8BUZZVjIHo3wIdAad2tijfAxYw0bfSbN8AEboIVoJY5wNAuPzdpDTjAzZ8ir/UrOsAJuHKNpWc3wNLiNQ5TITjAjuyBWZeiN8CzBOljM5Q4wGHkUHEPzzjAxOy0SdsHN8DqGipK1sQ5wGnkKhz3ZDfAIjlDJxCwOMAnxh/3xFA4wHy54uEi1jjACyq+xq+JOcAK3HLt+IM6wKXtc6XUSTnAj3+JajzWN8BZrgAVkpY4wAafQ9SjLjfAocEtD94IOMC3CFOT86w4wFMKSG8LPTjA0mepKj67OcB9LcjwYwg5wHVSH2ae2zbAltDErsq5OcAqRrCFS7U5wBSC2fJNLDjAgUnbAD/VNsCWr8XnFKY3wLj+3AdmDzjA+TP+JJnsNsAMKfvB7Wo6wEK6AjNdIDjA8rRFY8MuOMDeupcb1yQ5wMHEdTbO/TjAPa/lheWoOMAGNXzYx6E5wLc4fpjSDjjANCnC5Gn7N8AtFGkFEKs4wPmCq81EBzfAsNZYzCN+OcCM/S3kWBo4wO+lT8iMwznANFBcL47TN8BFi+gkEH03wALGKchnAzjAfpx3dBvROcCTlDpl6MI3wJIgbp68fDnA0kaWt3XcN8A+4SAKkwg5wBN9XeKFbDnAlzT7pZehNcDkhPlTce44wH9vqhCbWDrAiJzMCbM8OMB+j7YllEs4wKppWtfk2zjAb6L3Z+HBOMAYktvdknU3wHrTc2teejrAfOZQqcmJOMADriDfXo04wBWSlHh9ojfAp1kKclpqN8Dl1BF8vSQ4wFPl+ftzYzfAnZPxDcIFN8A=",
          "dtype": "f8"
         },
         "yaxis": "y"
        },
        {
         "hovertemplate": "label=2<br>PCA1=%{x}<br>PCA2=%{y}<extra></extra>",
         "legendgroup": "2",
         "marker": {
          "color": "#00cc96",
          "symbol": "circle"
         },
         "mode": "markers",
         "name": "2",
         "orientation": "v",
         "showlegend": true,
         "type": "scatter",
         "x": {
          "bdata": "A1z+xV37P0Cc482l7Ck+QEiNUQ2BZz5ArBkIEXi8PkBJTA+6vBU+QL3x3CS//T5AdwXvWcOpP0Ch/0zp3I0+QMkkYXlJgD5AG6bULotKQECPKHZ0USxAQN3VjcYXUT5ATNE6euuWP0AdyRYcH58/QFbHwicpQ0BAlqHju9GLPkA2gmIbp1w/QJ6/C+ybZT9A60GhHD0WP0AviogfP+I/QOnV6U8qbz5AuHZZtPsFP0AqQlXN+jc+QF8YBjEDUz9AQ2Um/dDEPkDeatJGRJI+QEl7zOoW2j9A2ctxPzk+QEAgMmk/xYw/QNm9Sj4/9D9AyhyVoPTIPkD2OpM9r2Q/QJ8aoR49AD5Aj880hrWcQEDheL9H6ARAQOFtXtdAJj9AtnKege5UPkBC4RO+/7M+QNXsy5dXRj9AcvbXEXfEPkBSq42Rf0JAQKrYde2EqT9Am+Qa/6grQEDHpq3Qxmo+QHumMA8UnUBAIsg21gcaQEB54uIotMM/QGwaPNo9FEBAwqmgsCenPUA//3PKQh0/QPAM+SJ2pT9AmQDLafm/PUCB2ujekpw/QP/UGW3swz9A0iweZp0aQECjNVBunTE9QFs6EHMn0T1A744XcJiZP0A1wJIr6i5AQLQn61iDWj9A/1BEXPbaP0C8xLtwbf4/QHQHnYqzpD5A27+sLjHAP0AUrQJ9Eew+QJ4H+xSZZUBASbve8Qg0P0AwS3TdP9k/QJHgZ9rEhj5A/fPNesGpPkBedhTKgjhAQF+xqk/3az5AcnCuJOWpP0CY9MJIxOU+QPKaIr5IVD5A1YcAW6LoPUD8+5I5Ugc+QD2dj2g9yD9A7m7g8PUmPUDtqudKBA9AQLJ/Ri1RuT9AUtqszZCEPkAArjd6rEU/QDM0OdkOBkBA+X6Yk3/CPkBHEBSDeR0+QIj6VA+3t0BA10ZOIJwjPUC1H9JWWWY+QFV42QvNjT5A+bfOKPvfPkDivza7V1I+QIDhtBiGbj5ASlOHX9WWPkBCV/3VeDE/QK+hdveVhz9AtafD4DWePkC4feUeAuE9QP2KwMU6jz9Aus3zcZ2YPUA=",
          "dtype": "f8"
         },
         "xaxis": "x",
         "y": {
          "bdata": "uzugNGSHIkBFozt5isIkQHQjnxa3GyNAYAyhFGgFIkBF8jDzkn8jQHJ5qW+6/SBANtVa1IPwKEC2Vmu6issgQF/sR/yLESZAPrbvnH0zJECZAnzWVEwiQL9QiHIeriJAIxWY25OaI0DC3LS4PYsjQP1kzqOHjSBAVZQTwfDpJEB/ysbtMA8nQDI+izVEoyBAZEZympV3IkAXEj0gRk0iQLdACh/rDSJAWGO6eV2ZIEDM/AmfS6UiQKKMG6WipSZAPrJQgtpIIkB+vciOGPcnQPvqQH7pZx9ApnJYDHhrI0B/TXE4tIojQDlBG9ltTCJAM88Rrg2JI0AZmTx7eLciQLvgJjxd2CVAvbM+wTzJIkDksIzbbW8hQEkvPYGMYiJAOks6/miLI0CNnxBuh98hQKw+sMv6jh9AAImguT1/H0C2abcBL2EjQKopmQLliSNA1qlkvjfLH0C9Arv2vDAkQE6MpZAwHSBACko25zWEIkB0CxrnTYgkQDpUMjSNIydA/ny19VijJUCYINT2C/AhQPA+sY3jQSRAVTezQiWbI0BmNpL+KiQhQJFzvAJ+KCJA57izzNf+JUDfj8GYmDYlQCZ371kL5iNAmu+Uyh/tI0CZOLROIF0lQO1v3aopDSNAc3+8OEqYJUCjzYzJWXoiQKMlj+r69yJADhaev/jUJUBpaD1Aw0AjQCEsNzgbxyRAzcoiSLbBJEDj88jC1uwoQDASCdpYHiJA/uM2BkYdJUCYOf2Q02siQOn4KQ9A9CNAi1C/aaJSJkA2BKhDW84hQC5vnYYy2SFAgs3fs9QSI0CzBemmheEjQFihRDlZgSVAjc6IxZvOIUC1KMF+3NcjQDyzCYEzjCVAq622phuPJ0AX7Kfolp4iQAYyKTP7EyFAL8fsmlgkJUA2TTWycmkjQJz2kS+uqCJAfJgCL9MII0A9ues3OTskQKdBjOz0CSVAW3EKft0dIUB3JzHXgHwjQG+C2tyNsCNAq0buUSrSIEDYX/k2FdMjQPJBhWEaUiJAS/pn0mpsIEAZV2HuItAiQCNVP2x/sCNAvBRbKaZpJUA=",
          "dtype": "f8"
         },
         "yaxis": "y"
        },
        {
         "hovertemplate": "label=3<br>PCA1=%{x}<br>PCA2=%{y}<extra></extra>",
         "legendgroup": "3",
         "marker": {
          "color": "#ab63fa",
          "symbol": "circle"
         },
         "mode": "markers",
         "name": "3",
         "orientation": "v",
         "showlegend": true,
         "type": "scatter",
         "x": {
          "bdata": "gC51qiLcNcD1PNU/algzwKNtFjKGBzXA9hBn4EnoM8DZMGDDN/MywG25IhL6RzbA64SJ/wlSM8DiBSPvt3UzwJadvhfWrjXAX4OWUkrEM8BUxrwkHaIywLIGBeovzTPA3urirhe1M8AlGGyYYUA0wB9ogSygGzXAL4Ioj35SNcCkEKB74/c0wLeTGJ1N2zLAARcGMDZbNcBQdNvMrrUxwBO+1kaazzPAEqRXvNa7M8Cxpew2dNQzwNyocCwL8TTAt5gncg1dNMB4a6ikmio0wJN3eh5YwTTAQThGZg2KN8AFkIKpoWo1wNxuiHQGiDPAcRaeoPaDNMBf4B1soG01wIUHP7bE5DTA1d/b93ZvNMC8ZZ+HC0U0wNqeMgPSFjXA+Tm9ZM95NMDfda5JAjQzwJWVQ68GUjPA3NdOFYUGNcAG1Tj3mqAzwAFTO8kOqDXApM5w3PRFNcAcKK34/jI1wL7UqmypqjPAMAEXouZnNcCR1nv2YNg1wLRBqkWTBzTA8geuP5KMNMCfDHyJvRYzwN9vCw1gnjPAgZe1KWI6NMCv9uWBK9QzwFxE992IqTPAYxvcbaviNMCzd5tmRB0zwDSrV78B7TPAVbq4EYkqNcDqb7mBGk01wOUHQAfXazPAHcgVAGY+NcA8nq3ksHczwI1hqI6J0TTA5PUdBYSpM8BIS1Hek+AzwGkoJfmnWjPAOCNRmhXpNcB4/fNgUZg1wJR0/FP6mDPAZZAijZDRM8D8hSy4oEc1wJ8rbfu9oTPASpSPetR3NMCoPQXEE+s1wFHhOCGeljTAtrT9k7aONMBT6AoEQnAywIwGojMbKDXACvGWAVgNNcBjoLqukVs2wF8V7zWRcjTA6YFM4janM8DHoPkTEs8zwB3YP1upzTTAOXK38Q2oNMBvh5YMstczwFc6sS5fxTPAbCJhF6ogM8ATcNeQU+I2wFO1rypJkzTAHcdfUI5sNcBuMkV9WgIzwNFm/k2MPzXAJjlOncAaNMCly8jUGIE0wIBAZkUVZzTAbtLlI/Z/NMA/RxOS0OMywIrqsVC3hDPArq/CThKTNcA=",
          "dtype": "f8"
         },
         "xaxis": "x",
         "y": {
          "bdata": "9b5U6aFIQUCQqD3u2/xAQAM6PVNQnUBAdZXRtvYKQUBb8DveEW1BQCYt7G4EQUFArRFj1WkuQEA518x6C5VAQLJLbyn1AUFAz43B05PmQEDTc4ciBHlAQNbDxcn9eUFA+XGMyxzzQEArEWbMujtBQK0dGCpDbkBAKvbqNOtVQUDuPx91IGdAQGOB1HZVnkBAO8AyaHygQEC63uDA2xxBQDLmCROAoUFAWoOUJ/afQUBoNYrjaCJBQH4h5bKyfkBAyUKo9AUGQUCf3rveUABAQOrV1GyHqEFApFuZ58aFQECJXkQVdyxBQAVV6GSUgUBA8qleX2tCQUCFsoK30HNBQGQn7SiJBUJAlnaleBaEQECE+XToNNxAQPLgMWGHyUBAsLAk0gq3QECA30paXwtAQKIQRiDXOUBA95RogXPuP0Ajjk1EVPU/QLlPTZzZxUFAmj+8f40vQEAmDd5gcIJAQGJBdUP6+j9AO2q6AFORQUAO9OTOavpAQKk9luaodUFA7EkdLPvCQEA1Biv8KVFAQMEZyktryUBAWr/m7anEQEB/RFszKVxAQLUg/vbfVUFAtyl59r+1QUD1s0/rzkxBQN9vcZHy1UBAtGom2arXQECzSvYDn/hAQGe3BgZ1mkBApqgZtGsYQUDfSxZpz4RAQHGAcFqmCUFAQA1jFQR/QEDWYoHjQUlAQO8nYkdC+EBA3owl+6EQQUCrTij1pDRAQKg2VNIYDUFAsFD5HGaeQEA2ATjE72pAQF+YE+MpikBAEAIabXMnQEBHJfRFR5k/QFJW4J3ErUBARD9vuZj5QEC+br2ZC2tBQM6R7C0nbUBASA6NXa8cQUBIURg4VgxBQJaniVwpQUFAS1MlxFbmQEA+JMoFhR1BQARG0iNJMUFAtTfzTqiIQECv0nCYKntAQNJrCAhfOkBAT2QMvDKVQEC+RMeOZYFAQF0mmZrgoUBArU/Lq36mQEBa/2bkz2xBQLdeg858jkBAMcPtJ41IQEDhe3xg5XpAQApatZlTzUBAeVyg/rZ8QUA2JN6cmyRBQPq8pd/4S0BAE1BSloA/QEA=",
          "dtype": "f8"
         },
         "yaxis": "y"
        }
       ],
       "layout": {
        "legend": {
         "title": {
          "text": "label"
         },
         "tracegroupgap": 0
        },
        "template": {
         "data": {
          "bar": [
           {
            "error_x": {
             "color": "#2a3f5f"
            },
            "error_y": {
             "color": "#2a3f5f"
            },
            "marker": {
             "line": {
              "color": "#E5ECF6",
              "width": 0.5
             },
             "pattern": {
              "fillmode": "overlay",
              "size": 10,
              "solidity": 0.2
             }
            },
            "type": "bar"
           }
          ],
          "barpolar": [
           {
            "marker": {
             "line": {
              "color": "#E5ECF6",
              "width": 0.5
             },
             "pattern": {
              "fillmode": "overlay",
              "size": 10,
              "solidity": 0.2
             }
            },
            "type": "barpolar"
           }
          ],
          "carpet": [
           {
            "aaxis": {
             "endlinecolor": "#2a3f5f",
             "gridcolor": "white",
             "linecolor": "white",
             "minorgridcolor": "white",
             "startlinecolor": "#2a3f5f"
            },
            "baxis": {
             "endlinecolor": "#2a3f5f",
             "gridcolor": "white",
             "linecolor": "white",
             "minorgridcolor": "white",
             "startlinecolor": "#2a3f5f"
            },
            "type": "carpet"
           }
          ],
          "choropleth": [
           {
            "colorbar": {
             "outlinewidth": 0,
             "ticks": ""
            },
            "type": "choropleth"
           }
          ],
          "contour": [
           {
            "colorbar": {
             "outlinewidth": 0,
             "ticks": ""
            },
            "colorscale": [
             [
              0,
              "#0d0887"
             ],
             [
              0.1111111111111111,
              "#46039f"
             ],
             [
              0.2222222222222222,
              "#7201a8"
             ],
             [
              0.3333333333333333,
              "#9c179e"
             ],
             [
              0.4444444444444444,
              "#bd3786"
             ],
             [
              0.5555555555555556,
              "#d8576b"
             ],
             [
              0.6666666666666666,
              "#ed7953"
             ],
             [
              0.7777777777777778,
              "#fb9f3a"
             ],
             [
              0.8888888888888888,
              "#fdca26"
             ],
             [
              1,
              "#f0f921"
             ]
            ],
            "type": "contour"
           }
          ],
          "contourcarpet": [
           {
            "colorbar": {
             "outlinewidth": 0,
             "ticks": ""
            },
            "type": "contourcarpet"
           }
          ],
          "heatmap": [
           {
            "colorbar": {
             "outlinewidth": 0,
             "ticks": ""
            },
            "colorscale": [
             [
              0,
              "#0d0887"
             ],
             [
              0.1111111111111111,
              "#46039f"
             ],
             [
              0.2222222222222222,
              "#7201a8"
             ],
             [
              0.3333333333333333,
              "#9c179e"
             ],
             [
              0.4444444444444444,
              "#bd3786"
             ],
             [
              0.5555555555555556,
              "#d8576b"
             ],
             [
              0.6666666666666666,
              "#ed7953"
             ],
             [
              0.7777777777777778,
              "#fb9f3a"
             ],
             [
              0.8888888888888888,
              "#fdca26"
             ],
             [
              1,
              "#f0f921"
             ]
            ],
            "type": "heatmap"
           }
          ],
          "histogram": [
           {
            "marker": {
             "pattern": {
              "fillmode": "overlay",
              "size": 10,
              "solidity": 0.2
             }
            },
            "type": "histogram"
           }
          ],
          "histogram2d": [
           {
            "colorbar": {
             "outlinewidth": 0,
             "ticks": ""
            },
            "colorscale": [
             [
              0,
              "#0d0887"
             ],
             [
              0.1111111111111111,
              "#46039f"
             ],
             [
              0.2222222222222222,
              "#7201a8"
             ],
             [
              0.3333333333333333,
              "#9c179e"
             ],
             [
              0.4444444444444444,
              "#bd3786"
             ],
             [
              0.5555555555555556,
              "#d8576b"
             ],
             [
              0.6666666666666666,
              "#ed7953"
             ],
             [
              0.7777777777777778,
              "#fb9f3a"
             ],
             [
              0.8888888888888888,
              "#fdca26"
             ],
             [
              1,
              "#f0f921"
             ]
            ],
            "type": "histogram2d"
           }
          ],
          "histogram2dcontour": [
           {
            "colorbar": {
             "outlinewidth": 0,
             "ticks": ""
            },
            "colorscale": [
             [
              0,
              "#0d0887"
             ],
             [
              0.1111111111111111,
              "#46039f"
             ],
             [
              0.2222222222222222,
              "#7201a8"
             ],
             [
              0.3333333333333333,
              "#9c179e"
             ],
             [
              0.4444444444444444,
              "#bd3786"
             ],
             [
              0.5555555555555556,
              "#d8576b"
             ],
             [
              0.6666666666666666,
              "#ed7953"
             ],
             [
              0.7777777777777778,
              "#fb9f3a"
             ],
             [
              0.8888888888888888,
              "#fdca26"
             ],
             [
              1,
              "#f0f921"
             ]
            ],
            "type": "histogram2dcontour"
           }
          ],
          "mesh3d": [
           {
            "colorbar": {
             "outlinewidth": 0,
             "ticks": ""
            },
            "type": "mesh3d"
           }
          ],
          "parcoords": [
           {
            "line": {
             "colorbar": {
              "outlinewidth": 0,
              "ticks": ""
             }
            },
            "type": "parcoords"
           }
          ],
          "pie": [
           {
            "automargin": true,
            "type": "pie"
           }
          ],
          "scatter": [
           {
            "fillpattern": {
             "fillmode": "overlay",
             "size": 10,
             "solidity": 0.2
            },
            "type": "scatter"
           }
          ],
          "scatter3d": [
           {
            "line": {
             "colorbar": {
              "outlinewidth": 0,
              "ticks": ""
             }
            },
            "marker": {
             "colorbar": {
              "outlinewidth": 0,
              "ticks": ""
             }
            },
            "type": "scatter3d"
           }
          ],
          "scattercarpet": [
           {
            "marker": {
             "colorbar": {
              "outlinewidth": 0,
              "ticks": ""
             }
            },
            "type": "scattercarpet"
           }
          ],
          "scattergeo": [
           {
            "marker": {
             "colorbar": {
              "outlinewidth": 0,
              "ticks": ""
             }
            },
            "type": "scattergeo"
           }
          ],
          "scattergl": [
           {
            "marker": {
             "colorbar": {
              "outlinewidth": 0,
              "ticks": ""
             }
            },
            "type": "scattergl"
           }
          ],
          "scattermap": [
           {
            "marker": {
             "colorbar": {
              "outlinewidth": 0,
              "ticks": ""
             }
            },
            "type": "scattermap"
           }
          ],
          "scattermapbox": [
           {
            "marker": {
             "colorbar": {
              "outlinewidth": 0,
              "ticks": ""
             }
            },
            "type": "scattermapbox"
           }
          ],
          "scatterpolar": [
           {
            "marker": {
             "colorbar": {
              "outlinewidth": 0,
              "ticks": ""
             }
            },
            "type": "scatterpolar"
           }
          ],
          "scatterpolargl": [
           {
            "marker": {
             "colorbar": {
              "outlinewidth": 0,
              "ticks": ""
             }
            },
            "type": "scatterpolargl"
           }
          ],
          "scatterternary": [
           {
            "marker": {
             "colorbar": {
              "outlinewidth": 0,
              "ticks": ""
             }
            },
            "type": "scatterternary"
           }
          ],
          "surface": [
           {
            "colorbar": {
             "outlinewidth": 0,
             "ticks": ""
            },
            "colorscale": [
             [
              0,
              "#0d0887"
             ],
             [
              0.1111111111111111,
              "#46039f"
             ],
             [
              0.2222222222222222,
              "#7201a8"
             ],
             [
              0.3333333333333333,
              "#9c179e"
             ],
             [
              0.4444444444444444,
              "#bd3786"
             ],
             [
              0.5555555555555556,
              "#d8576b"
             ],
             [
              0.6666666666666666,
              "#ed7953"
             ],
             [
              0.7777777777777778,
              "#fb9f3a"
             ],
             [
              0.8888888888888888,
              "#fdca26"
             ],
             [
              1,
              "#f0f921"
             ]
            ],
            "type": "surface"
           }
          ],
          "table": [
           {
            "cells": {
             "fill": {
              "color": "#EBF0F8"
             },
             "line": {
              "color": "white"
             }
            },
            "header": {
             "fill": {
              "color": "#C8D4E3"
             },
             "line": {
              "color": "white"
             }
            },
            "type": "table"
           }
          ]
         },
         "layout": {
          "annotationdefaults": {
           "arrowcolor": "#2a3f5f",
           "arrowhead": 0,
           "arrowwidth": 1
          },
          "autotypenumbers": "strict",
          "coloraxis": {
           "colorbar": {
            "outlinewidth": 0,
            "ticks": ""
           }
          },
          "colorscale": {
           "diverging": [
            [
             0,
             "#8e0152"
            ],
            [
             0.1,
             "#c51b7d"
            ],
            [
             0.2,
             "#de77ae"
            ],
            [
             0.3,
             "#f1b6da"
            ],
            [
             0.4,
             "#fde0ef"
            ],
            [
             0.5,
             "#f7f7f7"
            ],
            [
             0.6,
             "#e6f5d0"
            ],
            [
             0.7,
             "#b8e186"
            ],
            [
             0.8,
             "#7fbc41"
            ],
            [
             0.9,
             "#4d9221"
            ],
            [
             1,
             "#276419"
            ]
           ],
           "sequential": [
            [
             0,
             "#0d0887"
            ],
            [
             0.1111111111111111,
             "#46039f"
            ],
            [
             0.2222222222222222,
             "#7201a8"
            ],
            [
             0.3333333333333333,
             "#9c179e"
            ],
            [
             0.4444444444444444,
             "#bd3786"
            ],
            [
             0.5555555555555556,
             "#d8576b"
            ],
            [
             0.6666666666666666,
             "#ed7953"
            ],
            [
             0.7777777777777778,
             "#fb9f3a"
            ],
            [
             0.8888888888888888,
             "#fdca26"
            ],
            [
             1,
             "#f0f921"
            ]
           ],
           "sequentialminus": [
            [
             0,
             "#0d0887"
            ],
            [
             0.1111111111111111,
             "#46039f"
            ],
            [
             0.2222222222222222,
             "#7201a8"
            ],
            [
             0.3333333333333333,
             "#9c179e"
            ],
            [
             0.4444444444444444,
             "#bd3786"
            ],
            [
             0.5555555555555556,
             "#d8576b"
            ],
            [
             0.6666666666666666,
             "#ed7953"
            ],
            [
             0.7777777777777778,
             "#fb9f3a"
            ],
            [
             0.8888888888888888,
             "#fdca26"
            ],
            [
             1,
             "#f0f921"
            ]
           ]
          },
          "colorway": [
           "#636efa",
           "#EF553B",
           "#00cc96",
           "#ab63fa",
           "#FFA15A",
           "#19d3f3",
           "#FF6692",
           "#B6E880",
           "#FF97FF",
           "#FECB52"
          ],
          "font": {
           "color": "#2a3f5f"
          },
          "geo": {
           "bgcolor": "white",
           "lakecolor": "white",
           "landcolor": "#E5ECF6",
           "showlakes": true,
           "showland": true,
           "subunitcolor": "white"
          },
          "hoverlabel": {
           "align": "left"
          },
          "hovermode": "closest",
          "mapbox": {
           "style": "light"
          },
          "paper_bgcolor": "white",
          "plot_bgcolor": "#E5ECF6",
          "polar": {
           "angularaxis": {
            "gridcolor": "white",
            "linecolor": "white",
            "ticks": ""
           },
           "bgcolor": "#E5ECF6",
           "radialaxis": {
            "gridcolor": "white",
            "linecolor": "white",
            "ticks": ""
           }
          },
          "scene": {
           "xaxis": {
            "backgroundcolor": "#E5ECF6",
            "gridcolor": "white",
            "gridwidth": 2,
            "linecolor": "white",
            "showbackground": true,
            "ticks": "",
            "zerolinecolor": "white"
           },
           "yaxis": {
            "backgroundcolor": "#E5ECF6",
            "gridcolor": "white",
            "gridwidth": 2,
            "linecolor": "white",
            "showbackground": true,
            "ticks": "",
            "zerolinecolor": "white"
           },
           "zaxis": {
            "backgroundcolor": "#E5ECF6",
            "gridcolor": "white",
            "gridwidth": 2,
            "linecolor": "white",
            "showbackground": true,
            "ticks": "",
            "zerolinecolor": "white"
           }
          },
          "shapedefaults": {
           "line": {
            "color": "#2a3f5f"
           }
          },
          "ternary": {
           "aaxis": {
            "gridcolor": "white",
            "linecolor": "white",
            "ticks": ""
           },
           "baxis": {
            "gridcolor": "white",
            "linecolor": "white",
            "ticks": ""
           },
           "bgcolor": "#E5ECF6",
           "caxis": {
            "gridcolor": "white",
            "linecolor": "white",
            "ticks": ""
           }
          },
          "title": {
           "x": 0.05
          },
          "xaxis": {
           "automargin": true,
           "gridcolor": "white",
           "linecolor": "white",
           "ticks": "",
           "title": {
            "standoff": 15
           },
           "zerolinecolor": "white",
           "zerolinewidth": 2
          },
          "yaxis": {
           "automargin": true,
           "gridcolor": "white",
           "linecolor": "white",
           "ticks": "",
           "title": {
            "standoff": 15
           },
           "zerolinecolor": "white",
           "zerolinewidth": 2
          }
         }
        },
        "title": {
         "text": "PCA 2D of 100-d data (for visualization)"
        },
        "xaxis": {
         "anchor": "y",
         "domain": [
          0,
          1
         ],
         "title": {
          "text": "PCA1"
         }
        },
        "yaxis": {
         "anchor": "x",
         "domain": [
          0,
          1
         ],
         "title": {
          "text": "PCA2"
         }
        }
       }
      }
     },
     "metadata": {},
     "output_type": "display_data"
    },
    {
     "data": {
      "image/png": "[encoded data removed]",
      "text/plain": [
       "<Figure size 600x500 with 1 Axes>"
      ]
     },
     "metadata": {},
     "output_type": "display_data"
    }
   ],
   "source": [
    "# 如果你需要安装依赖，请取消下一行注释并运行（在 Jupyter 中）：\n",
    "# !pip install numpy scikit-learn umap-learn plotly pandas\n",
    "\n",
    "import numpy as np\n",
    "import pandas as pd\n",
    "from sklearn.decomposition import PCA\n",
    "from umap import UMAP\n",
    "import plotly.express as px\n",
    "import matplotlib.pyplot as plt\n",
    "\n",
    "# 生成合成数据：100 维，2 个簇，每簇 100 个样本（共 200）\n",
    "rng = np.random.RandomState(42)\n",
    "n_clusters = 2\n",
    "n_per_cluster = 100\n",
    "n_samples = n_clusters * n_per_cluster # 200\n",
    "n_features = 100\n",
    "centers = rng.normal(scale=5.0, size=(n_clusters, n_features))  # 2 个中心\n",
    "X = np.zeros((n_samples, n_features))\n",
    "y = np.zeros(n_samples, dtype=int)\n",
    "for i in range(n_clusters):\n",
    "    start = i * n_per_cluster\n",
    "    end = start + n_per_cluster\n",
    "    X[start:end] = centers[i] + rng.normal(scale=1.0, size=(n_per_cluster, n_features))\n",
    "    y[start:end] = i\n",
    "\n",
    "print('X shape:', X.shape, 'labels shape:', y.shape)\n",
    "\n",
    "# 使用 PCA 将 100 维投影到 2D 用作“原始空间的可视化”\n",
    "pca = PCA(n_components=2, random_state=42)\n",
    "X_pca2 = pca.fit_transform(X)\n",
    "df_pca = pd.DataFrame(X_pca2, columns=['PCA1','PCA2'])\n",
    "df_pca['label'] = y.astype(str)\n",
    "\n",
    "fig = px.scatter(df_pca, x='PCA1', y='PCA2', color='label', title='PCA 2D of 100-d data (for visualization)')\n",
    "fig.show()\n",
    "\n",
    "# 也用 matplotlib 简单显示（可选）\n",
    "plt.figure(figsize=(6,5))\n",
    "scatter = plt.scatter(X_pca2[:,0], X_pca2[:,1], c=y, cmap='tab10', s=12)\n",
    "plt.xlabel('PCA1')\n",
    "plt.ylabel('PCA2')\n",
    "plt.title('PCA 2D (matplotlib)')\n",
    "plt.show()"
   ]
  },
  {
   "cell_type": "code",
   "execution_count": 12,
   "id": "ffc2ebb0",
   "metadata": {},
   "outputs": [
    {
     "name": "stderr",
     "output_type": "stream",
     "text": [
      "c:\\Users\\ke\\miniconda3\\envs\\data_process\\lib\\site-packages\\umap\\umap_.py:1952: UserWarning:\n",
      "\n",
      "n_jobs value 1 overridden to 1 by setting random_state. Use no seed for parallelism.\n",
      "\n"
     ]
    },
    {
     "name": "stdout",
     "output_type": "stream",
     "text": [
      "UMAP 3D result shape: (400, 3)\n"
     ]
    },
    {
     "data": {
      "application/vnd.plotly.v1+json": {
       "config": {
        "plotlyServerURL": "https://plot.ly"
       },
       "data": [
        {
         "hovertemplate": "label=0<br>UMAP1=%{x}<br>UMAP2=%{y}<br>UMAP3=%{z}<extra></extra>",
         "legendgroup": "0",
         "marker": {
          "color": "#636efa",
          "opacity": 0.8,
          "symbol": "circle"
         },
         "mode": "markers",
         "name": "0",
         "scene": "scene",
         "showlegend": true,
         "type": "scatter3d",
         "x": {
          "bdata": "YY6rQc0Gq0E3o61Bq6unQaocrkGFHqpBztetQarsqEHGDqtBoWapQQuurUFPia9B92muQVdSrUGCX6lBQ2enQZuXrkEKGrBBNOuqQV4KrUFy361B9NunQaROrEFh4q1BMy+tQTi1rEH+iq1Bw+ytQQaCrUHeRKhB2g2qQdEiqUGInqhB1YGvQQEirkFJ/adBhraoQcDIrUEY561B5zSvQWPSq0GJSq1BwqqrQYj9qUFDPa9B0QuvQdwGqkFgyatBOMSpQZUDqkEHnatBixGqQQ1uqUFxTalB1mKsQWAOrEE/SKxBcISrQWWnqEEcYKxBW+GvQU77qEFk7ahBMquwQQbwq0HA5q1BplOnQWRTqUELzadB3XWrQS4pr0GRdqhBy2+qQWskrEGKsqtB80esQeJxrUFjuq1BAI2uQWiVrkGV6alBfPynQQoUrEEEiq9BqwSqQaT+rUF7MKdBKxirQTx1p0Fgl6tBHYuwQUu4q0F//69BEcqsQVuop0GTGqxB+X6rQZvyr0FfBqhBeo6oQQ==",
          "dtype": "f4"
         },
         "y": {
          "bdata": "UGeqQAqosEB1PZ1Akam1QDxjpUBkFp9AIdOnQGsDokA6jrZAilmtQJ0Gu0Bn96FAsFmoQF3qvEBd1b1AfjayQD5vwkAeJbJAPF+2QNCem0BvNq9ALtKqQALJtEDY2Z1A4h+yQHj5sEBEGMBAA2S+QE7moEBn665ASXq4QISovEBOubNAWcOfQOpUwUAM0a1ABHy8QObLoEBrjqJA2LO5QHeVvUD6JKdAoKejQFi0mkBIJa1AvkC6QBAzp0DedplA0/W3QLWwqEDFRcFAVYazQNsiukBPIaZAoyarQLDBq0DzWqdANEefQOkNukDix6FAvGixQPMbn0Dwp6ZA0UyzQCfOw0C1YcBAj/SxQO1VuEDwSKVAPEu7QEPirkAsXKxAy7ulQDvEm0Deyp9AYyqzQMbGvkCyBrlAdVK9QPTdn0Axh7ZAEginQKyYvUAKnaxArqCjQGu2tkDKo7lA/bObQIMVs0Ab4cFAz6y2QHuclkDH87JAwLq3QIeusUCLba1AiVapQMsqsUCqjLBAzA2/QA==",
          "dtype": "f4"
         },
         "z": {
          "bdata": "TvBeQOo9dUBRVnxA4zBaQNkhh0C1ulZAGmFnQL4ce0BgC0ZARj98QPHegEA95HhA/bNRQB1hZkCAoFFAQklRQEamZEDIB2hAUlplQCzabUCgw4NAW+hsQNrQdkARomFASuFSQK/HTUAyGXVAofNXQNvqSkADjYBAkzRTQPvchEDTO11AE7VvQBVbfkB44oRA6FqAQGtcT0AkhYRAnJpcQLgFfEBuDnZAMd6AQIt7VkDjz2hARPaEQNM7ZEDRCl9AC5ViQEwiUkAbsYBAyKOGQORmdEDPP11AcUSAQBaAjEDsaYxA3Gx0QLpMgkDh43JA5EN9QMLhaUB+D0VAhfyBQC65dEA/DlJA5TdwQOJJP0Dv5mJAxMtRQN7EXEC+YoZAsQ9qQEiZb0DxYH5AWQtxQG7rZUCW23pAs718QG82XUDNpWZAgKBMQILMRUCP9IBA5z9vQCdudEDyJVZAqiVTQCMAg0BOX1pA75B5QMu2VUBdxHZAxb9UQGkBVEBvPUdALGeJQLvJhEBOGoBAUXtuQA==",
          "dtype": "f4"
         }
        },
        {
         "hovertemplate": "label=1<br>UMAP1=%{x}<br>UMAP2=%{y}<br>UMAP3=%{z}<extra></extra>",
         "legendgroup": "1",
         "marker": {
          "color": "#EF553B",
          "opacity": 0.8,
          "symbol": "circle"
         },
         "mode": "markers",
         "name": "1",
         "scene": "scene",
         "showlegend": true,
         "type": "scatter3d",
         "x": {
          "bdata": "FbSLP5BXRT9mrMA/H8UjP8xtmT8C7fU+29AvPzzhFT+z3LM/KN2oP2dRmD+n7HE/0qtZP/tJLT/9x5o/7YWIP6p2tD9byIc/+AGDP/NSmj9pHgg/5FqaP8l6jD8ZaqE/CzCkP5B8Wz8B0Z8/t6yXP4wOoT8JTsY/Bo3TP0QDjD+KT6M/B82+P3qryj+0tq8/7FbMPwrNcT9Bg0E/pubIP/pArz9IMq4/mvHkP6W/ez8cd38/QW5wP7PEjj9m0o0/yaRiP4e+Aj97ugU/lYF9P5IQyT82fa4/vy2DPzoxFT/Ynro/azRtPwebhz8/mno/y3YaP0Fuwj/ZzOk+F/ekP4k11T4jjkk/HIfBP/z33j4egIA/47h2P9ulLz+uA98/4mJ5P1j0tT+Q7UM/MCKQP5jNtj/TMds/9K1AP2XzxT9OVJ0/t6uEPxp+gj9AaYQ/zcf0Pq6cqD9o9rg/R3gSP+yVRj/ooJw/MwkEP3aMTz+E4MY/OBpgP5558j8RQNQ/y6CXP/3Uuz/Nkc8/5kiLPw==",
          "dtype": "f4"
         },
         "y": {
          "bdata": "L0c1QQZdLkEf2zJBvoAzQRfMM0FXnS9BtYE0QbQWMUEmjzFBf4YqQRQ9MkEEZztBZd0uQVZhMEFzhDZBBX8xQQ6iMEHUwi5Be+g3QdJ4L0FdJDZB9ZI6QRg2OkH2Fy5BH+UvQR/TN0HUESpBSaczQXqmLEG0lzBBLPouQawdPUGPzC9Bgjo2QdkvK0GiJSpB1sg1QTmXNEFtbTZB5FU0QSJPPkHB7DZBA6Y3QXgfNUGyWCpBdLs1QSdrLUHGzDFBZGQrQbkNLEHxiS9BgO0vQVrbMUH4xjxBBMgmQZ2rLEHw0TxBlkA4QZoPK0Evci9BrRAyQdhMMkGn5DJBptI1QVdNNUHjKDdBjmIzQZu3N0HjhitB+X0oQdnML0GssDVBgPMqQeKbPUGIaylBPXA5QfmxK0F+Py1B/rk3QQr/LUHT+DVBrBA1QcAqNUF6DSxBzl8uQbgqMEEBVy1BLlouQU/RJkEEvS5B6go3Qa6YK0Hr8ixBLokyQV8BMkFNUy5BdXo2QXw6LkEnwThBrxo4QQ==",
          "dtype": "f4"
         },
         "z": {
          "bdata": "H8YrwL5u/b/SNPS/3Srhv42dAsDeXw3AyasUwBQm7b/BKwHALIMUwDCF2b+0JP+/6QTVvyZgLcDdRxXAciUswNsOJMADB+K/iSogwIGi2L+Q0BHAgjQRwOxxG8CRowzA79MmwJWQ77/KgRTAczImwJYn8b9vKhzAzckZwFceFMDgUTDA5t8MwHsxEsCtLwvAqKYAwBiN1r/cexnAb0P2v+pSEMDmzRvA5jUAwFLXBsA8jOm/MA8XwAMdEsC5vyzA6r4ywIiAGcAoNSfAsSTsv9cqG8DcLgvAnkAKwGVbBMDUmwPA3AYowE8VKsD5IAPADPkCwHNm/7/+shLAxuIiwH8MCcC5nCHAWOXYv4rLA8ByRum/Z3X0vwJLHMDR6gTAsTblv/c7DcCv1RbAsIgAwDE9FMA9BxvAdwAUwDeaAMBZbOu/oAgQwN7hCMCMqfe/ZHcFwNlGA8Dw/Me/SSQlwPMRC8AnjB/ARbL5v7eEB8APeh7AeVDGv6V6B8Dd/RLAMzgJwI1nx79/xvC/OpYuwA==",
          "dtype": "f4"
         }
        },
        {
         "hovertemplate": "label=2<br>UMAP1=%{x}<br>UMAP2=%{y}<br>UMAP3=%{z}<extra></extra>",
         "legendgroup": "2",
         "marker": {
          "color": "#00cc96",
          "opacity": 0.8,
          "symbol": "circle"
         },
         "mode": "markers",
         "name": "2",
         "scene": "scene",
         "showlegend": true,
         "type": "scatter3d",
         "x": {
          "bdata": "qg5+wIxskMDMs4nA9PyGwKGEicA8q3rANuSIwHO+h8BEnILAHy1/wMMfi8CacGzA5EyTwAz5gMBaJJHA1u2AwMHtgMAEq4/Ay3qMwGbRiMBuVmrAq9V2wEAxhMA/c2/AKqd0wIKQgcBTBGzAGhiSwKwrk8BdcX3AbeSFwNt4iMBSkYHAkQWYwNehjsDZon3A+DeEwD8/jMC91ZTAJG58wA4kg8CPnHvAeu6WwBDNcMA36ZDAq9txwDAXkMCXUIPAteSUwKHRicALmo7AZXuCwA9amMAJfIPANveDwNcziMDVXoDAGT1twC9eisB0kITAU9uXwDX2lsDliYHAnyuSwLOyg8D2743AiEWawHCCeMCFVHnA0eiPwP18i8BRrZnAqWiUwEqmfsDlR4PAW2OHwCR+dMDJ2ZHAgv6IwIymmMDRoJHAzo6FwN6AjsCpppnAPC+PwCqWbsBU64nAM4qEwJjSgcCNWHzA9OtmwEA7c8CzMGvAApR9wM8uiMCqfITAUt2DwLgRdcBLy2nAkTF8wA==",
          "dtype": "f4"
         },
         "y": {
          "bdata": "isCDQMdfjUC58W9AgBKRQODhaUA01nBAbJWLQJ7ZVkDl34FA8PBrQHJRg0D/VYdAPOFsQNBUZED53YlAYhNXQJbzeUAohXJAT3yGQNMnf0Cjnn9AzRxfQFi+VkAmIGZATKGAQOm/hUAvrIRASzaKQLL6iUBKB4ZAiaNRQKmHWUD5wFZAq2J8QEuUhUCRt2dAcF6JQPb/bECTS1lA+fqGQLh1c0DHaYtA/mVlQC2Pg0CdeXlABJl3QFtch0BkGIhAitldQHa7jEAnpIlAsVpOQIdWh0BBGHNAZd9LQE/PXECOBlJAH+CBQELOj0BumGxA/3WCQNHiX0DayF5A7kN7QJ6hjEB1a4JAMqx1QOLCZUDgLH1A4+iLQD3miECqzIJAf2qNQHLIikBA745AE81NQFcKX0D+L29AYU9mQK6LfEDXGHJAB8KMQO1gbkDH2HJASgpyQHDPhUDJrmpAQrKBQLYGWUDOcIBAUqeGQBEqiUAKVYRAT0luQEA5kUAfWIJATwVmQOs7ZEBXEYRA2e9OQA==",
          "dtype": "f4"
         },
         "z": {
          "bdata": "de67QDMt0UBFirxAqNfQQNDwvEBHodRAl3G+QF1YvEDLVbxAiaDTQPoM0kDdpsxAza3NQHgtvkArXMtA4MvIQNhkzEDSdtVAi37PQGnJx0BWedBAKjbTQON4y0AcjL5AE/y2QPBxvUD6w9FAzgC8QDia1EDUVc5AlJXCQCIb0EDglb9ANzfNQAYhxkBgXrZACXLFQMRTuEBwOcxAntbTQB6+x0Cu0MFAU07JQL50ykDb3M5AWsjEQIGtzUBkh7RAnW7SQJjTyUBEWM9A68zTQPeh1UBoK9xAOpfWQLdBzkAvf8JAQqPCQJUKxEDTVcRA5IPCQOWE0EAaksNAXLe7QLyHykA4NLtAy03TQO63u0AK/7ZAE0q/QLCH3EDiqthAcATGQGde2EDgyddArtrGQMErvkAMU8tABbG2QNX3wUAldMlAnay4QMi700BveslAE2nFQEWN1EAg6dVAT9beQGwhzUCETLZALQDFQDG9wED517pAjbzSQCORw0ADncFA8/+yQD+0z0CZo8tAuEHQQA==",
          "dtype": "f4"
         }
        },
        {
         "hovertemplate": "label=3<br>UMAP1=%{x}<br>UMAP2=%{y}<br>UMAP3=%{z}<extra></extra>",
         "legendgroup": "3",
         "marker": {
          "color": "#ab63fa",
          "opacity": 0.8,
          "symbol": "circle"
         },
         "mode": "markers",
         "name": "3",
         "scene": "scene",
         "showlegend": true,
         "type": "scatter3d",
         "x": {
          "bdata": "VVn2QJnFAUHAEvdA/FAAQW8w3UAli/hAHRDzQEu+7UC/p/xAV+n4QGjM5UCp4+FAJQrvQN9T6kD1O+tAlvYAQUzG60AA/vVA1BX8QLJhA0EKt/5ALd4AQQ1C/kDwju1AOK/cQJA0/EBNEOBAQL/3QLvp5kDiPt1AwbgAQWd1/UCJtAFBwvj0QBin50BCHfdA8V3+QIpA9UBsu/RAGVHpQJ5e5EAfXOxAR67mQOvF5UA8qN1AfcX4QIoF9UCZlOxADtzuQPZY4kAJw/dAsZ38QFDj+kD6LwFBDR30QNUp6kBJrvxAGXTtQIu14EBn+upAdSPwQGG/8EDzrPlAwrn5QOUW9ED9+f5AZ/v5QEjP8UD66QJBO4H2QM7m5kCkVexABj3uQBQY+EBvIepAV3kBQVc29UBBae1AZ27zQNp+8ECGC+xAC6T5QFaZ/ED3I/1Arl3gQOCG20APSu5AyergQGpM80CWuwBBgsAAQVVC3ED/TfZAPxb7QBZ1AkFl5e5A+0TtQIW69UBhwOxAprPlQA==",
          "dtype": "f4"
         },
         "y": {
          "bdata": "hbABwQwE/sBaogPBacv7wGaeAsFNSPvAkhX3wFoBA8EaPP7AFcgBwUca/8BwawbBZ4n/wJ65+8CsL/fAdej7wEG/AMGNvgnBH7zuwK4ZAcHjuvHAamcAweG178BGSADB7nMAwdoABcFfFgPBDWfzwNKyB8FwcwPBtAj6wOtp9MBqTfjApaD+wPJN/MCBggPBaGX8wFEY+sBTrwDB3ncCwSFm+8DmMerAJScBwdmA/8CdG/7AZDoEwR9CCcEuku7Au6D6wPoZ8sDtvgjBFVD4wDiWCsEL9/TA6On1wMOKCMHqXu3AHAb7wK5PBMEmTQPBBeoGwWYgAcEDzgDBMgcHwfAlB8GVzAXBv7EHwR6w98D+pfjAcYT7wHcF9cCWBe/Aygv/wIYh9sDyK+rABw8EwXkKCMHV+QXB1IEBwQFa8MAaA/HA4g74wK9xAsFgjQLBsckDwXti/8A8R/HAigvzwDsw7cBPiPnA4GIAwargBcGeFAHBcAUIwZHM9sCtaAjBie0GwXHU68DwgwPB+8PywA==",
          "dtype": "f4"
         },
         "z": {
          "bdata": "sAWSPjNkYD/X2K0/SxIBP93zgD96d74/POQRP4uwOT8Us3k/eK5DP0r8mD8auJc/kTy3Pz9Cez/ygIM/WpGKP61boz+zHl0/wbKJP+/CST+d7bA/xv6pP6Rlmz+9r0o/qCaCPxg7jz9TyI0/EISMPxLWUD9My3E/BeWCP62cUz9JmZk/zzzZPgL0Dz8Z4pI/PzmkP5p63j42KT8/6ym8PxNUqj/Fric/0gfEP5AoHj+sIIo/pdezPgN9LT9r5k8/nY2uP8xyhz8HFUc/XocnP4vlYz9TFZM/gBMmP3RjPj+0kaA/e38HPw8+lT/Jp7k/YNCSP5dyYT6esos/kW2FP6vWGz8rcIE/1E9FP4dVET+Zlk4/ze+5Py0FXz+TJXg/kG2XP8j79j4nXH0/7NKcP8yaID9LAXY/EHR9P+Kcuz/50PY+TbwpPwE/yT5sQag/FfhRPyezjD+RQJI/tBZmP9/FQj+lgsk+Xr8YP1MWlT8/k7Q/+x+gPxjacz+LZV4/NaEVP34UsT/xGrs/OJafPw==",
          "dtype": "f4"
         }
        }
       ],
       "layout": {
        "height": 700,
        "legend": {
         "title": {
          "text": "label"
         },
         "tracegroupgap": 0
        },
        "scene": {
         "domain": {
          "x": [
           0,
           1
          ],
          "y": [
           0,
           1
          ]
         },
         "xaxis": {
          "title": {
           "text": "UMAP1"
          }
         },
         "yaxis": {
          "title": {
           "text": "UMAP2"
          }
         },
         "zaxis": {
          "title": {
           "text": "UMAP3"
          }
         }
        },
        "template": {
         "data": {
          "bar": [
           {
            "error_x": {
             "color": "#2a3f5f"
            },
            "error_y": {
             "color": "#2a3f5f"
            },
            "marker": {
             "line": {
              "color": "#E5ECF6",
              "width": 0.5
             },
             "pattern": {
              "fillmode": "overlay",
              "size": 10,
              "solidity": 0.2
             }
            },
            "type": "bar"
           }
          ],
          "barpolar": [
           {
            "marker": {
             "line": {
              "color": "#E5ECF6",
              "width": 0.5
             },
             "pattern": {
              "fillmode": "overlay",
              "size": 10,
              "solidity": 0.2
             }
            },
            "type": "barpolar"
           }
          ],
          "carpet": [
           {
            "aaxis": {
             "endlinecolor": "#2a3f5f",
             "gridcolor": "white",
             "linecolor": "white",
             "minorgridcolor": "white",
             "startlinecolor": "#2a3f5f"
            },
            "baxis": {
             "endlinecolor": "#2a3f5f",
             "gridcolor": "white",
             "linecolor": "white",
             "minorgridcolor": "white",
             "startlinecolor": "#2a3f5f"
            },
            "type": "carpet"
           }
          ],
          "choropleth": [
           {
            "colorbar": {
             "outlinewidth": 0,
             "ticks": ""
            },
            "type": "choropleth"
           }
          ],
          "contour": [
           {
            "colorbar": {
             "outlinewidth": 0,
             "ticks": ""
            },
            "colorscale": [
             [
              0,
              "#0d0887"
             ],
             [
              0.1111111111111111,
              "#46039f"
             ],
             [
              0.2222222222222222,
              "#7201a8"
             ],
             [
              0.3333333333333333,
              "#9c179e"
             ],
             [
              0.4444444444444444,
              "#bd3786"
             ],
             [
              0.5555555555555556,
              "#d8576b"
             ],
             [
              0.6666666666666666,
              "#ed7953"
             ],
             [
              0.7777777777777778,
              "#fb9f3a"
             ],
             [
              0.8888888888888888,
              "#fdca26"
             ],
             [
              1,
              "#f0f921"
             ]
            ],
            "type": "contour"
           }
          ],
          "contourcarpet": [
           {
            "colorbar": {
             "outlinewidth": 0,
             "ticks": ""
            },
            "type": "contourcarpet"
           }
          ],
          "heatmap": [
           {
            "colorbar": {
             "outlinewidth": 0,
             "ticks": ""
            },
            "colorscale": [
             [
              0,
              "#0d0887"
             ],
             [
              0.1111111111111111,
              "#46039f"
             ],
             [
              0.2222222222222222,
              "#7201a8"
             ],
             [
              0.3333333333333333,
              "#9c179e"
             ],
             [
              0.4444444444444444,
              "#bd3786"
             ],
             [
              0.5555555555555556,
              "#d8576b"
             ],
             [
              0.6666666666666666,
              "#ed7953"
             ],
             [
              0.7777777777777778,
              "#fb9f3a"
             ],
             [
              0.8888888888888888,
              "#fdca26"
             ],
             [
              1,
              "#f0f921"
             ]
            ],
            "type": "heatmap"
           }
          ],
          "histogram": [
           {
            "marker": {
             "pattern": {
              "fillmode": "overlay",
              "size": 10,
              "solidity": 0.2
             }
            },
            "type": "histogram"
           }
          ],
          "histogram2d": [
           {
            "colorbar": {
             "outlinewidth": 0,
             "ticks": ""
            },
            "colorscale": [
             [
              0,
              "#0d0887"
             ],
             [
              0.1111111111111111,
              "#46039f"
             ],
             [
              0.2222222222222222,
              "#7201a8"
             ],
             [
              0.3333333333333333,
              "#9c179e"
             ],
             [
              0.4444444444444444,
              "#bd3786"
             ],
             [
              0.5555555555555556,
              "#d8576b"
             ],
             [
              0.6666666666666666,
              "#ed7953"
             ],
             [
              0.7777777777777778,
              "#fb9f3a"
             ],
             [
              0.8888888888888888,
              "#fdca26"
             ],
             [
              1,
              "#f0f921"
             ]
            ],
            "type": "histogram2d"
           }
          ],
          "histogram2dcontour": [
           {
            "colorbar": {
             "outlinewidth": 0,
             "ticks": ""
            },
            "colorscale": [
             [
              0,
              "#0d0887"
             ],
             [
              0.1111111111111111,
              "#46039f"
             ],
             [
              0.2222222222222222,
              "#7201a8"
             ],
             [
              0.3333333333333333,
              "#9c179e"
             ],
             [
              0.4444444444444444,
              "#bd3786"
             ],
             [
              0.5555555555555556,
              "#d8576b"
             ],
             [
              0.6666666666666666,
              "#ed7953"
             ],
             [
              0.7777777777777778,
              "#fb9f3a"
             ],
             [
              0.8888888888888888,
              "#fdca26"
             ],
             [
              1,
              "#f0f921"
             ]
            ],
            "type": "histogram2dcontour"
           }
          ],
          "mesh3d": [
           {
            "colorbar": {
             "outlinewidth": 0,
             "ticks": ""
            },
            "type": "mesh3d"
           }
          ],
          "parcoords": [
           {
            "line": {
             "colorbar": {
              "outlinewidth": 0,
              "ticks": ""
             }
            },
            "type": "parcoords"
           }
          ],
          "pie": [
           {
            "automargin": true,
            "type": "pie"
           }
          ],
          "scatter": [
           {
            "fillpattern": {
             "fillmode": "overlay",
             "size": 10,
             "solidity": 0.2
            },
            "type": "scatter"
           }
          ],
          "scatter3d": [
           {
            "line": {
             "colorbar": {
              "outlinewidth": 0,
              "ticks": ""
             }
            },
            "marker": {
             "colorbar": {
              "outlinewidth": 0,
              "ticks": ""
             }
            },
            "type": "scatter3d"
           }
          ],
          "scattercarpet": [
           {
            "marker": {
             "colorbar": {
              "outlinewidth": 0,
              "ticks": ""
             }
            },
            "type": "scattercarpet"
           }
          ],
          "scattergeo": [
           {
            "marker": {
             "colorbar": {
              "outlinewidth": 0,
              "ticks": ""
             }
            },
            "type": "scattergeo"
           }
          ],
          "scattergl": [
           {
            "marker": {
             "colorbar": {
              "outlinewidth": 0,
              "ticks": ""
             }
            },
            "type": "scattergl"
           }
          ],
          "scattermap": [
           {
            "marker": {
             "colorbar": {
              "outlinewidth": 0,
              "ticks": ""
             }
            },
            "type": "scattermap"
           }
          ],
          "scattermapbox": [
           {
            "marker": {
             "colorbar": {
              "outlinewidth": 0,
              "ticks": ""
             }
            },
            "type": "scattermapbox"
           }
          ],
          "scatterpolar": [
           {
            "marker": {
             "colorbar": {
              "outlinewidth": 0,
              "ticks": ""
             }
            },
            "type": "scatterpolar"
           }
          ],
          "scatterpolargl": [
           {
            "marker": {
             "colorbar": {
              "outlinewidth": 0,
              "ticks": ""
             }
            },
            "type": "scatterpolargl"
           }
          ],
          "scatterternary": [
           {
            "marker": {
             "colorbar": {
              "outlinewidth": 0,
              "ticks": ""
             }
            },
            "type": "scatterternary"
           }
          ],
          "surface": [
           {
            "colorbar": {
             "outlinewidth": 0,
             "ticks": ""
            },
            "colorscale": [
             [
              0,
              "#0d0887"
             ],
             [
              0.1111111111111111,
              "#46039f"
             ],
             [
              0.2222222222222222,
              "#7201a8"
             ],
             [
              0.3333333333333333,
              "#9c179e"
             ],
             [
              0.4444444444444444,
              "#bd3786"
             ],
             [
              0.5555555555555556,
              "#d8576b"
             ],
             [
              0.6666666666666666,
              "#ed7953"
             ],
             [
              0.7777777777777778,
              "#fb9f3a"
             ],
             [
              0.8888888888888888,
              "#fdca26"
             ],
             [
              1,
              "#f0f921"
             ]
            ],
            "type": "surface"
           }
          ],
          "table": [
           {
            "cells": {
             "fill": {
              "color": "#EBF0F8"
             },
             "line": {
              "color": "white"
             }
            },
            "header": {
             "fill": {
              "color": "#C8D4E3"
             },
             "line": {
              "color": "white"
             }
            },
            "type": "table"
           }
          ]
         },
         "layout": {
          "annotationdefaults": {
           "arrowcolor": "#2a3f5f",
           "arrowhead": 0,
           "arrowwidth": 1
          },
          "autotypenumbers": "strict",
          "coloraxis": {
           "colorbar": {
            "outlinewidth": 0,
            "ticks": ""
           }
          },
          "colorscale": {
           "diverging": [
            [
             0,
             "#8e0152"
            ],
            [
             0.1,
             "#c51b7d"
            ],
            [
             0.2,
             "#de77ae"
            ],
            [
             0.3,
             "#f1b6da"
            ],
            [
             0.4,
             "#fde0ef"
            ],
            [
             0.5,
             "#f7f7f7"
            ],
            [
             0.6,
             "#e6f5d0"
            ],
            [
             0.7,
             "#b8e186"
            ],
            [
             0.8,
             "#7fbc41"
            ],
            [
             0.9,
             "#4d9221"
            ],
            [
             1,
             "#276419"
            ]
           ],
           "sequential": [
            [
             0,
             "#0d0887"
            ],
            [
             0.1111111111111111,
             "#46039f"
            ],
            [
             0.2222222222222222,
             "#7201a8"
            ],
            [
             0.3333333333333333,
             "#9c179e"
            ],
            [
             0.4444444444444444,
             "#bd3786"
            ],
            [
             0.5555555555555556,
             "#d8576b"
            ],
            [
             0.6666666666666666,
             "#ed7953"
            ],
            [
             0.7777777777777778,
             "#fb9f3a"
            ],
            [
             0.8888888888888888,
             "#fdca26"
            ],
            [
             1,
             "#f0f921"
            ]
           ],
           "sequentialminus": [
            [
             0,
             "#0d0887"
            ],
            [
             0.1111111111111111,
             "#46039f"
            ],
            [
             0.2222222222222222,
             "#7201a8"
            ],
            [
             0.3333333333333333,
             "#9c179e"
            ],
            [
             0.4444444444444444,
             "#bd3786"
            ],
            [
             0.5555555555555556,
             "#d8576b"
            ],
            [
             0.6666666666666666,
             "#ed7953"
            ],
            [
             0.7777777777777778,
             "#fb9f3a"
            ],
            [
             0.8888888888888888,
             "#fdca26"
            ],
            [
             1,
             "#f0f921"
            ]
           ]
          },
          "colorway": [
           "#636efa",
           "#EF553B",
           "#00cc96",
           "#ab63fa",
           "#FFA15A",
           "#19d3f3",
           "#FF6692",
           "#B6E880",
           "#FF97FF",
           "#FECB52"
          ],
          "font": {
           "color": "#2a3f5f"
          },
          "geo": {
           "bgcolor": "white",
           "lakecolor": "white",
           "landcolor": "#E5ECF6",
           "showlakes": true,
           "showland": true,
           "subunitcolor": "white"
          },
          "hoverlabel": {
           "align": "left"
          },
          "hovermode": "closest",
          "mapbox": {
           "style": "light"
          },
          "paper_bgcolor": "white",
          "plot_bgcolor": "#E5ECF6",
          "polar": {
           "angularaxis": {
            "gridcolor": "white",
            "linecolor": "white",
            "ticks": ""
           },
           "bgcolor": "#E5ECF6",
           "radialaxis": {
            "gridcolor": "white",
            "linecolor": "white",
            "ticks": ""
           }
          },
          "scene": {
           "xaxis": {
            "backgroundcolor": "#E5ECF6",
            "gridcolor": "white",
            "gridwidth": 2,
            "linecolor": "white",
            "showbackground": true,
            "ticks": "",
            "zerolinecolor": "white"
           },
           "yaxis": {
            "backgroundcolor": "#E5ECF6",
            "gridcolor": "white",
            "gridwidth": 2,
            "linecolor": "white",
            "showbackground": true,
            "ticks": "",
            "zerolinecolor": "white"
           },
           "zaxis": {
            "backgroundcolor": "#E5ECF6",
            "gridcolor": "white",
            "gridwidth": 2,
            "linecolor": "white",
            "showbackground": true,
            "ticks": "",
            "zerolinecolor": "white"
           }
          },
          "shapedefaults": {
           "line": {
            "color": "#2a3f5f"
           }
          },
          "ternary": {
           "aaxis": {
            "gridcolor": "white",
            "linecolor": "white",
            "ticks": ""
           },
           "baxis": {
            "gridcolor": "white",
            "linecolor": "white",
            "ticks": ""
           },
           "bgcolor": "#E5ECF6",
           "caxis": {
            "gridcolor": "white",
            "linecolor": "white",
            "ticks": ""
           }
          },
          "title": {
           "x": 0.05
          },
          "xaxis": {
           "automargin": true,
           "gridcolor": "white",
           "linecolor": "white",
           "ticks": "",
           "title": {
            "standoff": 15
           },
           "zerolinecolor": "white",
           "zerolinewidth": 2
          },
          "yaxis": {
           "automargin": true,
           "gridcolor": "white",
           "linecolor": "white",
           "ticks": "",
           "title": {
            "standoff": 15
           },
           "zerolinecolor": "white",
           "zerolinewidth": 2
          }
         }
        },
        "title": {
         "text": "UMAP 3D of 100-d data"
        },
        "width": 900
       }
      }
     },
     "metadata": {},
     "output_type": "display_data"
    }
   ],
   "source": [
    "# 使用 UMAP 将数据降到 3 维并使用 Plotly 做 3D 可视化\n",
    "reducer = UMAP(n_components=3, random_state=42)\n",
    "X_umap3 = reducer.fit_transform(X)\n",
    "print('UMAP 3D result shape:', X_umap3.shape)\n",
    "\n",
    "df_umap = pd.DataFrame(X_umap3, columns=['UMAP1','UMAP2','UMAP3'])\n",
    "df_umap['label'] = y.astype(str)\n",
    "\n",
    "fig3d = px.scatter_3d(df_umap, x='UMAP1', y='UMAP2', z='UMAP3', color='label',\n",
    "                    title='UMAP 3D of 100-d data', width=900, height=700, opacity=0.8)\n",
    "fig3d.show()\n",
    "\n",
    "# 如果你想将 UMAP 结果保存为 CSV 以便离线查看：\n",
    "# df_umap.to_csv('umap_3d_results.csv', index=False)"
   ]
  },
  {
   "cell_type": "code",
   "execution_count": 15,
   "id": "b7b94b7b",
   "metadata": {},
   "outputs": [
    {
     "name": "stdout",
     "output_type": "stream",
     "text": [
      "原始 100 维向量的余弦相似度矩阵：\n",
      "[[ 1.         -0.05827004 -0.10914051 -0.01979958  0.96646073]\n",
      " [-0.05827004  1.          0.14164557  0.02312537  0.0113769 ]\n",
      " [-0.10914051  0.14164557  1.         -0.12747489 -0.06539014]\n",
      " [-0.01979958  0.02312537 -0.12747489  1.         -0.01957266]\n",
      " [ 0.96646073  0.0113769  -0.06539014 -0.01957266  1.        ]]\n",
      "\n",
      "UMAP 降维后 3 维向量的余弦相似度矩阵：\n",
      "[[ 1.          0.29328227  0.24009967 -0.7045516   0.99998933]\n",
      " [ 0.29328227  1.         -0.21299523 -0.5804945   0.29490215]\n",
      " [ 0.24009967 -0.21299523  0.99999994  0.49416548  0.2435611 ]\n",
      " [-0.7045516  -0.5804945   0.49416548  1.0000001  -0.70266634]\n",
      " [ 0.99998933  0.29490215  0.2435611  -0.70266634  0.99999994]]\n",
      "\n",
      "相似度差异矩阵（原始 - UMAP）：\n",
      "[[4.44089210e-16 3.51552307e-01 3.49240176e-01 6.84751997e-01\n",
      "  3.35286013e-02]\n",
      " [3.51552307e-01 4.44089210e-16 3.54640806e-01 6.03619890e-01\n",
      "  2.83525251e-01]\n",
      " [3.49240176e-01 3.54640806e-01 5.96046450e-08 6.21640370e-01\n",
      "  3.08951242e-01]\n",
      " [6.84751997e-01 6.03619890e-01 6.21640370e-01 1.19209290e-07\n",
      "  6.83093684e-01]\n",
      " [3.35286013e-02 2.83525251e-01 3.08951242e-01 6.83093684e-01\n",
      "  5.96046447e-08]]\n",
      "\n",
      "平均相似度差异（非对角线）：0.4275\n",
      "差异越小，表示降维后相似度保留得越好。\n"
     ]
    },
    {
     "data": {
      "image/png": "[encoded data removed]",
      "text/plain": [
       "<Figure size 1800x500 with 6 Axes>"
      ]
     },
     "metadata": {},
     "output_type": "display_data"
    }
   ],
   "source": [
    "# 计算向量相似度：比较降维前后的余弦相似度\n",
    "from sklearn.metrics.pairwise import cosine_similarity\n",
    "import numpy as np\n",
    "import seaborn as sns\n",
    "import matplotlib.pyplot as plt\n",
    "\n",
    "# 随机选择 5 个样本进行比较\n",
    "sample_indices = rng.choice(n_samples, size=5, replace=False)\n",
    "X_sample = X[sample_indices]\n",
    "X_umap_sample = X_umap3[sample_indices]\n",
    "\n",
    "# 计算原始 100 维向量的余弦相似度\n",
    "cos_sim_original = cosine_similarity(X_sample)\n",
    "print(\"原始 100 维向量的余弦相似度矩阵：\")\n",
    "print(cos_sim_original)\n",
    "\n",
    "# 计算 UMAP 降维后 3 维向量的余弦相似度\n",
    "cos_sim_umap = cosine_similarity(X_umap_sample)\n",
    "print(\"\\nUMAP 降维后 3 维向量的余弦相似度矩阵：\")\n",
    "print(cos_sim_umap)\n",
    "\n",
    "# 计算相似度差异（绝对差值）\n",
    "diff = np.abs(cos_sim_original - cos_sim_umap)\n",
    "print(\"\\n相似度差异矩阵（原始 - UMAP）：\")\n",
    "print(diff)\n",
    "\n",
    "# 计算平均相似度保留率（对角线为 1，比较非对角线）\n",
    "avg_diff = np.mean(diff[np.triu_indices_from(diff, k=1)])\n",
    "print(f\"\\n平均相似度差异（非对角线）：{avg_diff:.4f}\")\n",
    "print(\"差异越小，表示降维后相似度保留得越好。\")\n",
    "\n",
    "# 可视化相似度矩阵\n",
    "fig, axes = plt.subplots(1, 3, figsize=(18, 5))\n",
    "\n",
    "# 原始相似度 heatmap\n",
    "sns.heatmap(cos_sim_original, annot=True, cmap='coolwarm', ax=axes[0], vmin=0.9, vmax=1.0)\n",
    "axes[0].set_title('Original 100D Similarity')\n",
    "axes[0].set_xlabel('Sample Index')\n",
    "axes[0].set_ylabel('Sample Index')\n",
    "\n",
    "# UMAP 相似度 heatmap\n",
    "sns.heatmap(cos_sim_umap, annot=True, cmap='coolwarm', ax=axes[1], vmin=0.9, vmax=1.0)\n",
    "axes[1].set_title('UMAP 3D Similarity')\n",
    "axes[1].set_xlabel('Sample Index')\n",
    "axes[1].set_ylabel('Sample Index')\n",
    "\n",
    "# 差异 heatmap\n",
    "sns.heatmap(diff, annot=True, cmap='Reds', ax=axes[2], vmin=0, vmax=0.1)\n",
    "axes[2].set_title('Similarity Difference')\n",
    "axes[2].set_xlabel('Sample Index')\n",
    "axes[2].set_ylabel('Sample Index')\n",
    "\n",
    "plt.tight_layout()\n",
    "plt.show()"
   ]
  },
  {
   "cell_type": "code",
   "execution_count": 16,
   "id": "5a7925f9",
   "metadata": {},
   "outputs": [
    {
     "name": "stdout",
     "output_type": "stream",
     "text": [
      "原始 100 维向量的欧几里得距离矩阵：\n",
      "[[ 0.         73.74835548 73.14896018 16.52049814 75.29208073]\n",
      " [73.74835548  0.         64.6961002  72.3810506  66.1060447 ]\n",
      " [73.14896018 64.6961002   0.         75.503318   14.09114179]\n",
      " [16.52049814 72.3810506  75.503318    0.         78.2283884 ]\n",
      " [75.29208073 66.1060447  14.09114179 78.2283884   0.        ]]\n",
      "\n",
      "UMAP 降维后 3 维向量的欧几里得距离矩阵：\n",
      "[[ 0.         22.131914   11.604466    1.0256921  11.480636  ]\n",
      " [22.131914    0.         25.930159   22.862646   26.121391  ]\n",
      " [11.604466   25.930159    0.         11.368368    0.37068063]\n",
      " [ 1.0256921  22.862646   11.368368    0.         11.215754  ]\n",
      " [11.480636   26.121391    0.37068063 11.215754    0.        ]]\n",
      "\n",
      "距离差异矩阵（原始 - UMAP）：\n",
      "[[ 0.         51.61644134 61.54449374 15.49480603 63.81144509]\n",
      " [51.61644134  0.         38.76594159 49.5184045  39.9846534 ]\n",
      " [61.54449374 38.76594159  0.         64.13494985 13.72046116]\n",
      " [15.49480603 49.5184045  64.13494985  0.         67.01263485]\n",
      " [63.81144509 39.9846534  13.72046116 67.01263485  0.        ]]\n",
      "\n",
      "平均距离差异（非对角线）：46.5604\n",
      "差异越小，表示降维后距离保留得越好。\n"
     ]
    },
    {
     "data": {
      "image/png": "[encoded data removed]",
      "text/plain": [
       "<Figure size 1800x500 with 6 Axes>"
      ]
     },
     "metadata": {},
     "output_type": "display_data"
    }
   ],
   "source": [
    "# 计算降维前后的向量距离变化（欧几里得距离）\n",
    "from sklearn.metrics.pairwise import euclidean_distances\n",
    "import numpy as np\n",
    "import seaborn as sns\n",
    "import matplotlib.pyplot as plt\n",
    "\n",
    "# 选择前 5 个样本进行比较（可调整）\n",
    "sample_indices = rng.choice(n_samples, size=5, replace=False)\n",
    "X_sample = X[sample_indices]\n",
    "X_umap_sample = X_umap3[sample_indices]\n",
    "\n",
    "# 计算原始 100 维向量的欧几里得距离\n",
    "dist_original = euclidean_distances(X_sample)\n",
    "print(\"原始 100 维向量的欧几里得距离矩阵：\")\n",
    "print(dist_original)\n",
    "\n",
    "# 计算 UMAP 降维后 3 维向量的欧几里得距离\n",
    "dist_umap = euclidean_distances(X_umap_sample)\n",
    "print(\"\\nUMAP 降维后 3 维向量的欧几里得距离矩阵：\")\n",
    "print(dist_umap)\n",
    "\n",
    "# 计算距离差异（绝对差值）\n",
    "dist_diff = np.abs(dist_original - dist_umap)\n",
    "print(\"\\n距离差异矩阵（原始 - UMAP）：\")\n",
    "print(dist_diff)\n",
    "\n",
    "# 计算平均距离差异（非对角线）\n",
    "avg_dist_diff = np.mean(dist_diff[np.triu_indices_from(dist_diff, k=1)])\n",
    "print(f\"\\n平均距离差异（非对角线）：{avg_dist_diff:.4f}\")\n",
    "print(\"差异越小，表示降维后距离保留得越好。\")\n",
    "\n",
    "# 可视化距离矩阵\n",
    "fig, axes = plt.subplots(1, 3, figsize=(18, 5))\n",
    "\n",
    "# 原始距离 heatmap\n",
    "sns.heatmap(dist_original, annot=True, cmap='viridis', ax=axes[0])\n",
    "axes[0].set_title('Original 100D Euclidean Distance')\n",
    "axes[0].set_xlabel('Sample Index')\n",
    "axes[0].set_ylabel('Sample Index')\n",
    "\n",
    "# UMAP 距离 heatmap\n",
    "sns.heatmap(dist_umap, annot=True, cmap='viridis', ax=axes[1])\n",
    "axes[1].set_title('UMAP 3D Euclidean Distance')\n",
    "axes[1].set_xlabel('Sample Index')\n",
    "axes[1].set_ylabel('Sample Index')\n",
    "\n",
    "# 距离差异 heatmap\n",
    "sns.heatmap(dist_diff, annot=True, cmap='Reds', ax=axes[2])\n",
    "axes[2].set_title('Distance Difference')\n",
    "axes[2].set_xlabel('Sample Index')\n",
    "axes[2].set_ylabel('Sample Index')\n",
    "\n",
    "plt.tight_layout()\n",
    "plt.show()"
   ]
  },
  {
   "cell_type": "code",
   "execution_count": null,
   "id": "9d691a23",
   "metadata": {},
   "outputs": [],
   "source": []
  }
 ],
 "metadata": {
  "kernelspec": {
   "display_name": "data_process",
   "language": "python",
   "name": "python3"
  },
  "language_info": {
   "codemirror_mode": {
    "name": "ipython",
    "version": 3
   },
   "file_extension": ".py",
   "mimetype": "text/x-python",
   "name": "python",
   "nbconvert_exporter": "python",
   "pygments_lexer": "ipython3",
   "version": "3.10.18"
  }
 },
 "nbformat": 4,
 "nbformat_minor": 5
}
