{
  "cells": [
    {
      "cell_type": "markdown",
      "metadata": {
        "language": "markdown"
      },
      "source": [
        "# DuckDB 向量相似性搜索扩展的最新更新\n",
        "\n",
        "> 原标题：What's New in the Vector Similarity Search Extension?\n",
        "\n",
        "DuckDB 又向成为向量数据库迈进了一步！这篇文章介绍了自首次发布以来 DuckDB 向量相似性搜索（VSS）扩展的一些新特性和改进。\n",
        "\n",
        "## 索引创建速度提升\n",
        "\n",
        "DuckDB 在 HNSW 索引创建速度方面有了显著提升：\n",
        "\n",
        "- **预知行数优势**：在已填充数据的表上创建 HNSW（Hierarchical Navigable Small Worlds）索引比先创建索引再插入数据更高效，因为已知总行数可以更准确地预测索引大小和优化线程分配\n",
        "- **工作分配优化**：初始版本中，工作分配较为粗糙，仅为每个\"行组\"（默认约 120,000 行）安排一个额外工作者线程\n",
        "- **缓冲机制改进**：新版本引入了额外的缓冲步骤，实现了更细粒度的工作分配和更智能的内存管理，有效减少线程间竞争\n",
        "- **用户体验提升**：新增了索引创建过程的进度条，让用户能够直观了解创建进度\n",
        "\n",
        "## 新增距离函数\n",
        "\n",
        "为解决原有距离函数的一致性问题，VSS 扩展新增了更多实用的距离度量：\n",
        "\n",
        "- **原有函数回顾**：初始版本支持三种距离函数：\n",
        "  - `array_distance`（返回值接近 0 表示相似）\n",
        "  - `array_cosine_similarity`（返回值为 1 表示相同）\n",
        "  - `array_inner_product`\n",
        "\n",
        "- **新增函数**：\n",
        "  - `array_cosine_distance`：等同于 `1 - array_cosine_similarity`\n",
        "  - `array_negative_inner_product`：等同于 `-array_inner_product`\n",
        "\n",
        "- **一致性改进**：这些新函数可通过 HNSW 索引加速，使所有支持的度量在查询模式和排序上保持一致\n",
        "\n",
        "- **扩展支持**：\n",
        "  - 为动态大小的 `LIST` 数据类型添加了等效距离函数（前缀为 `list_`）\n",
        "  - 将 `<=>` 二元运算符改为 `array_cosine_distance` 的别名，与 PostgreSQL 的 `pgvector` 扩展语义保持一致\n",
        "\n",
        "## 索引加速的 \"Top-K\" 聚合\n",
        "\n",
        "DuckDB 核心功能增强了聚合函数的能力：\n",
        "\n",
        "- **函数增强**：新增了 `min_by` 和 `max_by` 聚合函数（及其别名 `arg_min` 和 `arg_max`）的重载版本\n",
        "\n",
        "- **灵活参数**：这些新版本接受可选的第三参数 `n`，用于指定要保留的 top-k 元素数量，并将结果输出为排序的 `LIST`\n",
        "\n",
        "- **示例用法**：\n",
        "\n"
      ]
    },
    {
      "cell_type": "code",
      "execution_count": 7,
      "id": "dc7bf560",
      "metadata": {
        "language": "python"
      },
      "outputs": [
        {
          "name": "stdout",
          "output_type": "stream",
          "text": [
            "[{'id': 14, 'vec': (2.0, 2.0, 2.0)}, {'id': 13, 'vec': (2.0, 1.0, 2.0)}, {'id': 11, 'vec': (2.0, 2.0, 1.0)}]\n"
          ]
        }
      ],
      "source": [
        "import duckdb\n",
        "import numpy as np\n",
        "import pandas as pd\n",
        "\n",
        "# 连接到DuckDB并加载VSS扩展\n",
        "con = duckdb.connect(database=':memory:')\n",
        "con.install_extension('vss')\n",
        "con.load_extension('vss')\n",
        "\n",
        "# 创建一个示例表\n",
        "con.execute(\"\"\"\n",
        "CREATE OR REPLACE TABLE vecs AS\n",
        "    SELECT\n",
        "        row_number() OVER () AS id,\n",
        "        [a, b, c]::FLOAT[3] AS vec\n",
        "    FROM\n",
        "        range(1,4) AS x(a), range(1,4) AS y(b), range(1,4) AS z(c);\n",
        "\"\"\")\n",
        "\n",
        "# 找到向量最接近 [2, 2, 2] 的前 3 行\n",
        "result = con.execute(\"\"\"\n",
        "SELECT\n",
        "    arg_min(vecs, array_distance(vec, [2, 2, 2]::FLOAT[3]), 3)\n",
        "FROM\n",
        "    vecs;\n",
        "\"\"\").fetchall()\n",
        "print(result[0][0])"
      ]
    },
    {
      "cell_type": "markdown",
      "id": "0cf05b5a",
      "metadata": {
        "language": "markdown"
      },
      "source": [
        "查询结果：\n",
        "\n"
      ]
    },
    {
      "cell_type": "code",
      "execution_count": null,
      "id": "660479c2",
      "metadata": {
        "language": "python"
      },
      "outputs": [],
      "source": [
        "[{'id': 14, 'vec': [2.0, 2.0, 2.0]}, {'id': 13, 'vec': [2.0, 1.0, 2.0]}, {'id': 11, 'vec': [1.0, 2.0, 2.0]}]"
      ]
    },
    {
      "cell_type": "markdown",
      "id": "07b2263e",
      "metadata": {
        "language": "markdown"
      },
      "source": [
        "- **优化加速**：VSS 扩展现在包含优化器规则，可使用 HNSW 索引加速 top-k 聚合，避免对底层表进行全扫描和排序\n",
        "\n",
        "## 索引加速的 `LATERAL` 连接\n",
        "\n",
        "针对批量向量搜索的性能优化：\n",
        "\n",
        "- **挑战分析**：尽管基于 USearch 库的 HNSW 索引查找速度很快，但在逐个搜索向量时，DuckDB 的延迟与其他解决方案相比较高\n",
        "\n",
        "- **性能瓶颈**：\n",
        "  - USearch 并非瓶颈（仅占运行时间约 2%）\n",
        "  - DuckDB 的矢量化执行引擎未针对\"点查询\"优化，最小工作单元为 2,048 行\n",
        "  - 在小工作集上，预先优化和缓冲区分配的开销变得不必要\n",
        "\n",
        "- **解决思路**：充分发挥 DuckDB 处理大量数据的优势，专注于\"N:M\"查询而非\"1:N\"查询，通过 `LATERAL` 连接实现\n",
        "\n",
        "- **LATERAL 连接示例**：\n",
        "\n"
      ]
    },
    {
      "cell_type": "code",
      "execution_count": 8,
      "id": "19e2e32a",
      "metadata": {
        "language": "python"
      },
      "outputs": [
        {
          "data": {
            "text/plain": [
              "<duckdb.duckdb.DuckDBPyConnection at 0x29a060eb2f0>"
            ]
          },
          "execution_count": 8,
          "metadata": {},
          "output_type": "execute_result"
        }
      ],
      "source": [
        "import duckdb\n",
        "import numpy as np\n",
        "import random\n",
        "\n",
        "# 连接到DuckDB并加载VSS扩展\n",
        "con = duckdb.connect(database=':memory:')\n",
        "con.install_extension('vss')\n",
        "con.load_extension('vss')\n",
        "\n",
        "# 设置随机种子以确保可重复性\n",
        "random.seed(42)\n",
        "con.execute(\"SELECT setseed(0.42)\")\n",
        "\n",
        "# 创建示例表\n",
        "con.execute(\"\"\"\n",
        "CREATE TABLE queries AS\n",
        "    SELECT\n",
        "        i AS id,\n",
        "        [random(), random(), random()]::FLOAT[3] AS embedding\n",
        "    FROM generate_series(1, 10000) r(i);\n",
        "\"\"\")\n",
        "\n",
        "con.execute(\"\"\"\n",
        "CREATE TABLE items AS\n",
        "    SELECT\n",
        "        i AS id,\n",
        "        [random(), random(), random()]::FLOAT[3] AS embedding\n",
        "    FROM generate_series(1, 10000) r(i);\n",
        "\"\"\")\n",
        "\n"
      ]
    },
    {
      "cell_type": "code",
      "execution_count": 11,
      "id": "60129b59",
      "metadata": {},
      "outputs": [
        {
          "name": "stdout",
          "output_type": "stream",
          "text": [
            "HNSW索引已创建\n",
            "LATERAL JOIN 方式耗时: 0.3051 秒\n",
            "HNSW_INDEX_JOIN 方式耗时: 223.2511 秒\n",
            "\n",
            "HNSW查询结果前5行:\n",
            "     id                         matches\n",
            "0  1996  [9155, 6280, 3119, 8791, 9406]\n",
            "1  1488   [9450, 1146, 6192, 254, 3132]\n",
            "2  8413  [4668, 3286, 4647, 1825, 9567]\n",
            "3  8544  [4523, 6660, 1307, 7156, 3321]\n",
            "4  2195  [6518, 2407, 6897, 2621, 6092]\n",
            "\n",
            "常规JOIN方式耗时: 0.1202 秒\n",
            "\n",
            "HNSW_INDEX_JOIN 相对普通LATERAL JOIN的速度提升: 0.00x\n",
            "LATERAL JOIN 相对常规JOIN的速度提升: 0.39x（注：规模不同）\n",
            "如果常规JOIN处理所有10000个查询向量的估计时间: 240.45 秒\n",
            "HNSW_INDEX_JOIN 相对完整常规JOIN的估计速度提升: 1.08x\n"
          ]
        }
      ],
      "source": [
        "import time\n",
        "\n",
        "# 先创建HNSW索引\n",
        "con.execute(\"CREATE INDEX hnsw_idx ON items USING HNSW(embedding);\")\n",
        "print(\"HNSW索引已创建\")\n",
        "\n",
        "# 1. 测试LATERAL JOIN方式（高效批量向量搜索）\n",
        "start_time = time.time()\n",
        "lateral_query = \"\"\"\n",
        "SELECT queries.id AS id, list(inner_id) AS matches\n",
        "    FROM queries, LATERAL (\n",
        "        SELECT\n",
        "            items.id AS inner_id,\n",
        "            array_distance(queries.embedding, items.embedding) AS dist\n",
        "        FROM items\n",
        "        ORDER BY dist\n",
        "        LIMIT 5\n",
        "    )\n",
        "GROUP BY queries.id;\n",
        "\"\"\"\n",
        "\n",
        "lateral_result = con.execute(lateral_query)\n",
        "lateral_time = time.time() - start_time\n",
        "print(f\"LATERAL JOIN 方式耗时: {lateral_time:.4f} 秒\")\n",
        "\n",
        "# 2. 测试HNSW_INDEX_JOIN方式\n",
        "start_time = time.time()\n",
        "hnsw_query = \"\"\"\n",
        "SELECT queries.id AS id, list(inner_id) AS matches\n",
        "    FROM queries, LATERAL (\n",
        "        SELECT\n",
        "            items.id AS inner_id,\n",
        "            array_distance(queries.embedding, items.embedding) AS dist\n",
        "        FROM items\n",
        "        WHERE array_distance(queries.embedding, items.embedding) < 10\n",
        "        ORDER BY dist\n",
        "        LIMIT 5\n",
        "    )\n",
        "GROUP BY queries.id;\n",
        "\"\"\"\n",
        "\n",
        "hnsw_result = con.execute(hnsw_query)\n",
        "hnsw_time = time.time() - start_time\n",
        "print(f\"HNSW_INDEX_JOIN 方式耗时: {hnsw_time:.4f} 秒\")\n",
        "\n",
        "# 转换为Pandas DataFrame并显示前几行\n",
        "df_result = hnsw_result.df()\n",
        "print(f\"\\nHNSW查询结果前5行:\")\n",
        "print(df_result.head())\n",
        "\n",
        "# 3. 测试常规JOIN方式（作为对比）\n",
        "start_time = time.time()\n",
        "non_lateral_query = \"\"\"\n",
        "WITH sample_queries AS (\n",
        "    SELECT * FROM queries LIMIT 5  -- 只处理前5个查询向量\n",
        "),\n",
        "distances AS (\n",
        "    SELECT \n",
        "        q.id AS query_id,\n",
        "        i.id AS item_id,\n",
        "        array_distance(q.embedding, i.embedding) AS dist\n",
        "    FROM \n",
        "        sample_queries q,\n",
        "        items i\n",
        "),\n",
        "ranked AS (\n",
        "    SELECT \n",
        "        query_id,\n",
        "        item_id,\n",
        "        ROW_NUMBER() OVER (PARTITION BY query_id ORDER BY dist) AS rank\n",
        "    FROM \n",
        "        distances\n",
        ")\n",
        "SELECT \n",
        "    query_id AS id,\n",
        "    list(item_id) AS matches\n",
        "FROM \n",
        "    ranked\n",
        "WHERE \n",
        "    rank <= 5\n",
        "GROUP BY \n",
        "    query_id;\n",
        "\"\"\"\n",
        "\n",
        "non_lateral_result = con.execute(non_lateral_query)\n",
        "non_lateral_time = time.time() - start_time\n",
        "print(f\"\\n常规JOIN方式耗时: {non_lateral_time:.4f} 秒\")\n",
        "\n",
        "# 计算HNSW索引加速比\n",
        "speedup_hnsw = lateral_time / hnsw_time if hnsw_time > 0 else float('inf')\n",
        "print(f\"\\nHNSW_INDEX_JOIN 相对普通LATERAL JOIN的速度提升: {speedup_hnsw:.2f}x\")\n",
        "\n",
        "# 计算LATERAL JOIN加速比\n",
        "speedup_lateral = non_lateral_time / lateral_time if lateral_time > 0 else float('inf')\n",
        "print(f\"LATERAL JOIN 相对常规JOIN的速度提升: {speedup_lateral:.2f}x（注：规模不同）\")\n",
        "\n",
        "# 注: 常规JOIN仅处理了5个查询向量，而其他JOIN处理了所有10000个查询向量\n",
        "estimated_full_time = non_lateral_time * (10000/5) if non_lateral_time > 0 else float('inf')\n",
        "print(f\"如果常规JOIN处理所有10000个查询向量的估计时间: {estimated_full_time:.2f} 秒\")\n",
        "\n",
        "# 总计速度提升\n",
        "total_speedup = estimated_full_time / hnsw_time if hnsw_time > 0 else float('inf')\n",
        "print(f\"HNSW_INDEX_JOIN 相对完整常规JOIN的估计速度提升: {total_speedup:.2f}x\")"
      ]
    },
    {
      "cell_type": "markdown",
      "id": "6b60854c",
      "metadata": {
        "language": "markdown"
      },
      "source": [
        "- **性能提升**：新的 HNSW_INDEX_JOIN 运算符将查询执行时间从 10 秒缩短到约 0.15 秒，加速约 66 倍\n",
        "\n",
        "- **查询计划优化**：预估基数从 5,000,000 提升到 50,000，极大简化了执行计划\n",
        "\n",
        "## 升级提示\n",
        "\n",
        "如果您已经安装了 DuckDB v1.1.2 的 VSS 扩展，可通过以下命令获取最新版本：\n",
        "\n"
      ]
    },
    {
      "cell_type": "code",
      "execution_count": null,
      "id": "f82a234f",
      "metadata": {
        "language": "python"
      },
      "outputs": [],
      "source": [
        "import duckdb\n",
        "\n",
        "# 连接到DuckDB\n",
        "con = duckdb.connect(database='your_database.db')\n",
        "\n",
        "# 更新VSS扩展\n",
        "con.execute(\"UPDATE EXTENSIONS (vss)\")\n",
        "\n",
        "print(\"VSS扩展已更新到最新版本\")"
      ]
    },
    {
      "cell_type": "markdown",
      "metadata": {
        "language": "markdown"
      },
      "source": [
        "## 总结\n",
        "\n",
        "本次更新为 DuckDB 向量相似性搜索扩展带来了多方面的改进：\n",
        "\n",
        "- 更快的索引创建速度\n",
        "- 语义更一致的距离函数\n",
        "- 强大的 top-k 聚合优化\n",
        "- 高效的批量向量搜索支持\n",
        "\n",
        "虽然本次更新主要关注新功能和性能提升，但团队仍在努力解决之前提到的一些限制，包括自定义索引和基于索引的优化。\n",
        "\n",
        "如有任何问题或反馈，欢迎通过 [duckdb-vss GitHub 仓库](https://github.com/duckdb/duckdb-vss)或 [DuckDB Discord](https://discord.gg/duckdb) 联系我们。\n"
      ]
    }
  ],
  "metadata": {
    "language_info": {
      "name": "python"
    }
  },
  "nbformat": 4,
  "nbformat_minor": 5
}
