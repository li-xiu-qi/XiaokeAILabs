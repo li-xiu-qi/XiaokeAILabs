{
 "cells": [
  {
   "cell_type": "markdown",
   "id": "39d29305",
   "metadata": {},
   "source": [
    "# Vector Similarity Search Extension\n",
    "\n",
    "`vss`扩展是DuckDB的一个实验性扩展，它通过DuckDB的新固定大小`ARRAY`类型，为向量相似性搜索查询添加索引支持以加速查询。"
   ]
  },
  {
   "cell_type": "markdown",
   "id": "07547012",
   "metadata": {},
   "source": [
    "#### Usage"
   ]
  },
  {
   "cell_type": "markdown",
   "id": "8f573fe2",
   "metadata": {},
   "source": [
    "- **创建HNSW索引**：使用`CREATE INDEX`语句和`USING HNSW`子句，在具有`ARRAY`列的表上创建新的HNSW（Hierarchical Navigable Small Worlds）索引。例如："
   ]
  },
  {
   "cell_type": "code",
   "execution_count": 12,
   "id": "0fe2f350",
   "metadata": {},
   "outputs": [
    {
     "name": "stdout",
     "output_type": "stream",
     "text": [
      "已创建表 'my_vector_table' 并构建 HNSW 索引 'my_hnsw_index'.\n"
     ]
    }
   ],
   "source": [
    "# 确保 conn 是你在 notebook 环境中已创建的 DuckDB 连接对象\n",
    "\n",
    "conn.execute(\"INSTALL vss;\")  # 安装 vss 扩展\n",
    "conn.execute(\"LOAD vss;\")     # 加载 vss 扩展\n",
    "\n",
    "conn.execute(\"DROP TABLE IF EXISTS my_vector_table;\")  # 如果表已存在则删除\n",
    "conn.execute(\"CREATE TABLE my_vector_table (vec FLOAT[3]);\")  # 创建包含向量列的表\n",
    "conn.execute(\"\"\"\n",
    "INSERT INTO my_vector_table\n",
    "    SELECT array_value(a, b, c)\n",
    "    FROM range(1, 10) ra(a), range(1, 10) rb(b), range(1, 10) rc(c);\n",
    "\"\"\")  # 插入三维向量数据\n",
    "conn.execute(\"CREATE INDEX my_hnsw_index ON my_vector_table USING HNSW (vec);\")  # 在 vec 列上创建 HNSW 索引\n",
    "print(\"已创建表 'my_vector_table' 并构建 HNSW 索引 'my_hnsw_index'.\")\n"
   ]
  },
  {
   "cell_type": "markdown",
   "id": "c13ecba4",
   "metadata": {},
   "source": [
    "- **加速查询**：该索引可用于加速使用`ORDER BY`子句评估支持的距离度量函数与索引列和常量向量之间的距离，并以`LIMIT`子句结尾的查询。例如："
   ]
  },
  {
   "cell_type": "code",
   "execution_count": 13,
   "id": "6170c262",
   "metadata": {},
   "outputs": [
    {
     "name": "stdout",
     "output_type": "stream",
     "text": [
      "[((1.0, 2.0, 3.0),), ((2.0, 2.0, 3.0),), ((1.0, 2.0, 4.0),)]\n"
     ]
    }
   ],
   "source": [
    "# 查询与 [1, 2, 3] 最近的 3 个向量\n",
    "result = conn.execute(\"\"\"\n",
    "SELECT *\n",
    "FROM my_vector_table\n",
    "ORDER BY array_distance(vec, [1, 2, 3]::FLOAT[3])\n",
    "LIMIT 3;\n",
    "\"\"\").fetchall()\n",
    "print(result)  # 打印查询结果"
   ]
  },
  {
   "cell_type": "markdown",
   "id": "4ab2f483",
   "metadata": {},
   "source": [
    "- **使用`min_by`函数**：如果`arg`参数是匹配的距离度量函数，`min_by(col, arg, n)`的重载版本也可以通过`HNSW`索引加速，可用于快速一次性最近邻搜索。例如，获取与`[1, 2, 3]`最接近的前3行："
   ]
  },
  {
   "cell_type": "code",
   "execution_count": 17,
   "id": "4e27d48d",
   "metadata": {},
   "outputs": [
    {
     "name": "stdout",
     "output_type": "stream",
     "text": [
      "[{'vec': (1.0, 2.0, 3.0)}, {'vec': (2.0, 2.0, 3.0)}, {'vec': (1.0, 2.0, 4.0)}]\n"
     ]
    }
   ],
   "source": [
    "# 使用 min_by 函数查找与 [1, 2, 3] 最近的 3 个向量\n",
    "min_by_result = conn.execute(\"\"\"\n",
    "SELECT\n",
    "    -- min_by(table, 距离度量, 返回前n个)\n",
    "    min_by(\n",
    "        my_vector_table,  -- 要返回的表行\n",
    "        array_distance(vec, [1, 2, 3]::FLOAT[3]),  -- 计算 vec 与 [1,2,3] 的欧氏距离\n",
    "        3  -- 返回距离最近的3个\n",
    "    ) AS result\n",
    "FROM\n",
    "    my_vector_table;  -- 查询的数据表\n",
    "\"\"\").fetchall()\n",
    "\n",
    "if min_by_result and min_by_result[0]:\n",
    "    print(min_by_result[0][0])\n",
    "else:\n",
    "    print(\"No result from min_by query.\")"
   ]
  },
  {
   "cell_type": "markdown",
   "id": "dfcebe02",
   "metadata": {},
   "source": [
    "- **验证索引使用**：通过检查`EXPLAIN`输出并查找计划中的`HNSW_INDEX_SCAN`节点，可以验证索引是否被使用。例如："
   ]
  },
  {
   "cell_type": "code",
   "execution_count": 43,
   "id": "60182f64",
   "metadata": {},
   "outputs": [
    {
     "name": "stdout",
     "output_type": "stream",
     "text": [
      "('physical_plan', '┌───────────────────────────┐\\n│         PROJECTION        │\\n│    ────────────────────   │\\n│             #0            │\\n│                           │\\n│          ~3 Rows          │\\n└─────────────┬─────────────┘\\n┌─────────────┴─────────────┐\\n│         PROJECTION        │\\n│    ────────────────────   │\\n│            vec            │\\n│            NULL           │\\n│                           │\\n│         ~729 Rows         │\\n└─────────────┬─────────────┘\\n┌─────────────┴─────────────┐\\n│      HNSW_INDEX_SCAN      │\\n│    ────────────────────   │\\n│           Table:          │\\n│      my_vector_table      │\\n│                           │\\n│        HSNW Index:        │\\n│       my_hnsw_index       │\\n│                           │\\n│      Projections: vec     │\\n│                           │\\n│         ~729 Rows         │\\n└───────────────────────────┘\\n')\n",
      "Row 1: physical_plan\n"
     ]
    }
   ],
   "source": [
    "explain_output = conn.execute(\"\"\"\n",
    "EXPLAIN\n",
    "SELECT *\n",
    "FROM my_vector_table  -- 查询向量表\n",
    "ORDER BY array_distance(vec, [1, 2, 3]::FLOAT[3])  -- 按与 [1,2,3] 的距离升序排序\n",
    "LIMIT 3;  -- 只取最近的3个\n",
    "\"\"\").fetchall()\n",
    "index = 1\n",
    "for row in explain_output:\n",
    "    print(row)\n",
    "    print(f\"Row {index}: {row[0]}\")\n",
    "    index += 1\n",
    "    \n",
    "    "
   ]
  },
  {
   "cell_type": "markdown",
   "id": "8374e8cd",
   "metadata": {},
   "source": [
    "- **指定距离度量**：默认情况下，HNSW索引使用欧几里得距离`l2sq`（L2范数平方）度量，与DuckDB的`array_distance`函数匹配，但也可以在创建索引时指定其他距离度量。例如："
   ]
  },
  {
   "cell_type": "code",
   "execution_count": 25,
   "id": "dab3a1ac",
   "metadata": {},
   "outputs": [
    {
     "name": "stdout",
     "output_type": "stream",
     "text": [
      "已创建索引 'my_hnsw_cosine_index'，在 'my_vector_table' 上使用余弦相似度度量。\n"
     ]
    }
   ],
   "source": [
    "# 删除已存在的索引（如果有）\n",
    "conn.execute(\"\"\"\n",
    "DROP INDEX IF EXISTS my_hnsw_cosine_index;\n",
    "\"\"\")\n",
    "\n",
    "# 创建使用余弦相似性度量的 HNSW 索引\n",
    "conn.execute(\"\"\"\n",
    "CREATE INDEX my_hnsw_cosine_index  -- 创建名为 my_hnsw_cosine_index 的索引\n",
    "ON my_vector_table                 -- 在 my_vector_table 表上\n",
    "USING HNSW (vec)                   -- 使用 HNSW 索引方法，索引 vec 列\n",
    "WITH (\n",
    "    metric = 'cosine'              -- 指定使用余弦相似性作为距离度量\n",
    ");\n",
    "\"\"\")\n",
    "\n",
    "print(\"已创建索引 'my_hnsw_cosine_index'，在 'my_vector_table' 上使用余弦相似度度量。\")"
   ]
  },
  {
   "cell_type": "markdown",
   "id": "d743a42e",
   "metadata": {},
   "source": [
    "支持的距离度量及其对应的DuckDB函数如下表所示：\n",
    "| Metric| Function| Description|\n",
    "| ---| ---| ---|\n",
    "| `l2sq`| `array_distance`| 欧几里得距离|\n",
    "| `cosine`| `array_cosine_distance`| 余弦相似性距离|\n",
    "| `ip`| `array_negative_inner_product`| 负内积|"
   ]
  },
  {
   "cell_type": "markdown",
   "id": "9a2dc3ec",
   "metadata": {},
   "source": [
    "- **多索引支持**：虽然每个`HNSW`索引仅适用于单个列，但可以在同一表上创建多个`HNSW`索引，每个索引分别索引不同的列。此外，也可以为同一列创建多个`HNSW`索引，每个索引支持不同的距离度量。"
   ]
  },
  {
   "cell_type": "markdown",
   "id": "eb1bea7f",
   "metadata": {},
   "source": [
    "#### Index Options\n",
    "\n",
    "除了`metric`选项外，`HNSW`索引创建语句还支持以下选项，用于控制索引构建和搜索过程的超参数：\n",
    "\n",
    "| Option| Default| Description|\n",
    "| ---| ---| ---|\n",
    "| `ef_construction`| 128| 在构建索引时考虑的候选顶点数量。更高的值将使索引更准确，但也会增加构建索引所需的时间。|\n",
    "| `ef_search`| 64| 在索引的搜索阶段考虑的候选顶点数量。更高的值将使索引更准确，但也会增加搜索所需的时间。|\n",
    "| `M`| 16| 图中每个顶点保持的最大邻居数量。更高的值将使索引更准确，但也会增加构建索引所需的时间。|\n",
    "| `M0`| 2 * `M`| 零级图中每个顶点保持的邻居数量。更高的值将使索引更准确，但也会增加构建索引所需的时间。|\n",
    "\n",
    "此外，还可以在运行时通过设置`SET hnsw_ef_search = int`配置选项来覆盖在索引构建时设置的`ef_search`参数。如果希望在每个连接的基础上权衡搜索性能和准确性，这将非常有用。也可以通过调用`RESET hnsw_ef_search`来取消覆盖。"
   ]
  },
  {
   "cell_type": "code",
   "execution_count": 32,
   "id": "b2498782",
   "metadata": {},
   "outputs": [
    {
     "name": "stdout",
     "output_type": "stream",
     "text": [
      "hnsw_ef_search set to: 100\n",
      "hnsw_ef_search reset. Current value: None\n"
     ]
    }
   ],
   "source": [
    "# 设置 hnsw_ef_search 参数以控制搜索精度和性能的平衡\n",
    "conn.execute(\"\"\"\n",
    "SET hnsw_ef_search = 100;  -- 将搜索阶段考虑的候选顶点数量增加到100，提高搜索准确性但可能降低查询速度\n",
    "\"\"\")\n",
    "\n",
    "# 查询当前 hnsw_ef_search 参数值\n",
    "res = conn.execute(\"\"\"\n",
    "SELECT \n",
    "    current_setting('hnsw_ef_search')  -- 获取当前 hnsw_ef_search 配置参数的值\n",
    "\"\"\").fetchone()[0]\n",
    "print(f\"hnsw_ef_search set to: {res}\")\n",
    "\n",
    "# 将 hnsw_ef_search 参数恢复到默认值\n",
    "conn.execute(\"\"\"\n",
    "RESET hnsw_ef_search;  -- 重置参数到系统默认值（通常为64），恢复默认的搜索性能与准确性平衡\n",
    "\"\"\")\n",
    "\n",
    "# 验证参数是否已成功重置\n",
    "res2 = conn.execute(\"\"\"\n",
    "SELECT \n",
    "    current_setting('hnsw_ef_search')  -- 检查重置后的参数当前值\n",
    "\"\"\").fetchone()[0]\n",
    "print(f\"hnsw_ef_search reset. Current value: {res2}\")\n",
    "\n",
    "# 注意：默认值可能取决于DuckDB版本，如果未设置，可能会返回错误或默认值。\n",
    "# 根据VSS文档说明，ef_search在索引创建时的默认值为64。"
   ]
  },
  {
   "cell_type": "markdown",
   "id": "3bd6b847",
   "metadata": {},
   "source": [
    "#### Persistence\n",
    "\n",
    "由于一些已知的与自定义扩展索引持久化相关的问题，默认情况下，`HNSW`索引只能在内存数据库的表上创建，除非将`SET hnsw_enable_experimental_persistence = bool`配置选项设置为`true`。\n",
    "\n",
    "将此功能锁定在实验性标志后面的原因是“WAL”恢复尚未为自定义索引正确实现，这意味着如果在`HNSW`索引表上有未提交的更改时发生崩溃或数据库意外关闭，可能会导致**数据丢失或索引损坏**。\n",
    "\n",
    "如果启用此选项并遇到意外关闭，可以通过首先单独启动DuckDB，加载`vss`扩展，然后`ATTACH`数据库文件来尝试恢复索引，这确保了在WAL回放期间`HNSW`索引功能可用，从而使DuckDB的恢复过程能够顺利进行。但仍然建议不要在生产环境中使用此功能。\n",
    "\n",
    "启用`hnsw_enable_experimental_persistence`选项后，索引将被持久化到DuckDB数据库文件中（如果以磁盘支持的数据库文件运行DuckDB），这意味着在数据库重新启动后，可以从磁盘将索引加载回内存，而无需重新创建。需要注意的是，没有对持久化索引存储的增量更新，因此每次DuckDB执行检查点时，整个索引将被序列化到磁盘并覆盖自身。同样，在数据库重新启动后，索引将被完整地反序列化回主内存。尽管这将被延迟到首次访问与索引相关的表时，但根据索引的大小，反序列化过程可能需要一些时间，不过它仍然应该比简单地删除并重新创建索引更快。"
   ]
  },
  {
   "cell_type": "code",
   "execution_count": 34,
   "id": "38ac459e",
   "metadata": {},
   "outputs": [
    {
     "name": "stdout",
     "output_type": "stream",
     "text": [
      "HNSW 索引实验性持久化功能已启用: True\n",
      "HNSW 索引实验性持久化功能已重置为: False\n"
     ]
    }
   ],
   "source": [
    "# 启用 HNSW 索引的实验性持久化功能\n",
    "conn.execute(\"\"\"\n",
    "SET hnsw_enable_experimental_persistence = true;  -- 允许将 HNSW 索引持久化到磁盘\n",
    "\"\"\")\n",
    "\n",
    "# 查询当前持久化设置并显示\n",
    "persistence_status = conn.execute(\"\"\"\n",
    "SELECT \n",
    "    current_setting('hnsw_enable_experimental_persistence')  -- 获取当前持久化设置的值\n",
    "\"\"\").fetchone()[0]\n",
    "print(f\"HNSW 索引实验性持久化功能已启用: {persistence_status}\")\n",
    "\n",
    "# 将 HNSW 索引持久化设置重置为默认值（禁用）\n",
    "# 注意：在生产环境中，由于WAL恢复机制的限制，建议保持禁用状态以避免数据丢失风险\n",
    "conn.execute(\"\"\"\n",
    "SET hnsw_enable_experimental_persistence = false;  -- 禁用 HNSW 索引持久化功能\n",
    "\"\"\")\n",
    "\n",
    "# 再次查询设置以确认已重置\n",
    "persistence_status_reset = conn.execute(\"\"\"\n",
    "SELECT \n",
    "    current_setting('hnsw_enable_experimental_persistence')  -- 检查设置是否成功重置\n",
    "\"\"\").fetchone()[0]\n",
    "print(f\"HNSW 索引实验性持久化功能已重置为: {persistence_status_reset}\")\n",
    "\n",
    "# 注意：启用持久化功能可能导致以下风险：\n",
    "# 1. 在有未提交更改时数据库意外关闭可能导致数据丢失或索引损坏\n",
    "# 2. 每次检查点时，整个索引会被序列化到磁盘并覆盖自身（无增量更新）\n",
    "# 3. 数据库重启后需要将整个索引反序列化回内存，可能需要较长时间"
   ]
  },
  {
   "cell_type": "markdown",
   "id": "dff2b123",
   "metadata": {},
   "source": [
    "#### Inserts, Updates, Deletes and Re-Compaction\n",
    "\n",
    "HNSW索引支持在创建索引后对表中的行进行插入、更新和删除。但是，需要注意以下两点：\n",
    "\n",
    "- 在表中填充数据后创建索引会更快，因为初始批量加载可以更好地利用大型表上的并行性。\n",
    "- 删除操作不会立即反映在索引中，而是被“标记”为已删除，这可能导致索引随时间变得陈旧，并对查询质量和性能产生负面影响。\n",
    "\n",
    "为了解决最后一点，可以通过调用`PRAGMA hnsw_compact_index('index_name')`pragma函数来触发索引的重新压缩，修剪已删除的项，或者在大量更新后重新创建索引。"
   ]
  },
  {
   "cell_type": "code",
   "execution_count": 36,
   "id": "5d73f3b4",
   "metadata": {},
   "outputs": [
    {
     "name": "stdout",
     "output_type": "stream",
     "text": [
      "已创建表 'my_vector_table_for_compact' 和索引 'my_hnsw_index_for_compact'。\n",
      "已从 'my_vector_table_for_compact' 表中删除行。\n",
      "索引 'my_hnsw_index_for_compact' 已重新压缩。\n"
     ]
    }
   ],
   "source": [
    "# 如果存在名为 my_vector_table_for_compact 的表，则删除它\n",
    "conn.execute(\"\"\"\n",
    "DROP TABLE IF EXISTS my_vector_table_for_compact;\n",
    "\"\"\")\n",
    "\n",
    "# 创建一个名为 my_vector_table_for_compact 的新表\n",
    "# 该表包含一个整数类型的 id 列和一个三维浮点数组类型的 vec 列\n",
    "conn.execute(\"\"\"\n",
    "CREATE TABLE my_vector_table_for_compact (\n",
    "    id INT,         -- 唯一标识符\n",
    "    vec FLOAT[3]    -- 三维向量数据\n",
    ");\n",
    "\"\"\")\n",
    "\n",
    "# 向 my_vector_table_for_compact 表中插入两条记录\n",
    "conn.execute(\"\"\"\n",
    "INSERT INTO my_vector_table_for_compact \n",
    "VALUES \n",
    "    (1, [1.0, 2.0, 3.0]),  -- 插入第一条记录\n",
    "    (2, [4.0, 5.0, 6.0]);  -- 插入第二条记录\n",
    "\"\"\")\n",
    "\n",
    "# 在 my_vector_table_for_compact 表的 vec 列上创建 HNSW 索引\n",
    "conn.execute(\"\"\"\n",
    "CREATE INDEX my_hnsw_index_for_compact       -- 索引名称\n",
    "ON my_vector_table_for_compact              -- 作用的表\n",
    "USING HNSW (vec);                           -- 使用 HNSW 算法，作用于 vec 列\n",
    "\"\"\")\n",
    "print(\"已创建表 'my_vector_table_for_compact' 和索引 'my_hnsw_index_for_compact'。\")\n",
    "\n",
    "# 从 my_vector_table_for_compact 表中删除 id 为 1 的行\n",
    "conn.execute(\"\"\"\n",
    "DELETE FROM my_vector_table_for_compact \n",
    "WHERE id = 1;  -- 删除条件\n",
    "\"\"\")\n",
    "print(\"已从 'my_vector_table_for_compact' 表中删除行。\")\n",
    "\n",
    "# 对名为 my_hnsw_index_for_compact 的 HNSW 索引执行重新压缩操作\n",
    "# 这有助于移除被标记为已删除的条目，优化索引性能和准确性\n",
    "conn.execute(\"\"\"\n",
    "PRAGMA hnsw_compact_index('my_hnsw_index_for_compact'); -- 指定要压缩的索引名称\n",
    "\"\"\")\n",
    "print(\"索引 'my_hnsw_index_for_compact' 已重新压缩。\")"
   ]
  },
  {
   "cell_type": "markdown",
   "id": "9da8e81b",
   "metadata": {},
   "source": [
    "#### Bonus: Vector Similarity Search Joins\n",
    "\n",
    "`vss`扩展还提供了几个表宏，用于简化多个向量之间的匹配，即所谓的“模糊连接”。这些是：\n",
    "\n",
    "- `vss_join(left_table, right_table, left_col, right_col, k, metric := 'l2sq')`\n",
    "- `vss_match(right_table, left_col, right_col, k, metric := 'l2sq')`\n",
    "\n",
    "这些**目前**还不使用`HNSW`索引，但作为方便用户使用的实用工具函数提供，对于那些可以接受不使用`HNSW`索引进行暴力向量相似性搜索，而不必自己编写连接逻辑的用户来说很有帮助。在未来，这些函数也可能会成为基于索引的优化目标。\n",
    "\n",
    "这些函数的使用方法如下："
   ]
  },
  {
   "cell_type": "code",
   "execution_count": 40,
   "id": "91881eae",
   "metadata": {},
   "outputs": [
    {
     "name": "stdout",
     "output_type": "stream",
     "text": [
      "已创建并填充表 'haystack' 和 'needle'。\n",
      "\n",
      "vss_join 连接结果:\n",
      "   score                         left_tbl                            right_tbl\n",
      "0    0.0  {'search_vec': (5.0, 5.0, 5.0)}  {'id': 365, 'vec': (5.0, 5.0, 5.0)}\n",
      "1    1.0  {'search_vec': (5.0, 5.0, 5.0)}  {'id': 364, 'vec': (5.0, 4.0, 5.0)}\n",
      "2    1.0  {'search_vec': (5.0, 5.0, 5.0)}  {'id': 356, 'vec': (5.0, 5.0, 4.0)}\n",
      "3    0.0  {'search_vec': (1.0, 1.0, 1.0)}    {'id': 1, 'vec': (1.0, 1.0, 1.0)}\n",
      "4    1.0  {'search_vec': (1.0, 1.0, 1.0)}   {'id': 10, 'vec': (1.0, 1.0, 2.0)}\n",
      "5    1.0  {'search_vec': (1.0, 1.0, 1.0)}    {'id': 2, 'vec': (1.0, 2.0, 1.0)}\n"
     ]
    }
   ],
   "source": [
    "# 如果存在名为 haystack 的表，则删除它\n",
    "conn.execute(\"\"\"\n",
    "-- 如果存在名为 haystack 的表，则删除它\n",
    "DROP TABLE IF EXISTS haystack;\n",
    "\"\"\")\n",
    "\n",
    "# 如果存在名为 needle 的表，则删除它\n",
    "conn.execute(\"\"\"\n",
    "-- 如果存在名为 needle 的表，则删除它\n",
    "DROP TABLE IF EXISTS needle;\n",
    "\"\"\")\n",
    "\n",
    "# 创建名为 haystack 的表\n",
    "# 该表包含一个整数类型的 id 列和一个三维浮点数组类型的 vec 列\n",
    "conn.execute(\"\"\"\n",
    "-- 创建名为 haystack 的表\n",
    "CREATE TABLE haystack (\n",
    "    id INT,         -- 整数类型的ID列\n",
    "    vec FLOAT[3]    -- 三维浮点数组类型的向量列\n",
    ");\n",
    "\"\"\")\n",
    "\n",
    "# 创建名为 needle 的表\n",
    "# 该表包含一个三维浮点数组类型的 search_vec 列，用于存储待搜索的向量\n",
    "conn.execute(\"\"\"\n",
    "-- 创建名为 needle 的表\n",
    "CREATE TABLE needle (\n",
    "    search_vec FLOAT[3] -- 三维浮点数组类型的搜索向量列\n",
    ");\n",
    "\"\"\")\n",
    "\n",
    "# 向 haystack 表中插入数据\n",
    "# 使用 range 函数生成组合数据，并用 array_value 构建向量\n",
    "# row_number() OVER () 用于生成唯一的ID\n",
    "conn.execute(\"\"\"\n",
    "-- 向 haystack 表中插入数据\n",
    "INSERT INTO haystack\n",
    "SELECT\n",
    "    row_number() OVER (),      -- 生成行号作为ID\n",
    "    array_value(a, b, c)       -- 将 a, b, c 组合成一个三维浮点数组\n",
    "FROM\n",
    "    range(1, 10) ra(a),        -- 生成 1 到 9 的序列作为 a (不包含10)\n",
    "    range(1, 10) rb(b),        -- 生成 1 到 9 的序列作为 b (不包含10)\n",
    "    range(1, 10) rc(c);        -- 生成 1 到 9 的序列作为 c (不包含10)\n",
    "                               -- 这将生成 9*9*9 = 729 条记录\n",
    "\"\"\")\n",
    "\n",
    "# 向 needle 表中插入两个搜索向量\n",
    "conn.execute(\"\"\"\n",
    "-- 向 needle 表中插入数据\n",
    "INSERT INTO needle\n",
    "VALUES\n",
    "    ([5, 5, 5]::FLOAT[3]),     -- 插入第一个搜索向量 [5.0, 5.0, 5.0]\n",
    "    ([1, 1, 1]::FLOAT[3]);     -- 插入第二个搜索向量 [1.0, 1.0, 1.0]\n",
    "\"\"\")\n",
    "print(\"已创建并填充表 'haystack' 和 'needle'。\")\n",
    "\n",
    "# 使用 vss_join 宏执行向量相似性连接\n",
    "# vss_join(左表, 右表, 左表向量列, 右表向量列, 返回近邻数k)\n",
    "# res 是结果表的别名\n",
    "join_df = conn.execute(\"\"\"\n",
    "-- 使用 vss_join 宏执行向量相似性连接\n",
    "SELECT\n",
    "    *\n",
    "FROM\n",
    "    vss_join(\n",
    "        needle,       -- 左表 (包含搜索向量)\n",
    "        haystack,     -- 右表 (包含待搜索的向量集合)\n",
    "        search_vec,   -- 左表中的向量列名\n",
    "        vec,          -- 右表中的向量列名\n",
    "        3             -- 为左表中的每个向量返回右表中最近的 k=3 个向量\n",
    "                      -- 默认使用 'l2sq' (欧氏距离平方) 度量\n",
    "    ) res;            -- 结果集的别名\n",
    "\"\"\").df()\n",
    "print(\"\\nvss_join 连接结果:\")\n",
    "print(join_df)"
   ]
  },
  {
   "cell_type": "markdown",
   "id": "4afc2ee4",
   "metadata": {},
   "source": [
    "或者，可以使用`vss_match`宏作为“横向连接”，以按左表分组的方式获取匹配项。需要注意的是，这要求首先指定左表，然后是引用左表搜索列（在本例中为`search_vec`）的`vss_match`宏："
   ]
  },
  {
   "cell_type": "code",
   "execution_count": 42,
   "id": "3cfc3199",
   "metadata": {},
   "outputs": [
    {
     "name": "stdout",
     "output_type": "stream",
     "text": [
      "\n",
      "vss_match 函数执行结果:\n",
      "        search_vec                                            matches\n",
      "0  [5.0, 5.0, 5.0]  [{'score': 0.0, 'row': {'id': 365, 'vec': (5.0...\n",
      "1  [1.0, 1.0, 1.0]  [{'score': 0.0, 'row': {'id': 1, 'vec': (1.0, ...\n"
     ]
    }
   ],
   "source": [
    "# 假设 'needle' 和 'haystack' 表已在先前单元格中创建并填充数据。\n",
    "match_df = conn.execute(\"\"\"\n",
    "SELECT\n",
    "    *  -- 选择所有列\n",
    "FROM\n",
    "    needle,  -- 从 'needle' 表 (包含我们要搜索的向量)\n",
    "    vss_match(  -- 调用 vss_match 宏进行相似性搜索，它表现得像一个横向连接 (LATERAL JOIN)\n",
    "        haystack,    -- 在 'haystack' 表中搜索\n",
    "        search_vec,  -- 使用 'needle' 表中的 'search_vec' 列作为查询向量\n",
    "        vec,         -- 'haystack' 表中被搜索的向量列是 'vec'\n",
    "        3            -- 为每个 'search_vec' 返回最近的3个匹配项\n",
    "    ) res;         -- 将 vss_match 的结果命名为 'res'\n",
    "\"\"\").df()  # 将查询结果转换为 Pandas DataFrame\n",
    "\n",
    "print(\"\\nvss_match 函数执行结果:\") # 打印 vss_match 的结果提示信息\n",
    "print(match_df) # 打印包含匹配结果的 DataFrame"
   ]
  },
  {
   "cell_type": "markdown",
   "id": "f0454aee",
   "metadata": {},
   "source": [
    "#### Limitations\n",
    "\n",
    "- 目前仅支持由`FLOAT`（32位，单精度）组成的向量。\n",
    "- 索引本身不进行缓冲管理，必须能够完全放入RAM内存中。\n",
    "- 索引在内存中的大小不计入DuckDB的`memory_limit`配置参数。\n",
    "- 除非将`SET hnsw_enable_experimental_persistence = ⟨bool⟩`配置选项设置为`true`，否则`HNSW`索引只能在内存数据库的表上创建，更多信息请参见“持久性”部分。\n",
    "- 向量连接表宏（`vss_join`和`vss_match`）不需要也不使用`HNSW`索引。"
   ]
  }
 ],
 "metadata": {
  "kernelspec": {
   "display_name": "SmartImageFinder",
   "language": "python",
   "name": "python3"
  },
  "language_info": {
   "name": "python",
   "version": "3.10.16"
  }
 },
 "nbformat": 4,
 "nbformat_minor": 5
}
