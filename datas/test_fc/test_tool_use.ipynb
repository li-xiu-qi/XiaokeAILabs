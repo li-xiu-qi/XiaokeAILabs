{
 "cells": [
  {
   "cell_type": "markdown",
   "id": "5b2e1a20",
   "metadata": {},
   "source": [
    "# DeepSeek V3 Tool Use 测试与实现\n",
    "\n",
    "这个 notebook 演示了如何使用 DeepSeek V3 模型实现 tool use 功能（原称为 function calling）。"
   ]
  },
  {
   "cell_type": "code",
   "execution_count": 2,
   "id": "bf011301",
   "metadata": {},
   "outputs": [
    {
     "name": "stdout",
     "output_type": "stream",
     "text": [
      "API Key: 7b448f0e-e6cb-421e-9...\n",
      "Base URL: https://ark.cn-beijing.volces.com/api/v3\n",
      "Model: deepseek-v3-250324\n"
     ]
    }
   ],
   "source": [
    "import asyncio\n",
    "import json\n",
    "import os\n",
    "from dotenv import load_dotenv\n",
    "from fallback_openai_client import AsyncFallbackOpenAIClient\n",
    "\n",
    "# 加载环境变量\n",
    "load_dotenv()\n",
    "\n",
    "# 配置 DeepSeek API\n",
    "DEEPSEEK_API_KEY = os.getenv(\"API_KEY\")\n",
    "DEEPSEEK_BASE_URL = os.getenv(\"BASE_URL\") \n",
    "DEEPSEEK_MODEL = \"deepseek-v3-250324\"\n",
    "\n",
    "print(f\"API Key: {DEEPSEEK_API_KEY[:20]}...\" if DEEPSEEK_API_KEY else \"API Key not found\")\n",
    "print(f\"Base URL: {DEEPSEEK_BASE_URL}\")\n",
    "print(f\"Model: {DEEPSEEK_MODEL}\")"
   ]
  },
  {
   "cell_type": "markdown",
   "id": "65e21986",
   "metadata": {},
   "source": [
    "## 1. 测试基本 API 连接\n",
    "\n",
    "首先测试 DeepSeek API 是否能正常调用。"
   ]
  },
  {
   "cell_type": "code",
   "execution_count": 3,
   "id": "4fed1686",
   "metadata": {},
   "outputs": [
    {
     "name": "stdout",
     "output_type": "stream",
     "text": [
      "⚠️ 警告: 未完全配置备用 API 客户端。如果主 API 失败，将无法进行回退。\n",
      "✅ API 连接成功!\n",
      "响应: 我是DeepSeek Chat，由深度求索公司（DeepSeek）创造的智能AI助手！🤖✨ 我可以帮你解答各种问题，无论是学习、工作，还是日常生活中的小困惑，都可以来找我聊聊！有什么我可以帮你的吗？😊\n"
     ]
    },
    {
     "data": {
      "text/plain": [
       "True"
      ]
     },
     "execution_count": 3,
     "metadata": {},
     "output_type": "execute_result"
    }
   ],
   "source": [
    "async def test_basic_api():\n",
    "    \"\"\"测试基本的 API 连接\"\"\"\n",
    "    client = AsyncFallbackOpenAIClient(\n",
    "        primary_api_key=DEEPSEEK_API_KEY,\n",
    "        primary_base_url=DEEPSEEK_BASE_URL,\n",
    "        primary_model_name=DEEPSEEK_MODEL\n",
    "    )\n",
    "    \n",
    "    try:\n",
    "        response = await client.chat_completions_create(\n",
    "            messages=[\n",
    "                {\"role\": \"user\", \"content\": \"你是谁？\"}\n",
    "            ],\n",
    "            max_tokens=100,\n",
    "            temperature=0.7\n",
    "        )\n",
    "        \n",
    "        print(\"✅ API 连接成功!\")\n",
    "        print(f\"响应: {response.choices[0].message.content}\")\n",
    "        return True\n",
    "        \n",
    "    except Exception as e:\n",
    "        print(f\"❌ API 连接失败: {e}\")\n",
    "        return False\n",
    "    \n",
    "    finally:\n",
    "        await client.close()\n",
    "\n",
    "# 运行测试\n",
    "await test_basic_api()"
   ]
  },
  {
   "cell_type": "markdown",
   "id": "8cf03740",
   "metadata": {},
   "source": [
    "看一下模型的返回结果是什么样子的。"
   ]
  },
  {
   "cell_type": "code",
   "execution_count": 4,
   "id": "f5de546d",
   "metadata": {},
   "outputs": [
    {
     "name": "stdout",
     "output_type": "stream",
     "text": [
      "⚠️ 警告: 未完全配置备用 API 客户端。如果主 API 失败，将无法进行回退。\n"
     ]
    },
    {
     "data": {
      "text/plain": [
       "ChatCompletion(id='021748325529967917772c69bfe765b48361086187c9fae2a9874', choices=[Choice(finish_reason='stop', index=0, logprobs=None, message=ChatCompletionMessage(content='我是DeepSeek Chat，由深度求索公司（DeepSeek）创造的智能AI助手！✨ 我的使命是帮助你解答问题、提供信息、陪你聊天，甚至帮你处理各种文本和文件。无论是学习、工作，还是日常生活中的疑问，都可以来找我聊聊！😊  \\n\\n有什么我可以帮你的吗？', refusal=None, role='assistant', annotations=None, audio=None, function_call=None, tool_calls=None))], created=1748325533, model='deepseek-v3-250324', object='chat.completion', service_tier='default', system_fingerprint=None, usage=CompletionUsage(completion_tokens=68, prompt_tokens=5, total_tokens=73, completion_tokens_details=CompletionTokensDetails(accepted_prediction_tokens=None, audio_tokens=None, reasoning_tokens=0, rejected_prediction_tokens=None), prompt_tokens_details=PromptTokensDetails(audio_tokens=None, cached_tokens=0)))"
      ]
     },
     "execution_count": 4,
     "metadata": {},
     "output_type": "execute_result"
    }
   ],
   "source": [
    "client = AsyncFallbackOpenAIClient(\n",
    "        primary_api_key=DEEPSEEK_API_KEY,\n",
    "        primary_base_url=DEEPSEEK_BASE_URL,\n",
    "        primary_model_name=DEEPSEEK_MODEL\n",
    "    )\n",
    "\n",
    "response = await client.chat_completions_create(\n",
    "    messages=[\n",
    "        {\"role\": \"user\", \"content\": \"你是谁？\"}\n",
    "    ],\n",
    "    max_tokens=100,\n",
    "    temperature=0.7\n",
    ")\n",
    "\n",
    "response"
   ]
  },
  {
   "cell_type": "code",
   "execution_count": null,
   "id": "637e7453",
   "metadata": {},
   "outputs": [
    {
     "data": {
      "text/plain": [
       "'我是DeepSeek Chat，由深度求索公司（DeepSeek）创造的智能AI助手！✨ 我的使命是帮助你解答问题、提供信息、陪你聊天，甚至帮你处理各种文本和文件。无论是学习、工作，还是日常生活中的疑问，都可以来找我聊聊！😊  \\n\\n有什么我可以帮你的吗？'"
      ]
     },
     "execution_count": 5,
     "metadata": {},
     "output_type": "execute_result"
    }
   ],
   "source": [
    "\n",
    "# 获取模型的响应内容 \n",
    "response.choices[0].message.content"
   ]
  },
  {
   "cell_type": "markdown",
   "id": "f2b65a95",
   "metadata": {},
   "source": [
    "我们可以看到模型输出的内容是自身带有决定调用的工具的，function_call同理。"
   ]
  },
  {
   "cell_type": "code",
   "execution_count": null,
   "id": "ca427242",
   "metadata": {},
   "outputs": [
    {
     "data": {
      "text/plain": [
       "ChatCompletionMessage(content='我是DeepSeek Chat，由深度求索公司（DeepSeek）创造的智能AI助手！✨ 我的使命是帮助你解答问题、提供信息、陪你聊天，甚至帮你处理各种文本和文件。无论是学习、工作，还是日常生活中的疑问，都可以来找我聊聊！😊  \\n\\n有什么我可以帮你的吗？', refusal=None, role='assistant', annotations=None, audio=None, function_call=None, tool_calls=None)"
      ]
     },
     "execution_count": 8,
     "metadata": {},
     "output_type": "execute_result"
    }
   ],
   "source": [
    "response.choices[0].message\n",
    "# ChatCompletionMessage(content='我是DeepSeek Chat，由深度求索公司（DeepSeek）创造的智能AI助手！✨ 我的使命是帮助你解答问题、提供信息、陪你聊天，甚至帮你处理各种文本和文件。无论是学习、工作，还是日常生活中的疑问，都可以来找我聊聊！😊  \\n\\n有什么我可以帮你的吗？', refusal=None, role='assistant', annotations=None, audio=None, function_call=None, tool_calls=None)\n"
   ]
  },
  {
   "cell_type": "markdown",
   "id": "1ca33fe9",
   "metadata": {},
   "source": [
    "## 2. 定义 Tool Use 工具\n",
    "\n",
    "定义一些示例函数供模型调用。"
   ]
  },
  {
   "cell_type": "code",
   "execution_count": 5,
   "id": "9ee5ec9a",
   "metadata": {},
   "outputs": [
    {
     "name": "stdout",
     "output_type": "stream",
     "text": [
      "✅ 函数定义完成\n"
     ]
    }
   ],
   "source": [
    "import math\n",
    "from datetime import datetime\n",
    "\n",
    "# 定义可供调用的函数\n",
    "def get_current_time():\n",
    "    \"\"\"获取当前时间\"\"\"\n",
    "    return datetime.now().strftime(\"%Y-%m-%d %H:%M:%S\")\n",
    "\n",
    "def calculate_circle_area(radius: float):\n",
    "    \"\"\"计算圆的面积\"\"\"\n",
    "    if radius <= 0:\n",
    "        return {\"error\": \"半径必须大于0\"}\n",
    "    return {\"area\": math.pi * radius ** 2}\n",
    "\n",
    "def get_weather_info(city: str):\n",
    "    \"\"\"获取天气信息（模拟）\"\"\"\n",
    "    weather_data = {\n",
    "        \"北京\": \"晴天，温度 15°C\",\n",
    "        \"上海\": \"多云，温度 18°C\", \n",
    "        \"广州\": \"雨天，温度 22°C\",\n",
    "        \"深圳\": \"晴天，温度 25°C\"\n",
    "    }\n",
    "    return weather_data.get(city, f\"抱歉，暂无 {city} 的天气信息\")\n",
    "\n",
    "def search_information(query: str):\n",
    "    \"\"\"搜索信息（模拟）\"\"\"\n",
    "    search_results = {\n",
    "        \"Python\": \"Python 是一种高级编程语言，由 Guido van Rossum 创建。\",\n",
    "        \"AI\": \"人工智能是计算机科学的一个分支，致力于创建能够模拟人类智能的系统。\",\n",
    "        \"机器学习\": \"机器学习是人工智能的一个子集，通过数据训练算法来做出预测或决策。\"\n",
    "    }\n",
    "    \n",
    "    for key, value in search_results.items():\n",
    "        if key.lower() in query.lower():\n",
    "            return value\n",
    "    \n",
    "    return f\"抱歉，没有找到关于 '{query}' 的相关信息。\"\n",
    "\n",
    "# 函数映射表\n",
    "AVAILABLE_FUNCTIONS = {\n",
    "    \"get_current_time\": get_current_time,\n",
    "    \"calculate_circle_area\": calculate_circle_area,\n",
    "    \"get_weather_info\": get_weather_info,\n",
    "    \"search_information\": search_information\n",
    "}\n",
    "\n",
    "print(\"✅ 函数定义完成\")"
   ]
  },
  {
   "cell_type": "markdown",
   "id": "de10f416",
   "metadata": {},
   "source": [
    "## 3. Tool Use 工具定义\n",
    "\n",
    "为 OpenAI Tools API 格式定义工具规范。"
   ]
  },
  {
   "cell_type": "code",
   "execution_count": null,
   "id": "3e5726cd",
   "metadata": {},
   "outputs": [
    {
     "name": "stdout",
     "output_type": "stream",
     "text": [
      "✅ 定义了 4 个工具\n",
      "  - get_current_time: 获取当前的日期和时间\n",
      "  - calculate_circle_area: 根据半径计算圆的面积\n",
      "  - get_weather_info: 获取指定城市的天气信息\n",
      "  - search_information: 搜索相关信息\n"
     ]
    }
   ],
   "source": [
    "# 定义工具规范（OpenAI Tools API 格式）\n",
    "TOOLS = [\n",
    "    {\n",
    "        \"type\": \"function\",\n",
    "        \"function\": {\n",
    "            \"name\": \"get_current_time\",\n",
    "            \"description\": \"获取当前的日期和时间\",\n",
    "            \"parameters\": {\n",
    "                \"type\": \"object\",\n",
    "                \"properties\": {},\n",
    "                \"required\": []\n",
    "            }\n",
    "        }\n",
    "    },\n",
    "    {\n",
    "        \"type\": \"function\", \n",
    "        \"function\": {\n",
    "            \"name\": \"calculate_circle_area\",\n",
    "            \"description\": \"根据半径计算圆的面积\",\n",
    "            \"parameters\": {\n",
    "                \"type\": \"object\",\n",
    "                \"properties\": {\n",
    "                    \"radius\": {\n",
    "                        \"type\": \"number\",\n",
    "                        \"description\": \"圆的半径，必须大于0\"\n",
    "                    }\n",
    "                },\n",
    "                \"required\": [\"radius\"]\n",
    "            }\n",
    "        }\n",
    "    },\n",
    "    {\n",
    "        \"type\": \"function\",\n",
    "        \"function\": {\n",
    "            \"name\": \"get_weather_info\", \n",
    "            \"description\": \"获取指定城市的天气信息\",\n",
    "            \"parameters\": {\n",
    "                \"type\": \"object\",\n",
    "                \"properties\": {\n",
    "                    \"city\": {\n",
    "                        \"type\": \"string\",\n",
    "                        \"description\": \"城市名称，如：北京、上海、广州、深圳\"\n",
    "                    }\n",
    "                },\n",
    "                \"required\": [\"city\"]\n",
    "            }\n",
    "        }\n",
    "    },\n",
    "    {\n",
    "        \"type\": \"function\",\n",
    "        \"function\": {\n",
    "            \"name\": \"search_information\",\n",
    "            \"description\": \"搜索相关信息\",\n",
    "            \"parameters\": {\n",
    "                \"type\": \"object\", \n",
    "                \"properties\": {\n",
    "                    \"query\": {\n",
    "                        \"type\": \"string\",\n",
    "                        \"description\": \"要搜索的关键词或问题\"\n",
    "                    }\n",
    "                },\n",
    "                \"required\": [\"query\"]\n",
    "            }\n",
    "        }\n",
    "    }\n",
    "]\n",
    "\n",
    "print(f\"✅ 定义了 {len(TOOLS)} 个工具\")\n",
    "for tool in TOOLS:\n",
    "    print(f\"  - {tool['function']['name']}: {tool['function']['description']}\")"
   ]
  },
  {
   "cell_type": "markdown",
   "id": "fd704f5d",
   "metadata": {},
   "source": [
    "## 4. Tool Use 核心实现\n",
    "\n",
    "实现 tool use 的核心逻辑。"
   ]
  },
  {
   "cell_type": "code",
   "execution_count": null,
   "id": "19e3a952",
   "metadata": {},
   "outputs": [
    {
     "name": "stdout",
     "output_type": "stream",
     "text": [
      "✅ DeepSeekFunctionCaller 类定义完成\n"
     ]
    }
   ],
   "source": [
    "class DeepSeekToolCaller:\n",
    "    \"\"\"DeepSeek Tool Use 实现类（原 Function Call）\"\"\"\n",
    "    \n",
    "    def __init__(self, api_key: str, base_url: str, model: str):\n",
    "        self.client = AsyncFallbackOpenAIClient(\n",
    "            primary_api_key=api_key,\n",
    "            primary_base_url=base_url,\n",
    "            primary_model_name=model\n",
    "        )\n",
    "        self.tools = TOOLS\n",
    "        self.available_functions = AVAILABLE_FUNCTIONS\n",
    "    \n",
    "    async def execute_tool_call(self, function_name: str, arguments: dict):\n",
    "        \"\"\"执行工具调用\"\"\"\n",
    "        try:\n",
    "            if function_name not in self.available_functions:\n",
    "                return {\"error\": f\"工具 {function_name} 不存在\"}\n",
    "            \n",
    "            func = self.available_functions[function_name]\n",
    "            \n",
    "            # 执行函数\n",
    "            if arguments:\n",
    "                result = func(**arguments)\n",
    "            else:\n",
    "                result = func()\n",
    "            \n",
    "            return {\"success\": True, \"result\": result}\n",
    "            \n",
    "        except Exception as e:\n",
    "            return {\"success\": False, \"error\": str(e)}\n",
    "    \n",
    "    async def chat_with_tools(self, messages: list, max_tool_calls: int = 5):\n",
    "        \"\"\"支持 tool use 的对话\"\"\"\n",
    "        conversation_messages = messages.copy()\n",
    "        tool_call_count = 0\n",
    "        \n",
    "        while tool_call_count < max_tool_calls:\n",
    "            try:\n",
    "                # 调用 API\n",
    "                response = await self.client.chat_completions_create(\n",
    "                    messages=conversation_messages,\n",
    "                    tools=self.tools,\n",
    "                    tool_choice=\"auto\",\n",
    "                    temperature=0.7,\n",
    "                    max_tokens=1000\n",
    "                )\n",
    "                \n",
    "                message = response.choices[0].message\n",
    "                conversation_messages.append({\n",
    "                    \"role\": \"assistant\",\n",
    "                    \"content\": message.content,\n",
    "                    \"tool_calls\": message.tool_calls\n",
    "                })\n",
    "                \n",
    "                # 检查是否有 tool calls\n",
    "                if message.tool_calls:\n",
    "                    print(f\"🔧 检测到 {len(message.tool_calls)} 个工具调用\")\n",
    "                    \n",
    "                    # 处理每个 tool call\n",
    "                    for tool_call in message.tool_calls:\n",
    "                        function_name = tool_call.function.name\n",
    "                        function_args = json.loads(tool_call.function.arguments)\n",
    "                        \n",
    "                        print(f\"📞 调用工具: {function_name}\")\n",
    "                        print(f\"📝 参数: {function_args}\")\n",
    "                        \n",
    "                        # 执行工具\n",
    "                        tool_result = await self.execute_tool_call(function_name, function_args)\n",
    "                        \n",
    "                        # 添加工具执行结果到对话\n",
    "                        conversation_messages.append({\n",
    "                            \"role\": \"tool\",\n",
    "                            \"tool_call_id\": tool_call.id,\n",
    "                            \"content\": json.dumps(tool_result, ensure_ascii=False)\n",
    "                        })\n",
    "                        \n",
    "                        print(f\"✅ 工具执行结果: {tool_result}\")\n",
    "                    \n",
    "                    tool_call_count += 1\n",
    "                    continue  # 继续下一轮对话\n",
    "                \n",
    "                else:\n",
    "                    # 没有 tool calls，返回最终响应\n",
    "                    return {\n",
    "                        \"response\": message.content,\n",
    "                        \"conversation\": conversation_messages,\n",
    "                        \"tool_calls_used\": tool_call_count\n",
    "                    }\n",
    "                    \n",
    "            except Exception as e:\n",
    "                return {\n",
    "                    \"error\": f\"API 调用失败: {e}\",\n",
    "                    \"conversation\": conversation_messages,\n",
    "                    \"tool_calls_used\": tool_call_count\n",
    "                }\n",
    "        \n",
    "        # 达到最大工具调用次数\n",
    "        return {\n",
    "            \"response\": \"已达到最大工具调用次数限制\",\n",
    "            \"conversation\": conversation_messages,\n",
    "            \"tool_calls_used\": tool_call_count\n",
    "        }\n",
    "    \n",
    "    async def close(self):\n",
    "        \"\"\"关闭客户端\"\"\"\n",
    "        await self.client.close()\n",
    "\n",
    "print(\"✅ DeepSeekToolCaller 类定义完成\")"
   ]
  },
  {
   "cell_type": "markdown",
   "id": "f12b48ad",
   "metadata": {},
   "source": [
    "## 5. 测试 Tool Use 功能\n",
    "\n",
    "测试各种 tool use 场景。"
   ]
  },
  {
   "cell_type": "code",
   "execution_count": null,
   "id": "799a1734",
   "metadata": {},
   "outputs": [],
   "source": [
    "async def test_tool_calls():\n",
    "    \"\"\"测试 tool use 功能\"\"\"\n",
    "    \n",
    "    caller = DeepSeekToolCaller(\n",
    "        api_key=DEEPSEEK_API_KEY,\n",
    "        base_url=DEEPSEEK_BASE_URL, \n",
    "        model=DEEPSEEK_MODEL\n",
    "    )\n",
    "    \n",
    "    test_cases = [\n",
    "        \"现在几点了？\",\n",
    "        \"帮我计算半径为5的圆的面积\",\n",
    "        \"北京今天天气怎么样？\",\n",
    "        \"搜索一下关于Python的信息\",\n",
    "        \"现在时间是多少，然后告诉我广州的天气情况\"\n",
    "    ]\n",
    "    \n",
    "    try:\n",
    "        for i, question in enumerate(test_cases, 1):\n",
    "            print(f\"\\n{'='*60}\")\n",
    "            print(f\"测试用例 {i}: {question}\")\n",
    "            print('='*60)\n",
    "            \n",
    "            messages = [{\"role\": \"user\", \"content\": question}]\n",
    "            \n",
    "            result = await caller.chat_with_tools(messages)\n",
    "            \n",
    "            if \"error\" in result:\n",
    "                print(f\"❌ 错误: {result['error']}\")\n",
    "            else:\n",
    "                print(f\"🤖 AI 响应: {result['response']}\")\n",
    "                print(f\"📊 使用了 {result['tool_calls_used']} 次工具调用\")\n",
    "            \n",
    "            # 添加分隔符\n",
    "            print(\"-\" * 60)\n",
    "    \n",
    "    finally:\n",
    "        await caller.close()\n",
    "\n",
    "# 运行测试\n",
    "await test_tool_calls()"
   ]
  },
  {
   "cell_type": "markdown",
   "id": "16260017",
   "metadata": {},
   "source": [
    "## 6. 交互式对话测试\n",
    "\n",
    "创建一个简单的交互式对话示例。"
   ]
  },
  {
   "cell_type": "code",
   "execution_count": null,
   "id": "c2c1468d",
   "metadata": {},
   "outputs": [],
   "source": [
    "async def interactive_chat_demo():\n",
    "    \"\"\"交互式对话演示\"\"\"\n",
    "    \n",
    "    caller = DeepSeekToolCaller(\n",
    "        api_key=DEEPSEEK_API_KEY,\n",
    "        base_url=DEEPSEEK_BASE_URL,\n",
    "        model=DEEPSEEK_MODEL\n",
    "    )\n",
    "    \n",
    "    # 预设一些演示问题\n",
    "    demo_questions = [\n",
    "        \"你好！你可以帮我做什么？\",\n",
    "        \"现在几点了？顺便告诉我深圳的天气\",\n",
    "        \"计算一下半径为10的圆的面积\",\n",
    "        \"搜索关于机器学习的信息\"\n",
    "    ]\n",
    "    \n",
    "    conversation_history = []\n",
    "    \n",
    "    try:\n",
    "        print(\"🚀 开始交互式对话演示\")\n",
    "        print(\"📱 可用功能：获取时间、计算圆面积、查询天气、搜索信息\")\n",
    "        print(\"=\" * 60)\n",
    "        \n",
    "        for question in demo_questions:\n",
    "            print(f\"\\n👤 用户: {question}\")\n",
    "            \n",
    "            # 添加用户消息到历史\n",
    "            conversation_history.append({\"role\": \"user\", \"content\": question})\n",
    "            \n",
    "            # 获取 AI 响应\n",
    "            result = await caller.chat_with_tools(conversation_history.copy())\n",
    "            \n",
    "            if \"error\" in result:\n",
    "                print(f\"❌ 错误: {result['error']}\")\n",
    "            else:\n",
    "                print(f\"🤖 助手: {result['response']}\")\n",
    "                \n",
    "                # 更新对话历史（只保留用户和助手的主要对话）\n",
    "                conversation_history.append({\n",
    "                    \"role\": \"assistant\", \n",
    "                    \"content\": result['response']\n",
    "                })\n",
    "                \n",
    "                if result['tool_calls_used'] > 0:\n",
    "                    print(f\"🔧 (使用了 {result['tool_calls_used']} 次工具调用)\")\n",
    "    \n",
    "    finally:\n",
    "        await caller.close()\n",
    "        print(f\"\\n✅ 演示结束\")\n",
    "\n",
    "# 运行交互式演示\n",
    "await interactive_chat_demo()"
   ]
  },
  {
   "cell_type": "markdown",
   "id": "8fb5cc6c",
   "metadata": {},
   "source": [
    "## 7. 高级功能：批量处理\n",
    "\n",
    "演示批量处理多个请求的功能。"
   ]
  },
  {
   "cell_type": "code",
   "execution_count": null,
   "id": "9557f5e5",
   "metadata": {},
   "outputs": [],
   "source": [
    "async def batch_processing_demo():\n",
    "    \"\"\"批量处理演示\"\"\"\n",
    "    \n",
    "    caller = DeepSeekToolCaller(\n",
    "        api_key=DEEPSEEK_API_KEY,\n",
    "        base_url=DEEPSEEK_BASE_URL,\n",
    "        model=DEEPSEEK_MODEL\n",
    "    )\n",
    "    \n",
    "    # 批量任务\n",
    "    batch_tasks = [\n",
    "        \"告诉我现在的时间\",\n",
    "        \"计算半径为3的圆的面积\", \n",
    "        \"上海的天气如何？\",\n",
    "        \"搜索Python编程相关信息\",\n",
    "        \"计算半径为7的圆的面积，然后告诉我北京天气\"\n",
    "    ]\n",
    "    \n",
    "    print(\"🔄 开始批量处理演示\")\n",
    "    print(f\"📝 总共 {len(batch_tasks)} 个任务\")\n",
    "    print(\"=\" * 60)\n",
    "    \n",
    "    results = []\n",
    "    \n",
    "    try:\n",
    "        for i, task in enumerate(batch_tasks, 1):\n",
    "            print(f\"\\n📋 任务 {i}/{len(batch_tasks)}: {task}\")\n",
    "            \n",
    "            messages = [{\"role\": \"user\", \"content\": task}]\n",
    "            result = await caller.chat_with_tools(messages)\n",
    "            \n",
    "            if \"error\" in result:\n",
    "                print(f\"❌ 失败: {result['error']}\")\n",
    "                results.append({\"task\": task, \"success\": False, \"error\": result['error']})\n",
    "            else:\n",
    "                print(f\"✅ 完成: {result['response']}\")\n",
    "                results.append({\n",
    "                    \"task\": task, \n",
    "                    \"success\": True, \n",
    "                    \"response\": result['response'],\n",
    "                    \"tool_calls\": result['tool_calls_used']\n",
    "                })\n",
    "        \n",
    "        # 总结\n",
    "        print(f\"\\n📊 批量处理总结:\")\n",
    "        print(f\"✅ 成功: {sum(1 for r in results if r['success'])} 个\")\n",
    "        print(f\"❌ 失败: {sum(1 for r in results if not r['success'])} 个\")\n",
    "        print(f\"🔧 总工具调用: {sum(r.get('tool_calls', 0) for r in results)} 次\")\n",
    "        \n",
    "    finally:\n",
    "        await caller.close()\n",
    "\n",
    "# 运行批量处理演示\n",
    "await batch_processing_demo()"
   ]
  },
  {
   "cell_type": "markdown",
   "id": "97bc7f69",
   "metadata": {},
   "source": [
    "## 8. 总结\n",
    "\n",
    "这个 notebook 演示了如何使用 DeepSeek V3 模型实现 tool use 功能，包括：\n",
    "\n",
    "1. ✅ **基本 API 连接测试** - 验证 API 配置正确性\n",
    "2. 🛠️ **工具定义** - 创建可供模型调用的工具函数\n",
    "3. 📋 **工具规范** - 按 OpenAI Tools API 格式定义函数规范\n",
    "4. 🤖 **核心实现** - DeepSeekToolCaller 类\n",
    "5. 🧪 **功能测试** - 测试各种 tool use 场景\n",
    "6. 💬 **交互式对话** - 演示连续对话中的工具调用\n",
    "7. 📦 **批量处理** - 演示批量任务处理能力\n",
    "\n",
    "### 主要特性:\n",
    "- 🔄 自动检测和执行工具调用\n",
    "- 🛡️ 错误处理和重试机制\n",
    "- 📝 完整的对话历史管理\n",
    "- 🎯 支持多轮对话中的工具调用\n",
    "- 📊 详细的执行统计信息\n",
    "\n",
    "### Tool Use vs Function Calling:\n",
    "OpenAI API 现在使用 \"tools\" 和 \"tool_calls\" 术语替代了之前的 \"function calling\"，这反映了功能的扩展：\n",
    "- 🔧 **Tools**: 包含各种类型的工具（函数、代码解释器等）\n",
    "- 📞 **Tool Calls**: 模型请求调用特定工具的操作\n",
    "- 🔄 **Tool Choice**: 控制模型如何选择使用工具\n",
    "\n",
    "### 可扩展的功能:\n",
    "- 添加更多自定义工具\n",
    "- 实现工具调用缓存\n",
    "- 添加工具调用权限控制\n",
    "- 集成外部 API 服务\n",
    "- 支持更多工具类型（如代码解释器）"
   ]
  }
 ],
 "metadata": {
  "kernelspec": {
   "display_name": "modelscope",
   "language": "python",
   "name": "python3"
  },
  "language_info": {
   "codemirror_mode": {
    "name": "ipython",
    "version": 3
   },
   "file_extension": ".py",
   "mimetype": "text/x-python",
   "name": "python",
   "nbconvert_exporter": "python",
   "pygments_lexer": "ipython3",
   "version": "3.10.16"
  }
 },
 "nbformat": 4,
 "nbformat_minor": 5
}
