{
 "cells": [
  {
   "cell_type": "code",
   "execution_count": null,
   "id": "3b95b90b",
   "metadata": {},
   "outputs": [],
   "source": [
    "%pip install modelscope transformers peft diffusers torch accelerate"
   ]
  },
  {
   "cell_type": "code",
   "execution_count": null,
   "id": "aa8ec53a",
   "metadata": {},
   "outputs": [],
   "source": [
    "#模型下载\n",
    "\n",
    "from modelscope import snapshot_download\n",
    "model_dir = snapshot_download('Qwen/Qwen3-0.6B',local_dir ='./Qwen3-0.6B')"
   ]
  }
 ],
 "metadata": {
  "kernelspec": {
   "display_name": "modelscope",
   "language": "python",
   "name": "python3"
  },
  "language_info": {
   "codemirror_mode": {
    "name": "ipython",
    "version": 3
   },
   "file_extension": ".py",
   "mimetype": "text/x-python",
   "name": "python",
   "nbconvert_exporter": "python",
   "pygments_lexer": "ipython3",
   "version": "3.10.16"
  }
 },
 "nbformat": 4,
 "nbformat_minor": 5
}
