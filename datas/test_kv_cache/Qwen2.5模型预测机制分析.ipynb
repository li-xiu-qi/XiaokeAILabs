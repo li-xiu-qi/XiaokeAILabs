{
 "cells": [
  {
   "cell_type": "markdown",
   "id": "56d0aa29",
   "metadata": {},
   "source": [
    "# 深度解析Qwen2.5模型预测机制：从因果语言建模到Token生成的完整流程\n",
    "\n",
    "## 概述\n",
    "\n",
    "本Notebook将通过实际的代码演示，深入探索Qwen2.5模型的预测机制，揭开Transformer模型因果语言建模的预测行为是如何进行的。\n",
    "\n",
    "### 学习目标\n",
    "- 理解Qwen2.5模型的加载和基本配置\n",
    "- 掌握模型输出的logits结构及其含义\n",
    "- 深入了解因果语言建模中每个位置的预测机制\n",
    "- 理解为什么模型要为每个位置都生成预测\n",
    "- 学习实际文本生成时如何利用这些预测\n",
    "\n",
    "> **提示**: 本次使用的模型参数相对较小，在CPU上也能轻松完成实验！"
   ]
  },
  {
   "cell_type": "markdown",
   "id": "01ffd8b5",
   "metadata": {},
   "source": [
    "## 1. 环境准备\n",
    "\n",
    "首先，让我们准备必要的开发环境和依赖库："
   ]
  },
  {
   "cell_type": "code",
   "execution_count": 1,
   "id": "0170487a",
   "metadata": {},
   "outputs": [
    {
     "name": "stderr",
     "output_type": "stream",
     "text": [
      "c:\\Users\\k\\.conda\\envs\\bge\\lib\\site-packages\\tqdm\\auto.py:21: TqdmWarning: IProgress not found. Please update jupyter and ipywidgets. See https://ipywidgets.readthedocs.io/en/stable/user_install.html\n",
      "  from .autonotebook import tqdm as notebook_tqdm\n"
     ]
    },
    {
     "name": "stdout",
     "output_type": "stream",
     "text": [
      "库导入完成！\n",
      "PyTorch版本: 2.6.0+cpu\n",
      "设备信息: CPU模式\n"
     ]
    }
   ],
   "source": [
    "# 导入必要的库\n",
    "import torch\n",
    "import time\n",
    "import matplotlib.pyplot as plt\n",
    "from transformers import AutoTokenizer, AutoModelForCausalLM\n",
    "import numpy as np\n",
    "from typing import Optional, Tuple\n",
    "import gc\n",
    "\n",
    "# 设置随机种子确保结果可重现\n",
    "torch.manual_seed(42)\n",
    "np.random.seed(42)\n",
    "\n",
    "print(\"库导入完成！\")\n",
    "print(f\"PyTorch版本: {torch.__version__}\")\n",
    "print(f\"设备信息: {'CUDA可用' if torch.cuda.is_available() else 'CPU模式'}\")"
   ]
  },
  {
   "cell_type": "markdown",
   "id": "e293c13a",
   "metadata": {},
   "source": [
    "## 2. 模型下载\n",
    "\n",
    "在开始分析之前，我们需要先下载Qwen模型。如果你还没有下载模型，可以按照以下步骤进行：\n",
    "\n",
    "### 安装必要的依赖\n",
    "\n",
    "首先在终端中运行以下命令安装所需的Python包：\n",
    "\n",
    "```bash\n",
    "pip install modelscope transformers peft diffusers torch accelerate\n",
    "```"
   ]
  },
  {
   "cell_type": "code",
   "execution_count": null,
   "id": "040bb853",
   "metadata": {},
   "outputs": [],
   "source": [
    "# 使用ModelScope下载模型（推荐）\n",
    "# 如果你已经下载了模型，可以跳过这个cell\n",
    "\n",
    "try:\n",
    "    from modelscope import snapshot_download\n",
    "    \n",
    "    # 下载Qwen2.5-0.5B-Instruct模型到本地\n",
    "    print(\"开始下载模型...\")\n",
    "    model_dir = snapshot_download('Qwen/Qwen2.5-0.5B-Instruct', local_dir='./models/Qwen2.5-0.5B-Instruct')\n",
    "    print(f\"模型已下载到: {model_dir}\")\n",
    "    \n",
    "except ImportError:\n",
    "    print(\"ModelScope未安装，请先运行: pip install modelscope\")\n",
    "except Exception as e:\n",
    "    print(f\"下载过程中出现错误: {e}\")\n",
    "    print(\"你可以手动下载模型或使用其他方法\")"
   ]
  },
  {
   "cell_type": "code",
   "execution_count": null,
   "id": "7167ac38",
   "metadata": {},
   "outputs": [],
   "source": [
    "# 可选：使用Hugging Face Hub下载\n",
    "# 如果ModelScope下载失败，可以尝试这个方法\n",
    "\n",
    "# try:\n",
    "#     from huggingface_hub import snapshot_download\n",
    "#     \n",
    "#     # 使用Hugging Face Hub下载\n",
    "#     model_dir = snapshot_download(\n",
    "#         repo_id=\"Qwen/Qwen2.5-0.5B-Instruct\",\n",
    "#         local_dir=\"./models/Qwen2.5-0.5B-Instruct\"\n",
    "#     )\n",
    "#     print(f\"模型已下载到: {model_dir}\")\n",
    "# except Exception as e:\n",
    "#     print(f\"下载失败: {e}\")\n",
    "\n",
    "print(\"如果下载失败，请检查网络连接或手动下载模型\")"
   ]
  },
  {
   "cell_type": "markdown",
   "id": "ea2022f5",
   "metadata": {},
   "source": [
    "## 3. 加载Qwen2.5模型\n",
    "\n",
    "接下来，我们加载已下载的Qwen2.5模型。请根据你的实际情况修改模型路径："
   ]
  },
  {
   "cell_type": "code",
   "execution_count": 2,
   "id": "bffe1c41",
   "metadata": {},
   "outputs": [
    {
     "name": "stdout",
     "output_type": "stream",
     "text": [
      "尝试从 C:\\Users\\k\\Desktop\\BaiduSyncdisk\\baidu_sync_documents\\hf_models\\Qwen2.5-0.5B-Instruct 加载模型...\n",
      "✅ 成功从 C:\\Users\\k\\Desktop\\BaiduSyncdisk\\baidu_sync_documents\\hf_models\\Qwen2.5-0.5B-Instruct 加载模型！\n"
     ]
    }
   ],
   "source": [
    "# 模型路径配置\n",
    "# 请根据你实际下载的路径修改下面的路径\n",
    "model_path_options = [\n",
    "    r\"C:\\Users\\k\\Desktop\\BaiduSyncdisk\\baidu_sync_documents\\hf_models\\Qwen2.5-0.5B-Instruct\"\n",
    "    # \"./models/Qwen2.5-0.5B-Instruct\",  # 使用上面下载代码的路径\n",
    "    # \"Qwen/Qwen2.5-0.5B-Instruct\",      # 直接从ModelScope加载\n",
    "]\n",
    "\n",
    "# 尝试加载模型\n",
    "model = None\n",
    "tokenizer = None\n",
    "model_path = model_path_options[0]  # 默认使用第一个路径\n",
    "\n",
    "print(f\"尝试从 {model_path} 加载模型...\")\n",
    "\n",
    "# 加载tokenizer和模型\n",
    "tokenizer = AutoTokenizer.from_pretrained(model_path, trust_remote_code=True)\n",
    "model = AutoModelForCausalLM.from_pretrained(\n",
    "    model_path,\n",
    "    torch_dtype=torch.float16,  # 使用半精度浮点数节省内存\n",
    "    device_map=\"auto\",          # 自动分配设备\n",
    "    trust_remote_code=True      # 信任远程代码\n",
    ")\n",
    "\n",
    "print(f\"✅ 成功从 {model_path} 加载模型！\")\n"
   ]
  },
  {
   "cell_type": "code",
   "execution_count": 3,
   "id": "30895783",
   "metadata": {},
   "outputs": [
    {
     "name": "stdout",
     "output_type": "stream",
     "text": [
      "\n",
      "=== 模型加载完成！===\n",
      "模型参数量: 494,032,768\n",
      "模型类型: qwen2\n",
      "模型词汇表大小: 151665\n",
      "模型设备: cpu\n",
      "模型数据类型: torch.float16\n"
     ]
    }
   ],
   "source": [
    "# 设置pad_token\n",
    "if tokenizer.pad_token is None:\n",
    "    print(\"未设置pad_token，使用eos_token作为pad_token\")\n",
    "    tokenizer.pad_token = tokenizer.eos_token\n",
    "\n",
    "# 显示模型信息\n",
    "print(\"\\n=== 模型加载完成！===\")\n",
    "print(f\"模型参数量: {model.num_parameters():,}\")\n",
    "print(f\"模型类型: {model.config.model_type}\")\n",
    "print(f\"模型词汇表大小: {len(tokenizer)}\")\n",
    "print(f\"模型设备: {next(model.parameters()).device}\")\n",
    "print(f\"模型数据类型: {next(model.parameters()).dtype}\")"
   ]
  },
  {
   "cell_type": "markdown",
   "id": "f29df37a",
   "metadata": {},
   "source": [
    "## 4. 模型推理的第一步：理解输入输出\n",
    "\n",
    "让我们从一个简单的例子开始，看看模型是如何处理输入文本的："
   ]
  },
  {
   "cell_type": "code",
   "execution_count": 4,
   "id": "b7e5c0ad",
   "metadata": {},
   "outputs": [
    {
     "name": "stdout",
     "output_type": "stream",
     "text": [
      "输入文本: '人工智能的未来发展趋势是'\n",
      "输入token IDs: tensor([[104455,   9370, 100353, 108616,  20412]])\n",
      "输入tokens: ['äººå·¥æĻºèĥ½', 'çļĦ', 'æľªæĿ¥', 'åıĳå±ķè¶ĭåĬ¿', 'æĺ¯']\n",
      "序列长度: 5\n",
      "\n",
      "=== Token详细信息 ===\n",
      "位置 0: ID=104455, Token='人工智能'\n",
      "位置 1: ID=9370, Token='的'\n",
      "位置 2: ID=100353, Token='未来'\n",
      "位置 3: ID=108616, Token='发展趋势'\n",
      "位置 4: ID=20412, Token='是'\n"
     ]
    }
   ],
   "source": [
    "# 准备测试文本\n",
    "test_prompt = \"人工智能的未来发展趋势是\"\n",
    "\n",
    "# 编码输入文本\n",
    "input_ids = tokenizer.encode(test_prompt, return_tensors=\"pt\").to(model.device)\n",
    "\n",
    "print(f\"输入文本: '{test_prompt}'\")\n",
    "print(f\"输入token IDs: {input_ids}\")\n",
    "print(f\"输入tokens: {tokenizer.convert_ids_to_tokens(input_ids[0])}\")\n",
    "print(f\"序列长度: {input_ids.shape[1]}\")\n",
    "\n",
    "# 显示每个token的详细信息\n",
    "print(\"\\n=== Token详细信息 ===\")\n",
    "for i, token_id in enumerate(input_ids[0]):\n",
    "    token_text = tokenizer.decode([token_id])\n",
    "    print(f\"位置 {i}: ID={token_id}, Token='{token_text}'\")"
   ]
  },
  {
   "cell_type": "markdown",
   "id": "635962c6",
   "metadata": {},
   "source": [
    "## 5. 深入理解模型输出结构\n",
    "\n",
    "现在让我们看看模型的完整输出结构，这是理解预测机制的关键："
   ]
  },
  {
   "cell_type": "code",
   "execution_count": 5,
   "id": "5806fae8",
   "metadata": {},
   "outputs": [
    {
     "name": "stdout",
     "output_type": "stream",
     "text": [
      "=== 模型输出结构分析 ===\n",
      "输出类型: <class 'transformers.modeling_outputs.CausalLMOutputWithPast'>\n",
      "输出包含的主要组件:\n",
      "  - logits: torch.Size([1, 5, 151936])\n",
      "  - past_key_values: <class 'transformers.cache_utils.DynamicCache'>\n",
      "  - hidden_states: None\n",
      "  - attentions: None\n",
      "\n",
      "=== Logits维度详解 ===\n",
      "Logits形状: torch.Size([1, 5, 151936])\n",
      "各维度含义:\n",
      "  第1维 (batch_size): 1 - 批次大小\n",
      "  第2维 (sequence_length): 5 - 序列长度\n",
      "  第3维 (vocab_size): 151936 - 词汇表大小\n"
     ]
    }
   ],
   "source": [
    "# 获取模型输出\n",
    "with torch.no_grad():\n",
    "    outputs = model(input_ids)\n",
    "    \n",
    "    # 分析输出结构\n",
    "    print(\"=== 模型输出结构分析 ===\")\n",
    "    print(f\"输出类型: {type(outputs)}\")\n",
    "    print(f\"输出包含的主要组件:\")\n",
    "    print(f\"  - logits: {outputs.logits.shape}\")\n",
    "    print(f\"  - past_key_values: {type(outputs.past_key_values)}\")\n",
    "    print(f\"  - hidden_states: {outputs.hidden_states}\")\n",
    "    print(f\"  - attentions: {outputs.attentions}\")\n",
    "    \n",
    "    print(\"\\n=== Logits维度详解 ===\")\n",
    "    print(f\"Logits形状: {outputs.logits.shape}\")\n",
    "    print(f\"各维度含义:\")\n",
    "    print(f\"  第1维 (batch_size): {outputs.logits.shape[0]} - 批次大小\")\n",
    "    print(f\"  第2维 (sequence_length): {outputs.logits.shape[1]} - 序列长度\") \n",
    "    print(f\"  第3维 (vocab_size): {outputs.logits.shape[2]} - 词汇表大小\")"
   ]
  },
  {
   "cell_type": "code",
   "execution_count": 6,
   "id": "4269196b",
   "metadata": {},
   "outputs": [
    {
     "name": "stdout",
     "output_type": "stream",
     "text": [
      "=== 每个位置的最高概率预测 ===\n",
      "位置 0: '的' (ID: 9370)\n",
      "       基于上下文: '人工智能'\n",
      "       预测下一个token: '的'\n",
      "--------------------------------------------------\n",
      "位置 1: '“' (ID: 2073)\n",
      "       基于上下文: '人工智能的'\n",
      "       预测下一个token: '“'\n",
      "--------------------------------------------------\n",
      "位置 2: '是什么' (ID: 102021)\n",
      "       基于上下文: '人工智能的未来'\n",
      "       预测下一个token: '是什么'\n",
      "--------------------------------------------------\n",
      "位置 3: '是什么' (ID: 102021)\n",
      "       基于上下文: '人工智能的未来发展趋势'\n",
      "       预测下一个token: '是什么'\n",
      "--------------------------------------------------\n",
      "位置 4: '____' (ID: 2130)\n",
      "       基于上下文: '人工智能的未来发展趋势是'\n",
      "       预测下一个token: '____'\n",
      "--------------------------------------------------\n"
     ]
    }
   ],
   "source": [
    "# 查看每个位置的预测\n",
    "with torch.no_grad():\n",
    "    outputs = model(input_ids)\n",
    "    \n",
    "    print(\"=== 每个位置的最高概率预测 ===\")\n",
    "    for i in range(outputs.logits.shape[1]):\n",
    "        predicted_token_id = outputs.logits[0, i, :].argmax()\n",
    "        predicted_token_text = tokenizer.decode([predicted_token_id])\n",
    "        \n",
    "        # 获取当前位置的输入上下文\n",
    "        current_context = tokenizer.decode(input_ids[0][:i+1])\n",
    "        \n",
    "        print(f\"位置 {i}: '{predicted_token_text}' (ID: {predicted_token_id})\")\n",
    "        print(f\"       基于上下文: '{current_context}'\")\n",
    "        print(f\"       预测下一个token: '{predicted_token_text}'\")\n",
    "        print(\"-\" * 50)"
   ]
  },
  {
   "cell_type": "markdown",
   "id": "ff6b6ee5",
   "metadata": {},
   "source": [
    "## 6. 因果语言建模的深层原理\n",
    "\n",
    "为什么模型要为每个位置都生成预测呢？让我们通过详细的分析来理解这个设计："
   ]
  },
  {
   "cell_type": "code",
   "execution_count": 7,
   "id": "661e79e6",
   "metadata": {},
   "outputs": [
    {
     "name": "stdout",
     "output_type": "stream",
     "text": [
      "输入序列: '人工智能的未来发展趋势是'\n",
      "输入tokens: ['äººå·¥æĻºèĥ½', 'çļĦ', 'æľªæĿ¥', 'åıĳå±ķè¶ĭåĬ¿', 'æĺ¯']\n",
      "================================================================================\n",
      "📍 位置 0:\n",
      "   可见上下文: '人工智能'\n",
      "   可见tokens: ['äººå·¥æĻºèĥ½']\n",
      "   预测下一个token: '的' (ID: 9370)\n",
      "   💡 模型看到第1个token后，预测第2个token\n",
      "------------------------------------------------------------\n",
      "📍 位置 1:\n",
      "   可见上下文: '人工智能的'\n",
      "   可见tokens: ['äººå·¥æĻºèĥ½', 'çļĦ']\n",
      "   预测下一个token: '“' (ID: 2073)\n",
      "   🔄 模型看到前2个token后，预测第3个token\n",
      "------------------------------------------------------------\n",
      "📍 位置 2:\n",
      "   可见上下文: '人工智能的未来'\n",
      "   可见tokens: ['äººå·¥æĻºèĥ½', 'çļĦ', 'æľªæĿ¥']\n",
      "   预测下一个token: '是什么' (ID: 102021)\n",
      "   🔄 模型看到前3个token后，预测第4个token\n",
      "------------------------------------------------------------\n",
      "📍 位置 3:\n",
      "   可见上下文: '人工智能的未来发展趋势'\n",
      "   可见tokens: ['äººå·¥æĻºèĥ½', 'çļĦ', 'æľªæĿ¥', 'åıĳå±ķè¶ĭåĬ¿']\n",
      "   预测下一个token: '是什么' (ID: 102021)\n",
      "   🔄 模型看到前4个token后，预测第5个token\n",
      "------------------------------------------------------------\n",
      "📍 位置 4:\n",
      "   可见上下文: '人工智能的未来发展趋势是'\n",
      "   可见tokens: ['äººå·¥æĻºèĥ½', 'çļĦ', 'æľªæĿ¥', 'åıĳå±ķè¶ĭåĬ¿', 'æĺ¯']\n",
      "   预测下一个token: '____' (ID: 2130)\n",
      "   🎯 模型看到完整输入后，预测下一个新token (用于生成)\n",
      "------------------------------------------------------------\n"
     ]
    }
   ],
   "source": [
    "def analyze_predictions_detailed(model, tokenizer, input_ids):\n",
    "    \"\"\"详细分析每个位置的预测机制\"\"\"\n",
    "    with torch.no_grad():\n",
    "        outputs = model(input_ids)\n",
    "        \n",
    "        print(f\"输入序列: '{tokenizer.decode(input_ids[0])}'\")\n",
    "        print(f\"输入tokens: {tokenizer.convert_ids_to_tokens(input_ids[0])}\")\n",
    "        print(\"=\" * 80)\n",
    "        \n",
    "        for i in range(outputs.logits.shape[1]):\n",
    "            # 获取预测结果\n",
    "            predicted_token_id = outputs.logits[0, i, :].argmax()\n",
    "            predicted_token_text = tokenizer.decode([predicted_token_id])\n",
    "            \n",
    "            # 显示当前位置能看到的上下文\n",
    "            visible_tokens = tokenizer.convert_ids_to_tokens(input_ids[0][:i+1])\n",
    "            visible_text = tokenizer.decode(input_ids[0][:i+1])\n",
    "            \n",
    "            print(f\"📍 位置 {i}:\")\n",
    "            print(f\"   可见上下文: '{visible_text}'\")\n",
    "            print(f\"   可见tokens: {visible_tokens}\")\n",
    "            print(f\"   预测下一个token: '{predicted_token_text}' (ID: {predicted_token_id})\")\n",
    "            \n",
    "            # 解释预测含义\n",
    "            if i == 0:\n",
    "                print(f\"   💡 模型看到第1个token后，预测第2个token\")\n",
    "            elif i == outputs.logits.shape[1] - 1:\n",
    "                print(f\"   🎯 模型看到完整输入后，预测下一个新token (用于生成)\")\n",
    "            else:\n",
    "                print(f\"   🔄 模型看到前{i+1}个token后，预测第{i+2}个token\")\n",
    "            \n",
    "            print(\"-\" * 60)\n",
    "\n",
    "# 运行详细分析\n",
    "analyze_predictions_detailed(model, tokenizer, input_ids)"
   ]
  },
  {
   "cell_type": "markdown",
   "id": "fb0f8bb2",
   "metadata": {},
   "source": [
    "## 7. 设计原理：为什么要这样做？\n",
    "\n",
    "这种设计背后有三个重要原因："
   ]
  },
  {
   "cell_type": "code",
   "execution_count": 8,
   "id": "920a3088",
   "metadata": {},
   "outputs": [
    {
     "name": "stdout",
     "output_type": "stream",
     "text": [
      "🎓 训练时的优势:\n",
      "   在训练过程中，一个长度为N的序列可以提供N个训练样本\n",
      "   例如序列 '人工智能的未来' 可以提供以下训练样本:\n",
      "   输入: '人工智能' → 目标: '的'\n",
      "   输入: '人工智能的' → 目标: '未来'\n"
     ]
    }
   ],
   "source": [
    "def explain_training_efficiency(tokenizer):\n",
    "    \"\"\"解释训练时的效率优势\"\"\"\n",
    "    print(\"🎓 训练时的优势:\")\n",
    "    print(\"   在训练过程中，一个长度为N的序列可以提供N个训练样本\")\n",
    "    print(\"   例如序列 '人工智能的未来' 可以提供以下训练样本:\")\n",
    "    \n",
    "    example_text = \"人工智能的未来\"\n",
    "    tokens = tokenizer.encode(example_text)\n",
    "    \n",
    "    for i in range(len(tokens) - 1):\n",
    "        input_part = tokenizer.decode(tokens[:i+1])\n",
    "        target_token = tokenizer.decode([tokens[i+1]])\n",
    "        print(f\"   输入: '{input_part}' → 目标: '{target_token}'\")\n",
    "\n",
    "explain_training_efficiency(tokenizer)"
   ]
  },
  {
   "cell_type": "code",
   "execution_count": 9,
   "id": "9152ca73",
   "metadata": {},
   "outputs": [
    {
     "name": "stdout",
     "output_type": "stream",
     "text": [
      "\n",
      "🔒 因果性约束:\n",
      "   每个位置只能看到它之前的token（包括自己）\n",
      "   这确保了模型不会 '作弊' - 不能看到未来的信息\n",
      "\n",
      "   因果掩码示例 (序列长度=5):\n",
      "   位置  0  1  2  3  4\n",
      "   0    1  0  0  0  0\n",
      "   1    1  1  0  0  0\n",
      "   2    1  1  1  0  0\n",
      "   3    1  1  1  1  0\n",
      "   4    1  1  1  1  1\n",
      "\n",
      "   1表示可以看到，0表示被掩码\n"
     ]
    },
    {
     "data": {
      "image/png": "[encoded data removed]",
      "text/plain": [
       "<Figure size 800x600 with 2 Axes>"
      ]
     },
     "metadata": {},
     "output_type": "display_data"
    }
   ],
   "source": [
    "def explain_causal_mask():\n",
    "    \"\"\"解释因果注意力掩码\"\"\"\n",
    "    print(\"\\n🔒 因果性约束:\")\n",
    "    print(\"   每个位置只能看到它之前的token（包括自己）\")\n",
    "    print(\"   这确保了模型不会 '作弊' - 不能看到未来的信息\")\n",
    "    \n",
    "    # 创建一个简化的因果掩码示例\n",
    "    seq_len = 5\n",
    "    causal_mask = torch.tril(torch.ones(seq_len, seq_len))\n",
    "    \n",
    "    print(f\"\\n   因果掩码示例 (序列长度={seq_len}):\")\n",
    "    print(\"   位置  0  1  2  3  4\")\n",
    "    for i in range(seq_len):\n",
    "        mask_str = \"  \".join([str(int(causal_mask[i, j])) for j in range(seq_len)])\n",
    "        print(f\"   {i}    {mask_str}\")\n",
    "    \n",
    "    print(\"\\n   1表示可以看到，0表示被掩码\")\n",
    "    \n",
    "    return causal_mask\n",
    "\n",
    "# 可视化因果掩码\n",
    "mask = explain_causal_mask()\n",
    "\n",
    "# 绘制掩码矩阵\n",
    "plt.figure(figsize=(8, 6))\n",
    "plt.imshow(mask.numpy(), cmap='Blues', alpha=0.8)\n",
    "plt.title('因果注意力掩码可视化')\n",
    "plt.xlabel('Key位置')\n",
    "plt.ylabel('Query位置')\n",
    "plt.colorbar(label='掩码值 (1=可见, 0=掩码)')\n",
    "\n",
    "# 添加网格和标注\n",
    "for i in range(5):\n",
    "    for j in range(5):\n",
    "        plt.text(j, i, str(int(mask[i, j])), ha='center', va='center', \n",
    "                color='white' if mask[i, j] > 0.5 else 'black', fontsize=12)\n",
    "\n",
    "plt.tight_layout()\n",
    "plt.show()"
   ]
  },
  {
   "cell_type": "code",
   "execution_count": 10,
   "id": "e3c9af16",
   "metadata": {},
   "outputs": [
    {
     "name": "stdout",
     "output_type": "stream",
     "text": [
      "\n",
      "⚡ 并行计算优势:\n",
      "   所有位置的预测可以同时计算\n",
      "   这比串行生成每个token快得多\n",
      "   在推理时，我们只关心最后一个位置的预测\n",
      "\n",
      "   训练时的并行优势:\n",
      "   - 传统方法: 逐个预测每个位置 O(n) 次前向传播\n",
      "   - 并行方法: 一次前向传播获得所有位置的预测 O(1)\n",
      "   - 效率提升: n倍加速（n为序列长度）\n"
     ]
    }
   ],
   "source": [
    "def explain_parallel_computation():\n",
    "    \"\"\"解释并行计算的优势\"\"\"\n",
    "    print(\"\\n⚡ 并行计算优势:\")\n",
    "    print(\"   所有位置的预测可以同时计算\")\n",
    "    print(\"   这比串行生成每个token快得多\")\n",
    "    print(\"   在推理时，我们只关心最后一个位置的预测\")\n",
    "    \n",
    "    # 简单的性能对比演示\n",
    "    print(\"\\n   训练时的并行优势:\")\n",
    "    print(\"   - 传统方法: 逐个预测每个位置 O(n) 次前向传播\")\n",
    "    print(\"   - 并行方法: 一次前向传播获得所有位置的预测 O(1)\")\n",
    "    print(\"   - 效率提升: n倍加速（n为序列长度）\")\n",
    "\n",
    "explain_parallel_computation()"
   ]
  },
  {
   "cell_type": "markdown",
   "id": "d3127a1a",
   "metadata": {},
   "source": [
    "## 8. 实际应用：文本生成\n",
    "\n",
    "在实际的文本生成中，我们主要关心基于完整输入的预测，即最后一个位置的输出："
   ]
  },
  {
   "cell_type": "code",
   "execution_count": 11,
   "id": "21f4e4d2",
   "metadata": {},
   "outputs": [
    {
     "name": "stdout",
     "output_type": "stream",
     "text": [
      "🚀 开始生成，初始文本: '人工智能的未来发展趋势是'\n",
      "生成参数: max_tokens=8, temperature=0.7, top_k=50\n",
      "------------------------------------------------------------\n",
      "   步骤 1: 添加 '____' (概率: 0.3169)\n",
      "           当前文本: '人工智能的未来发展趋势是____'\n",
      "   步骤 2: 添加 '\n",
      "' (概率: 0.4207)\n",
      "           当前文本: '人工智能的未来发展趋势是____\n",
      "'\n",
      "   步骤 3: 添加 'A' (概率: 0.9995)\n",
      "           当前文本: '人工智能的未来发展趋势是____\n",
      "A'\n",
      "   步骤 4: 添加 '.' (概率: 1.0000)\n",
      "           当前文本: '人工智能的未来发展趋势是____\n",
      "A.'\n",
      "   步骤 5: 添加 ' �' (概率: 0.1421)\n",
      "           当前文本: '人工智能的未来发展趋势是____\n",
      "A. �'\n",
      "   步骤 6: 添加 '�' (概率: 0.8569)\n",
      "           当前文本: '人工智能的未来发展趋势是____\n",
      "A. ��'\n",
      "   步骤 7: 添加 '�' (概率: 0.9995)\n",
      "           当前文本: '人工智能的未来发展趋势是____\n",
      "A. ���'\n",
      "   步骤 8: 添加 '能' (概率: 0.9927)\n",
      "           当前文本: '人工智能的未来发展趋势是____\n",
      "A. ���能'\n",
      "\n",
      "✨ 最终生成结果: '人工智能的未来发展趋势是____\n",
      "A. ���能'\n"
     ]
    }
   ],
   "source": [
    "def generate_next_tokens(model, tokenizer, text, max_new_tokens=10, temperature=1.0, top_k=50):\n",
    "    \"\"\"演示实际的文本生成过程\"\"\"\n",
    "    print(f\"🚀 开始生成，初始文本: '{text}'\")\n",
    "    print(f\"生成参数: max_tokens={max_new_tokens}, temperature={temperature}, top_k={top_k}\")\n",
    "    print(\"-\" * 60)\n",
    "    \n",
    "    # 编码初始文本\n",
    "    input_ids = tokenizer.encode(text, return_tensors=\"pt\").to(model.device)\n",
    "    generated_text = text\n",
    "    \n",
    "    for step in range(max_new_tokens):\n",
    "        with torch.no_grad():\n",
    "            # 模型推理\n",
    "            outputs = model(input_ids)\n",
    "            \n",
    "            # 获取最后一个位置的预测（这是我们关心的）\n",
    "            next_token_logits = outputs.logits[:, -1, :] / temperature\n",
    "            \n",
    "            # 应用top-k采样\n",
    "            if top_k > 0:\n",
    "                # 获取top-k的logits\n",
    "                top_k_logits, top_k_indices = torch.topk(next_token_logits, top_k)\n",
    "                # 创建掩码，只保留top-k的logits\n",
    "                mask = torch.full_like(next_token_logits, float('-inf'))\n",
    "                mask.scatter_(1, top_k_indices, top_k_logits)\n",
    "                next_token_logits = mask\n",
    "            \n",
    "            # 计算概率分布并采样\n",
    "            probabilities = torch.softmax(next_token_logits, dim=-1)\n",
    "            next_token_id = torch.multinomial(probabilities, 1)\n",
    "            \n",
    "            # 解码新token\n",
    "            next_token_text = tokenizer.decode(next_token_id[0])\n",
    "            generated_text += next_token_text\n",
    "            \n",
    "            # 显示生成过程\n",
    "            prob = probabilities[0, next_token_id[0]].item()\n",
    "            print(f\"   步骤 {step+1}: 添加 '{next_token_text}' (概率: {prob:.4f})\")\n",
    "            print(f\"           当前文本: '{generated_text}'\")\n",
    "            \n",
    "            # 更新输入序列\n",
    "            input_ids = torch.cat([input_ids, next_token_id], dim=-1)\n",
    "            \n",
    "            # 简单的停止条件\n",
    "            if next_token_id[0].item() == tokenizer.eos_token_id:\n",
    "                print(\"   🛑 遇到结束符，停止生成\")\n",
    "                break\n",
    "                \n",
    "            # 避免生成过长序列\n",
    "            if input_ids.shape[1] > 100:\n",
    "                print(\"   🛑 达到最大长度限制，停止生成\")\n",
    "                break\n",
    "    \n",
    "    return generated_text\n",
    "\n",
    "# 演示生成过程\n",
    "final_text = generate_next_tokens(model, tokenizer, test_prompt, max_new_tokens=8, temperature=0.7)\n",
    "print(f\"\\n✨ 最终生成结果: '{final_text}'\")"
   ]
  },
  {
   "cell_type": "markdown",
   "id": "1520d648",
   "metadata": {},
   "source": [
    "## 9. 性能优化：KV Cache的作用\n",
    "\n",
    "在实际应用中，为了提高生成效率，模型使用了KV Cache机制："
   ]
  },
  {
   "cell_type": "code",
   "execution_count": 15,
   "id": "c3a3d3bd",
   "metadata": {},
   "outputs": [
    {
     "name": "stdout",
     "output_type": "stream",
     "text": [
      "🧠 KV Cache机制:\n",
      "   在生成过程中，之前计算的key和value被缓存\n",
      "   这避免了重复计算，大大提高了生成速度\n",
      "\n",
      "=== KV Cache演示 ===\n",
      "   输入文本: '人工智能的未来发展趋势是'\n",
      "past_key_values的形状: 24\n",
      "past_key_values: torch.Size([1, 2, 5, 64])\n",
      "   初始序列长度: 5\n",
      "   KV Cache类型: <class 'transformers.cache_utils.DynamicCache'>\n",
      "   第一次推理时间: 0.1697秒\n",
      "   不使用KV Cache的推理时间: 0.1258秒\n",
      "   使用KV Cache的推理时间: 0.0554秒\n",
      "   性能提升: 2.27x\n",
      "\n",
      "   使用KV Cache后的输入长度: 1\n",
      "   这样就避免了重新计算整个序列的注意力\n",
      "   结果差异: 0.000000 (应该接近0)\n"
     ]
    }
   ],
   "source": [
    "def demonstrate_kv_cache(model, tokenizer, test_prompt):\n",
    "    \"\"\"演示KV Cache的作用\"\"\"\n",
    "    print(\"🧠 KV Cache机制:\")\n",
    "    print(\"   在生成过程中，之前计算的key和value被缓存\")\n",
    "    print(\"   这避免了重复计算，大大提高了生成速度\")\n",
    "    \n",
    "    # 演示使用KV Cache的生成\n",
    "    input_ids = tokenizer.encode(test_prompt, return_tensors=\"pt\").to(model.device)\n",
    "    \n",
    "    print(f\"\\n=== KV Cache演示 ===\")\n",
    "    \n",
    "    with torch.no_grad():\n",
    "        # 第一次推理，获取past_key_values\n",
    "        start_time = time.time()\n",
    "        outputs = model(input_ids)\n",
    "        first_inference_time = time.time() - start_time\n",
    "        \n",
    "        past_key_values = outputs.past_key_values\n",
    "        print(f\"   输入文本: '{test_prompt}'\")\n",
    "        print(f\"past_key_values的形状: {len(past_key_values)}\")\n",
    "        print(f\"past_key_values: {past_key_values[0][0].shape}\")# (batch_size, num_heads, seq_len, head_dim\n",
    "        print(f\"   初始序列长度: {input_ids.shape[1]}\")\n",
    "        print(f\"   KV Cache类型: {type(past_key_values)}\")\n",
    "        print(f\"   第一次推理时间: {first_inference_time:.4f}秒\")\n",
    "        \n",
    "        # 生成下一个token时，只需要计算新token的部分\n",
    "        next_token_id = torch.argmax(outputs.logits[:, -1, :], dim=-1, keepdim=True)\n",
    "        \n",
    "        # 不使用KV Cache的推理\n",
    "        new_input_ids = torch.cat([input_ids, next_token_id], dim=-1)\n",
    "        start_time = time.time()\n",
    "        outputs_no_cache = model(new_input_ids)\n",
    "        no_cache_time = time.time() - start_time\n",
    "        \n",
    "        # 使用KV Cache的推理\n",
    "        start_time = time.time()\n",
    "        outputs_with_cache = model(next_token_id, past_key_values=past_key_values)\n",
    "        cache_time = time.time() - start_time\n",
    "        \n",
    "        print(f\"   不使用KV Cache的推理时间: {no_cache_time:.4f}秒\")\n",
    "        print(f\"   使用KV Cache的推理时间: {cache_time:.4f}秒\")\n",
    "        print(f\"   性能提升: {no_cache_time/cache_time:.2f}x\")\n",
    "        \n",
    "        print(f\"\\n   使用KV Cache后的输入长度: {next_token_id.shape[1]}\")\n",
    "        print(f\"   这样就避免了重新计算整个序列的注意力\")\n",
    "        \n",
    "        # 验证结果一致性\n",
    "        logits_no_cache = outputs_no_cache.logits[:, -1, :]\n",
    "        logits_with_cache = outputs_with_cache.logits[:, -1, :]\n",
    "        max_diff = torch.max(torch.abs(logits_no_cache - logits_with_cache)).item()\n",
    "        print(f\"   结果差异: {max_diff:.6f} (应该接近0)\")\n",
    "\n",
    "demonstrate_kv_cache(model, tokenizer, test_prompt)"
   ]
  },
  {
   "cell_type": "markdown",
   "id": "80d497a8",
   "metadata": {},
   "source": [
    "## 10. 概率分布分析\n",
    "\n",
    "让我们进一步分析模型输出的概率分布："
   ]
  },
  {
   "cell_type": "code",
   "execution_count": 16,
   "id": "145249bd",
   "metadata": {},
   "outputs": [
    {
     "name": "stdout",
     "output_type": "stream",
     "text": [
      "📊 位置 -1 的Top-10预测:\n",
      "   基于上下文: '人工智能的未来发展趋势是'\n",
      "--------------------------------------------------\n",
      "    1. '____' (概率: 0.1505, ID: 2130)\n",
      "    2. '？\n",
      "' (概率: 0.1084, ID: 94432)\n",
      "    3. '（' (概率: 0.0844, ID: 9909)\n",
      "    4. '\n",
      "' (概率: 0.0459, ID: 198)\n",
      "    5. '？' (概率: 0.0402, ID: 11319)\n",
      "    6. '：' (概率: 0.0360, ID: 5122)\n",
      "    7. '怎' (概率: 0.0274, ID: 99387)\n",
      "    8. '人工智能' (概率: 0.0217, ID: 104455)\n",
      "    9. '哪些' (概率: 0.0185, ID: 102224)\n",
      "   10. '(' (概率: 0.0146, ID: 7)\n"
     ]
    },
    {
     "data": {
      "image/png": "[encoded data removed]",
      "text/plain": [
       "<Figure size 1200x600 with 1 Axes>"
      ]
     },
     "metadata": {},
     "output_type": "display_data"
    }
   ],
   "source": [
    "def analyze_probability_distribution(model, tokenizer, input_ids, position=-1, top_k=10):\n",
    "    \"\"\"分析指定位置的概率分布\"\"\"\n",
    "    with torch.no_grad():\n",
    "        outputs = model(input_ids)\n",
    "        logits = outputs.logits[0, position, :]  # 获取指定位置的logits\n",
    "        \n",
    "        # 应用softmax得到概率分布\n",
    "        probabilities = torch.softmax(logits, dim=-1)\n",
    "        \n",
    "        # 获取top-k概率最高的token\n",
    "        top_probs, top_indices = torch.topk(probabilities, top_k)\n",
    "        \n",
    "        print(f\"📊 位置 {position} 的Top-{top_k}预测:\")\n",
    "        print(f\"   基于上下文: '{tokenizer.decode(input_ids[0])}'\")\n",
    "        print(\"-\" * 50)\n",
    "        \n",
    "        for i, (prob, idx) in enumerate(zip(top_probs, top_indices)):\n",
    "            token_text = tokenizer.decode([idx])\n",
    "            print(f\"   {i+1:2d}. '{token_text}' (概率: {prob:.4f}, ID: {idx})\")\n",
    "        \n",
    "        return top_probs, top_indices\n",
    "\n",
    "# 分析最后一个位置的概率分布\n",
    "top_probs, top_indices = analyze_probability_distribution(model, tokenizer, input_ids, position=-1)\n",
    "\n",
    "# 可视化概率分布\n",
    "plt.figure(figsize=(12, 6))\n",
    "top_tokens = [tokenizer.decode([idx]) for idx in top_indices[:10]]\n",
    "top_probs_numpy = top_probs[:10].cpu().numpy()\n",
    "\n",
    "plt.bar(range(10), top_probs_numpy, alpha=0.7, color='skyblue')\n",
    "plt.xlabel('Token排名')\n",
    "plt.ylabel('概率')\n",
    "plt.title('Top-10 Token预测概率分布')\n",
    "plt.xticks(range(10), [f\"{i+1}\\n'{token}'\" for i, token in enumerate(top_tokens)], rotation=45)\n",
    "plt.grid(axis='y', alpha=0.3)\n",
    "\n",
    "# 添加数值标签\n",
    "for i, prob in enumerate(top_probs_numpy):\n",
    "    plt.text(i, prob + 0.001, f'{prob:.3f}', ha='center', va='bottom')\n",
    "\n",
    "plt.tight_layout()\n",
    "plt.show()"
   ]
  },
  {
   "cell_type": "code",
   "execution_count": null,
   "id": "8c5e10e6",
   "metadata": {},
   "outputs": [],
   "source": [
    "# 对比不同位置的预测质量\n",
    "print(\"\\n=== 不同位置的预测对比 ===\")\n",
    "\n",
    "with torch.no_grad():\n",
    "    outputs = model(input_ids)\n",
    "    \n",
    "    for pos in range(outputs.logits.shape[1]):\n",
    "        logits = outputs.logits[0, pos, :]\n",
    "        probabilities = torch.softmax(logits, dim=-1)\n",
    "        \n",
    "        # 计算概率分布的熵（不确定性指标）\n",
    "        entropy = -torch.sum(probabilities * torch.log(probabilities + 1e-10))\n",
    "        \n",
    "        # 获取最高概率\n",
    "        max_prob = torch.max(probabilities)\n",
    "        \n",
    "        # 获取预测的token\n",
    "        predicted_id = torch.argmax(probabilities)\n",
    "        predicted_token = tokenizer.decode([predicted_id])\n",
    "        \n",
    "        # 当前位置的上下文\n",
    "        context = tokenizer.decode(input_ids[0][:pos+1])\n",
    "        \n",
    "        print(f\"位置 {pos}: 上下文='{context}'\")\n",
    "        print(f\"        预测='{predicted_token}' (概率: {max_prob:.4f})\")\n",
    "        print(f\"        熵值: {entropy:.4f} (越低越确定)\")\n",
    "        print(\"-\" * 60)"
   ]
  },
  {
   "cell_type": "markdown",
   "id": "a72f9cb8",
   "metadata": {},
   "source": [
    "## 总结与思考\n",
    "\n",
    "通过这次深入的分析，我们揭示了Qwen2.5模型预测机制的几个关键要点：\n",
    "\n",
    "### 核心发现\n",
    "\n",
    "1. **多位置预测**: 模型为序列中的每个位置都生成对下一个token的预测\n",
    "2. **因果性约束**: 每个位置只能看到它之前的信息，确保了时序的合理性\n",
    "3. **训练效率**: 这种设计允许从单个序列中获得多个训练样本\n",
    "4. **生成应用**: 在实际生成时，我们主要关注基于完整输入的最后一个位置的预测\n",
    "\n",
    "### 实际应用价值\n",
    "\n",
    "理解这些机制对于：\n",
    "- **模型优化**: 帮助开发者更好地调优模型参数\n",
    "- **应用开发**: 指导如何更高效地使用模型进行文本生成\n",
    "- **问题诊断**: 当模型表现异常时，能够更准确地定位问题\n",
    "\n",
    "### 扩展思考\n",
    "\n",
    "1. **不同位置的预测质量**: 从我们的分析可以看出，序列后面的位置通常有更多上下文信息，预测可能更准确\n",
    "2. **注意力权重分析**: 可以进一步分析不同位置如何影响最终预测\n",
    "3. **多模态扩展**: 这种机制如何适用于图文多模态模型\n",
    "\n",
    "> **技术要点回顾**:\n",
    "> - Transformer模型使用因果语言建模，为每个位置预测下一个token\n",
    "> - 训练时利用所有位置的预测提高效率，推理时主要关注最后位置\n",
    "> - KV Cache机制在生成过程中显著提升性能\n",
    "> - 理解这些机制有助于更好地应用和优化大语言模型"
   ]
  },
  {
   "cell_type": "code",
   "execution_count": null,
   "id": "d5f2513d",
   "metadata": {},
   "outputs": [],
   "source": [
    "# 清理GPU内存（如果使用GPU）\n",
    "if torch.cuda.is_available():\n",
    "    torch.cuda.empty_cache()\n",
    "    \n",
    "print(\"🎉 实验完成！\")\n",
    "print(\"\\n希望这个Notebook帮助你更好地理解了Qwen2.5模型的预测机制！\")\n",
    "print(\"\\n相关资源:\")\n",
    "print(\"- Transformers官方文档: https://huggingface.co/docs/transformers/\")\n",
    "print(\"- Qwen2.5模型介绍: https://qwenlm.github.io/\")\n",
    "print(\"- 因果语言建模详解: https://huggingface.co/learn/nlp-course/chapter7/6\")"
   ]
  }
 ],
 "metadata": {
  "kernelspec": {
   "display_name": "bge",
   "language": "python",
   "name": "python3"
  },
  "language_info": {
   "codemirror_mode": {
    "name": "ipython",
    "version": 3
   },
   "file_extension": ".py",
   "mimetype": "text/x-python",
   "name": "python",
   "nbconvert_exporter": "python",
   "pygments_lexer": "ipython3",
   "version": "3.10.16"
  }
 },
 "nbformat": 4,
 "nbformat_minor": 5
}
