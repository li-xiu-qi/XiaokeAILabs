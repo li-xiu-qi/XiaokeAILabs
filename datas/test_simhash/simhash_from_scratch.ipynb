{
 "cells": [
  {
   "cell_type": "markdown",
   "id": "f31f6077",
   "metadata": {},
   "source": [
    "# SimHash 算法实现（从零开始）\n",
    "\n",
    "SimHash 是一种用于检测文本相似度的局部敏感哈希算法。它将文本转换为一个固定长度的指纹，使得相似的文本会产生相似的指纹。本notebook从零开始实现SimHash算法，不依赖任何专门的SimHash库。\n",
    "\n",
    "## SimHash 算法原理\n",
    "\n",
    "SimHash算法的基本步骤如下：\n",
    "\n",
    "1. **分词**：将文本分割成多个特征（如单词、n-gram等）\n",
    "2. **哈希**：对每个特征计算哈希值\n",
    "3. **加权**：对每个特征的哈希值进行加权（可用TF-IDF或其他权重计算方法）\n",
    "4. **合并**：将所有特征的加权哈希值进行合并\n",
    "5. **降维**：将合并结果转换为二进制形式的指纹\n",
    "\n",
    "我们将使用Python从零开始实现这个算法。"
   ]
  },
  {
   "cell_type": "markdown",
   "id": "b8d6caac",
   "metadata": {},
   "source": [
    "## 1. 安装必要的库\n",
    "\n",
    "首先，我们安装必要的库，但不会使用专门的SimHash库。"
   ]
  },
  {
   "cell_type": "code",
   "execution_count": 2,
   "id": "2a95f1e4",
   "metadata": {},
   "outputs": [],
   "source": [
    "# 安装必要的库\n",
    "!pip install jieba numpy matplotlib --quiet"
   ]
  },
  {
   "cell_type": "markdown",
   "id": "721417d3",
   "metadata": {},
   "source": [
    "## 2. 导入库"
   ]
  },
  {
   "cell_type": "code",
   "execution_count": 3,
   "id": "3cefc23d",
   "metadata": {},
   "outputs": [],
   "source": [
    "import jieba  # 用于中文分词\n",
    "import hashlib  # 用于计算哈希值\n",
    "import numpy as np\n",
    "import matplotlib.pyplot as plt\n",
    "import re\n",
    "from collections import Counter\n",
    "import random\n",
    "import requests\n",
    "from bs4 import BeautifulSoup"
   ]
  },
  {
   "cell_type": "markdown",
   "id": "ab36987c",
   "metadata": {},
   "source": [
    "## 3. 实现特征提取函数\n",
    "\n",
    "首先，我们需要一个函数来从文本中提取特征。对于中文，我们使用jieba分词；对于英文，我们可以使用n-gram。"
   ]
  },
  {
   "cell_type": "code",
   "execution_count": null,
   "id": "9bd751f3",
   "metadata": {},
   "outputs": [],
   "source": [
    "def extract_features(text, use_ngram=False, ngram_size=3):\n",
    "    \"\"\"\n",
    "    从文本中提取特征。\n",
    "    如果 use_ngram 为 True 且 ngram_size > 1，则生成词级别的 n-gram。\n",
    "    否则，生成词级别的 unigram (单个词)。\n",
    "    对于中文，使用jieba分词。\n",
    "    对于英文，使用空格分词。\n",
    "    \n",
    "    参数:\n",
    "    - text: 输入文本\n",
    "    - use_ngram: 是否使用n-gram\n",
    "    - ngram_size: n-gram的大小 (如果 use_ngram=True)\n",
    "    \n",
    "    返回:\n",
    "    - 特征列表 (字符串列表)\n",
    "    \"\"\"\n",
    "    text = text.lower()  # 转为小写\n",
    "    \n",
    "    words = []\n",
    "    # 判断是否包含中文字符\n",
    "    is_chinese = any('\\u4e00' <= char <= '\\u9fff' for char in text)\n",
    "    \n",
    "    if is_chinese:\n",
    "        # 对中文使用jieba分词\n",
    "        # jieba 应该在文件顶部导入\n",
    "        words = [word for word in jieba.cut(text) if word.strip()]\n",
    "    else:\n",
    "        # 对英文或其他语言使用简单的分词\n",
    "        processed_text = re.sub(r'[^\\w\\s]', '', text)  # 移除标点\n",
    "        processed_text = re.sub(r'\\s+', ' ', processed_text).strip()  # 标准化空格\n",
    "        words = [word for word in processed_text.split() if word.strip()]\n",
    "\n",
    "    if use_ngram and ngram_size > 1 and words:\n",
    "        if len(words) < ngram_size:\n",
    "            # 如果词数不足以构成一个n-gram，可以将所有词合并为一个特征\n",
    "            return [\"_\".join(words)] \n",
    "        # 生成词级别的 n-gram，用下划线连接\n",
    "        return [\"_\".join(words[i:i+ngram_size]) for i in range(len(words) - ngram_size + 1)]\n",
    "    elif words: # 返回 unigrams (单个词)\n",
    "        return words\n",
    "    else: # 如果没有词\n",
    "        return []"
   ]
  },
  {
   "cell_type": "markdown",
   "id": "47ecab9a",
   "metadata": {},
   "source": [
    "## 4. 计算特征权重\n",
    "\n",
    "在SimHash算法中，我们可以为不同的特征赋予不同的权重。这里我们使用词频作为权重。"
   ]
  },
  {
   "cell_type": "code",
   "execution_count": 5,
   "id": "9875ba39",
   "metadata": {},
   "outputs": [],
   "source": [
    "def calculate_weights(features):\n",
    "    \"\"\"\n",
    "    计算特征的权重（这里使用简单的词频）\n",
    "    \n",
    "    参数:\n",
    "    - features: 特征列表\n",
    "    \n",
    "    返回:\n",
    "    - 特征到权重的映射字典\n",
    "    \"\"\"\n",
    "    # 使用词频作为权重\n",
    "    counter = Counter(features)\n",
    "    total = sum(counter.values())\n",
    "    \n",
    "    # 返回特征权重字典\n",
    "    return {feature: count / total for feature, count in counter.items()}"
   ]
  },
  {
   "cell_type": "markdown",
   "id": "2748f47f",
   "metadata": {},
   "source": [
    "## 5. 实现SimHash算法核心函数"
   ]
  },
  {
   "cell_type": "code",
   "execution_count": 6,
   "id": "4fe25dba",
   "metadata": {},
   "outputs": [],
   "source": [
    "def simhash(features, weights=None, hash_bits=64):\n",
    "    \"\"\"\n",
    "    实现SimHash算法\n",
    "    \n",
    "    参数:\n",
    "    - features: 特征列表\n",
    "    - weights: 特征权重字典（如果为None，则每个特征权重相同）\n",
    "    - hash_bits: 生成的哈希值位数\n",
    "    \n",
    "    返回:\n",
    "    - simhash值（整数）\n",
    "    \"\"\"\n",
    "    if not features:\n",
    "        return 0\n",
    "    \n",
    "    # 如果没有提供权重，则所有特征权重相同\n",
    "    if weights is None:\n",
    "        weights = {feature: 1.0 for feature in features}\n",
    "    \n",
    "    # 初始化向量（长度为hash_bits）\n",
    "    v = [0] * hash_bits\n",
    "    \n",
    "    # 处理每个特征\n",
    "    for feature in features:\n",
    "        # 计算特征的哈希值\n",
    "        h = hashlib.md5(feature.encode('utf-8')).hexdigest()\n",
    "        \n",
    "        # 将哈希值转换为二进制形式\n",
    "        feature_hash = bin(int(h, 16))[2:].zfill(hash_bits)\n",
    "        if len(feature_hash) > hash_bits:\n",
    "            feature_hash = feature_hash[:hash_bits]\n",
    "        \n",
    "        weight = weights.get(feature, 1.0)\n",
    "        \n",
    "        # 根据哈希值更新向量\n",
    "        for i in range(min(hash_bits, len(feature_hash))):\n",
    "            if feature_hash[i] == '1':\n",
    "                v[i] += weight\n",
    "            else:\n",
    "                v[i] -= weight\n",
    "    \n",
    "    # 生成最终的simhash值\n",
    "    fingerprint = 0\n",
    "    for i in range(hash_bits):\n",
    "        if v[i] > 0:\n",
    "            fingerprint += (1 << i)\n",
    "    \n",
    "    return fingerprint"
   ]
  },
  {
   "cell_type": "markdown",
   "id": "2452ef67",
   "metadata": {},
   "source": [
    "## 6. 计算汉明距离\n",
    "\n",
    "汉明距离是指两个等长字符串对应位置上不同字符的数量。在SimHash中，我们使用汉明距离来衡量两个指纹的相似度。"
   ]
  },
  {
   "cell_type": "code",
   "execution_count": 7,
   "id": "b51fde10",
   "metadata": {},
   "outputs": [],
   "source": [
    "def hamming_distance(hash1, hash2, hash_bits=64):\n",
    "    \"\"\"\n",
    "    计算两个哈希值的汉明距离\n",
    "    \n",
    "    参数:\n",
    "    - hash1: 第一个哈希值\n",
    "    - hash2: 第二个哈希值\n",
    "    - hash_bits: 哈希值位数\n",
    "    \n",
    "    返回:\n",
    "    - 汉明距离\n",
    "    \"\"\"\n",
    "    # 异或操作：相同位为0，不同位为1\n",
    "    xor_result = hash1 ^ hash2\n",
    "    \n",
    "    # 计算异或结果中的1的个数，即为汉明距离\n",
    "    distance = bin(xor_result).count('1')\n",
    "    \n",
    "    return distance"
   ]
  },
  {
   "cell_type": "markdown",
   "id": "669c49f5",
   "metadata": {},
   "source": [
    "## 7. 计算两个文本的相似度"
   ]
  },
  {
   "cell_type": "code",
   "execution_count": 8,
   "id": "16578aea",
   "metadata": {},
   "outputs": [],
   "source": [
    "def calculate_similarity(hash1, hash2, hash_bits=64):\n",
    "    \"\"\"\n",
    "    根据汉明距离计算两个哈希值的相似度\n",
    "    \n",
    "    参数:\n",
    "    - hash1: 第一个哈希值\n",
    "    - hash2: 第二个哈希值\n",
    "    - hash_bits: 哈希值位数\n",
    "    \n",
    "    返回:\n",
    "    - 相似度（范围：0到1，越接近1表示越相似）\n",
    "    \"\"\"\n",
    "    distance = hamming_distance(hash1, hash2, hash_bits)\n",
    "    return 1.0 - (distance / hash_bits)"
   ]
  },
  {
   "cell_type": "markdown",
   "id": "aa6284ff",
   "metadata": {},
   "source": [
    "## 8. 创建SimHash索引\n",
    "\n",
    "为了高效地查找相似文档，我们实现一个简单的SimHash索引。"
   ]
  },
  {
   "cell_type": "code",
   "execution_count": 9,
   "id": "d9f7a56c",
   "metadata": {},
   "outputs": [],
   "source": [
    "class SimHashIndex:\n",
    "    \"\"\"\n",
    "    SimHash索引，用于存储文档的SimHash指纹并快速检索相似文档\n",
    "    \"\"\"\n",
    "    \n",
    "    def __init__(self, hash_bits=64, k=3):\n",
    "        \"\"\"\n",
    "        初始化SimHashIndex\n",
    "        \n",
    "        参数:\n",
    "        - hash_bits: SimHash指纹的位数\n",
    "        - k: 最大汉明距离阈值，小于等于此阈值的文档将被认为是相似的\n",
    "        \"\"\"\n",
    "        self.hash_bits = hash_bits\n",
    "        self.k = k\n",
    "        self.documents = {}  # 文档ID到SimHash指纹的映射\n",
    "    \n",
    "    def add(self, doc_id, doc_hash):\n",
    "        \"\"\"\n",
    "        添加文档到索引\n",
    "        \n",
    "        参数:\n",
    "        - doc_id: 文档ID\n",
    "        - doc_hash: 文档的SimHash指纹\n",
    "        \"\"\"\n",
    "        self.documents[doc_id] = doc_hash\n",
    "    \n",
    "    def get_near_duplicates(self, query_hash):\n",
    "        \"\"\"\n",
    "        查找与给定哈希值相似的文档\n",
    "        \n",
    "        参数:\n",
    "        - query_hash: 查询文档的SimHash指纹\n",
    "        \n",
    "        返回:\n",
    "        - 相似文档的ID列表\n",
    "        \"\"\"\n",
    "        results = []\n",
    "        \n",
    "        for doc_id, doc_hash in self.documents.items():\n",
    "            distance = hamming_distance(query_hash, doc_hash, self.hash_bits)\n",
    "            if distance <= self.k:\n",
    "                results.append((doc_id, distance))\n",
    "        \n",
    "        # 按汉明距离排序\n",
    "        results.sort(key=lambda x: x[1])\n",
    "        \n",
    "        return [doc_id for doc_id, _ in results]"
   ]
  },
  {
   "cell_type": "markdown",
   "id": "c95aa88d",
   "metadata": {},
   "source": [
    "## 9. 测试SimHash算法\n",
    "\n",
    "现在，我们来测试我们实现的SimHash算法。"
   ]
  },
  {
   "cell_type": "markdown",
   "id": "77f701d1",
   "metadata": {},
   "source": [
    "### 9.1 准备测试文本"
   ]
  },
  {
   "cell_type": "code",
   "execution_count": 10,
   "id": "3b1df452",
   "metadata": {},
   "outputs": [
    {
     "name": "stdout",
     "output_type": "stream",
     "text": [
      "示例文本:\n",
      "文本1: 你好，欢迎来到筱可AI研习社，我们一起学习人工智能。\n",
      "文本2: 你好，欢迎来到筱可AI研习社，我们一同学习人工智能技术。\n",
      "文本3: 今天天气真不错，阳光明媚。\n",
      "文本4: 你好，欢迎来到筱可AI研习社，我们一起学习人工智能。\n",
      "文本5: Hello, welcome to Xiaoke AI Labs, let's learn artificial intelligence together.\n"
     ]
    }
   ],
   "source": [
    "# 准备不同的示例文本\n",
    "text1 = \"你好，欢迎来到筱可AI研习社，我们一起学习人工智能。\"\n",
    "text2 = \"你好，欢迎来到筱可AI研习社，我们一同学习人工智能技术。\"  # 与text1相似\n",
    "text3 = \"今天天气真不错，阳光明媚。\"  # 与text1完全不同\n",
    "text4 = \"你好，欢迎来到筱可AI研习社，我们一起学习人工智能。\"  # 与text1完全相同\n",
    "text5 = \"Hello, welcome to Xiaoke AI Labs, let's learn artificial intelligence together.\"  # 英文，与text1意思相近\n",
    "\n",
    "# 打印测试文本\n",
    "print(\"示例文本:\")\n",
    "print(f\"文本1: {text1}\")\n",
    "print(f\"文本2: {text2}\")\n",
    "print(f\"文本3: {text3}\")\n",
    "print(f\"文本4: {text4}\")\n",
    "print(f\"文本5: {text5}\")"
   ]
  },
  {
   "cell_type": "markdown",
   "id": "34709829",
   "metadata": {},
   "source": [
    "### 9.2 测试特征提取"
   ]
  },
  {
   "cell_type": "code",
   "execution_count": 11,
   "id": "b296b696",
   "metadata": {},
   "outputs": [
    {
     "name": "stderr",
     "output_type": "stream",
     "text": [
      "Building prefix dict from the default dictionary ...\n",
      "Loading model from cache C:\\Users\\k\\AppData\\Local\\Temp\\jieba.cache\n",
      "Loading model cost 0.555 seconds.\n",
      "Prefix dict has been built successfully.\n"
     ]
    },
    {
     "name": "stdout",
     "output_type": "stream",
     "text": [
      "文本1的特征: ['你好', '，', '欢迎', '来到', '筱可', 'ai', '研习', '社', '，', '我们', '一起', '学习', '人工智能', '。']\n",
      "文本2的特征: ['你好', '，', '欢迎', '来到', '筱可', 'ai', '研习', '社', '，', '我们', '一同', '学习', '人工智能', '技术', '。']\n",
      "文本3的特征: ['今天天气', '真不错', '，', '阳光明媚', '。']\n",
      "文本5的特征（使用3-gram）: ['hel', 'ell', 'llo', 'lo ', 'o w', ' we', 'wel', 'elc', 'lco', 'com']...（共73个）\n"
     ]
    }
   ],
   "source": [
    "# 对每个文本提取特征\n",
    "features1 = extract_features(text1)\n",
    "features2 = extract_features(text2)\n",
    "features3 = extract_features(text3)\n",
    "features4 = extract_features(text4)\n",
    "features5 = extract_features(text5, use_ngram=True)\n",
    "\n",
    "# 打印特征\n",
    "print(f\"文本1的特征: {features1}\")\n",
    "print(f\"文本2的特征: {features2}\")\n",
    "print(f\"文本3的特征: {features3}\")\n",
    "print(f\"文本5的特征（使用3-gram）: {features5[:10]}...（共{len(features5)}个）\")"
   ]
  },
  {
   "cell_type": "markdown",
   "id": "eb14dcd1",
   "metadata": {},
   "source": [
    "### 9.3 计算SimHash值"
   ]
  },
  {
   "cell_type": "code",
   "execution_count": 12,
   "id": "83782995",
   "metadata": {},
   "outputs": [
    {
     "name": "stdout",
     "output_type": "stream",
     "text": [
      "文本1的SimHash: 1000110101000001010001010001110000110000101000010001110111011011\n",
      "文本2的SimHash: 1000111101100011000001010001110000110001111000010001110011011011\n",
      "文本3的SimHash: 1111001111100111010001010100010001110100011100011001100010011001\n",
      "文本4的SimHash: 1000110101000001010001010001110000110000101000010001110111011011\n",
      "文本5的SimHash: 0000001101111011101110001101001000111110011000011011110110000101\n"
     ]
    }
   ],
   "source": [
    "# 计算每个文本的权重\n",
    "weights1 = calculate_weights(features1)\n",
    "weights2 = calculate_weights(features2)\n",
    "weights3 = calculate_weights(features3)\n",
    "weights4 = calculate_weights(features4)\n",
    "weights5 = calculate_weights(features5)\n",
    "\n",
    "# 计算每个文本的SimHash值\n",
    "hash1 = simhash(features1, weights1)\n",
    "hash2 = simhash(features2, weights2)\n",
    "hash3 = simhash(features3, weights3)\n",
    "hash4 = simhash(features4, weights4)\n",
    "hash5 = simhash(features5, weights5)\n",
    "\n",
    "# 打印哈希值（以二进制形式）\n",
    "print(f\"文本1的SimHash: {bin(hash1)[2:].zfill(64)}\")\n",
    "print(f\"文本2的SimHash: {bin(hash2)[2:].zfill(64)}\")\n",
    "print(f\"文本3的SimHash: {bin(hash3)[2:].zfill(64)}\")\n",
    "print(f\"文本4的SimHash: {bin(hash4)[2:].zfill(64)}\")\n",
    "print(f\"文本5的SimHash: {bin(hash5)[2:].zfill(64)}\")"
   ]
  },
  {
   "cell_type": "markdown",
   "id": "83047275",
   "metadata": {},
   "source": [
    "### 9.4 计算文本间的汉明距离和相似度"
   ]
  },
  {
   "cell_type": "code",
   "execution_count": 13,
   "id": "41c11e1d",
   "metadata": {},
   "outputs": [
    {
     "name": "stdout",
     "output_type": "stream",
     "text": [
      "文本1和文本2的汉明距离: 7, 相似度: 0.8906\n",
      "文本1和文本3的汉明距离: 23, 相似度: 0.6406\n",
      "文本1和文本4的汉明距离: 0, 相似度: 1.0000 (完全相同文本)\n",
      "文本1和文本5的汉明距离: 32, 相似度: 0.5000 (中英文表达相同意思)\n"
     ]
    }
   ],
   "source": [
    "# 计算各文本之间的汉明距离\n",
    "dist1_2 = hamming_distance(hash1, hash2)  # 相似文本\n",
    "dist1_3 = hamming_distance(hash1, hash3)  # 不相似文本\n",
    "dist1_4 = hamming_distance(hash1, hash4)  # 完全相同文本\n",
    "dist1_5 = hamming_distance(hash1, hash5)  # 中英文表达相同意思\n",
    "\n",
    "# 计算相似度\n",
    "sim1_2 = calculate_similarity(hash1, hash2)\n",
    "sim1_3 = calculate_similarity(hash1, hash3)\n",
    "sim1_4 = calculate_similarity(hash1, hash4)\n",
    "sim1_5 = calculate_similarity(hash1, hash5)\n",
    "\n",
    "# 打印结果\n",
    "print(f\"文本1和文本2的汉明距离: {dist1_2}, 相似度: {sim1_2:.4f}\")\n",
    "print(f\"文本1和文本3的汉明距离: {dist1_3}, 相似度: {sim1_3:.4f}\")\n",
    "print(f\"文本1和文本4的汉明距离: {dist1_4}, 相似度: {sim1_4:.4f} (完全相同文本)\")\n",
    "print(f\"文本1和文本5的汉明距离: {dist1_5}, 相似度: {sim1_5:.4f} (中英文表达相同意思)\")"
   ]
  },
  {
   "cell_type": "markdown",
   "id": "5033b10e",
   "metadata": {},
   "source": [
    "## 10. 使用SimHashIndex进行批量查重测试"
   ]
  },
  {
   "cell_type": "code",
   "execution_count": 14,
   "id": "ed088a89",
   "metadata": {},
   "outputs": [
    {
     "name": "stdout",
     "output_type": "stream",
     "text": [
      "测试文档集:\n",
      "文档 0: 这是一篇关于机器学习的文章。\n",
      "文档 1: 机器学习是人工智能的一个分支。\n",
      "文档 2: 深度学习是机器学习的一个重要领域。\n",
      "文档 3: 这是一篇关于机器学习的文章，讨论了其最新进展。\n",
      "文档 4: 自然语言处理是人工智能的另一个重要方向。\n",
      "文档 5: 今天的天气非常晴朗。\n",
      "文档 6: 这是一篇关于机器学习的文章。\n"
     ]
    }
   ],
   "source": [
    "# 准备一组用于测试的文档\n",
    "documents = [\n",
    "    \"这是一篇关于机器学习的文章。\",\n",
    "    \"机器学习是人工智能的一个分支。\",\n",
    "    \"深度学习是机器学习的一个重要领域。\",\n",
    "    \"这是一篇关于机器学习的文章，讨论了其最新进展。\",  # 与第一篇相似\n",
    "    \"自然语言处理是人工智能的另一个重要方向。\",\n",
    "    \"今天的天气非常晴朗。\",\n",
    "    \"这是一篇关于机器学习的文章。\"  # 与第一篇完全相同\n",
    "]\n",
    "\n",
    "print(\"测试文档集:\")\n",
    "for i, doc in enumerate(documents):\n",
    "    print(f\"文档 {i}: {doc}\")"
   ]
  },
  {
   "cell_type": "code",
   "execution_count": 15,
   "id": "f693a5fd",
   "metadata": {},
   "outputs": [
    {
     "name": "stdout",
     "output_type": "stream",
     "text": [
      "文档 0 的SimHash: 0010010000101110...（省略）\n",
      "文档 1 的SimHash: 0011010100100101...（省略）\n",
      "文档 2 的SimHash: 0010100100101100...（省略）\n",
      "文档 3 的SimHash: 1010011101101110...（省略）\n",
      "文档 4 的SimHash: 0110001100000101...（省略）\n",
      "文档 5 的SimHash: 1010001011100101...（省略）\n",
      "文档 6 的SimHash: 0010010000101110...（省略）\n"
     ]
    }
   ],
   "source": [
    "# 创建SimHashIndex实例\n",
    "index = SimHashIndex(hash_bits=64, k=3)\n",
    "\n",
    "# 为每个文档计算SimHash并添加到索引\n",
    "doc_hashes = []\n",
    "for i, doc in enumerate(documents):\n",
    "    features = extract_features(doc)\n",
    "    weights = calculate_weights(features)\n",
    "    doc_hash = simhash(features, weights)\n",
    "    doc_hashes.append(doc_hash)\n",
    "    index.add(i, doc_hash)\n",
    "    print(f\"文档 {i} 的SimHash: {bin(doc_hash)[2:].zfill(64)[:16]}...（省略）\")"
   ]
  },
  {
   "cell_type": "code",
   "execution_count": 16,
   "id": "4010d1c7",
   "metadata": {},
   "outputs": [
    {
     "name": "stdout",
     "output_type": "stream",
     "text": [
      "新文档: 这是一篇讨论机器学习最新进展的文章。\n",
      "新文档的SimHash: 1010011001100110...（省略）\n"
     ]
    }
   ],
   "source": [
    "# 新文档用于测试\n",
    "new_doc = \"这是一篇讨论机器学习最新进展的文章。\"\n",
    "print(f\"新文档: {new_doc}\")\n",
    "\n",
    "# 计算新文档的SimHash\n",
    "new_features = extract_features(new_doc)\n",
    "new_weights = calculate_weights(new_features)\n",
    "new_hash = simhash(new_features, new_weights)\n",
    "print(f\"新文档的SimHash: {bin(new_hash)[2:].zfill(64)[:16]}...（省略）\")"
   ]
  },
  {
   "cell_type": "code",
   "execution_count": 17,
   "id": "9219ef07",
   "metadata": {},
   "outputs": [
    {
     "name": "stdout",
     "output_type": "stream",
     "text": [
      "与新文档相似的文档ID: []\n",
      "未找到相似文档。\n"
     ]
    }
   ],
   "source": [
    "# 查找相似文档\n",
    "similar_docs = index.get_near_duplicates(new_hash)\n",
    "print(f\"与新文档相似的文档ID: {similar_docs}\")\n",
    "\n",
    "# 显示相似文档详情\n",
    "if similar_docs:\n",
    "    print(\"相似文档详情:\")\n",
    "    for doc_id in similar_docs:\n",
    "        print(f\"- 文档 {doc_id}: '{documents[doc_id]}'\")\n",
    "        ham_dist = hamming_distance(new_hash, doc_hashes[doc_id])\n",
    "        similarity = calculate_similarity(new_hash, doc_hashes[doc_id])\n",
    "        print(f\"  汉明距离: {ham_dist}, 相似度: {similarity:.4f}\")\n",
    "else:\n",
    "    print(\"未找到相似文档。\")"
   ]
  },
  {
   "cell_type": "markdown",
   "id": "7aa2974b",
   "metadata": {},
   "source": [
    "## 11. 文本变化敏感性实验\n",
    "\n",
    "这个实验模拟文本内容的渐进变化，观察SimHash对文本变化的敏感程度。"
   ]
  },
  {
   "cell_type": "markdown",
   "id": "fa65fca2",
   "metadata": {},
   "source": [
    "### 11.1 获取实验用文本"
   ]
  },
  {
   "cell_type": "code",
   "execution_count": null,
   "id": "46b87822",
   "metadata": {},
   "outputs": [
    {
     "name": "stdout",
     "output_type": "stream",
     "text": [
      "获取到维基百科文本，长度: 57725 字符\n",
      "文本预览: Machine learning (ML) is a field of study in artificial intelligence concerned with the development ...\n"
     ]
    }
   ],
   "source": [
    "# 从维基百科获取文章内容\n",
    "url = \"https://en.wikipedia.org/wiki/Machine_learning\"\n",
    "response = requests.get(url)\n",
    "\n",
    "if response.status_code == 200:\n",
    "    soup = BeautifulSoup(response.text, 'html.parser')\n",
    "    content = soup.find('div', {'id': 'mw-content-text'})\n",
    "    \n",
    "    if (content):\n",
    "        # 清理内容，移除不需要的元素\n",
    "        for element in content.find_all(['table', 'style', 'script', 'sup', 'span']):\n",
    "            element.decompose()\n",
    "        \n",
    "        # 提取段落文本\n",
    "        paragraphs = content.find_all('p')\n",
    "        wiki_text = ' '.join([p.get_text() for p in paragraphs])\n",
    "        \n",
    "        # 清理文本\n",
    "        wiki_text = ' '.join(wiki_text.split())\n",
    "        print(f\"获取到维基百科文本，长度: {len(wiki_text)} 字符\")\n",
    "        print(f\"文本预览: {wiki_text[:100]}...\")\n",
    "    else:\n",
    "        print(\"无法找到主要内容\")\n",
    "        wiki_text = \"Machine learning is a field of study that focuses on algorithms and statistical models that computers use to perform tasks without explicit instructions.\"\n",
    "else:\n",
    "    print(f\"请求失败: {response.status_code}\")\n",
    "    wiki_text = \"Machine learning is a field of study that focuses on algorithms and statistical models that computers use to perform tasks without explicit instructions.\""
   ]
  },
  {
   "cell_type": "markdown",
   "id": "7db23365",
   "metadata": {},
   "source": [
    "### 11.2 提取文本特征并计算原始SimHash值"
   ]
  },
  {
   "cell_type": "code",
   "execution_count": 19,
   "id": "9490c33d",
   "metadata": {},
   "outputs": [
    {
     "name": "stdout",
     "output_type": "stream",
     "text": [
      "原始文本特征数量: 56395\n",
      "前10个特征示例: ['mac', 'ach', 'chi', 'hin', 'ine', 'ne ', 'e l', ' le', 'lea', 'ear']\n",
      "原始文本的SimHash值: 1101011101101010...（省略）\n"
     ]
    }
   ],
   "source": [
    "# 提取原始文本特征\n",
    "wiki_features = extract_features(wiki_text, use_ngram=True)\n",
    "print(f\"原始文本特征数量: {len(wiki_features)}\")\n",
    "print(f\"前10个特征示例: {wiki_features[:10]}\")\n",
    "\n",
    "# 计算特征权重\n",
    "wiki_weights = calculate_weights(wiki_features)\n",
    "\n",
    "# 计算原始文本的SimHash\n",
    "original_hash = simhash(wiki_features, wiki_weights)\n",
    "print(f\"原始文本的SimHash值: {bin(original_hash)[2:].zfill(64)[:16]}...（省略）\")"
   ]
  },
  {
   "cell_type": "markdown",
   "id": "bc88b738",
   "metadata": {},
   "source": [
    "### 11.3 模拟文本变化"
   ]
  },
  {
   "cell_type": "code",
   "execution_count": 20,
   "id": "206ce6b9",
   "metadata": {},
   "outputs": [],
   "source": [
    "def simulate_text_change(features, change_percent):\n",
    "    \"\"\"\n",
    "    模拟文本变化，通过随机删除一定比例的特征\n",
    "    \n",
    "    参数:\n",
    "    - features: 原始特征列表\n",
    "    - change_percent: 要变化的百分比\n",
    "    \n",
    "    返回:\n",
    "    - 变化后的特征列表\n",
    "    \"\"\"\n",
    "    # 计算要删除的特征数量\n",
    "    num_to_remove = int(len(features) * change_percent / 100)\n",
    "    \n",
    "    # 克隆原始特征列表\n",
    "    modified_features = features.copy()\n",
    "    \n",
    "    # 随机删除特征\n",
    "    if num_to_remove > 0:\n",
    "        indices_to_remove = random.sample(range(len(features)), num_to_remove)\n",
    "        modified_features = [feat for i, feat in enumerate(features) if i not in indices_to_remove]\n",
    "    \n",
    "    return modified_features"
   ]
  },
  {
   "cell_type": "markdown",
   "id": "be365056",
   "metadata": {},
   "source": [
    "### 11.4 设置实验参数"
   ]
  },
  {
   "cell_type": "code",
   "execution_count": 25,
   "id": "13ad3f67",
   "metadata": {},
   "outputs": [],
   "source": [
    "# 设置不同的文本变化比例\n",
    "change_percentages = [10, 20, 30, 40, 50, 60, 70, 80, 90]\n",
    "hamming_distances = []\n",
    "similarities = []"
   ]
  },
  {
   "cell_type": "markdown",
   "id": "331b5d93",
   "metadata": {},
   "source": [
    "### 11.5 执行实验"
   ]
  },
  {
   "cell_type": "code",
   "execution_count": 26,
   "id": "34cdd33d",
   "metadata": {},
   "outputs": [
    {
     "name": "stdout",
     "output_type": "stream",
     "text": [
      "文本变化10%后特征数量: 50756\n",
      "文本变化10%: 汉明距离 = 0, 相似度 = 1.0000\n",
      "文本变化20%后特征数量: 45116\n",
      "文本变化20%: 汉明距离 = 1, 相似度 = 0.9844\n",
      "文本变化30%后特征数量: 39477\n",
      "文本变化30%: 汉明距离 = 0, 相似度 = 1.0000\n",
      "文本变化40%后特征数量: 33837\n",
      "文本变化40%: 汉明距离 = 3, 相似度 = 0.9531\n",
      "文本变化50%后特征数量: 28198\n",
      "文本变化50%: 汉明距离 = 5, 相似度 = 0.9219\n",
      "文本变化60%后特征数量: 22558\n",
      "文本变化60%: 汉明距离 = 2, 相似度 = 0.9688\n",
      "文本变化70%后特征数量: 16919\n",
      "文本变化70%: 汉明距离 = 4, 相似度 = 0.9375\n",
      "文本变化80%后特征数量: 11279\n",
      "文本变化80%: 汉明距离 = 4, 相似度 = 0.9375\n",
      "文本变化90%后特征数量: 5640\n",
      "文本变化90%: 汉明距离 = 6, 相似度 = 0.9062\n"
     ]
    }
   ],
   "source": [
    "# 对每个变化比例执行实验\n",
    "for percent in change_percentages:\n",
    "    # 模拟文本变化\n",
    "    modified_features = simulate_text_change(wiki_features, percent)\n",
    "    print(f\"文本变化{percent}%后特征数量: {len(modified_features)}\")\n",
    "    \n",
    "    # 计算修改后的特征权重\n",
    "    modified_weights = calculate_weights(modified_features)\n",
    "    \n",
    "    # 计算修改后的SimHash\n",
    "    modified_hash = simhash(modified_features, modified_weights)\n",
    "    \n",
    "    # 计算汉明距离\n",
    "    ham_dist = hamming_distance(original_hash, modified_hash)\n",
    "    \n",
    "    # 计算相似度\n",
    "    similarity = calculate_similarity(original_hash, modified_hash)\n",
    "    \n",
    "    # 记录结果\n",
    "    hamming_distances.append(ham_dist)\n",
    "    similarities.append(similarity)\n",
    "    \n",
    "    print(f\"文本变化{percent}%: 汉明距离 = {ham_dist}, 相似度 = {similarity:.4f}\")"
   ]
  },
  {
   "cell_type": "markdown",
   "id": "611fb25a",
   "metadata": {},
   "source": [
    "### 11.6 可视化实验结果"
   ]
  },
  {
   "cell_type": "code",
   "execution_count": 27,
   "id": "88a46df0",
   "metadata": {},
   "outputs": [
    {
     "data": {
      "image/png": "[encoded data removed]",
      "text/plain": [
       "<Figure size 1400x600 with 2 Axes>"
      ]
     },
     "metadata": {},
     "output_type": "display_data"
    }
   ],
   "source": [
    "# 设置simhei字体\n",
    "plt.rcParams['font.sans-serif'] = ['SimHei']  # 设置中文字体\n",
    "plt.rcParams['axes.unicode_minus'] = False  # 显示负号\n",
    "# 设置图表\n",
    "plt.figure(figsize=(14, 6))\n",
    "\n",
    "# 绘制汉明距离随变化比例的变化\n",
    "plt.subplot(1, 2, 1)\n",
    "plt.plot(change_percentages, hamming_distances, 'o-', color='blue', linewidth=2, markersize=8)\n",
    "plt.title('汉明距离随文本变化比例的变化', fontsize=14)\n",
    "plt.xlabel('文本变化比例 (%)', fontsize=12)\n",
    "plt.ylabel('汉明距离', fontsize=12)\n",
    "plt.grid(True, linestyle='--', alpha=0.7)\n",
    "plt.xticks(change_percentages)\n",
    "\n",
    "# 绘制相似度随变化比例的变化\n",
    "plt.subplot(1, 2, 2)\n",
    "plt.plot(change_percentages, similarities, 'o-', color='green', linewidth=2, markersize=8)\n",
    "plt.title('相似度随文本变化比例的变化', fontsize=14)\n",
    "plt.xlabel('文本变化比例 (%)', fontsize=12)\n",
    "plt.ylabel('相似度', fontsize=12)\n",
    "plt.grid(True, linestyle='--', alpha=0.7)\n",
    "plt.xticks(change_percentages)\n",
    "\n",
    "plt.tight_layout()\n",
    "plt.show()"
   ]
  },
  {
   "cell_type": "markdown",
   "id": "005b655b",
   "metadata": {},
   "source": [
    "## 12. SimHash的优化与改进\n",
    "\n",
    "我们已经实现了基本的SimHash算法，但还可以通过以下方式进行优化："
   ]
  },
  {
   "cell_type": "code",
   "execution_count": null,
   "id": "f717677b",
   "metadata": {},
   "outputs": [],
   "source": [
    "# 使用TF-IDF权重而非简单词频\n",
    "def calculate_tfidf_weights(document_features, all_documents_features):\n",
    "    \"\"\"\n",
    "    计算TF-IDF权重\n",
    "    \n",
    "    参数:\n",
    "    - document_features: 当前文档的特征列表\n",
    "    - all_documents_features: 所有文档的特征列表的列表\n",
    "    \n",
    "    返回:\n",
    "    - 特征到TF-IDF权重的映射字典\n",
    "    \"\"\"\n",
    "    # 计算TF (词频)\n",
    "    tf = Counter(document_features)\n",
    "    \n",
    "    # 计算IDF (逆文档频率)\n",
    "    num_docs = len(all_documents_features)\n",
    "    idf = {}\n",
    "    \n",
    "    # 统计包含每个特征的文档数\n",
    "    for feature in set(document_features):\n",
    "        doc_count = sum(1 for doc_features in all_documents_features if feature in doc_features)\n",
    "        idf[feature] = np.log(num_docs / (1 + doc_count))\n",
    "    \n",
    "    # 计算TF-IDF\n",
    "    tfidf = {}\n",
    "    doc_length = len(document_features)\n",
    "    for feature, freq in tf.items():\n",
    "        tf_value = freq / doc_length  # 归一化的TF值\n",
    "        tfidf[feature] = tf_value * idf.get(feature, 0)\n",
    "    \n",
    "    return tfidf"
   ]
  },
  {
   "cell_type": "code",
   "execution_count": null,
   "id": "99c2335c",
   "metadata": {},
   "outputs": [],
   "source": [
    "# 使用特征提取的优化版本\n",
    "def enhanced_extract_features(text, use_tfidf=False, all_documents=None, use_ngram=False, ngram_size=3):\n",
    "    \"\"\"\n",
    "    优化版本的特征提取，可以使用TF-IDF\n",
    "    \n",
    "    参数:\n",
    "    - text: 输入文本\n",
    "    - use_tfidf: 是否使用TF-IDF权重\n",
    "    - all_documents: 所有文档的列表，用于计算IDF\n",
    "    - use_ngram: 是否使用n-gram\n",
    "    - ngram_size: n-gram的大小\n",
    "    \n",
    "    返回:\n",
    "    - 特征列表和权重字典\n",
    "    \"\"\"\n",
    "    # 提取特征\n",
    "    features = extract_features(text, use_ngram, ngram_size)\n",
    "    \n",
    "    # 如果使用TF-IDF且提供了所有文档\n",
    "    if use_tfidf and all_documents is not None:\n",
    "        all_features = [extract_features(doc, use_ngram, ngram_size) for doc in all_documents]\n",
    "        weights = calculate_tfidf_weights(features, all_features)\n",
    "    else:\n",
    "        weights = calculate_weights(features)\n",
    "    \n",
    "    return features, weights"
   ]
  },
  {
   "cell_type": "markdown",
   "id": "baf0d489",
   "metadata": {},
   "source": [
    "## 13. 优化版SimHash测试"
   ]
  },
  {
   "cell_type": "code",
   "execution_count": null,
   "id": "a2f36831",
   "metadata": {},
   "outputs": [],
   "source": [
    "# 以第一组文档为例，使用TF-IDF权重\n",
    "all_documents = documents\n",
    "enhanced_doc_hashes = []\n",
    "\n",
    "for i, doc in enumerate(documents):\n",
    "    features, weights = enhanced_extract_features(doc, use_tfidf=True, all_documents=all_documents, use_ngram=True)\n",
    "    doc_hash = simhash(features, weights)\n",
    "    enhanced_doc_hashes.append(doc_hash)\n",
    "    print(f\"文档 {i} 的增强SimHash: {bin(doc_hash)[2:].zfill(64)[:16]}...（省略）\")"
   ]
  },
  {
   "cell_type": "code",
   "execution_count": null,
   "id": "e15d45a8",
   "metadata": {},
   "outputs": [],
   "source": [
    "# 测试新文档的相似度检测\n",
    "new_doc = \"这是一篇讨论机器学习最新进展的文章。\"\n",
    "new_features, new_weights = enhanced_extract_features(new_doc, use_tfidf=True, all_documents=all_documents + [new_doc], use_ngram=True)\n",
    "new_hash = simhash(new_features, new_weights)\n",
    "\n",
    "print(f\"新文档: {new_doc}\")\n",
    "print(f\"新文档的增强SimHash: {bin(new_hash)[2:].zfill(64)[:16]}...（省略）\")\n",
    "\n",
    "# 检测相似文档\n",
    "print(\"相似文档:\")\n",
    "for i, doc_hash in enumerate(enhanced_doc_hashes):\n",
    "    distance = hamming_distance(new_hash, doc_hash)\n",
    "    similarity = calculate_similarity(new_hash, doc_hash)\n",
    "    if distance <= 3:  # 汉明距离阈值为3\n",
    "        print(f\"文档 {i}: '{documents[i]}'\")\n",
    "        print(f\"  汉明距离: {distance}, 相似度: {similarity:.4f}\")"
   ]
  },
  {
   "cell_type": "markdown",
   "id": "908220f0",
   "metadata": {},
   "source": [
    "## 14. 总结与结论\n",
    "\n",
    "1. **SimHash算法特点**:\n",
    "   - SimHash是一种局部敏感哈希算法，能将任意长度的文本映射为固定长度的二进制指纹。\n",
    "   - 相似文本的SimHash指纹之间汉明距离较小，不相似文本之间汉明距离较大。\n",
    "   \n",
    "2. **实现要点**:\n",
    "   - 分词和特征提取是SimHash算法的关键步骤，对结果有重要影响。\n",
    "   - 特征权重计算方法（如简单词频或TF-IDF）会影响最终的哈希值。\n",
    "   - 哈希位数和汉明距离阈值需要根据实际应用场景调整。\n",
    "\n",
    "3. **应用场景**:\n",
    "   - 大规模文本查重，如网页去重、新闻聚类、抄袭检测等。\n",
    "   - 相似文档快速检索。\n",
    "\n",
    "4. **性能与准确性**:\n",
    "   - SimHash计算速度快，内存占用少，适合处理大规模文本数据。\n",
    "   - 通过调整参数和优化算法，可以在性能和准确性之间取得良好平衡。\n",
    "\n",
    "5. **优化方向**:\n",
    "   - 更好的特征提取方法，如使用语义相关的特征。\n",
    "   - 更精确的权重计算，如使用TF-IDF或其他语义权重。\n",
    "   - 哈希函数的选择对结果也有影响，可以尝试不同的哈希函数。"
   ]
  }
 ],
 "metadata": {
  "kernelspec": {
   "display_name": "XiaokeAILabs",
   "language": "python",
   "name": "python3"
  },
  "language_info": {
   "codemirror_mode": {
    "name": "ipython",
    "version": 3
   },
   "file_extension": ".py",
   "mimetype": "text/x-python",
   "name": "python",
   "nbconvert_exporter": "python",
   "pygments_lexer": "ipython3",
   "version": "3.10.16"
  }
 },
 "nbformat": 4,
 "nbformat_minor": 5
}
