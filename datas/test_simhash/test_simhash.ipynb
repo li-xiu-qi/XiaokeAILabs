{
 "cells": [
  {
   "cell_type": "markdown",
   "id": "a6483753",
   "metadata": {},
   "source": [
    "# SimHash 算法实现文本查重（基于词级别的特征）\n",
    "\n",
    "SimHash 是一种用于文本去重的局部敏感哈希算法。它的主要思想是将文本映射为一个固定长度的哈希值（指纹），相似的文本会有相似的指纹。通过比较文本指纹之间的汉明距离，可以判断文本的相似度。\n",
    "\n",
    "在本实现中，我们使用**词级别**的特征（单词或词级 n-grams）而非字符级别的 n-grams，这样可以更好地捕捉语义相似性。\n",
    "\n",
    "## SimHash 算法步骤\n",
    "\n",
    "1.  **分词 (Tokenization)**：将文本分割成词语（tokens）或词级别的 n-grams。\n",
    "    - 对于中文，使用 jieba 进行分词\n",
    "    - 对于英文，按空格分词后生成词级别的 n-grams\n",
    "2.  **哈希 (Hashing)**：将每个词语或词级 n-gram 哈希成一个固定长度的二进制串。\n",
    "3.  **加权 (Weighting)**：为每个特征分配一个权重（例如，可以使用 TF-IDF 值或者词频）。\n",
    "4.  **合并 (Merging)**：对于文本中的每个特征，将其哈希值乘以其权重。然后，将所有加权后的哈希值按位累加。\n",
    "5.  **降维 (Dimensionality Reduction)**：将上一步得到的累加结果转换回一个固定长度的二进制串，这个二进制串就是文本的 SimHash 指纹。"
   ]
  },
  {
   "cell_type": "markdown",
   "id": "06ffb9b6",
   "metadata": {},
   "source": [
    "## 安装所需库\n",
    "\n",
    "首先，确保我们安装了所需的库:"
   ]
  },
  {
   "cell_type": "code",
   "execution_count": 1,
   "id": "9ee8af04",
   "metadata": {},
   "outputs": [],
   "source": [
    "# 安装simhash库\n",
    "!pip install simhash jieba requests beautifulsoup4 matplotlib --quiet"
   ]
  },
  {
   "cell_type": "markdown",
   "id": "9287c8f9",
   "metadata": {},
   "source": [
    "## 导入必要的库"
   ]
  },
  {
   "cell_type": "code",
   "execution_count": 2,
   "id": "4c1f0c90",
   "metadata": {},
   "outputs": [],
   "source": [
    "from simhash import Simhash, SimhashIndex\n",
    "import jieba  # 用于中文分词\n",
    "import matplotlib.pyplot as plt\n",
    "import random\n",
    "import numpy as np\n",
    "import requests\n",
    "from bs4 import BeautifulSoup"
   ]
  },
  {
   "cell_type": "markdown",
   "id": "70dc821e",
   "metadata": {},
   "source": [
    "## 实现特征提取函数\n",
    "\n",
    "我们需要一个函数来从文本中提取特征。对于中文文本，我们使用jieba分词；对于英文文本，我们先进行空格分词，然后生成词级别的n-gram。这种方法相比字符级别的n-gram更能捕捉文本的语义信息。"
   ]
  },
  {
   "cell_type": "code",
   "execution_count": null,
   "id": "43d020f0",
   "metadata": {},
   "outputs": [],
   "source": [
    "def get_features(s, n_gram_size=2):\n",
    "    \"\"\"\n",
    "    从文本中提取词级别特征\n",
    "    对于中文，使用jieba分词\n",
    "    对于英文，使用空格分词后生成词级别的n-gram\n",
    "    \n",
    "    参数:\n",
    "    s (str): 输入文本\n",
    "    n_gram_size (int): 词级别n-gram的大小，默认为2（bigram）\n",
    "    \n",
    "    返回:\n",
    "    list: 特征列表，可以是单词列表或词级n-gram列表\n",
    "    \"\"\"\n",
    "    # 预处理文本\n",
    "    s = s.lower()  # 转为小写\n",
    "    s = s.strip()  # 去除首尾空白\n",
    "    \n",
    "    # 判断是否包含中文字符\n",
    "    has_chinese = any('\\u4e00' <= char <= '\\u9fff' for char in s)\n",
    "    \n",
    "    # 分词\n",
    "    if has_chinese:\n",
    "        # 中文文本使用jieba分词\n",
    "        words = [word for word in jieba.cut(s) if word.strip() and not word.strip().isspace()]\n",
    "    else:\n",
    "        # 英文文本先进行简单的预处理，然后按空格分词\n",
    "        # 保留空格但移除其他标点符号，以便正确分词\n",
    "        s = ''.join(e if e.isalnum() or e.isspace() else ' ' for e in s)\n",
    "        s = ' '.join(s.split())  # 标准化空格\n",
    "        words = [word for word in s.split() if word.strip()]\n",
    "    \n",
    "    # 如果没有足够的词来构成n-gram，直接返回单词列表\n",
    "    if len(words) < n_gram_size:\n",
    "        return words\n",
    "    \n",
    "    # 生成词级别的n-gram\n",
    "    if n_gram_size > 1:\n",
    "        n_grams = []\n",
    "        for i in range(len(words) - n_gram_size + 1):\n",
    "            n_grams.append(\"_\".join(words[i:i+n_gram_size]))\n",
    "        return n_grams\n",
    "    else:\n",
    "        # 如果n_gram_size=1，直接返回单词列表\n",
    "        return words"
   ]
  },
  {
   "cell_type": "markdown",
   "id": "02768899",
   "metadata": {},
   "source": [
    "## 1. 基本示例 - 准备示例文本"
   ]
  },
  {
   "cell_type": "code",
   "execution_count": 4,
   "id": "b288cea5",
   "metadata": {},
   "outputs": [],
   "source": [
    "# 准备不同的示例文本\n",
    "text1 = \"你好，欢迎来到筱可AI研习社，我们一起学习人工智能。\"\n",
    "text2 = \"你好，欢迎来到筱可AI研习社，我们一同学习人工智能技术。\"  # 与text1相似\n",
    "text3 = \"今天天气真不错，阳光明媚。\"  # 与text1完全不同\n",
    "text4 = \"你好，欢迎来到筱可AI研习社，我们一起学习人工智能。\"  # 与text1完全相同\n",
    "text5 = \"Hello, welcome to Xiaoke AI Labs, let's learn artificial intelligence together.\"  # 英文，与text1意思相近"
   ]
  },
  {
   "cell_type": "markdown",
   "id": "ace860c5",
   "metadata": {},
   "source": [
    "### 1.1 测试分词效果"
   ]
  },
  {
   "cell_type": "code",
   "execution_count": 5,
   "id": "351e1313",
   "metadata": {},
   "outputs": [
    {
     "name": "stderr",
     "output_type": "stream",
     "text": [
      "Building prefix dict from the default dictionary ...\n",
      "Loading model from cache C:\\Users\\k\\AppData\\Local\\Temp\\jieba.cache\n",
      "Loading model from cache C:\\Users\\k\\AppData\\Local\\Temp\\jieba.cache\n",
      "Loading model cost 0.581 seconds.\n",
      "Prefix dict has been built successfully.\n",
      "Loading model cost 0.581 seconds.\n",
      "Prefix dict has been built successfully.\n"
     ]
    },
    {
     "name": "stdout",
     "output_type": "stream",
     "text": [
      "中文文本 1 分词结果: ['你好', '欢迎', '来到', '筱可', 'ai', '研习', '社', '我们', '一起', '学习', '人工智能']\n",
      "中文文本 2 分词结果: ['你好', '欢迎', '来到', '筱可', 'ai', '研习', '社', '我们', '一同', '学习', '人工智能', '技术']\n",
      "中文文本 3 分词结果: ['今天天气', '真不错', '阳光明媚']\n",
      "英文文本 5 分词结果: ['hel', 'ell', 'llo', 'low', 'owe', 'wel', 'elc', 'lco', 'com', 'ome', 'met', 'eto', 'tox', 'oxi', 'xia', 'iao', 'aok', 'oke', 'kea', 'eai', 'ail', 'ila', 'lab', 'abs', 'bsl', 'sle', 'let', 'ets', 'tsl', 'sle', 'lea', 'ear', 'arn', 'rna', 'nar', 'art', 'rti', 'tif', 'ifi', 'fic', 'ici', 'cia', 'ial', 'ali', 'lin', 'int', 'nte', 'tel', 'ell', 'lli', 'lig', 'ige', 'gen', 'enc', 'nce', 'cet', 'eto', 'tog', 'oge', 'get', 'eth', 'the', 'her']\n"
     ]
    }
   ],
   "source": [
    "# 查看不同文本的分词结果\n",
    "print(f\"中文文本 1 分词结果: {get_features(text1)}\")\n",
    "print(f\"中文文本 2 分词结果: {get_features(text2)}\")\n",
    "print(f\"中文文本 3 分词结果: {get_features(text3)}\")\n",
    "print(f\"英文文本 5 分词结果: {get_features(text5)}\")"
   ]
  },
  {
   "cell_type": "markdown",
   "id": "9d8de70f",
   "metadata": {},
   "source": [
    "### 1.2 计算文本的SimHash值"
   ]
  },
  {
   "cell_type": "code",
   "execution_count": 6,
   "id": "c7815baf",
   "metadata": {},
   "outputs": [
    {
     "name": "stdout",
     "output_type": "stream",
     "text": [
      "文本1的SimHash: 5626903098147984156\n",
      "文本2的SimHash: 5337475903387976476\n",
      "文本3的SimHash: 15438491831902700491\n",
      "文本4的SimHash: 5626903098147984156\n",
      "文本5的SimHash: 6660156104251182553\n"
     ]
    }
   ],
   "source": [
    "# 计算每个文本的SimHash值\n",
    "hash1 = Simhash(get_features(text1))\n",
    "hash2 = Simhash(get_features(text2))\n",
    "hash3 = Simhash(get_features(text3))\n",
    "hash4 = Simhash(get_features(text4))\n",
    "hash5 = Simhash(get_features(text5))\n",
    "\n",
    "# 打印SimHash值\n",
    "print(f\"文本1的SimHash: {hash1.value}\")\n",
    "print(f\"文本2的SimHash: {hash2.value}\")\n",
    "print(f\"文本3的SimHash: {hash3.value}\")\n",
    "print(f\"文本4的SimHash: {hash4.value}\")\n",
    "print(f\"文本5的SimHash: {hash5.value}\")"
   ]
  },
  {
   "cell_type": "markdown",
   "id": "c3becfe6",
   "metadata": {},
   "source": [
    "### 1.3 计算文本之间的汉明距离\n",
    "\n",
    "汉明距离是两个等长字符串对应位置的不同字符的个数。在SimHash中，汉明距离越小表示文本越相似。"
   ]
  },
  {
   "cell_type": "code",
   "execution_count": 7,
   "id": "0acf3159",
   "metadata": {},
   "outputs": [
    {
     "name": "stdout",
     "output_type": "stream",
     "text": [
      "文本1和文本2的汉明距离: 8\n",
      "文本1和文本3的汉明距离: 29\n",
      "文本1和文本4的汉明距离: 0 (完全相同的文本距离为0)\n",
      "文本1和文本5的汉明距离: 32 (中英文表达相同意思)\n"
     ]
    }
   ],
   "source": [
    "# 计算文本间的汉明距离\n",
    "dist1_2 = hash1.distance(hash2)  # 相似文本\n",
    "dist1_3 = hash1.distance(hash3)  # 不相似文本\n",
    "dist1_4 = hash1.distance(hash4)  # 完全相同文本\n",
    "dist1_5 = hash1.distance(hash5)  # 中英文对比\n",
    "\n",
    "print(f\"文本1和文本2的汉明距离: {dist1_2}\")\n",
    "print(f\"文本1和文本3的汉明距离: {dist1_3}\")\n",
    "print(f\"文本1和文本4的汉明距离: {dist1_4} (完全相同的文本距离为0)\")\n",
    "print(f\"文本1和文本5的汉明距离: {dist1_5} (中英文表达相同意思)\")"
   ]
  },
  {
   "cell_type": "markdown",
   "id": "8229898e",
   "metadata": {},
   "source": [
    "## 2. 使用SimhashIndex进行批量查重\n",
    "\n",
    "我们可以使用`SimhashIndex`来存储多个文档的SimHash值，并快速找到与目标文档相似的其他文档。"
   ]
  },
  {
   "cell_type": "code",
   "execution_count": 8,
   "id": "0fd16c79",
   "metadata": {},
   "outputs": [
    {
     "name": "stdout",
     "output_type": "stream",
     "text": [
      "测试文档集:\n",
      "文档 0: 这是一篇关于机器学习的文章。\n",
      "文档 1: 机器学习是人工智能的一个分支。\n",
      "文档 2: 深度学习是机器学习的一个重要领域。\n",
      "文档 3: 这是一篇关于机器学习的文章，讨论了其最新进展。\n",
      "文档 4: 自然语言处理是人工智能的另一个重要方向。\n",
      "文档 5: 今天的天气非常晴朗。\n",
      "文档 6: 这是一篇关于机器学习的文章。\n"
     ]
    }
   ],
   "source": [
    "# 准备一组用于测试的文档\n",
    "documents = [\n",
    "    \"这是一篇关于机器学习的文章。\",\n",
    "    \"机器学习是人工智能的一个分支。\",\n",
    "    \"深度学习是机器学习的一个重要领域。\",\n",
    "    \"这是一篇关于机器学习的文章，讨论了其最新进展。\",  # 与第一篇相似\n",
    "    \"自然语言处理是人工智能的另一个重要方向。\",\n",
    "    \"今天的天气非常晴朗。\",\n",
    "    \"这是一篇关于机器学习的文章。\"  # 与第一篇完全相同\n",
    "]\n",
    "\n",
    "print(\"测试文档集:\")\n",
    "for i, doc in enumerate(documents):\n",
    "    print(f\"文档 {i}: {doc}\")"
   ]
  },
  {
   "cell_type": "markdown",
   "id": "49176eda",
   "metadata": {},
   "source": [
    "### 2.1 计算每个文档的SimHash值"
   ]
  },
  {
   "cell_type": "code",
   "execution_count": 9,
   "id": "9d1ff678",
   "metadata": {},
   "outputs": [
    {
     "name": "stdout",
     "output_type": "stream",
     "text": [
      "文档 0 的SimHash值: 4130619509713458846\n",
      "文档 1 的SimHash值: 8232177861166225049\n",
      "文档 2 的SimHash值: 8826978918390354462\n",
      "文档 3 的SimHash值: 12183055643454003871\n",
      "文档 4 的SimHash值: 4770752475276123221\n",
      "文档 5 的SimHash值: 12886978306020600532\n",
      "文档 6 的SimHash值: 4130619509713458846\n"
     ]
    }
   ],
   "source": [
    "# 为每个文档计算SimHash并存储\n",
    "hashes = []\n",
    "for i, doc in enumerate(documents):\n",
    "    sh = Simhash(get_features(doc))\n",
    "    hashes.append((str(i), sh))  # SimhashIndex需要(ID, Simhash)对\n",
    "    print(f\"文档 {i} 的SimHash值: {sh.value}\")"
   ]
  },
  {
   "cell_type": "markdown",
   "id": "eff8c95e",
   "metadata": {},
   "source": [
    "### 2.2 创建SimhashIndex\n",
    "\n",
    "参数k是汉明距离阈值，当两个文档的SimHash汉明距离小于等于k时，认为它们相似。"
   ]
  },
  {
   "cell_type": "code",
   "execution_count": 10,
   "id": "bea3ef75",
   "metadata": {},
   "outputs": [
    {
     "name": "stdout",
     "output_type": "stream",
     "text": [
      "创建的索引中包含 23 个bucket\n"
     ]
    }
   ],
   "source": [
    "# 创建SimhashIndex，k=3表示汉明距离不超过3的文档被视为相似\n",
    "index = SimhashIndex(hashes, k=3)\n",
    "\n",
    "print(f\"创建的索引中包含 {len(index.bucket)} 个bucket\")"
   ]
  },
  {
   "cell_type": "markdown",
   "id": "a6947c7c",
   "metadata": {},
   "source": [
    "### 2.3 搜索相似文档"
   ]
  },
  {
   "cell_type": "code",
   "execution_count": 11,
   "id": "6730554e",
   "metadata": {},
   "outputs": [
    {
     "name": "stdout",
     "output_type": "stream",
     "text": [
      "新文档: 这是一篇讨论机器学习最新进展的文章。\n"
     ]
    }
   ],
   "source": [
    "# 新文档，用于查找相似内容\n",
    "new_doc_text = \"这是一篇讨论机器学习最新进展的文章。\"\n",
    "print(f\"新文档: {new_doc_text}\")"
   ]
  },
  {
   "cell_type": "code",
   "execution_count": 12,
   "id": "73c12ed1",
   "metadata": {},
   "outputs": [
    {
     "name": "stdout",
     "output_type": "stream",
     "text": [
      "新文档的SimHash值: 11606383763441111709\n"
     ]
    }
   ],
   "source": [
    "# 计算新文档的SimHash\n",
    "new_doc_hash = Simhash(get_features(new_doc_text))\n",
    "print(f\"新文档的SimHash值: {new_doc_hash.value}\")"
   ]
  },
  {
   "cell_type": "code",
   "execution_count": 13,
   "id": "18ec066e",
   "metadata": {},
   "outputs": [
    {
     "name": "stdout",
     "output_type": "stream",
     "text": [
      "与新文档相似的文档ID: []\n"
     ]
    }
   ],
   "source": [
    "# 查找相似文档\n",
    "duplicates = index.get_near_dups(new_doc_hash)\n",
    "print(f\"与新文档相似的文档ID: {duplicates}\")"
   ]
  },
  {
   "cell_type": "code",
   "execution_count": 14,
   "id": "ea62a2db",
   "metadata": {},
   "outputs": [
    {
     "name": "stdout",
     "output_type": "stream",
     "text": [
      "未找到相似文档。\n"
     ]
    }
   ],
   "source": [
    "# 显示相似文档详情\n",
    "if duplicates:\n",
    "    print(\"相似文档详情:\")\n",
    "    for dup_id in duplicates:\n",
    "        doc_index = int(dup_id)\n",
    "        print(f\"- 文档 {dup_id}: '{documents[doc_index]}'\")\n",
    "        # 计算汉明距离和相似度\n",
    "        ham_dist = new_doc_hash.distance(hashes[doc_index][1])\n",
    "        similarity = (64 - ham_dist) / 64  # 64位SimHash\n",
    "        print(f\"  汉明距离: {ham_dist}, 相似度: {similarity:.4f}\")\n",
    "else:\n",
    "    print(\"未找到相似文档。\")"
   ]
  },
  {
   "cell_type": "markdown",
   "id": "3b7d9130",
   "metadata": {},
   "source": [
    "### 2.4 将新文档添加到索引"
   ]
  },
  {
   "cell_type": "code",
   "execution_count": 15,
   "id": "caf10f37",
   "metadata": {},
   "outputs": [
    {
     "name": "stdout",
     "output_type": "stream",
     "text": [
      "添加新文档后，索引中包含 26 个bucket\n",
      "文档总数: 8\n"
     ]
    }
   ],
   "source": [
    "# 将新文档添加到索引\n",
    "index.add(str(len(documents)), new_doc_hash)\n",
    "documents.append(new_doc_text)\n",
    "\n",
    "print(f\"添加新文档后，索引中包含 {len(index.bucket)} 个bucket\")\n",
    "print(f\"文档总数: {len(documents)}\")"
   ]
  },
  {
   "cell_type": "markdown",
   "id": "b5d78d7e",
   "metadata": {},
   "source": [
    "### 2.5 查找指定文档的相似文档"
   ]
  },
  {
   "cell_type": "code",
   "execution_count": 16,
   "id": "859a43da",
   "metadata": {},
   "outputs": [
    {
     "name": "stdout",
     "output_type": "stream",
     "text": [
      "文档0: '这是一篇关于机器学习的文章。'\n",
      "文档0的SimHash值: 4130619509713458846\n"
     ]
    }
   ],
   "source": [
    "# 查找文档0的相似文档\n",
    "doc0_hash = hashes[0][1]\n",
    "print(f\"文档0: '{documents[0]}'\")\n",
    "print(f\"文档0的SimHash值: {doc0_hash.value}\")"
   ]
  },
  {
   "cell_type": "code",
   "execution_count": 17,
   "id": "302d4f17",
   "metadata": {},
   "outputs": [
    {
     "name": "stdout",
     "output_type": "stream",
     "text": [
      "与文档0相似的文档ID: ['6', '0']\n"
     ]
    }
   ],
   "source": [
    "# 获取与文档0相似的文档\n",
    "duplicates_for_doc0 = index.get_near_dups(doc0_hash)\n",
    "print(f\"与文档0相似的文档ID: {duplicates_for_doc0}\")"
   ]
  },
  {
   "cell_type": "code",
   "execution_count": 18,
   "id": "b3385bc5",
   "metadata": {},
   "outputs": [
    {
     "name": "stdout",
     "output_type": "stream",
     "text": [
      "文档0的相似文档详情:\n",
      "- 文档 6: '这是一篇关于机器学习的文章。'\n",
      "  汉明距离: 0, 相似度: 1.0000\n",
      "- 文档 0: '这是一篇关于机器学习的文章。'\n",
      "  汉明距离: 0, 相似度: 1.0000\n"
     ]
    }
   ],
   "source": [
    "# 显示文档0的相似文档详情\n",
    "if duplicates_for_doc0:\n",
    "    print(\"文档0的相似文档详情:\")\n",
    "    for dup_id in duplicates_for_doc0:\n",
    "        doc_index = int(dup_id)\n",
    "        print(f\"- 文档 {dup_id}: '{documents[doc_index]}'\")\n",
    "        \n",
    "        # 获取正确的SimHash对象\n",
    "        if doc_index < len(hashes):\n",
    "            dup_hash = hashes[doc_index][1]\n",
    "        else:\n",
    "            dup_hash = new_doc_hash\n",
    "            \n",
    "        # 计算汉明距离和相似度\n",
    "        ham_dist = doc0_hash.distance(dup_hash)\n",
    "        similarity = (64 - ham_dist) / 64  # 64位SimHash\n",
    "        print(f\"  汉明距离: {ham_dist}, 相似度: {similarity:.4f}\")\n",
    "else:\n",
    "    print(\"文档0没有相似文档。\")"
   ]
  },
  {
   "cell_type": "markdown",
   "id": "cee033c2",
   "metadata": {},
   "source": [
    "## 3. SimHash参数解释\n",
    "\n",
    "- **`f` (SimHash的位数)**：SimHash指纹的位数，默认为64位。可以根据需求调整，例如改为128位。\n",
    "- **`k` (汉明距离阈值)**：决定多大汉明距离内的文本被认为是相似的。\n",
    "  - `k`值越小，查重越严格，只有非常相似的文本才会被检出。\n",
    "  - `k`值越大，查重越宽松，一些差异较大的文本也可能被认为是相似的。\n",
    "  - 对于64位的SimHash，`k=3`是一个常用阈值。"
   ]
  },
  {
   "cell_type": "markdown",
   "id": "c6d823b3",
   "metadata": {},
   "source": [
    "## 4. 实际应用 - 文本变化敏感性实验\n",
    "\n",
    "这个实验模拟文本内容的渐进变化，观察SimHash对文本变化的敏感程度。"
   ]
  },
  {
   "cell_type": "markdown",
   "id": "085d8f22",
   "metadata": {},
   "source": [
    "### 4.1 获取实验用文本 - 维基百科内容"
   ]
  },
  {
   "cell_type": "code",
   "execution_count": 19,
   "id": "045224c7",
   "metadata": {},
   "outputs": [
    {
     "name": "stdout",
     "output_type": "stream",
     "text": [
      "获取到维基百科文本，长度: 57725 字符\n",
      "文本预览: Machine learning (ML) is a field of study in artificial intelligence concerned with the development ...\n"
     ]
    }
   ],
   "source": [
    "# 从维基百科获取文章内容\n",
    "url = \"https://en.wikipedia.org/wiki/Machine_learning\"\n",
    "response = requests.get(url)\n",
    "\n",
    "if response.status_code == 200:\n",
    "    soup = BeautifulSoup(response.text, 'html.parser')\n",
    "    content = soup.find('div', {'id': 'mw-content-text'})\n",
    "    \n",
    "    if content:\n",
    "        # 清理内容，移除不需要的元素\n",
    "        for element in content.find_all(['table', 'style', 'script', 'sup', 'span']):\n",
    "            element.decompose()\n",
    "        \n",
    "        # 提取段落文本\n",
    "        paragraphs = content.find_all('p')\n",
    "        wiki_text = ' '.join([p.get_text() for p in paragraphs])\n",
    "        \n",
    "        # 清理文本\n",
    "        wiki_text = ' '.join(wiki_text.split())\n",
    "        print(f\"获取到维基百科文本，长度: {len(wiki_text)} 字符\")\n",
    "        print(f\"文本预览: {wiki_text[:100]}...\")\n",
    "    else:\n",
    "        print(\"无法找到主要内容\")\n",
    "        wiki_text = \"Machine learning is a field of study that focuses on algorithms and statistical models that computers use to perform tasks without explicit instructions.\"\n",
    "else:\n",
    "    print(f\"请求失败: {response.status_code}\")\n",
    "    wiki_text = \"Machine learning is a field of study that focuses on algorithms and statistical models that computers use to perform tasks without explicit instructions.\""
   ]
  },
  {
   "cell_type": "markdown",
   "id": "9bac1bf9",
   "metadata": {},
   "source": [
    "### 4.2 提取文本特征并计算原始SimHash值"
   ]
  },
  {
   "cell_type": "code",
   "execution_count": 20,
   "id": "247b0774",
   "metadata": {},
   "outputs": [
    {
     "name": "stdout",
     "output_type": "stream",
     "text": [
      "原始文本特征数量: 47942\n",
      "前10个特征示例: ['mac', 'ach', 'chi', 'hin', 'ine', 'nel', 'ele', 'lea', 'ear', 'arn']\n"
     ]
    }
   ],
   "source": [
    "# 提取原始文本特征\n",
    "wiki_features = get_features(wiki_text)\n",
    "print(f\"原始文本特征数量: {len(wiki_features)}\")\n",
    "print(f\"前10个特征示例: {wiki_features[:10]}\")"
   ]
  },
  {
   "cell_type": "code",
   "execution_count": 21,
   "id": "0ee85248",
   "metadata": {},
   "outputs": [
    {
     "name": "stdout",
     "output_type": "stream",
     "text": [
      "原始文本的SimHash值: 16915851041009291603\n"
     ]
    }
   ],
   "source": [
    "# 计算原始文本的SimHash\n",
    "original_hash = Simhash(wiki_features)\n",
    "print(f\"原始文本的SimHash值: {original_hash.value}\")"
   ]
  },
  {
   "cell_type": "markdown",
   "id": "cdf9efbc",
   "metadata": {},
   "source": [
    "### 4.3 模拟文本变化\n",
    "\n",
    "通过随机删除一定比例的特征来模拟文本内容变化。"
   ]
  },
  {
   "cell_type": "code",
   "execution_count": 22,
   "id": "395b5463",
   "metadata": {},
   "outputs": [],
   "source": [
    "def simulate_text_change(features, change_percent):\n",
    "    \"\"\"模拟文本变化，通过随机删除一定比例的特征\"\"\"\n",
    "    # 计算要删除的特征数量\n",
    "    num_to_remove = int(len(features) * change_percent / 100)\n",
    "    \n",
    "    # 克隆原始特征列表\n",
    "    modified_features = features.copy()\n",
    "    \n",
    "    # 随机删除特征\n",
    "    if num_to_remove > 0:\n",
    "        indices_to_remove = random.sample(range(len(features)), num_to_remove)\n",
    "        modified_features = [feat for i, feat in enumerate(features) if i not in indices_to_remove]\n",
    "    \n",
    "    return modified_features"
   ]
  },
  {
   "cell_type": "markdown",
   "id": "cd41a482",
   "metadata": {},
   "source": [
    "### 4.4 设置实验参数"
   ]
  },
  {
   "cell_type": "code",
   "execution_count": 23,
   "id": "16544cb2",
   "metadata": {},
   "outputs": [],
   "source": [
    "# 设置不同的文本变化比例\n",
    "change_percentages = [10, 20, 30, 40, 50]\n",
    "hamming_distances = []\n",
    "similarities = []"
   ]
  },
  {
   "cell_type": "markdown",
   "id": "e975efdd",
   "metadata": {},
   "source": [
    "### 4.5 执行实验"
   ]
  },
  {
   "cell_type": "code",
   "execution_count": 24,
   "id": "507a49df",
   "metadata": {},
   "outputs": [
    {
     "name": "stdout",
     "output_type": "stream",
     "text": [
      "文本变化10%后特征数量: 43148\n",
      "文本变化10%: 汉明距离 = 1, 相似度 = 0.9844\n",
      "文本变化20%后特征数量: 38354\n",
      "文本变化20%: 汉明距离 = 2, 相似度 = 0.9688\n",
      "文本变化20%后特征数量: 38354\n",
      "文本变化20%: 汉明距离 = 2, 相似度 = 0.9688\n",
      "文本变化30%后特征数量: 33560\n",
      "文本变化30%: 汉明距离 = 1, 相似度 = 0.9844\n",
      "文本变化30%后特征数量: 33560\n",
      "文本变化30%: 汉明距离 = 1, 相似度 = 0.9844\n",
      "文本变化40%后特征数量: 28766\n",
      "文本变化40%: 汉明距离 = 3, 相似度 = 0.9531\n",
      "文本变化40%后特征数量: 28766\n",
      "文本变化40%: 汉明距离 = 3, 相似度 = 0.9531\n",
      "文本变化50%后特征数量: 23971\n",
      "文本变化50%: 汉明距离 = 3, 相似度 = 0.9531\n",
      "文本变化50%后特征数量: 23971\n",
      "文本变化50%: 汉明距离 = 3, 相似度 = 0.9531\n"
     ]
    }
   ],
   "source": [
    "# 对每个变化比例执行实验\n",
    "for percent in change_percentages:\n",
    "    # 模拟文本变化\n",
    "    modified_features = simulate_text_change(wiki_features, percent)\n",
    "    print(f\"文本变化{percent}%后特征数量: {len(modified_features)}\")\n",
    "    \n",
    "    # 计算修改后的SimHash\n",
    "    modified_hash = Simhash(modified_features)\n",
    "    \n",
    "    # 计算汉明距离\n",
    "    ham_dist = original_hash.distance(modified_hash)\n",
    "    \n",
    "    # 计算相似度\n",
    "    similarity = (64 - ham_dist) / 64\n",
    "    \n",
    "    # 记录结果\n",
    "    hamming_distances.append(ham_dist)\n",
    "    similarities.append(similarity)\n",
    "    \n",
    "    print(f\"文本变化{percent}%: 汉明距离 = {ham_dist}, 相似度 = {similarity:.4f}\")"
   ]
  },
  {
   "cell_type": "markdown",
   "id": "49a25054",
   "metadata": {},
   "source": [
    "### 4.6 可视化实验结果"
   ]
  },
  {
   "cell_type": "code",
   "execution_count": 27,
   "id": "d82aaaaf",
   "metadata": {},
   "outputs": [
    {
     "data": {
      "image/png": "[encoded data removed]",
      "text/plain": [
       "<Figure size 1400x600 with 2 Axes>"
      ]
     },
     "metadata": {},
     "output_type": "display_data"
    }
   ],
   "source": [
    "# 设置simhei字体\n",
    "plt.rcParams['font.sans-serif'] = ['SimHei']  # 设置中文字体\n",
    "plt.rcParams['axes.unicode_minus'] = False  # 显示负号\n",
    "# 设置图表\n",
    "plt.figure(figsize=(14, 6))\n",
    "\n",
    "# 绘制汉明距离随变化比例的变化\n",
    "plt.subplot(1, 2, 1)\n",
    "plt.plot(change_percentages, hamming_distances, 'o-', color='blue', linewidth=2, markersize=8)\n",
    "plt.title('汉明距离随文本变化比例的变化', fontsize=14)\n",
    "plt.xlabel('文本变化比例 (%)', fontsize=12)\n",
    "plt.ylabel('汉明距离', fontsize=12)\n",
    "plt.grid(True, linestyle='--', alpha=0.7)\n",
    "plt.xticks(change_percentages)\n",
    "\n",
    "# 绘制相似度随变化比例的变化\n",
    "plt.subplot(1, 2, 2)\n",
    "plt.plot(change_percentages, similarities, 'o-', color='green', linewidth=2, markersize=8)\n",
    "plt.title('相似度随文本变化比例的变化', fontsize=14)\n",
    "plt.xlabel('文本变化比例 (%)', fontsize=12)\n",
    "plt.ylabel('相似度', fontsize=12)\n",
    "plt.grid(True, linestyle='--', alpha=0.7)\n",
    "plt.xticks(change_percentages)\n",
    "\n",
    "plt.tight_layout()\n",
    "plt.show()"
   ]
  },
  {
   "cell_type": "markdown",
   "id": "7d7fb23b",
   "metadata": {},
   "source": [
    "### 4.7 分析实验结果"
   ]
  },
  {
   "cell_type": "code",
   "execution_count": 26,
   "id": "64963164",
   "metadata": {},
   "outputs": [
    {
     "name": "stdout",
     "output_type": "stream",
     "text": [
      "\n",
      "实验分析结果:\n",
      "1. 随着文本内容变化比例增加，汉明距离逐渐增大\n",
      "2. 当文本变化达到50%时，汉明距离约为3，相似度降低到约0.9531\n",
      "3. 文本内容变化10%时的汉明距离约为 1\n",
      "4. 文本内容变化30%时的汉明距离约为 1\n",
      "5. 这表明SimHash对文本内容的变化是渐进敏感的，而非离散变化\n"
     ]
    }
   ],
   "source": [
    "# 分析实验结果\n",
    "print(\"\\n实验分析结果:\")\n",
    "print(\"1. 随着文本内容变化比例增加，汉明距离逐渐增大\")\n",
    "print(f\"2. 当文本变化达到50%时，汉明距离约为{hamming_distances[-1]}，相似度降低到约{similarities[-1]:.4f}\")\n",
    "print(\"3. 文本内容变化10%时的汉明距离约为\", hamming_distances[0])\n",
    "print(\"4. 文本内容变化30%时的汉明距离约为\", hamming_distances[2])\n",
    "print(\"5. 这表明SimHash对文本内容的变化是渐进敏感的，而非离散变化\")"
   ]
  },
  {
   "cell_type": "markdown",
   "id": "37fa96bf",
   "metadata": {},
   "source": [
    "## 5. 总结与结论\n",
    "\n",
    "1. **SimHash算法特点**:\n",
    "   - SimHash是一种高效的局部敏感哈希算法，能将任意长度的文本映射为固定长度的二进制指纹。\n",
    "   - 相似文本的SimHash指纹之间汉明距离较小，不相似文本之间汉明距离较大。\n",
    "\n",
    "2. **应用场景**:\n",
    "   - 大规模文本查重，例如网页去重、新闻聚类、抄袭检测等。\n",
    "   - 当文本完全相同时，汉明距离为0；轻微修改时，汉明距离较小；完全不同的文本，汉明距离较大。\n",
    "\n",
    "3. **参数选择**:\n",
    "   - 汉明距离阈值k的选择非常重要，它直接影响查重的严格程度。\n",
    "   - 根据实验结果，对于64位SimHash，k=3是一个较为合理的阈值。\n",
    "\n",
    "4. **性能考虑**:\n",
    "   - SimHash计算速度快，内存占用少，适合处理海量文本。\n",
    "   - 对于短文本效果可能不佳，需要结合其他算法或调整参数。\n",
    "\n",
    "5. **进一步优化**:\n",
    "   - 可以考虑使用更复杂的分词和特征提取方法，如TF-IDF加权。\n",
    "   - 针对特定领域或语言，可以定制化特征提取策略。"
   ]
  }
 ],
 "metadata": {
  "kernelspec": {
   "display_name": "XiaokeAILabs",
   "language": "python",
   "name": "python3"
  },
  "language_info": {
   "codemirror_mode": {
    "name": "ipython",
    "version": 3
   },
   "file_extension": ".py",
   "mimetype": "text/x-python",
   "name": "python",
   "nbconvert_exporter": "python",
   "pygments_lexer": "ipython3",
   "version": "3.10.16"
  }
 },
 "nbformat": 4,
 "nbformat_minor": 5
}
