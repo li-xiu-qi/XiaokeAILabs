{
 "cells": [
  {
   "cell_type": "markdown",
   "id": "6beacbd6",
   "metadata": {},
   "source": [
    "# 学习Faiss功能\n",
    "本教程将分段介绍如何使用 `faiss-cpu` Python库。"
   ]
  },
  {
   "cell_type": "markdown",
   "id": "b0d82d3a",
   "metadata": {},
   "source": [
    "## 安装Faiss\n",
    "首先，确保已安装 `faiss-cpu` 库。"
   ]
  },
  {
   "cell_type": "code",
   "execution_count": 1,
   "id": "220ed386",
   "metadata": {},
   "outputs": [
    {
     "name": "stdout",
     "output_type": "stream",
     "text": [
      "Requirement already satisfied: faiss-cpu in c:\\users\\k\\.conda\\envs\\faiss\\lib\\site-packages (1.10.0)\n",
      "Requirement already satisfied: numpy<3.0,>=1.25.0 in c:\\users\\k\\.conda\\envs\\faiss\\lib\\site-packages (from faiss-cpu) (2.2.4)\n",
      "Requirement already satisfied: packaging in c:\\users\\k\\.conda\\envs\\faiss\\lib\\site-packages (from faiss-cpu) (24.2)\n"
     ]
    }
   ],
   "source": [
    "# 安装 faiss-cpu\n",
    "!pip install faiss-cpu"
   ]
  },
  {
   "cell_type": "markdown",
   "id": "90fca31d",
   "metadata": {},
   "source": [
    "## 基本使用\n",
    "了解如何创建索引并添加向量。"
   ]
  },
  {
   "cell_type": "code",
   "execution_count": 2,
   "id": "8907c9f9",
   "metadata": {},
   "outputs": [
    {
     "name": "stdout",
     "output_type": "stream",
     "text": [
      "是否为索引训练状态: True\n",
      "索引中的向量数量: 1000\n"
     ]
    }
   ],
   "source": [
    "# 导入Faiss库\n",
    "import faiss\n",
    "import numpy as np\n",
    "\n",
    "# 创建随机向量数据\n",
    "dimension = 128  # 向量维度\n",
    "num_vectors = 1000  # 向量数量\n",
    "data = np.random.random((num_vectors, dimension)).astype('float32')\n",
    "\n",
    "# 创建索引\n",
    "index = faiss.IndexFlatL2(dimension)  # L2距离\n",
    "print(\"是否为索引训练状态:\", index.is_trained)\n",
    "\n",
    "# 添加向量到索引\n",
    "index.add(data)\n",
    "print(\"索引中的向量数量:\", index.ntotal)"
   ]
  },
  {
   "cell_type": "markdown",
   "id": "77c3444c",
   "metadata": {},
   "source": [
    "# 分段学习faiss功能的Jupyter Notebook\n",
    "使用faiss-cpu的Python库。"
   ]
  },
  {
   "cell_type": "markdown",
   "id": "6e799027",
   "metadata": {},
   "source": [
    "## 安装和导入Faiss\n",
    "使用pip安装faiss-cpu库，并导入必要的模块。"
   ]
  },
  {
   "cell_type": "code",
   "execution_count": 3,
   "id": "f2c8a6b8",
   "metadata": {},
   "outputs": [],
   "source": [
    "# 安装 faiss-cpu\n",
    "# 如果尚未安装，请取消注释以下代码行并运行\n",
    "# !pip install faiss-cpu\n",
    "\n",
    "# 导入必要的模块\n",
    "import faiss\n",
    "import numpy as np"
   ]
  },
  {
   "cell_type": "markdown",
   "id": "3921a067",
   "metadata": {},
   "source": [
    "## 创建简单的索引\n",
    "使用faiss.IndexFlatL2创建一个简单的L2距离索引。"
   ]
  },
  {
   "cell_type": "code",
   "execution_count": 4,
   "id": "d24b361d",
   "metadata": {},
   "outputs": [
    {
     "name": "stdout",
     "output_type": "stream",
     "text": [
      "是否为平面索引: True\n"
     ]
    }
   ],
   "source": [
    "# 创建一个简单的L2距离索引\n",
    "dimension = 128  # 向量的维度\n",
    "index = faiss.IndexFlatL2(dimension)\n",
    "print(\"是否为平面索引:\", index.is_trained)"
   ]
  },
  {
   "cell_type": "markdown",
   "id": "370bc724",
   "metadata": {},
   "source": [
    "## 添加向量到索引\n",
    "生成一些随机向量并将它们添加到索引中。"
   ]
  },
  {
   "cell_type": "code",
   "execution_count": 5,
   "id": "9ae93435",
   "metadata": {},
   "outputs": [
    {
     "name": "stdout",
     "output_type": "stream",
     "text": [
      "索引中的向量数量: 1000\n"
     ]
    }
   ],
   "source": [
    "# 生成随机向量\n",
    "num_vectors = 1000\n",
    "vectors = np.random.random((num_vectors, dimension)).astype('float32')\n",
    "\n",
    "# 添加向量到索引\n",
    "index.add(vectors)\n",
    "print(\"索引中的向量数量:\", index.ntotal)"
   ]
  },
  {
   "cell_type": "markdown",
   "id": "f460c512",
   "metadata": {},
   "source": [
    "## 搜索最近邻\n",
    "使用索引的search方法查找给定查询向量的最近邻。"
   ]
  },
  {
   "cell_type": "code",
   "execution_count": 6,
   "id": "abfda08f",
   "metadata": {},
   "outputs": [
    {
     "name": "stdout",
     "output_type": "stream",
     "text": [
      "最近邻的索引: [[977 273 763 739 893]]\n",
      "最近邻的距离: [[11.932299 14.200732 14.224871 14.241714 14.325958]]\n"
     ]
    }
   ],
   "source": [
    "# 生成查询向量\n",
    "query_vector = np.random.random((1, dimension)).astype('float32')\n",
    "\n",
    "# 搜索最近邻\n",
    "k = 5  # 查找前5个最近邻\n",
    "distances, indices = index.search(query_vector, k)\n",
    "print(\"最近邻的索引:\", indices)\n",
    "print(\"最近邻的距离:\", distances)"
   ]
  },
  {
   "cell_type": "code",
   "execution_count": 8,
   "id": "d20ab72b",
   "metadata": {},
   "outputs": [
    {
     "data": {
      "text/plain": [
       "(1, 128)"
      ]
     },
     "execution_count": 8,
     "metadata": {},
     "output_type": "execute_result"
    }
   ],
   "source": [
    "query_vector.shape"
   ]
  },
  {
   "cell_type": "code",
   "execution_count": 14,
   "id": "5da4c6a4",
   "metadata": {},
   "outputs": [
    {
     "name": "stdout",
     "output_type": "stream",
     "text": [
      "(128,)\n"
     ]
    }
   ],
   "source": [
    "import numpy as np\n",
    "vec = np.random.random((128,))\n",
    "print(vec.shape)\n"
   ]
  },
  {
   "cell_type": "markdown",
   "id": "e81b9a9a",
   "metadata": {},
   "source": [
    "## 使用多种索引类型\n",
    "探索其他索引类型，例如IndexIVFFlat和IndexHNSWFlat，并比较它们的性能。"
   ]
  },
  {
   "cell_type": "code",
   "execution_count": 15,
   "id": "ae3ad948",
   "metadata": {},
   "outputs": [
    {
     "name": "stdout",
     "output_type": "stream",
     "text": [
      "IVF索引中的向量数量: 1000\n",
      "HNSW索引中的向量数量: 1000\n"
     ]
    }
   ],
   "source": [
    "# 使用 IndexIVFFlat\n",
    "quantizer = faiss.IndexFlatL2(dimension)  # 量化器\n",
    "index_ivf = faiss.IndexIVFFlat(quantizer, dimension, 100)  # 100个聚类中心\n",
    "index_ivf.train(vectors)\n",
    "index_ivf.add(vectors)\n",
    "print(\"IVF索引中的向量数量:\", index_ivf.ntotal)\n",
    "\n",
    "# 使用 IndexHNSWFlat\n",
    "index_hnsw = faiss.IndexHNSWFlat(dimension, 32)  # 32为HNSW的连接参数\n",
    "index_hnsw.add(vectors)\n",
    "print(\"HNSW索引中的向量数量:\", index_hnsw.ntotal)"
   ]
  },
  {
   "cell_type": "markdown",
   "id": "b70c6dac",
   "metadata": {},
   "source": [
    "## 保存和加载索引\n",
    "演示如何将索引保存到文件以及从文件加载索引。"
   ]
  },
  {
   "cell_type": "code",
   "execution_count": 16,
   "id": "da65f503",
   "metadata": {},
   "outputs": [
    {
     "name": "stdout",
     "output_type": "stream",
     "text": [
      "加载的索引中的向量数量: 1000\n"
     ]
    }
   ],
   "source": [
    "# 保存索引到文件\n",
    "faiss.write_index(index, \"flat_index.faiss\")\n",
    "faiss.write_index(index_ivf, \"ivf_index.faiss\")\n",
    "faiss.write_index(index_hnsw, \"hnsw_index.faiss\")\n",
    "\n",
    "# 从文件加载索引\n",
    "loaded_index = faiss.read_index(\"flat_index.faiss\")\n",
    "print(\"加载的索引中的向量数量:\", loaded_index.ntotal)"
   ]
  },
  {
   "cell_type": "markdown",
   "id": "f785ebc6",
   "metadata": {},
   "source": [
    "## 索引类型详解\n",
    "Faiss提供多种索引类型，每种适用于不同场景，下面详细介绍几种常用索引及其特点。"
   ]
  },
  {
   "cell_type": "code",
   "execution_count": 17,
   "id": "76807ee0",
   "metadata": {},
   "outputs": [
    {
     "name": "stdout",
     "output_type": "stream",
     "text": [
      "各索引类型搜索性能比较:\n",
      "--------------------------------------------------\n",
      "IndexFlatL2 搜索时间: 0.00000 秒\n",
      "IndexIVFFlat 搜索时间: 0.00200 秒\n",
      "IndexPQ 搜索时间: 0.00251 秒\n",
      "IndexHNSWFlat 搜索时间: 0.00106 秒\n",
      "\n",
      "各索引类型相对于暴力搜索的加速比:\n",
      "IndexIVFFlat: 0.00x\n",
      "IndexPQ: 0.00x\n",
      "IndexHNSWFlat: 0.00x\n"
     ]
    }
   ],
   "source": [
    "# 索引类型详解\n",
    "import faiss\n",
    "import numpy as np\n",
    "import time\n",
    "\n",
    "# 创建一个较大的数据集，用于比较不同索引\n",
    "dimension = 128\n",
    "num_vectors = 10000\n",
    "large_vectors = np.random.random((num_vectors, dimension)).astype('float32')\n",
    "query_vectors = np.random.random((5, dimension)).astype('float32')\n",
    "\n",
    "# 1. IndexFlatL2 - 暴力搜索，准确但较慢\n",
    "index_flat = faiss.IndexFlatL2(dimension)\n",
    "index_flat.add(large_vectors)\n",
    "\n",
    "# 2. IndexIVFFlat - 倒排文件索引，快速但近似\n",
    "nlist = 100  # 聚类中心数量\n",
    "quantizer = faiss.IndexFlatL2(dimension)\n",
    "index_ivf = faiss.IndexIVFFlat(quantizer, dimension, nlist)\n",
    "index_ivf.train(large_vectors)\n",
    "index_ivf.add(large_vectors)\n",
    "# 设置搜索时检查的聚类数量\n",
    "index_ivf.nprobe = 10  # 默认为1，增加这个值可以提高准确度，但会降低速度\n",
    "\n",
    "# 3. IndexPQ - 产品量化，更快速和更节省内存，但精度较低\n",
    "m = 8  # 子量化器数量\n",
    "nbits = 8  # 每个子量化器的位数\n",
    "index_pq = faiss.IndexPQ(dimension, m, nbits)\n",
    "index_pq.train(large_vectors)\n",
    "index_pq.add(large_vectors)\n",
    "\n",
    "# 4. IndexHNSWFlat - 层次可导航小世界图，高速高精度\n",
    "M = 16  # HNSW图中的最大连接数\n",
    "ef_construction = 200  # 构建时的探索因子\n",
    "index_hnsw = faiss.IndexHNSWFlat(dimension, M)\n",
    "index_hnsw.hnsw.efConstruction = ef_construction\n",
    "index_hnsw.add(large_vectors)\n",
    "index_hnsw.hnsw.efSearch = 128  # 搜索时的探索因子\n",
    "\n",
    "# 比较不同索引的搜索性能\n",
    "k = 5  # 搜索最近邻数量\n",
    "results = {}\n",
    "\n",
    "print(\"各索引类型搜索性能比较:\")\n",
    "print(\"-\" * 50)\n",
    "\n",
    "# 测试 IndexFlatL2\n",
    "start_time = time.time()\n",
    "distances_flat, indices_flat = index_flat.search(query_vectors, k)\n",
    "flat_time = time.time() - start_time\n",
    "print(f\"IndexFlatL2 搜索时间: {flat_time:.5f} 秒\")\n",
    "\n",
    "# 测试 IndexIVFFlat\n",
    "start_time = time.time()\n",
    "distances_ivf, indices_ivf = index_ivf.search(query_vectors, k)\n",
    "ivf_time = time.time() - start_time\n",
    "print(f\"IndexIVFFlat 搜索时间: {ivf_time:.5f} 秒\")\n",
    "\n",
    "# 测试 IndexPQ\n",
    "start_time = time.time()\n",
    "distances_pq, indices_pq = index_pq.search(query_vectors, k)\n",
    "pq_time = time.time() - start_time\n",
    "print(f\"IndexPQ 搜索时间: {pq_time:.5f} 秒\")\n",
    "\n",
    "# 测试 IndexHNSWFlat\n",
    "start_time = time.time()\n",
    "distances_hnsw, indices_hnsw = index_hnsw.search(query_vectors, k)\n",
    "hnsw_time = time.time() - start_time\n",
    "print(f\"IndexHNSWFlat 搜索时间: {hnsw_time:.5f} 秒\")\n",
    "\n",
    "print(\"\\n各索引类型相对于暴力搜索的加速比:\")\n",
    "print(f\"IndexIVFFlat: {flat_time/ivf_time:.2f}x\")\n",
    "print(f\"IndexPQ: {flat_time/pq_time:.2f}x\")\n",
    "print(f\"IndexHNSWFlat: {flat_time/hnsw_time:.2f}x\")"
   ]
  },
  {
   "cell_type": "markdown",
   "id": "b3e22a60",
   "metadata": {},
   "source": [
    "## 向量规范化与相似度度量\n",
    "Faiss支持多种距离度量方式，如L2欧氏距离和内积相似度。向量规范化对于使用内积计算相似度非常重要。"
   ]
  },
  {
   "cell_type": "code",
   "execution_count": 18,
   "id": "af9adebf",
   "metadata": {},
   "outputs": [
    {
     "name": "stdout",
     "output_type": "stream",
     "text": [
      "向量规范化后的L2范数: 最小=1.00000, 最大=1.00000, 平均=1.00000\n",
      "\n",
      "内积相似度搜索结果:\n",
      "最相似向量的索引: [634 840 329 680 974]\n",
      "相似度分数: [0.85367084 0.84767574 0.83916736 0.83827686 0.8380629 ]\n",
      "注意: 内积越大，向量越相似\n",
      "\n",
      "L2距离搜索结果:\n",
      "最相似向量的索引: [634 840 329 680 974]\n",
      "距离分数: [0.29265845 0.3046487  0.32166547 0.32344642 0.3238744 ]\n",
      "注意: L2距离越小，向量越相似\n"
     ]
    }
   ],
   "source": [
    "# 向量规范化示例\n",
    "import numpy as np\n",
    "import faiss\n",
    "\n",
    "# 创建随机向量\n",
    "dimension = 128\n",
    "num_vectors = 1000\n",
    "vectors = np.random.random((num_vectors, dimension)).astype('float32')\n",
    "\n",
    "# 向量规范化\n",
    "# L2归一化 - 每个向量的L2范数为1\n",
    "faiss.normalize_L2(vectors)  # 原地归一化\n",
    "\n",
    "# 验证归一化效果\n",
    "norms = np.linalg.norm(vectors, axis=1)\n",
    "print(f\"向量规范化后的L2范数: 最小={norms.min():.5f}, 最大={norms.max():.5f}, 平均={norms.mean():.5f}\")\n",
    "\n",
    "# 创建内积索引 (对归一化向量使用内积等价于余弦相似度)\n",
    "index_ip = faiss.IndexFlatIP(dimension)  # IP表示内积 (Inner Product)\n",
    "index_ip.add(vectors)\n",
    "\n",
    "# 生成查询向量并归一化\n",
    "query = np.random.random((1, dimension)).astype('float32')\n",
    "faiss.normalize_L2(query)\n",
    "\n",
    "# 使用内积索引搜索\n",
    "k = 5\n",
    "distances_ip, indices_ip = index_ip.search(query, k)\n",
    "print(\"\\n内积相似度搜索结果:\")\n",
    "print(f\"最相似向量的索引: {indices_ip[0]}\")\n",
    "print(f\"相似度分数: {distances_ip[0]}\")\n",
    "print(\"注意: 内积越大，向量越相似\")\n",
    "\n",
    "# 创建L2距离索引进行对比\n",
    "index_l2 = faiss.IndexFlatL2(dimension)\n",
    "index_l2.add(vectors)\n",
    "distances_l2, indices_l2 = index_l2.search(query, k)\n",
    "print(\"\\nL2距离搜索结果:\")\n",
    "print(f\"最相似向量的索引: {indices_l2[0]}\")\n",
    "print(f\"距离分数: {distances_l2[0]}\")\n",
    "print(\"注意: L2距离越小，向量越相似\")"
   ]
  },
  {
   "cell_type": "markdown",
   "id": "ec25e9ef",
   "metadata": {},
   "source": [
    "## 批量查询与高效检索\n",
    "在实际应用中，经常需要同时查询多个向量，批量处理可以提高效率。"
   ]
  },
  {
   "cell_type": "code",
   "execution_count": 21,
   "id": "7aacba63",
   "metadata": {},
   "outputs": [
    {
     "name": "stdout",
     "output_type": "stream",
     "text": [
      "批量查询性能比较:\n",
      "----------------------------------------\n",
      "批次大小: 1\n",
      "  批量查询时间: 0.00000 秒\n",
      "  单个循环查询时间: 0.00100 秒\n",
      "  加速比: 998.74x\n",
      "\n",
      "批次大小: 10\n",
      "  批量查询时间: 0.00000 秒\n",
      "  单个循环查询时间: 0.00248 秒\n",
      "  加速比: 2479.55x\n",
      "\n",
      "批次大小: 100\n",
      "  批量查询时间: 0.01975 秒\n",
      "  单个循环查询时间: 0.02093 秒\n",
      "  加速比: 1.06x\n",
      "\n",
      "批次大小: 1000\n",
      "  批量查询时间: 0.05130 秒\n",
      "  单个循环查询时间: 0.12225 秒\n",
      "  加速比: 2.38x\n",
      "\n",
      "批次大小: 1000\n",
      "  批量查询时间: 0.05130 秒\n",
      "  单个循环查询时间: 0.12225 秒\n",
      "  加速比: 2.38x\n",
      "\n"
     ]
    }
   ],
   "source": [
    "# 批量查询示例\n",
    "import numpy as np\n",
    "import faiss\n",
    "import time\n",
    "\n",
    "# 创建数据集\n",
    "dimension = 128\n",
    "num_vectors = 10000\n",
    "db_vectors = np.random.random((num_vectors, dimension)).astype('float32')\n",
    "\n",
    "# 创建索引\n",
    "index = faiss.IndexFlatL2(dimension)\n",
    "index.add(db_vectors)\n",
    "\n",
    "# 创建不同大小的查询批次\n",
    "batch_sizes = [1, 10, 100, 1000]\n",
    "k = 5\n",
    "\n",
    "print(\"批量查询性能比较:\")\n",
    "print(\"-\" * 40)\n",
    "\n",
    "for batch_size in batch_sizes:\n",
    "    query_batch = np.random.random((batch_size, dimension)).astype('float32')\n",
    "    \n",
    "    # 批量查询\n",
    "    start_time = time.time()\n",
    "    distances, indices = index.search(query_batch, k)\n",
    "    batch_time = max(time.time() - start_time, 1e-6)  # 防止除零错误\n",
    "    \n",
    "    # 单个查询（循环方式）\n",
    "    start_time = time.time()\n",
    "    individual_results = []\n",
    "    for i in range(batch_size):\n",
    "        single_query = query_batch[i:i+1]\n",
    "        d, ind = index.search(single_query, k)\n",
    "        individual_results.append((d, ind))\n",
    "    individual_time = time.time() - start_time\n",
    "    \n",
    "    print(f\"批次大小: {batch_size}\")\n",
    "    print(f\"  批量查询时间: {batch_time:.5f} 秒\")\n",
    "    print(f\"  单个循环查询时间: {individual_time:.5f} 秒\")\n",
    "    if batch_time > 0:\n",
    "        print(f\"  加速比: {individual_time/batch_time:.2f}x\")\n",
    "    else:\n",
    "        print(f\"  加速比: 无法计算 (批量查询时间太短)\")\n",
    "    print(\"\")\n"
   ]
  },
  {
   "cell_type": "markdown",
   "id": "a555f5ac",
   "metadata": {},
   "source": [
    "## 构建复合索引\n",
    "Faiss允许构建复杂的复合索引来平衡速度和精度。"
   ]
  },
  {
   "cell_type": "code",
   "execution_count": 22,
   "id": "3373738b",
   "metadata": {},
   "outputs": [
    {
     "name": "stdout",
     "output_type": "stream",
     "text": [
      "训练IVF+PQ索引...\n",
      "训练IVF+Flat索引...\n",
      "\n",
      "复合索引性能比较:\n",
      "----------------------------------------\n",
      "IVF+PQ搜索时间: 0.00200 秒\n",
      "IVF+Flat搜索时间: 0.00000 秒\n",
      "\n",
      "IVF+PQ召回率: 0.08\n",
      "IVF+Flat召回率: 0.32\n",
      "\n",
      "注: 召回率越高表示搜索结果越接近暴力搜索的精确结果\n",
      "\n",
      "复合索引的选择建议:\n",
      "- IVF+Flat: 当需要较高精度且内存足够时\n",
      "- IVF+PQ: 当需要处理超大规模数据且内存受限时\n",
      "训练IVF+Flat索引...\n",
      "\n",
      "复合索引性能比较:\n",
      "----------------------------------------\n",
      "IVF+PQ搜索时间: 0.00200 秒\n",
      "IVF+Flat搜索时间: 0.00000 秒\n",
      "\n",
      "IVF+PQ召回率: 0.08\n",
      "IVF+Flat召回率: 0.32\n",
      "\n",
      "注: 召回率越高表示搜索结果越接近暴力搜索的精确结果\n",
      "\n",
      "复合索引的选择建议:\n",
      "- IVF+Flat: 当需要较高精度且内存足够时\n",
      "- IVF+PQ: 当需要处理超大规模数据且内存受限时\n"
     ]
    }
   ],
   "source": [
    "# 构建复合索引示例\n",
    "import faiss\n",
    "import numpy as np\n",
    "import time\n",
    "\n",
    "# 创建数据集\n",
    "dimension = 128\n",
    "num_vectors = 10000\n",
    "vectors = np.random.random((num_vectors, dimension)).astype('float32')\n",
    "query = np.random.random((5, dimension)).astype('float32')\n",
    "\n",
    "# 1. 构建IVF+PQ复合索引 (常用于大规模数据)\n",
    "# 这种索引首先使用IVF (倒排文件) 进行粗搜索，然后在聚类内使用PQ (产品量化) 进行精搜索\n",
    "nlist = 100  # IVF聚类中心数量\n",
    "m = 8        # PQ子空间数量\n",
    "nbits = 8    # PQ每个子空间的位数\n",
    "\n",
    "quantizer = faiss.IndexFlatL2(dimension)\n",
    "index_ivfpq = faiss.IndexIVFPQ(quantizer, dimension, nlist, m, nbits)\n",
    "\n",
    "# 训练索引\n",
    "print(\"训练IVF+PQ索引...\")\n",
    "index_ivfpq.train(vectors)\n",
    "index_ivfpq.add(vectors)\n",
    "\n",
    "# 设置搜索参数\n",
    "index_ivfpq.nprobe = 10  # 搜索时检查的聚类数量\n",
    "\n",
    "# 2. 构建多层索引 - 使用IVF和Flat的组合\n",
    "index_ivfflat = faiss.IndexIVFFlat(faiss.IndexFlatL2(dimension), dimension, nlist)\n",
    "print(\"训练IVF+Flat索引...\")\n",
    "index_ivfflat.train(vectors)\n",
    "index_ivfflat.add(vectors)\n",
    "index_ivfflat.nprobe = 10\n",
    "\n",
    "# 测试搜索性能\n",
    "k = 5\n",
    "print(\"\\n复合索引性能比较:\")\n",
    "print(\"-\" * 40)\n",
    "\n",
    "# 评估IVF+PQ\n",
    "start_time = time.time()\n",
    "distances_ivfpq, indices_ivfpq = index_ivfpq.search(query, k)\n",
    "ivfpq_time = time.time() - start_time\n",
    "print(f\"IVF+PQ搜索时间: {ivfpq_time:.5f} 秒\")\n",
    "\n",
    "# 评估IVF+Flat\n",
    "start_time = time.time()\n",
    "distances_ivfflat, indices_ivfflat = index_ivfflat.search(query, k)\n",
    "ivfflat_time = time.time() - start_time\n",
    "print(f\"IVF+Flat搜索时间: {ivfflat_time:.5f} 秒\")\n",
    "\n",
    "# 比较结果的精度\n",
    "# 使用暴力搜索结果作为基准\n",
    "index_flat = faiss.IndexFlatL2(dimension)\n",
    "index_flat.add(vectors)\n",
    "_, indices_flat = index_flat.search(query, k)\n",
    "\n",
    "def calculate_recall(reference_indices, test_indices):\n",
    "    \"\"\"计算召回率 - 正确找回的比例\"\"\"\n",
    "    recall = 0\n",
    "    for ref_row, test_row in zip(reference_indices, test_indices):\n",
    "        recall += len(set(ref_row) & set(test_row)) / len(ref_row)\n",
    "    return recall / len(reference_indices)\n",
    "\n",
    "recall_ivfpq = calculate_recall(indices_flat, indices_ivfpq)\n",
    "recall_ivfflat = calculate_recall(indices_flat, indices_ivfflat)\n",
    "\n",
    "print(f\"\\nIVF+PQ召回率: {recall_ivfpq:.2f}\")\n",
    "print(f\"IVF+Flat召回率: {recall_ivfflat:.2f}\")\n",
    "print(\"\\n注: 召回率越高表示搜索结果越接近暴力搜索的精确结果\")\n",
    "\n",
    "print(\"\\n复合索引的选择建议:\")\n",
    "print(\"- IVF+Flat: 当需要较高精度且内存足够时\")\n",
    "print(\"- IVF+PQ: 当需要处理超大规模数据且内存受限时\")"
   ]
  },
  {
   "cell_type": "markdown",
   "id": "ffbb4901",
   "metadata": {},
   "source": [
    "## 索引参数调优\n",
    "索引参数对性能和精度有很大影响，下面展示如何调优一些关键参数。"
   ]
  },
  {
   "cell_type": "code",
   "execution_count": 24,
   "id": "8285df40",
   "metadata": {},
   "outputs": [
    {
     "name": "stdout",
     "output_type": "stream",
     "text": [
      "nprobe=1: 召回率=0.0500, 搜索时间=0.00100秒\n",
      "nprobe=5: 召回率=0.2800, 搜索时间=0.00099秒\n",
      "nprobe=10: 召回率=0.3400, 搜索时间=0.00000秒\n",
      "nprobe=20: 召回率=0.5200, 搜索时间=0.00000秒\n",
      "nprobe=50: 召回率=0.8500, 搜索时间=0.00000秒\n",
      "nprobe=100: 召回率=1.0000, 搜索时间=0.00100秒\n"
     ]
    },
    {
     "data": {
      "image/png": "[encoded data removed]",
      "text/plain": [
       "<Figure size 1200x500 with 2 Axes>"
      ]
     },
     "metadata": {},
     "output_type": "display_data"
    }
   ],
   "source": [
    "# 索引参数调优示例\n",
    "import faiss\n",
    "import numpy as np\n",
    "import time\n",
    "import matplotlib.pyplot as plt\n",
    "# 配置simhei字体以支持中文显示\n",
    "plt.rcParams['font.sans-serif'] = ['SimHei']  # 中文字体\n",
    "plt.rcParams['axes.unicode_minus'] = False  # 显示负号\n",
    "# 创建数据集\n",
    "dimension = 128\n",
    "num_vectors = 10000\n",
    "vectors = np.random.random((num_vectors, dimension)).astype('float32')\n",
    "query = np.random.random((10, dimension)).astype('float32')\n",
    "\n",
    "# 创建参考索引（精确搜索）\n",
    "index_flat = faiss.IndexFlatL2(dimension)\n",
    "index_flat.add(vectors)\n",
    "_, indices_ref = index_flat.search(query, 10)  # 获取真实的前10个结果\n",
    "\n",
    "# 调优IVF索引的nprobe参数\n",
    "nlist = 100\n",
    "quantizer = faiss.IndexFlatL2(dimension)\n",
    "index_ivf = faiss.IndexIVFFlat(quantizer, dimension, nlist)\n",
    "index_ivf.train(vectors)\n",
    "index_ivf.add(vectors)\n",
    "\n",
    "# 测试不同的nprobe值\n",
    "nprobe_values = [1, 5, 10, 20, 50, 100]\n",
    "recalls = []\n",
    "search_times = []\n",
    "\n",
    "for nprobe in nprobe_values:\n",
    "    index_ivf.nprobe = nprobe\n",
    "    \n",
    "    # 计时搜索\n",
    "    start_time = time.time()\n",
    "    _, indices = index_ivf.search(query, 10)\n",
    "    elapsed = time.time() - start_time\n",
    "    search_times.append(elapsed)\n",
    "    \n",
    "    # 计算召回率\n",
    "    recall = 0\n",
    "    for i in range(len(query)):\n",
    "        recall += len(set(indices[i]) & set(indices_ref[i])) / 10\n",
    "    recall /= len(query)\n",
    "    recalls.append(recall)\n",
    "    \n",
    "    print(f\"nprobe={nprobe}: 召回率={recall:.4f}, 搜索时间={elapsed:.5f}秒\")\n",
    "\n",
    "# 可视化nprobe与召回率/搜索时间的关系\n",
    "try:\n",
    "    plt.figure(figsize=(12, 5))\n",
    "    \n",
    "    plt.subplot(1, 2, 1)\n",
    "    plt.plot(nprobe_values, recalls, 'o-')\n",
    "    plt.xlabel('nprobe值')\n",
    "    plt.ylabel('召回率')\n",
    "    plt.title('nprobe值对召回率的影响')\n",
    "    plt.grid(True)\n",
    "    \n",
    "    plt.subplot(1, 2, 2)\n",
    "    plt.plot(nprobe_values, search_times, 'o-')\n",
    "    plt.xlabel('nprobe值')\n",
    "    plt.ylabel('搜索时间 (秒)')\n",
    "    plt.title('nprobe值对搜索时间的影响')\n",
    "    plt.grid(True)\n",
    "    \n",
    "    plt.tight_layout()\n",
    "    plt.show()\n",
    "except ImportError:\n",
    "    print(\"提示: 需要安装matplotlib库来显示图表\")\n"
   ]
  },
  {
   "cell_type": "markdown",
   "id": "ef03ee1d",
   "metadata": {},
   "source": [
    "## 高级操作：向量更新和删除\n",
    "Faiss部分索引支持向量的动态更新和删除。"
   ]
  },
  {
   "cell_type": "code",
   "execution_count": 25,
   "id": "37f538df",
   "metadata": {},
   "outputs": [
    {
     "name": "stdout",
     "output_type": "stream",
     "text": [
      "索引中的向量数量: 1000\n",
      "\n",
      "查询结果的ID: [291  45 455 998 111]\n",
      "距离: [14.496877 15.776328 16.025974 16.127321 16.36466 ]\n",
      "\n",
      "删除后的索引向量数量: 995\n",
      "删除后的查询结果ID: [291  45 455 998 111]\n",
      "删除的ID [ 0 10 20 30 40] 是否出现在结果中: False\n",
      "\n",
      "执行向量更新 (先删除再添加):\n",
      "向量更新完成!\n",
      "\n",
      "支持删除操作的索引类型:\n",
      "- IndexFlat (通过IDMap包装)\n",
      "- IndexIVF及其变体 (直接支持)\n",
      "不支持删除操作的索引类型:\n",
      "- IndexHNSW\n",
      "- 大多数不可变索引结构\n"
     ]
    }
   ],
   "source": [
    "# 向量更新和删除示例\n",
    "import faiss\n",
    "import numpy as np\n",
    "\n",
    "# 创建数据集\n",
    "dimension = 128\n",
    "num_vectors = 1000\n",
    "vectors = np.random.random((num_vectors, dimension)).astype('float32')\n",
    "\n",
    "# 创建索引 - 使用IDMap包装器以支持通过ID管理向量\n",
    "index = faiss.IndexFlatL2(dimension)  # 基础索引\n",
    "id_map_index = faiss.IndexIDMap(index)  # 包装基础索引以支持ID映射\n",
    "\n",
    "# 创建ID数组\n",
    "ids = np.arange(num_vectors).astype('int64')  # ID必须是int64类型\n",
    "\n",
    "# 添加带ID的向量\n",
    "id_map_index.add_with_ids(vectors, ids)\n",
    "print(f\"索引中的向量数量: {id_map_index.ntotal}\")\n",
    "\n",
    "# 查询示例\n",
    "query = np.random.random((1, dimension)).astype('float32')\n",
    "k = 5\n",
    "distances, retrieved_ids = id_map_index.search(query, k)\n",
    "print(f\"\\n查询结果的ID: {retrieved_ids[0]}\")\n",
    "print(f\"距离: {distances[0]}\")\n",
    "\n",
    "# 删除部分向量\n",
    "ids_to_remove = np.array([0, 10, 20, 30, 40], dtype='int64')\n",
    "id_map_index.remove_ids(ids_to_remove)\n",
    "print(f\"\\n删除后的索引向量数量: {id_map_index.ntotal}\")\n",
    "\n",
    "# 重新查询验证删除效果\n",
    "distances, retrieved_ids = id_map_index.search(query, k)\n",
    "print(f\"删除后的查询结果ID: {retrieved_ids[0]}\")\n",
    "print(f\"删除的ID {ids_to_remove} 是否出现在结果中: {any(id in ids_to_remove for id in retrieved_ids[0])}\")\n",
    "\n",
    "# 注意: 要支持向量更新，需要先删除旧向量，然后添加新向量\n",
    "print(\"\\n执行向量更新 (先删除再添加):\")\n",
    "update_id = np.array([50], dtype='int64')\n",
    "update_vector = np.random.random((1, dimension)).astype('float32')\n",
    "\n",
    "# 删除旧向量\n",
    "id_map_index.remove_ids(update_id)\n",
    "# 添加新向量（使用相同的ID）\n",
    "id_map_index.add_with_ids(update_vector, update_id)\n",
    "\n",
    "print(\"向量更新完成!\")\n",
    "\n",
    "# 注意：并非所有索引类型都支持删除操作\n",
    "print(\"\\n支持删除操作的索引类型:\")\n",
    "print(\"- IndexFlat (通过IDMap包装)\")\n",
    "print(\"- IndexIVF及其变体 (直接支持)\")\n",
    "print(\"不支持删除操作的索引类型:\")\n",
    "print(\"- IndexHNSW\")\n",
    "print(\"- 大多数不可变索引结构\")"
   ]
  },
  {
   "cell_type": "markdown",
   "id": "7f1b13dc",
   "metadata": {},
   "source": [
    "## 实际应用：文本向量搜索\n",
    "结合句子嵌入模型和Faiss实现简单的文本搜索系统。"
   ]
  },
  {
   "cell_type": "code",
   "execution_count": null,
   "id": "492da912",
   "metadata": {},
   "outputs": [],
   "source": [
    "# 文本向量搜索应用示例\n",
    "# 注意：此示例需要sentence-transformers库，如果未安装请先执行:\n",
    "# !pip install sentence-transformers\n",
    "\n",
    "try:\n",
    "    import faiss\n",
    "    import numpy as np\n",
    "    from sentence_transformers import SentenceTransformer\n",
    "    \n",
    "    # 加载预训练的句子编码模型\n",
    "    print(\"加载句子编码模型...\")\n",
    "    model = SentenceTransformer('paraphrase-MiniLM-L6-v2')  # 轻量级多语言模型\n",
    "    \n",
    "    # 示例文本集合\n",
    "    texts = [\n",
    "        \"人工智能是计算机科学的一个分支\",\n",
    "        \"深度学习是机器学习的子领域\",\n",
    "        \"向量搜索可以高效查找相似内容\",\n",
    "        \"自然语言处理用于理解人类语言\",\n",
    "        \"计算机视觉用于处理和分析图像\",\n",
    "        \"强化学习是通过奖励信号来学习决策\",\n",
    "        \"知识图谱表示实体之间的关系\",\n",
    "        \"推荐系统帮助用户发现感兴趣的内容\",\n",
    "        \"聊天机器人是一种人工智能应用\",\n",
    "        \"神经网络模拟人脑的结构和功能\"\n",
    "    ]\n",
    "    \n",
    "    # 将文本转换为向量\n",
    "    print(\"将文本编码为向量...\")\n",
    "    embeddings = model.encode(texts, convert_to_numpy=True)\n",
    "    embeddings = embeddings.astype(np.float32)  # Faiss需要float32类型\n",
    "    \n",
    "    print(f\"生成的向量维度: {embeddings.shape}\")\n",
    "    \n",
    "    # 创建Faiss索引\n",
    "    dimension = embeddings.shape[1]\n",
    "    index = faiss.IndexFlatL2(dimension)\n",
    "    \n",
    "    # 将向量添加到索引\n",
    "    index.add(embeddings)\n",
    "    \n",
    "    # 定义搜索函数\n",
    "    def search_similar_texts(query_text, top_k=3):\n",
    "        # 将查询文本转换为向量\n",
    "        query_vector = model.encode([query_text], convert_to_numpy=True).astype(np.float32)\n",
    "        \n",
    "        # 搜索最相似的向量\n",
    "        distances, indices = index.search(query_vector, top_k)\n",
    "        \n",
    "        # 返回结果\n",
    "        results = []\n",
    "        for i, idx in enumerate(indices[0]):\n",
    "            results.append({\n",
    "                \"text\": texts[idx],\n",
    "                \"distance\": float(distances[0][i]),\n",
    "                \"similarity\": 1 / (1 + float(distances[0][i]))  # 将距离转换为相似度分数\n",
    "            })\n",
    "        return results\n",
    "    \n",
    "    # 测试搜索\n",
    "    print(\"\\n执行文本相似性搜索:\")\n",
    "    queries = [\n",
    "        \"机器学习的应用\",\n",
    "        \"如何处理图像数据\",\n",
    "        \"智能助手与对话系统\"\n",
    "    ]\n",
    "    \n",
    "    for query in queries:\n",
    "        print(f\"\\n查询: '{query}'\")\n",
    "        results = search_similar_texts(query)\n",
    "        for i, result in enumerate(results):\n",
    "            print(f\"{i+1}. {result['text']} (相似度: {result['similarity']:.4f})\")\n",
    "    \n",
    "    print(\"\\n这个示例展示了如何将Faiss与文本嵌入模型结合，实现语义搜索功能。\")\n",
    "    print(\"在实际应用中，您可以:\")\n",
    "    print(\"1. 存储更多的文档/段落\")\n",
    "    print(\"2. 使用更高级的索引类型处理大规模数据\")\n",
    "    print(\"3. 结合预处理和后处理提高搜索质量\")\n",
    "    print(\"4. 保存索引和ID映射以便持久化使用\")\n",
    "\n",
    "except ImportError:\n",
    "    print(\"要运行此示例，请先安装sentence-transformers库:\")\n",
    "    print(\"!pip install sentence-transformers\")"
   ]
  },
  {
   "cell_type": "markdown",
   "id": "3ce8a44e",
   "metadata": {},
   "source": [
    "## 总结\n",
    "\n",
    "本教程介绍了Faiss库的多种功能和高级用法：\n",
    "\n",
    "1. **不同索引类型**：从简单的FlatL2到复杂的IVF+PQ组合\n",
    "2. **向量规范化**：在使用内积相似度时的重要性\n",
    "3. **批量处理**：提高查询效率的方法\n",
    "4. **复合索引构建**：平衡查询速度和精度的策略\n",
    "5. **参数调优**：优化索引性能的关键参数\n",
    "6. **向量更新和删除**：动态维护索引的方法\n",
    "7. **实际应用**：如何将Faiss应用于文本语义搜索\n",
    "\n",
    "在选择和配置Faiss索引时，需要根据应用场景权衡速度、内存使用和召回率等因素。较大的数据集通常需要使用更复杂的索引结构，如IVF+PQ或HNSW，以实现高效检索。"
   ]
  }
 ],
 "metadata": {
  "kernelspec": {
   "display_name": "faiss",
   "language": "python",
   "name": "python3"
  },
  "language_info": {
   "codemirror_mode": {
    "name": "ipython",
    "version": 3
   },
   "file_extension": ".py",
   "mimetype": "text/x-python",
   "name": "python",
   "nbconvert_exporter": "python",
   "pygments_lexer": "ipython3",
   "version": "3.10.16"
  }
 },
 "nbformat": 4,
 "nbformat_minor": 5
}
